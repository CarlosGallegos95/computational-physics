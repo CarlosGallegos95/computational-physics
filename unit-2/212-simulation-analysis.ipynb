{
 "cells": [
  {
   "cell_type": "markdown",
   "id": "939c293d",
   "metadata": {},
   "source": [
    "# In-class exercise: turbulence simulations analysis\n",
    "\n",
    "\n",
    "1. Choose file # 10 and normalise quantities to CGS units.\n",
    "\n",
    "\n",
    "2. Make a plot of density with superimposed velocity vectors.\n",
    "\n",
    "\n",
    "3. Make a plot of thermal pressure with superimposed magnetic field vectors.\n",
    "\n",
    "\n",
    "Remember that the thermal pressure for isothermal gas is:\n",
    "\n",
    "$p = \\rho\\,c_{\\rm iso}^2$, where $c_{\\rm iso}$ is the isothermal sound speed (see **units.out**).\n",
    "\n",
    "To normalise the magnetic field, we can use the following normalisation factor:\n",
    "\n",
    "$B_0 = v_0\\,\\sqrt{4\\,\\pi\\,\\rho_0}$\n",
    "\n",
    "\n",
    "4. The times can be retrieved from the second column of the **vtk.out** file in code units. To normalise it to CGS units, we can first calculate the normalisation factor for time:\n",
    "\n",
    "$t_0 = \\frac{L_0}{v_0}$\n",
    "\n",
    "\n",
    "5. Make a histogram of the density field and fit an appropriate function using regression methods.\n",
    "\n",
    "\n",
    "6. Create a function that calculates the following quantities and prints them in a pandas row with time in the first column and headers:\n",
    "\n",
    "\n",
    " - density average \n",
    " \n",
    " - density standard deviation\n",
    " \n",
    " - thermal pressure average\n",
    " \n",
    " - thermal pressure standard deviation"
   ]
  },
  {
   "cell_type": "markdown",
   "id": "816a7eaf",
   "metadata": {},
   "source": [
    "### Import libraries:"
   ]
  },
  {
   "cell_type": "code",
   "execution_count": 5,
   "id": "094fd1d8",
   "metadata": {},
   "outputs": [],
   "source": [
    "import numpy as np\n",
    "import matplotlib.pyplot as plt\n",
    "import pyvista as pv"
   ]
  },
  {
   "cell_type": "code",
   "execution_count": 6,
   "id": "d24e5b0f",
   "metadata": {},
   "outputs": [],
   "source": [
    "import pandas as pd\n",
    "from scipy.optimize import curve_fit"
   ]
  },
  {
   "cell_type": "markdown",
   "id": "078b0705",
   "metadata": {},
   "source": [
    "### Read mesh:"
   ]
  },
  {
   "cell_type": "code",
   "execution_count": 7,
   "id": "a783d04e",
   "metadata": {},
   "outputs": [],
   "source": [
    "mesh = pv.read(\"./TURB_DRIVE_SUP/data.0010.vtk\")"
   ]
  },
  {
   "cell_type": "code",
   "execution_count": 8,
   "id": "2d2ed43a",
   "metadata": {},
   "outputs": [
    {
     "name": "stdout",
     "output_type": "stream",
     "text": [
      "RectilinearGrid (0x11f842d00)\n",
      "  N Cells:\t2500\n",
      "  N Points:\t2601\n",
      "  X Bounds:\t-2.000e+00, 2.000e+00\n",
      "  Y Bounds:\t-2.000e+00, 2.000e+00\n",
      "  Z Bounds:\t0.000e+00, 0.000e+00\n",
      "  Dimensions:\t51, 51, 1\n",
      "  N Arrays:\t5\n",
      "\n"
     ]
    }
   ],
   "source": [
    "print(mesh)"
   ]
  },
  {
   "cell_type": "markdown",
   "id": "d6a38eb3",
   "metadata": {},
   "source": [
    "### Get data arrays in code units:"
   ]
  },
  {
   "cell_type": "code",
   "execution_count": 11,
   "id": "fe3b023d",
   "metadata": {},
   "outputs": [],
   "source": [
    "rho = pv.get_array(mesh, \"rho\", preference = 'cell')\n",
    "vx1 = pv.get_array(mesh, \"vx1\", preference = 'cell')\n",
    "vx2 = pv.get_array(mesh, \"vx2\", preference = 'cell')\n",
    "Bx1 = pv.get_array(mesh, \"Bx1\", preference = 'cell')\n",
    "Bx2 = pv.get_array(mesh, \"Bx2\", preference = 'cell')"
   ]
  },
  {
   "cell_type": "code",
   "execution_count": 12,
   "id": "97f2d947",
   "metadata": {},
   "outputs": [
    {
     "name": "stdout",
     "output_type": "stream",
     "text": [
      "(2500,)\n"
     ]
    }
   ],
   "source": [
    "print(rho.shape)"
   ]
  },
  {
   "cell_type": "markdown",
   "id": "15d92aef",
   "metadata": {},
   "source": [
    "### Normalisation:\n",
    "\n",
    "Remember that we need to read the **units.out** file and multiply the arrays above by the normalisation constants:"
   ]
  },
  {
   "cell_type": "code",
   "execution_count": 13,
   "id": "0c18787e",
   "metadata": {},
   "outputs": [],
   "source": [
    "data = pd.read_csv(\"./TURB_DRIVE_SUP/units.out\")"
   ]
  },
  {
   "cell_type": "code",
   "execution_count": 14,
   "id": "041a5e28",
   "metadata": {},
   "outputs": [
    {
     "name": "stdout",
     "output_type": "stream",
     "text": [
      "  variable  normalisation   units\n",
      "0    rho_0   1.660000e-24  g/cm^3\n",
      "1      v_0   1.000000e+06    cm/s\n",
      "2      L_0   3.086000e+18      cm\n",
      "3    c_iso   1.000000e+06    cm/s\n"
     ]
    }
   ],
   "source": [
    "print(data)"
   ]
  },
  {
   "cell_type": "code",
   "execution_count": 15,
   "id": "42174b49",
   "metadata": {},
   "outputs": [],
   "source": [
    "rho_0   = np.array(data.loc[data[\"variable\"] == \"rho_0\"][\"normalisation\"])\n",
    "vel_0   = np.array(data.loc[data[\"variable\"] == \"v_0\"][\"normalisation\"])\n",
    "len_0   = np.array(data.loc[data[\"variable\"] == \"L_0\"][\"normalisation\"])\n",
    "c_iso   = np.array(data.loc[data[\"variable\"] == \"c_iso\"][\"normalisation\"])"
   ]
  },
  {
   "cell_type": "markdown",
   "id": "ce5b9daa",
   "metadata": {},
   "source": [
    "### New normalisations:"
   ]
  },
  {
   "cell_type": "code",
   "execution_count": 17,
   "id": "1055ea3b",
   "metadata": {},
   "outputs": [
    {
     "name": "stdout",
     "output_type": "stream",
     "text": [
      "[3.086e+12]\n"
     ]
    }
   ],
   "source": [
    "tim_0 = (len_0/vel_0)\n",
    "\n",
    "print(tim_0) # in seconds"
   ]
  },
  {
   "cell_type": "markdown",
   "id": "0f090c53",
   "metadata": {},
   "source": [
    "Magnetic field:\n",
    "$B_0 = v_0\\,\\sqrt{4\\,\\pi\\,\\rho_0}$"
   ]
  },
  {
   "cell_type": "code",
   "execution_count": 20,
   "id": "ff0b7e4f",
   "metadata": {},
   "outputs": [
    {
     "name": "stdout",
     "output_type": "stream",
     "text": [
      "[4.56729408e-06]\n"
     ]
    }
   ],
   "source": [
    "bfi_0 = vel_0*np.sqrt(4*np.pi*rho_0)\n",
    "\n",
    "print(bfi_0) # in Gauss"
   ]
  },
  {
   "cell_type": "markdown",
   "id": "299ed6d2",
   "metadata": {},
   "source": [
    "### Normalise:"
   ]
  },
  {
   "cell_type": "code",
   "execution_count": 21,
   "id": "10d44f0a",
   "metadata": {},
   "outputs": [],
   "source": [
    "rho_cgs = rho*rho_0\n",
    "\n",
    "vx1_cgs = vx1*vel_0\n",
    "vx2_cgs = vx2*vel_0\n",
    "\n",
    "Bx1_cgs = Bx1*bfi_0\n",
    "Bx2_cgs = Bx2*bfi_0"
   ]
  },
  {
   "cell_type": "code",
   "execution_count": 24,
   "id": "c98ec0ee",
   "metadata": {},
   "outputs": [
    {
     "name": "stdout",
     "output_type": "stream",
     "text": [
      "(2500,)\n"
     ]
    }
   ],
   "source": [
    "print(Bx1_cgs.shape)"
   ]
  },
  {
   "cell_type": "markdown",
   "id": "4e0dbb00",
   "metadata": {},
   "source": [
    "### Convert to 2D:"
   ]
  },
  {
   "cell_type": "code",
   "execution_count": 25,
   "id": "1ef84eb7",
   "metadata": {},
   "outputs": [],
   "source": [
    "rho_cgs2D = rho_cgs.reshape(mesh.dimensions[0] - 1, mesh.dimensions[1] - 1)\n",
    "\n",
    "vx1_cgs2D = vx1_cgs.reshape(mesh.dimensions[0] - 1, mesh.dimensions[1] - 1)\n",
    "vx2_cgs2D = vx2_cgs.reshape(mesh.dimensions[0] - 1, mesh.dimensions[1] - 1)\n",
    "\n",
    "Bx1_cgs2D = Bx1_cgs.reshape(mesh.dimensions[0] - 1, mesh.dimensions[1] - 1)\n",
    "Bx2_cgs2D = Bx2_cgs.reshape(mesh.dimensions[0] - 1, mesh.dimensions[1] - 1)"
   ]
  },
  {
   "cell_type": "code",
   "execution_count": null,
   "id": "9beb2dcd",
   "metadata": {},
   "outputs": [],
   "source": []
  }
 ],
 "metadata": {
  "kernelspec": {
   "display_name": "Python 3",
   "language": "python",
   "name": "python3"
  },
  "language_info": {
   "codemirror_mode": {
    "name": "ipython",
    "version": 3
   },
   "file_extension": ".py",
   "mimetype": "text/x-python",
   "name": "python",
   "nbconvert_exporter": "python",
   "pygments_lexer": "ipython3",
   "version": "3.7.10"
  }
 },
 "nbformat": 4,
 "nbformat_minor": 5
}
