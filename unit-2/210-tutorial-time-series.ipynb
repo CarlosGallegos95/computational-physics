{
 "cells": [
  {
   "cell_type": "markdown",
   "id": "dcb5265c",
   "metadata": {},
   "source": [
    "# Exercise: time series\n",
    "\n",
    "- We will analyse data taken from the World Meteorological Organisation (WMO).\n",
    "\n",
    "https://worldweather.wmo.int/en/dataguide.html\n",
    "\n",
    "- Temperature (max, min), rainy days, rainfall for 12 months.\n",
    "\n",
    "Guayaquil: https://worldweather.wmo.int/en/json/2048_en.json\n",
    "\n",
    "- Python has an in-built function to read json files."
   ]
  },
  {
   "cell_type": "markdown",
   "id": "4ab438f2",
   "metadata": {},
   "source": [
    "### Let's try to find correlations"
   ]
  },
  {
   "cell_type": "code",
   "execution_count": 1,
   "id": "7175069a",
   "metadata": {},
   "outputs": [],
   "source": [
    "import numpy as np\n",
    "\n",
    "import matplotlib.pyplot as plt\n",
    "\n",
    "import json"
   ]
  },
  {
   "cell_type": "markdown",
   "id": "bf62f6d0",
   "metadata": {},
   "source": [
    "### Open file"
   ]
  },
  {
   "cell_type": "code",
   "execution_count": 2,
   "id": "d5d2964d",
   "metadata": {},
   "outputs": [],
   "source": [
    "f = open(\"2048_en.json\", \"r\")"
   ]
  },
  {
   "cell_type": "code",
   "execution_count": 3,
   "id": "f7a1c09f",
   "metadata": {},
   "outputs": [
    {
     "data": {
      "text/plain": [
       "_io.TextIOWrapper"
      ]
     },
     "execution_count": 3,
     "metadata": {},
     "output_type": "execute_result"
    }
   ],
   "source": [
    "type(f)"
   ]
  },
  {
   "cell_type": "markdown",
   "id": "f21e7cf3",
   "metadata": {},
   "source": [
    "Documentation: https://www.geeksforgeeks.org/json-loads-in-python/#:~:text=json.-,loads(),JSON%20data%20into%20Python%20Dictionary."
   ]
  },
  {
   "cell_type": "code",
   "execution_count": 4,
   "id": "03269662",
   "metadata": {},
   "outputs": [],
   "source": [
    "data = json.loads(f.read())"
   ]
  },
  {
   "cell_type": "code",
   "execution_count": 5,
   "id": "9ab3f9cc",
   "metadata": {},
   "outputs": [
    {
     "data": {
      "text/plain": [
       "dict"
      ]
     },
     "execution_count": 5,
     "metadata": {},
     "output_type": "execute_result"
    }
   ],
   "source": [
    "type(data)"
   ]
  },
  {
   "cell_type": "code",
   "execution_count": 6,
   "id": "262812ff",
   "metadata": {},
   "outputs": [
    {
     "name": "stdout",
     "output_type": "stream",
     "text": [
      "{'city': {'lang': 'en', 'cityName': 'Guayaquil', 'cityLatitude': '-2.153333000', 'cityLongitude': '-79.883333000', 'cityId': 2048, 'isCapital': False, 'stationName': 'Guayaquil', 'tourismURL': '', 'tourismBoardName': '', 'isDep': False, 'timeZone': '-0500', 'isDST': 'N', 'member': {'memId': 137, 'memName': 'Ecuador', 'shortMemName': '', 'url': 'www.inamhi.gob.ec', 'orgName': 'INSTITUTO NACIONAL DE METEOROLOGIA E HIDROLOGIA', 'logo': 'ecuador_logo.png', 'ra': 3}, 'forecast': {'issueDate': '2022-06-29 15:09:00', 'timeZone': 'Local', 'forecastDay': [{'forecastDate': '2022-06-30', 'wxdesc': '', 'weather': 'Partly Cloudy', 'minTemp': '21', 'maxTemp': '29', 'minTempF': '70', 'maxTempF': '84', 'weatherIcon': 2202}, {'forecastDate': '2022-07-01', 'wxdesc': '', 'weather': 'Partly Cloudy', 'minTemp': '22', 'maxTemp': '29', 'minTempF': '72', 'maxTempF': '84', 'weatherIcon': 2202}, {'forecastDate': '2022-07-02', 'wxdesc': '', 'weather': 'Partly Cloudy', 'minTemp': '22', 'maxTemp': '30', 'minTempF': '72', 'maxTempF': '86', 'weatherIcon': 2202}]}, 'climate': {'raintype': 'Rainfall', 'raindef': '', 'rainunit': 'mm', 'datab': 1981, 'datae': 2010, 'tempb': '', 'tempe': '', 'rdayb': '', 'rdaye': '', 'rainfallb': '', 'rainfalle': '', 'climatefromclino': '', 'climateMonth': [{'month': 1, 'maxTemp': '31.2', 'minTemp': '23.0', 'meanTemp': None, 'maxTempF': '88.2', 'minTempF': '73.4', 'meanTempF': None, 'raindays': '19', 'rainfall': '200.7', 'climateFromMemDate': '2015-07-13'}, {'month': 2, 'maxTemp': '31.2', 'minTemp': '23.4', 'meanTemp': None, 'maxTempF': '88.2', 'minTempF': '74.1', 'meanTempF': None, 'raindays': '22', 'rainfall': '332.0', 'climateFromMemDate': '2015-07-13'}, {'month': 3, 'maxTemp': '32.2', 'minTemp': '23.7', 'meanTemp': None, 'maxTempF': '90.0', 'minTempF': '74.7', 'meanTempF': None, 'raindays': '21', 'rainfall': '315.7', 'climateFromMemDate': '2015-07-13'}, {'month': 4, 'maxTemp': '32.0', 'minTemp': '23.5', 'meanTemp': None, 'maxTempF': '89.6', 'minTempF': '74.3', 'meanTempF': None, 'raindays': '17', 'rainfall': '207.2', 'climateFromMemDate': '2015-07-13'}, {'month': 5, 'maxTemp': '31.2', 'minTemp': '22.6', 'meanTemp': None, 'maxTempF': '88.2', 'minTempF': '72.7', 'meanTempF': None, 'raindays': '10', 'rainfall': '62.6', 'climateFromMemDate': '2015-07-13'}, {'month': 6, 'maxTemp': '29.8', 'minTemp': '21.5', 'meanTemp': None, 'maxTempF': '85.6', 'minTempF': '70.7', 'meanTempF': None, 'raindays': '5', 'rainfall': '34.0', 'climateFromMemDate': '2015-07-13'}, {'month': 7, 'maxTemp': '29.1', 'minTemp': '20.8', 'meanTemp': None, 'maxTempF': '84.4', 'minTempF': '69.4', 'meanTempF': None, 'raindays': '3', 'rainfall': '15.6', 'climateFromMemDate': '2015-07-13'}, {'month': 8, 'maxTemp': '29.7', 'minTemp': '20.7', 'meanTemp': None, 'maxTempF': '85.5', 'minTempF': '69.3', 'meanTempF': None, 'raindays': '2', 'rainfall': '1.2', 'climateFromMemDate': '2015-07-13'}, {'month': 9, 'maxTemp': '30.5', 'minTemp': '20.5', 'meanTemp': None, 'maxTempF': '86.9', 'minTempF': '68.9', 'meanTempF': None, 'raindays': '2', 'rainfall': '1.5', 'climateFromMemDate': '2015-07-13'}, {'month': 10, 'maxTemp': '30.2', 'minTemp': '20.9', 'meanTemp': None, 'maxTempF': '86.4', 'minTempF': '69.6', 'meanTempF': None, 'raindays': '3', 'rainfall': '5.6', 'climateFromMemDate': '2015-07-13'}, {'month': 11, 'maxTemp': '31.1', 'minTemp': '21.3', 'meanTemp': None, 'maxTempF': '88.0', 'minTempF': '70.3', 'meanTempF': None, 'raindays': '4', 'rainfall': '29.1', 'climateFromMemDate': '2015-07-13'}, {'month': 12, 'maxTemp': '31.8', 'minTemp': '22.4', 'meanTemp': None, 'maxTempF': '89.2', 'minTempF': '72.3', 'meanTempF': None, 'raindays': '9', 'rainfall': '68.0', 'climateFromMemDate': '2015-07-13'}]}}}\n"
     ]
    }
   ],
   "source": [
    "print(data)"
   ]
  },
  {
   "cell_type": "markdown",
   "id": "e302bdd5",
   "metadata": {},
   "source": [
    "## JSON scheme\n",
    "\n",
    "https://worldweather.wmo.int/en/json/WWIS_json_schema_v2.json"
   ]
  },
  {
   "cell_type": "markdown",
   "id": "ead15073",
   "metadata": {},
   "source": [
    "## Getting data by nesting"
   ]
  },
  {
   "cell_type": "code",
   "execution_count": 17,
   "id": "ee5e9dea",
   "metadata": {},
   "outputs": [
    {
     "name": "stdout",
     "output_type": "stream",
     "text": [
      "{'month': 1, 'maxTemp': '31.2', 'minTemp': '23.0', 'meanTemp': None, 'maxTempF': '88.2', 'minTempF': '73.4', 'meanTempF': None, 'raindays': '19', 'rainfall': '200.7', 'climateFromMemDate': '2015-07-13'}\n"
     ]
    }
   ],
   "source": [
    "print(data[\"city\"][\"climate\"][\"climateMonth\"][0])"
   ]
  },
  {
   "cell_type": "code",
   "execution_count": null,
   "id": "72a07403",
   "metadata": {},
   "outputs": [],
   "source": []
  }
 ],
 "metadata": {
  "kernelspec": {
   "display_name": "Python 3",
   "language": "python",
   "name": "python3"
  },
  "language_info": {
   "codemirror_mode": {
    "name": "ipython",
    "version": 3
   },
   "file_extension": ".py",
   "mimetype": "text/x-python",
   "name": "python",
   "nbconvert_exporter": "python",
   "pygments_lexer": "ipython3",
   "version": "3.7.10"
  }
 },
 "nbformat": 4,
 "nbformat_minor": 5
}
