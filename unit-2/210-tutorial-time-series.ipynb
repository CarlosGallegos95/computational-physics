{
 "cells": [
  {
   "cell_type": "markdown",
   "id": "1c259342",
   "metadata": {},
   "source": [
    "# Exercise: time series\n",
    "\n",
    "- We will analyse data taken from the World Meteorological Organisation (WMO).\n",
    "\n",
    "https://worldweather.wmo.int/en/dataguide.html\n",
    "\n",
    "- Temperature (max, min), rainy days, rainfall for 12 months.\n",
    "\n",
    "Guayaquil: https://worldweather.wmo.int/en/json/2048_en.json\n",
    "\n",
    "- Python has an in-built function to read json files."
   ]
  },
  {
   "cell_type": "markdown",
   "id": "5071aa82",
   "metadata": {},
   "source": [
    "### Let's try to find correlations"
   ]
  },
  {
   "cell_type": "code",
   "execution_count": 1,
   "id": "9dd702d3",
   "metadata": {},
   "outputs": [],
   "source": [
    "import numpy as np\n",
    "\n",
    "import matplotlib.pyplot as plt\n",
    "\n",
    "import json"
   ]
  },
  {
   "cell_type": "markdown",
   "id": "959c5491",
   "metadata": {},
   "source": [
    "### Open file"
   ]
  },
  {
   "cell_type": "code",
   "execution_count": 2,
   "id": "5cbd2dc0",
   "metadata": {},
   "outputs": [],
   "source": [
    "f = open(\"2048_en.json\", \"r\")"
   ]
  },
  {
   "cell_type": "code",
   "execution_count": 3,
   "id": "4248185c",
   "metadata": {},
   "outputs": [
    {
     "data": {
      "text/plain": [
       "_io.TextIOWrapper"
      ]
     },
     "execution_count": 3,
     "metadata": {},
     "output_type": "execute_result"
    }
   ],
   "source": [
    "type(f)"
   ]
  },
  {
   "cell_type": "markdown",
   "id": "504b888b",
   "metadata": {},
   "source": [
    "Documentation: https://www.geeksforgeeks.org/json-loads-in-python/#:~:text=json.-,loads(),JSON%20data%20into%20Python%20Dictionary."
   ]
  },
  {
   "cell_type": "code",
   "execution_count": 4,
   "id": "f6902510",
   "metadata": {},
   "outputs": [],
   "source": [
    "data = json.loads(f.read())"
   ]
  },
  {
   "cell_type": "code",
   "execution_count": 5,
   "id": "8bcbe3ab",
   "metadata": {},
   "outputs": [
    {
     "data": {
      "text/plain": [
       "dict"
      ]
     },
     "execution_count": 5,
     "metadata": {},
     "output_type": "execute_result"
    }
   ],
   "source": [
    "type(data)"
   ]
  },
  {
   "cell_type": "code",
   "execution_count": 6,
   "id": "7b32652d",
   "metadata": {},
   "outputs": [
    {
     "name": "stdout",
     "output_type": "stream",
     "text": [
      "{'city': {'lang': 'en', 'cityName': 'Guayaquil', 'cityLatitude': '-2.153333000', 'cityLongitude': '-79.883333000', 'cityId': 2048, 'isCapital': False, 'stationName': 'Guayaquil', 'tourismURL': '', 'tourismBoardName': '', 'isDep': False, 'timeZone': '-0500', 'isDST': 'N', 'member': {'memId': 137, 'memName': 'Ecuador', 'shortMemName': '', 'url': 'www.inamhi.gob.ec', 'orgName': 'INSTITUTO NACIONAL DE METEOROLOGIA E HIDROLOGIA', 'logo': 'ecuador_logo.png', 'ra': 3}, 'forecast': {'issueDate': '2022-06-29 15:09:00', 'timeZone': 'Local', 'forecastDay': [{'forecastDate': '2022-06-30', 'wxdesc': '', 'weather': 'Partly Cloudy', 'minTemp': '21', 'maxTemp': '29', 'minTempF': '70', 'maxTempF': '84', 'weatherIcon': 2202}, {'forecastDate': '2022-07-01', 'wxdesc': '', 'weather': 'Partly Cloudy', 'minTemp': '22', 'maxTemp': '29', 'minTempF': '72', 'maxTempF': '84', 'weatherIcon': 2202}, {'forecastDate': '2022-07-02', 'wxdesc': '', 'weather': 'Partly Cloudy', 'minTemp': '22', 'maxTemp': '30', 'minTempF': '72', 'maxTempF': '86', 'weatherIcon': 2202}]}, 'climate': {'raintype': 'Rainfall', 'raindef': '', 'rainunit': 'mm', 'datab': 1981, 'datae': 2010, 'tempb': '', 'tempe': '', 'rdayb': '', 'rdaye': '', 'rainfallb': '', 'rainfalle': '', 'climatefromclino': '', 'climateMonth': [{'month': 1, 'maxTemp': '31.2', 'minTemp': '23.0', 'meanTemp': None, 'maxTempF': '88.2', 'minTempF': '73.4', 'meanTempF': None, 'raindays': '19', 'rainfall': '200.7', 'climateFromMemDate': '2015-07-13'}, {'month': 2, 'maxTemp': '31.2', 'minTemp': '23.4', 'meanTemp': None, 'maxTempF': '88.2', 'minTempF': '74.1', 'meanTempF': None, 'raindays': '22', 'rainfall': '332.0', 'climateFromMemDate': '2015-07-13'}, {'month': 3, 'maxTemp': '32.2', 'minTemp': '23.7', 'meanTemp': None, 'maxTempF': '90.0', 'minTempF': '74.7', 'meanTempF': None, 'raindays': '21', 'rainfall': '315.7', 'climateFromMemDate': '2015-07-13'}, {'month': 4, 'maxTemp': '32.0', 'minTemp': '23.5', 'meanTemp': None, 'maxTempF': '89.6', 'minTempF': '74.3', 'meanTempF': None, 'raindays': '17', 'rainfall': '207.2', 'climateFromMemDate': '2015-07-13'}, {'month': 5, 'maxTemp': '31.2', 'minTemp': '22.6', 'meanTemp': None, 'maxTempF': '88.2', 'minTempF': '72.7', 'meanTempF': None, 'raindays': '10', 'rainfall': '62.6', 'climateFromMemDate': '2015-07-13'}, {'month': 6, 'maxTemp': '29.8', 'minTemp': '21.5', 'meanTemp': None, 'maxTempF': '85.6', 'minTempF': '70.7', 'meanTempF': None, 'raindays': '5', 'rainfall': '34.0', 'climateFromMemDate': '2015-07-13'}, {'month': 7, 'maxTemp': '29.1', 'minTemp': '20.8', 'meanTemp': None, 'maxTempF': '84.4', 'minTempF': '69.4', 'meanTempF': None, 'raindays': '3', 'rainfall': '15.6', 'climateFromMemDate': '2015-07-13'}, {'month': 8, 'maxTemp': '29.7', 'minTemp': '20.7', 'meanTemp': None, 'maxTempF': '85.5', 'minTempF': '69.3', 'meanTempF': None, 'raindays': '2', 'rainfall': '1.2', 'climateFromMemDate': '2015-07-13'}, {'month': 9, 'maxTemp': '30.5', 'minTemp': '20.5', 'meanTemp': None, 'maxTempF': '86.9', 'minTempF': '68.9', 'meanTempF': None, 'raindays': '2', 'rainfall': '1.5', 'climateFromMemDate': '2015-07-13'}, {'month': 10, 'maxTemp': '30.2', 'minTemp': '20.9', 'meanTemp': None, 'maxTempF': '86.4', 'minTempF': '69.6', 'meanTempF': None, 'raindays': '3', 'rainfall': '5.6', 'climateFromMemDate': '2015-07-13'}, {'month': 11, 'maxTemp': '31.1', 'minTemp': '21.3', 'meanTemp': None, 'maxTempF': '88.0', 'minTempF': '70.3', 'meanTempF': None, 'raindays': '4', 'rainfall': '29.1', 'climateFromMemDate': '2015-07-13'}, {'month': 12, 'maxTemp': '31.8', 'minTemp': '22.4', 'meanTemp': None, 'maxTempF': '89.2', 'minTempF': '72.3', 'meanTempF': None, 'raindays': '9', 'rainfall': '68.0', 'climateFromMemDate': '2015-07-13'}]}}}\n"
     ]
    }
   ],
   "source": [
    "print(data)"
   ]
  },
  {
   "cell_type": "markdown",
   "id": "15efdd01",
   "metadata": {},
   "source": [
    "## JSON scheme\n",
    "\n",
    "https://worldweather.wmo.int/en/json/WWIS_json_schema_v2.json"
   ]
  },
  {
   "cell_type": "markdown",
   "id": "db31c565",
   "metadata": {},
   "source": [
    "## Getting data by nesting"
   ]
  },
  {
   "cell_type": "code",
   "execution_count": 24,
   "id": "91e30642",
   "metadata": {},
   "outputs": [
    {
     "name": "stdout",
     "output_type": "stream",
     "text": [
      "{'month': 12, 'maxTemp': '31.8', 'minTemp': '22.4', 'meanTemp': None, 'maxTempF': '89.2', 'minTempF': '72.3', 'meanTempF': None, 'raindays': '9', 'rainfall': '68.0', 'climateFromMemDate': '2015-07-13'}\n"
     ]
    }
   ],
   "source": [
    "print(data[\"city\"][\"climate\"][\"climateMonth\"][11])"
   ]
  },
  {
   "cell_type": "code",
   "execution_count": 20,
   "id": "1e0981ca",
   "metadata": {},
   "outputs": [
    {
     "name": "stdout",
     "output_type": "stream",
     "text": [
      "12\n"
     ]
    }
   ],
   "source": [
    "print(len(data[\"city\"][\"climate\"][\"climateMonth\"]))"
   ]
  },
  {
   "cell_type": "markdown",
   "id": "bc3e3e5d",
   "metadata": {},
   "source": [
    "## Accessing data"
   ]
  },
  {
   "cell_type": "code",
   "execution_count": 43,
   "id": "9e8d1a57",
   "metadata": {},
   "outputs": [
    {
     "name": "stdout",
     "output_type": "stream",
     "text": [
      "[1, 2, 3, 4, 5, 6, 7, 8, 9, 10, 11, 12]\n",
      "[23.0, 23.4, 23.7, 23.5, 22.6, 21.5, 20.8, 20.7, 20.5, 20.9, 21.3, 22.4]\n",
      "[31.2, 31.2, 32.2, 32.0, 31.2, 29.8, 29.1, 29.7, 30.5, 30.2, 31.1, 31.8]\n",
      "[ 1  2  3  4  5  6  7  8  9 10 11 12]\n",
      "[23.  23.4 23.7 23.5 22.6 21.5 20.8 20.7 20.5 20.9 21.3 22.4]\n",
      "[31.2 31.2 32.2 32.  31.2 29.8 29.1 29.7 30.5 30.2 31.1 31.8]\n",
      "[200.7 332.  315.7 207.2  62.6  34.   15.6   1.2   1.5   5.6  29.1  68. ]\n"
     ]
    }
   ],
   "source": [
    "month = []\n",
    "minTemp = []\n",
    "maxTemp = []\n",
    "rainfall = []\n",
    "\n",
    "for i in range (len(data[\"city\"][\"climate\"][\"climateMonth\"])):\n",
    "    \n",
    "    month.append(data[\"city\"][\"climate\"][\"climateMonth\"][i][\"month\"])\n",
    "    minTemp.append(float(data[\"city\"][\"climate\"][\"climateMonth\"][i][\"minTemp\"])) # Don't forget to convert to floats\n",
    "    maxTemp.append(float(data[\"city\"][\"climate\"][\"climateMonth\"][i][\"maxTemp\"])) # Don't forget to convert to floats \n",
    "    rainfall.append(float(data[\"city\"][\"climate\"][\"climateMonth\"][i][\"rainfall\"])) # Don't forget to convert to floats \n",
    "    \n",
    "print(month)\n",
    "print(minTemp)\n",
    "print(maxTemp)\n",
    "    \n",
    "month_array = np.array(month)\n",
    "minTemp_array = np.array(minTemp)\n",
    "maxTemp_array = np.array(maxTemp)\n",
    "rainfall_array = np.array(rainfall)\n",
    "\n",
    "print(month_array )\n",
    "print(minTemp_array)\n",
    "print(maxTemp_array)\n",
    "print(rainfall_array)"
   ]
  },
  {
   "cell_type": "code",
   "execution_count": 42,
   "id": "ac68ad9e",
   "metadata": {},
   "outputs": [
    {
     "data": {
      "text/plain": [
       "<matplotlib.legend.Legend at 0x11dec4a90>"
      ]
     },
     "execution_count": 42,
     "metadata": {},
     "output_type": "execute_result"
    },
    {
     "data": {
      "image/png": "[encoded data removed]",
      "text/plain": [
       "<Figure size 432x288 with 1 Axes>"
      ]
     },
     "metadata": {
      "needs_background": "light"
     },
     "output_type": "display_data"
    }
   ],
   "source": [
    "%matplotlib inline\n",
    "# And now we plot\n",
    "fig, ax = plt.subplots()\n",
    "\n",
    "ax.plot(month_array, minTemp_array, color = 'blue', marker = 'd', linestyle = \"-.\", label=\"MinTemp\") \n",
    "\n",
    "ax.plot(month_array, maxTemp_array, color = 'red', marker = 'd', linestyle = \"--\", label=\"MaxTemp\") \n",
    "\n",
    "ax.set_xlabel('Month')\n",
    "\n",
    "ax.set_ylabel('Temperature (C)')\n",
    "\n",
    "ax.legend()"
   ]
  },
  {
   "cell_type": "markdown",
   "id": "45033c87",
   "metadata": {},
   "source": [
    "## Correlations:"
   ]
  },
  {
   "cell_type": "code",
   "execution_count": 40,
   "id": "8a67f30b",
   "metadata": {},
   "outputs": [
    {
     "data": {
      "text/plain": [
       "Text(0, 0.5, 'Max Temperature (C)')"
      ]
     },
     "execution_count": 40,
     "metadata": {},
     "output_type": "execute_result"
    },
    {
     "data": {
      "image/png": "[encoded data removed]",
      "text/plain": [
       "<Figure size 432x288 with 1 Axes>"
      ]
     },
     "metadata": {
      "needs_background": "light"
     },
     "output_type": "display_data"
    }
   ],
   "source": [
    "fig, ax = plt.subplots()\n",
    "\n",
    "ax.plot(minTemp_array, maxTemp_array, color = 'green', marker = 'd', linestyle = \" \") \n",
    "\n",
    "\n",
    "ax.set_xlabel('Min Temperature (C)')\n",
    "\n",
    "ax.set_ylabel('Max Temperature (C)')\n",
    "\n",
    "#ax.legend()"
   ]
  },
  {
   "cell_type": "markdown",
   "id": "ce97bbc0",
   "metadata": {},
   "source": [
    "### Rainfall:"
   ]
  },
  {
   "cell_type": "code",
   "execution_count": 44,
   "id": "71a5f265",
   "metadata": {},
   "outputs": [
    {
     "data": {
      "text/plain": [
       "<matplotlib.legend.Legend at 0x11e2f5f10>"
      ]
     },
     "execution_count": 44,
     "metadata": {},
     "output_type": "execute_result"
    },
    {
     "data": {
      "image/png": "[encoded data removed]",
      "text/plain": [
       "<Figure size 432x288 with 1 Axes>"
      ]
     },
     "metadata": {
      "needs_background": "light"
     },
     "output_type": "display_data"
    }
   ],
   "source": [
    "%matplotlib inline\n",
    "# And now we plot\n",
    "fig, ax = plt.subplots()\n",
    "\n",
    "ax.plot(month_array, rainfall_array, color = 'magenta', marker = 'd', linestyle = \"-\", label=\"Rainfall\") \n",
    "\n",
    "ax.set_xlabel('Month')\n",
    "\n",
    "ax.set_ylabel('Rainfall (mm)')\n",
    "\n",
    "ax.legend()"
   ]
  },
  {
   "cell_type": "code",
   "execution_count": 45,
   "id": "f7fe8eb5",
   "metadata": {},
   "outputs": [
    {
     "data": {
      "text/plain": [
       "<matplotlib.legend.Legend at 0x11e50d450>"
      ]
     },
     "execution_count": 45,
     "metadata": {},
     "output_type": "execute_result"
    },
    {
     "data": {
      "image/png": "[encoded data removed]",
      "text/plain": [
       "<Figure size 432x288 with 1 Axes>"
      ]
     },
     "metadata": {
      "needs_background": "light"
     },
     "output_type": "display_data"
    }
   ],
   "source": [
    "%matplotlib inline\n",
    "# And now we plot\n",
    "fig, ax = plt.subplots()\n",
    "\n",
    "ax.plot(month_array, minTemp_array, color = 'blue', marker = 'd', linestyle = \"-.\", label=\"MinTemp\") \n",
    "\n",
    "#ax.plot(month_array, maxTemp_array, color = 'red', marker = 'd', linestyle = \"--\", label=\"MaxTemp\") \n",
    "\n",
    "ax.set_xlabel('Month')\n",
    "\n",
    "ax.set_ylabel('Temperature (C)')\n",
    "\n",
    "ax.legend()"
   ]
  },
  {
   "cell_type": "code",
   "execution_count": 48,
   "id": "1263a9b2",
   "metadata": {},
   "outputs": [
    {
     "data": {
      "text/plain": [
       "Text(0, 0.5, 'Rainfall (mm)')"
      ]
     },
     "execution_count": 48,
     "metadata": {},
     "output_type": "execute_result"
    },
    {
     "data": {
      "image/png": "[encoded data removed]",
      "text/plain": [
       "<Figure size 432x288 with 1 Axes>"
      ]
     },
     "metadata": {
      "needs_background": "light"
     },
     "output_type": "display_data"
    }
   ],
   "source": [
    "fig, ax = plt.subplots()\n",
    "\n",
    "ax.plot(minTemp_array, rainfall_array, color = 'black', marker = '+', linestyle = \" \") \n",
    "\n",
    "\n",
    "ax.set_xlabel('Min Temperature (C)')\n",
    "\n",
    "ax.set_ylabel('Rainfall (mm)')\n",
    "\n",
    "#ax.legend()"
   ]
  },
  {
   "cell_type": "code",
   "execution_count": null,
   "id": "256c591f",
   "metadata": {},
   "outputs": [],
   "source": []
  }
 ],
 "metadata": {
  "kernelspec": {
   "display_name": "Python 3",
   "language": "python",
   "name": "python3"
  },
  "language_info": {
   "codemirror_mode": {
    "name": "ipython",
    "version": 3
   },
   "file_extension": ".py",
   "mimetype": "text/x-python",
   "name": "python",
   "nbconvert_exporter": "python",
   "pygments_lexer": "ipython3",
   "version": "3.7.10"
  }
 },
 "nbformat": 4,
 "nbformat_minor": 5
}
