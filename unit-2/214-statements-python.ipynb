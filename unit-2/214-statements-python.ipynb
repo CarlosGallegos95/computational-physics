{
 "cells": [
  {
   "cell_type": "markdown",
   "id": "68b00df6",
   "metadata": {},
   "source": [
    "# Statements in Python"
   ]
  },
  {
   "cell_type": "markdown",
   "id": "abe56738",
   "metadata": {},
   "source": [
    "## 1. If ... elif ... else statements\n",
    "\n",
    "**Syntax:**\n",
    "\n",
    "if ____:\n",
    "\n",
    "    indentation statement\n",
    "    \n",
    "elif ____:\n",
    "\n",
    "    indentation statement\n",
    "    \n",
    "else:\n",
    "\n",
    "    indentation statement"
   ]
  },
  {
   "cell_type": "markdown",
   "id": "df018c13",
   "metadata": {},
   "source": [
    "### Example:"
   ]
  },
  {
   "cell_type": "code",
   "execution_count": 3,
   "id": "7a46fe8d",
   "metadata": {},
   "outputs": [],
   "source": [
    "x = 50\n",
    "y = 60"
   ]
  },
  {
   "cell_type": "code",
   "execution_count": 4,
   "id": "aac8e3dc",
   "metadata": {},
   "outputs": [
    {
     "name": "stdout",
     "output_type": "stream",
     "text": [
      "y is greater than x\n"
     ]
    }
   ],
   "source": [
    "# If elif else statement:\n",
    "\n",
    "if y > x:\n",
    "    print(\"y is greater than x\")\n",
    "    \n",
    "elif y == x:\n",
    "    print(\"y and x are equal\")\n",
    "\n",
    "else:\n",
    "    print(\"x is greater than y\")"
   ]
  },
  {
   "cell_type": "markdown",
   "id": "a840efcc",
   "metadata": {},
   "source": [
    "## Short statements:"
   ]
  },
  {
   "cell_type": "code",
   "execution_count": 5,
   "id": "b9dd7147",
   "metadata": {},
   "outputs": [
    {
     "name": "stdout",
     "output_type": "stream",
     "text": [
      "y is greater than x\n"
     ]
    }
   ],
   "source": [
    "if y > x: print(\"y is greater than x\")"
   ]
  },
  {
   "cell_type": "code",
   "execution_count": 6,
   "id": "62ad4723",
   "metadata": {},
   "outputs": [
    {
     "name": "stdout",
     "output_type": "stream",
     "text": [
      "y is greater than x\n"
     ]
    }
   ],
   "source": [
    "print(\"y is greater than x\") if y > x else print(\"y is not greater than x\")"
   ]
  },
  {
   "cell_type": "markdown",
   "id": "f69a1b24",
   "metadata": {},
   "source": [
    "## and / or operators:\n",
    "\n",
    "The **and** keyword is a logical operator used to combine conditional statements.\n",
    "\n",
    "The **or** keyword is a logical operator used to combine conditional statements."
   ]
  },
  {
   "cell_type": "markdown",
   "id": "aafc7b9c",
   "metadata": {},
   "source": [
    "### Examples:"
   ]
  },
  {
   "cell_type": "code",
   "execution_count": 14,
   "id": "e3f0624d",
   "metadata": {},
   "outputs": [],
   "source": [
    "x = 1\n",
    "y = 4\n",
    "z = 10"
   ]
  },
  {
   "cell_type": "code",
   "execution_count": 15,
   "id": "bcb1a296",
   "metadata": {},
   "outputs": [
    {
     "name": "stdout",
     "output_type": "stream",
     "text": [
      "y is in between x and z in increasing order.\n"
     ]
    }
   ],
   "source": [
    "# Both conditions need to be satisfied:\n",
    "\n",
    "if x < y and y < z:\n",
    "    print(\"y is in between x and z in increasing order.\")\n",
    "else: \n",
    "    print(\"y is NOT in between x and z in increasing order.\")  "
   ]
  },
  {
   "cell_type": "code",
   "execution_count": 16,
   "id": "31b1a8fc",
   "metadata": {},
   "outputs": [
    {
     "name": "stdout",
     "output_type": "stream",
     "text": [
      "y could be in between x and z.\n"
     ]
    }
   ],
   "source": [
    "if x < y or y < z:\n",
    "    print(\"y could be in between x and z.\")"
   ]
  },
  {
   "cell_type": "markdown",
   "id": "6ce19ca9",
   "metadata": {},
   "source": [
    "## Binary numbers \n",
    "\n",
    "Binary numbers are base-2 numbers that only take values 0 and 1."
   ]
  },
  {
   "cell_type": "markdown",
   "id": "8286d07f",
   "metadata": {},
   "source": [
    "### Examples:"
   ]
  },
  {
   "cell_type": "code",
   "execution_count": 17,
   "id": "5bcc63a8",
   "metadata": {},
   "outputs": [
    {
     "name": "stdout",
     "output_type": "stream",
     "text": [
      "0\n"
     ]
    }
   ],
   "source": [
    "# Zero in binary:\n",
    "print(\"{0:b}\".format(0))"
   ]
  },
  {
   "cell_type": "code",
   "execution_count": 18,
   "id": "8978d718",
   "metadata": {},
   "outputs": [
    {
     "name": "stdout",
     "output_type": "stream",
     "text": [
      "1\n"
     ]
    }
   ],
   "source": [
    "# One in binary:\n",
    "\n",
    "print(\"{0:b}\".format(1))"
   ]
  },
  {
   "cell_type": "code",
   "execution_count": 19,
   "id": "55bcb5dd",
   "metadata": {},
   "outputs": [
    {
     "name": "stdout",
     "output_type": "stream",
     "text": [
      "1010\n"
     ]
    }
   ],
   "source": [
    "# Ten in binary:\n",
    "\n",
    "print(\"{0:b}\".format(10))"
   ]
  },
  {
   "cell_type": "code",
   "execution_count": 20,
   "id": "d0310be4",
   "metadata": {},
   "outputs": [
    {
     "name": "stdout",
     "output_type": "stream",
     "text": [
      "111\n"
     ]
    }
   ],
   "source": [
    "# Seven:\n",
    "\n",
    "print(\"{0:b}\".format(7))"
   ]
  },
  {
   "cell_type": "code",
   "execution_count": 21,
   "id": "7098350d",
   "metadata": {},
   "outputs": [
    {
     "name": "stdout",
     "output_type": "stream",
     "text": [
      "10001\n"
     ]
    }
   ],
   "source": [
    "# Seventeen:\n",
    "\n",
    "print(\"{0:b}\".format(17))"
   ]
  },
  {
   "cell_type": "markdown",
   "id": "e989168e",
   "metadata": {},
   "source": [
    "## The \"and\" and \"&\" operators\n",
    "\n",
    "**and** is a Logical **AND** that returns True if both the operands are true\n",
    "\n",
    "**&** is a bitwise operator in Python that acts on bits and performs bit by bit operation."
   ]
  },
  {
   "cell_type": "code",
   "execution_count": 22,
   "id": "83a997b3",
   "metadata": {},
   "outputs": [],
   "source": [
    "x = 7\n",
    "y = 17"
   ]
  },
  {
   "cell_type": "code",
   "execution_count": 23,
   "id": "4729b10b",
   "metadata": {},
   "outputs": [
    {
     "name": "stdout",
     "output_type": "stream",
     "text": [
      "17\n"
     ]
    }
   ],
   "source": [
    "print(x and y)"
   ]
  },
  {
   "cell_type": "code",
   "execution_count": 24,
   "id": "906a52bf",
   "metadata": {},
   "outputs": [
    {
     "name": "stdout",
     "output_type": "stream",
     "text": [
      "7\n"
     ]
    }
   ],
   "source": [
    "print(y and x)"
   ]
  },
  {
   "cell_type": "code",
   "execution_count": 25,
   "id": "82fb9492",
   "metadata": {},
   "outputs": [
    {
     "name": "stdout",
     "output_type": "stream",
     "text": [
      "7 is 111\n",
      "17 is 10001\n"
     ]
    }
   ],
   "source": [
    "print(\"7 is {0:b}\".format(7))\n",
    "print(\"17 is {0:b}\".format(17))"
   ]
  },
  {
   "cell_type": "code",
   "execution_count": 26,
   "id": "309ce232",
   "metadata": {},
   "outputs": [
    {
     "name": "stdout",
     "output_type": "stream",
     "text": [
      "1\n"
     ]
    }
   ],
   "source": [
    "print(x & y)"
   ]
  },
  {
   "cell_type": "code",
   "execution_count": 27,
   "id": "b23cea40",
   "metadata": {},
   "outputs": [
    {
     "name": "stdout",
     "output_type": "stream",
     "text": [
      "1\n"
     ]
    }
   ],
   "source": [
    "print(y & x)"
   ]
  },
  {
   "cell_type": "code",
   "execution_count": 28,
   "id": "4eb32b3e",
   "metadata": {},
   "outputs": [],
   "source": [
    "x = 7\n",
    "y = 107"
   ]
  },
  {
   "cell_type": "code",
   "execution_count": 29,
   "id": "a26cd169",
   "metadata": {},
   "outputs": [
    {
     "name": "stdout",
     "output_type": "stream",
     "text": [
      "7 is 111\n",
      "107 is 1101011\n"
     ]
    }
   ],
   "source": [
    "print(\"7 is {0:b}\".format(x))\n",
    "print(\"107 is {0:b}\".format(y))"
   ]
  },
  {
   "cell_type": "code",
   "execution_count": 30,
   "id": "2a77348c",
   "metadata": {},
   "outputs": [
    {
     "name": "stdout",
     "output_type": "stream",
     "text": [
      "3\n"
     ]
    }
   ],
   "source": [
    "print(x & y)"
   ]
  },
  {
   "cell_type": "code",
   "execution_count": 32,
   "id": "5a64735e",
   "metadata": {},
   "outputs": [
    {
     "name": "stdout",
     "output_type": "stream",
     "text": [
      "107\n"
     ]
    }
   ],
   "source": [
    "print(x and y)"
   ]
  },
  {
   "cell_type": "code",
   "execution_count": 31,
   "id": "f0f29a96",
   "metadata": {},
   "outputs": [
    {
     "name": "stdout",
     "output_type": "stream",
     "text": [
      "3 is 11\n"
     ]
    }
   ],
   "source": [
    "print(\"3 is {0:b}\".format(3))"
   ]
  },
  {
   "cell_type": "markdown",
   "id": "747b418e",
   "metadata": {},
   "source": [
    "## The \"or\" and \"|\" operators\n",
    "\n",
    "**or** is a Logical **OR** that returns True if one the operands is true\n",
    "\n",
    "**|** is a bitwise operator in Python that acts on bits and performs bit by bit operation."
   ]
  },
  {
   "cell_type": "code",
   "execution_count": 40,
   "id": "3e0a03d3",
   "metadata": {},
   "outputs": [],
   "source": [
    "x = []\n",
    "y = \"Hola\""
   ]
  },
  {
   "cell_type": "code",
   "execution_count": 41,
   "id": "6626731d",
   "metadata": {},
   "outputs": [
    {
     "name": "stdout",
     "output_type": "stream",
     "text": [
      "Hola\n"
     ]
    }
   ],
   "source": [
    "print(x or y)"
   ]
  },
  {
   "cell_type": "code",
   "execution_count": 42,
   "id": "1c622cbb",
   "metadata": {},
   "outputs": [],
   "source": [
    "x = 7\n",
    "y = 107"
   ]
  },
  {
   "cell_type": "code",
   "execution_count": 43,
   "id": "ac6eb726",
   "metadata": {},
   "outputs": [
    {
     "name": "stdout",
     "output_type": "stream",
     "text": [
      "111\n"
     ]
    }
   ],
   "source": [
    "print(x | y)"
   ]
  },
  {
   "cell_type": "code",
   "execution_count": 44,
   "id": "f5901ca3",
   "metadata": {},
   "outputs": [
    {
     "name": "stdout",
     "output_type": "stream",
     "text": [
      "7 is 111\n",
      "107 is 1101011\n"
     ]
    }
   ],
   "source": [
    "print(\"7 is {0:b}\".format(x))\n",
    "print(\"107 is {0:b}\".format(y))"
   ]
  },
  {
   "cell_type": "code",
   "execution_count": 45,
   "id": "5df0cbe7",
   "metadata": {},
   "outputs": [
    {
     "name": "stdout",
     "output_type": "stream",
     "text": [
      "111 is 1101111\n"
     ]
    }
   ],
   "source": [
    "print(\"111 is {0:b}\".format(111))"
   ]
  },
  {
   "cell_type": "markdown",
   "id": "be7a335b",
   "metadata": {},
   "source": [
    "## Bitwise NOT operator:\n",
    "\n",
    "**~** Returns one’s complement of the number."
   ]
  },
  {
   "cell_type": "code",
   "execution_count": 46,
   "id": "ce0b6018",
   "metadata": {},
   "outputs": [],
   "source": [
    "z = 7"
   ]
  },
  {
   "cell_type": "code",
   "execution_count": 47,
   "id": "6e7cf2af",
   "metadata": {},
   "outputs": [
    {
     "name": "stdout",
     "output_type": "stream",
     "text": [
      "7 is 111\n"
     ]
    }
   ],
   "source": [
    "print(\"7 is {0:b}\".format(z))"
   ]
  },
  {
   "cell_type": "code",
   "execution_count": 48,
   "id": "4ebfc7a5",
   "metadata": {},
   "outputs": [
    {
     "name": "stdout",
     "output_type": "stream",
     "text": [
      "-8\n"
     ]
    }
   ],
   "source": [
    "z1 = ~z\n",
    "\n",
    "print(z1)"
   ]
  },
  {
   "cell_type": "code",
   "execution_count": 49,
   "id": "8ee1db0c",
   "metadata": {},
   "outputs": [
    {
     "name": "stdout",
     "output_type": "stream",
     "text": [
      "-8 is -1000\n"
     ]
    }
   ],
   "source": [
    "print(\"-8 is {0:b}\".format(-8))"
   ]
  },
  {
   "cell_type": "code",
   "execution_count": 51,
   "id": "77829360",
   "metadata": {},
   "outputs": [],
   "source": [
    "### chisq(a,b)\n",
    "\n",
    "## scipy.optimise()"
   ]
  },
  {
   "cell_type": "code",
   "execution_count": null,
   "id": "1dcaf760",
   "metadata": {},
   "outputs": [],
   "source": []
  }
 ],
 "metadata": {
  "kernelspec": {
   "display_name": "Python 3",
   "language": "python",
   "name": "python3"
  },
  "language_info": {
   "codemirror_mode": {
    "name": "ipython",
    "version": 3
   },
   "file_extension": ".py",
   "mimetype": "text/x-python",
   "name": "python",
   "nbconvert_exporter": "python",
   "pygments_lexer": "ipython3",
   "version": "3.7.10"
  }
 },
 "nbformat": 4,
 "nbformat_minor": 5
}
