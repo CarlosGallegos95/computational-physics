{
 "cells": [
  {
   "cell_type": "markdown",
   "id": "d1653975",
   "metadata": {},
   "source": [
    "# Image processing with scikit-image\n",
    "\n",
    "\n",
    "- scikit-image is a collection of algorithms for image processing.\n",
    "\n",
    "\n",
    "- It also contains several sample images in its database, which you can use freely.\n",
    "\n",
    "\n",
    "- And it works with with numpy arrays, so you can handle images as arrays.\n",
    "\n",
    "\n",
    "**References:**\n",
    "\n",
    "https://scikit-image.org/\n",
    "\n",
    "https://github.com/scikit-image/scikit-image"
   ]
  },
  {
   "cell_type": "markdown",
   "id": "03180f52",
   "metadata": {},
   "source": [
    "You need to install:\n",
    "\n",
    "**conda install scikit-image**\n",
    "\n",
    "\n",
    "And some optional dependencies:\n",
    "\n",
    "**conda install pooch**\n",
    "\n",
    "**conda install plotly**"
   ]
  },
  {
   "cell_type": "markdown",
   "id": "76483573",
   "metadata": {},
   "source": [
    "## Image database:\n",
    "\n",
    "The submodule data contains all kinds of images:\n",
    "\n",
    "See a list here: https://scikit-image.org/docs/stable/api/skimage.data.html"
   ]
  },
  {
   "cell_type": "markdown",
   "id": "2622a600",
   "metadata": {},
   "source": [
    "# Example: \n",
    "\n",
    "I copied the description from: https://scikit-image.org/docs/stable/api/skimage.data.html#skimage.data.cell\n",
    "\n",
    "## Cell image\n",
    "\n",
    "skimage.data.cell()\n",
    "\n",
    "Cell floating in saline.\n",
    "\n",
    "This is a quantitative phase image retrieved from a digital hologram using the Python library qpformat. The image shows a cell with high phase value, above the background phase.\n",
    "\n",
    "Because of a banding pattern artifact in the background, this image is a good test of thresholding algorithms. **The pixel spacing is 0.107 µm.**\n",
    "\n",
    "These data were part of a comparison between several refractive index retrieval techniques for spherical objects as part of [1].\n",
    "\n",
    "This image is CC0, dedicated to the public domain. You may copy, modify, or distribute it without asking permission.\n",
    "\n",
    "\n",
    "[1] Paul Müller, Mirjam Schürmann, Salvatore Girardo, Gheorghe Cojoc, and Jochen Guck. “Accurate evaluation of size and refractive index for spherical objects in quantitative phase imaging.” Optics Express 26(8): 10729-10743 (2018). DOI:10.1364/OE.26.010729"
   ]
  }
 ],
 "metadata": {
  "kernelspec": {
   "display_name": "Python 3 (ipykernel)",
   "language": "python",
   "name": "python3"
  },
  "language_info": {
   "codemirror_mode": {
    "name": "ipython",
    "version": 3
   },
   "file_extension": ".py",
   "mimetype": "text/x-python",
   "name": "python",
   "nbconvert_exporter": "python",
   "pygments_lexer": "ipython3",
   "version": "3.7.16"
  }
 },
 "nbformat": 4,
 "nbformat_minor": 5
}
