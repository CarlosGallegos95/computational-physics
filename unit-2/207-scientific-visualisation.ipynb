{
 "cells": [
  {
   "cell_type": "markdown",
   "id": "f851469f",
   "metadata": {},
   "source": [
    "# Scientific visualisation\n",
    "\n",
    "## 1. Graphical interface (GUI):\n",
    "\n",
    "VisIt (physics): https://visit-dav.github.io/visit-website/releases-as-tables/\n",
    "\n",
    "Paraview (ingeneering): https://www.paraview.org/download/\n",
    "\n",
    "**Note:** 2D and 3D visualisation, but they provided limited capability for data analysis\n",
    "\n",
    "\n",
    "## 2. pyvista:\n",
    "\n",
    "Documentation: https://docs.pyvista.org/\n",
    "\n",
    "\n",
    "## Installation:\n",
    "\n",
    "conda install -c conda-forge pyvista\n",
    "\n",
    "pip install pyvista\n",
    "\n",
    "pip install ipyvtklink"
   ]
  },
  {
   "cell_type": "markdown",
   "id": "08ac2c05",
   "metadata": {},
   "source": [
    "## 3. Visualization ToolKit (VTK) format\n",
    "https://vtk.org/\n",
    "\n",
    "This format is an open-source data format, developed by Kitware, and widely used in computational fluid dynamics and computer graphics applications. There are two sub-formats, legacy and XML.\n",
    "\n",
    "## VTK file structure:\n",
    "\n",
    "1. File version and ID.\n",
    "\n",
    "2. Header, comments with informaton on the dataset.\n",
    "\n",
    "3. Data type, which can be Binary or ASCII.\n",
    "\n",
    "4. Domain structure, mesh/grid information:\n",
    "\n",
    "### DATASET\n",
    "\n",
    "STRUCTURED_GRID\n",
    "\n",
    "UNSTRUCTURED_GRID\n",
    "\n",
    "**RECTILINEAR_GRID**\n",
    "\n",
    "POLYDATA\n",
    "\n",
    "FIELD\n",
    "\n",
    "- Coordinates, Dimensions, Grid spacing.\n",
    "\n",
    "### Attributes\n",
    "Values stored at grid cells, e.g. scalars, vectors, tensors.\n",
    "\n",
    "\n",
    "Imagen tomada de: http://victorsndvg.github.io/FEconv/formats/vtk.xhtml"
   ]
  },
  {
   "cell_type": "code",
   "execution_count": 1,
   "id": "5dd659ed",
   "metadata": {},
   "outputs": [],
   "source": [
    "import pyvista as pv\n",
    "\n",
    "import numpy as np\n",
    "import matplotlib.pyplot as plt"
   ]
  },
  {
   "cell_type": "code",
   "execution_count": 3,
   "id": "3401c832",
   "metadata": {},
   "outputs": [],
   "source": [
    "mesh = pv.read(\"./TURB_DRIVE_SUP/data.0010.vtk\")"
   ]
  },
  {
   "cell_type": "code",
   "execution_count": 4,
   "id": "3fd76272",
   "metadata": {},
   "outputs": [
    {
     "name": "stdout",
     "output_type": "stream",
     "text": [
      "RectilinearGrid (0x11f801f30)\n",
      "  N Cells:\t2500\n",
      "  N Points:\t2601\n",
      "  X Bounds:\t-2.000e+00, 2.000e+00\n",
      "  Y Bounds:\t-2.000e+00, 2.000e+00\n",
      "  Z Bounds:\t0.000e+00, 0.000e+00\n",
      "  Dimensions:\t51, 51, 1\n",
      "  N Arrays:\t5\n",
      "\n"
     ]
    }
   ],
   "source": [
    "print(mesh)"
   ]
  },
  {
   "cell_type": "code",
   "execution_count": 5,
   "id": "49b4b847",
   "metadata": {},
   "outputs": [
    {
     "name": "stdout",
     "output_type": "stream",
     "text": [
      "(51, 51, 1)\n"
     ]
    }
   ],
   "source": [
    "print(mesh.dimensions)"
   ]
  },
  {
   "cell_type": "code",
   "execution_count": 7,
   "id": "cf7171fb",
   "metadata": {},
   "outputs": [
    {
     "name": "stdout",
     "output_type": "stream",
     "text": [
      "2500\n"
     ]
    }
   ],
   "source": [
    "print(mesh.n_cells)"
   ]
  },
  {
   "cell_type": "code",
   "execution_count": 8,
   "id": "36f1e486",
   "metadata": {},
   "outputs": [
    {
     "name": "stdout",
     "output_type": "stream",
     "text": [
      "2601\n"
     ]
    }
   ],
   "source": [
    "print(mesh.n_points)"
   ]
  },
  {
   "cell_type": "code",
   "execution_count": 9,
   "id": "482e54a1",
   "metadata": {},
   "outputs": [
    {
     "name": "stdout",
     "output_type": "stream",
     "text": [
      "5\n"
     ]
    }
   ],
   "source": [
    "print(mesh.n_arrays)"
   ]
  },
  {
   "cell_type": "code",
   "execution_count": 10,
   "id": "c8655e5b",
   "metadata": {},
   "outputs": [
    {
     "name": "stdout",
     "output_type": "stream",
     "text": [
      "(-2.0, 2.0, -2.0, 2.0, 0.0, 0.0)\n"
     ]
    }
   ],
   "source": [
    "print(mesh.bounds)"
   ]
  },
  {
   "cell_type": "code",
   "execution_count": 25,
   "id": "0e5ce00d",
   "metadata": {},
   "outputs": [
    {
     "name": "stdout",
     "output_type": "stream",
     "text": [
      "-2.0\n"
     ]
    }
   ],
   "source": [
    "print(mesh.bounds[0])"
   ]
  },
  {
   "cell_type": "code",
   "execution_count": 12,
   "id": "d09b7e59",
   "metadata": {},
   "outputs": [
    {
     "name": "stdout",
     "output_type": "stream",
     "text": [
      "[0.0, 0.0, 0.0]\n"
     ]
    }
   ],
   "source": [
    "print(mesh.center)"
   ]
  },
  {
   "cell_type": "code",
   "execution_count": 13,
   "id": "d4a878b3",
   "metadata": {},
   "outputs": [
    {
     "name": "stdout",
     "output_type": "stream",
     "text": [
      "pyvista DataSetAttributes\n",
      "Association     : CELL\n",
      "Active Scalars  : rho\n",
      "Active Vectors  : None\n",
      "Active Texture  : None\n",
      "Active Normals  : None\n",
      "Contains arrays :\n",
      "    rho                     float32  (2500,)              SCALARS\n",
      "    vx1                     float32  (2500,)\n",
      "    vx2                     float32  (2500,)\n",
      "    Bx1                     float32  (2500,)\n",
      "    Bx2                     float32  (2500,)\n"
     ]
    }
   ],
   "source": [
    "print(mesh.cell_data)"
   ]
  },
  {
   "cell_type": "code",
   "execution_count": 14,
   "id": "1a3e1f4f",
   "metadata": {},
   "outputs": [],
   "source": [
    "rho = pv.get_array(mesh, \"rho\", preference = 'cell')"
   ]
  },
  {
   "cell_type": "code",
   "execution_count": 15,
   "id": "035986f2",
   "metadata": {},
   "outputs": [
    {
     "name": "stdout",
     "output_type": "stream",
     "text": [
      "(2500,)\n"
     ]
    }
   ],
   "source": [
    "print(rho.shape)"
   ]
  },
  {
   "cell_type": "code",
   "execution_count": 16,
   "id": "f9ca349c",
   "metadata": {},
   "outputs": [
    {
     "name": "stdout",
     "output_type": "stream",
     "text": [
      "50\n"
     ]
    }
   ],
   "source": [
    "print(mesh.dimensions[0] - 1)"
   ]
  },
  {
   "cell_type": "code",
   "execution_count": 17,
   "id": "93ea344d",
   "metadata": {},
   "outputs": [],
   "source": [
    "rho_2D = rho.reshape(mesh.dimensions[0] - 1, mesh.dimensions[1] - 1)"
   ]
  },
  {
   "cell_type": "code",
   "execution_count": 18,
   "id": "f67e342a",
   "metadata": {},
   "outputs": [
    {
     "name": "stdout",
     "output_type": "stream",
     "text": [
      "(50, 50)\n"
     ]
    }
   ],
   "source": [
    "print(rho_2D.shape)"
   ]
  },
  {
   "cell_type": "markdown",
   "id": "6c32df1b",
   "metadata": {},
   "source": [
    "## 2D plotting"
   ]
  },
  {
   "cell_type": "code",
   "execution_count": 22,
   "id": "9c357b33",
   "metadata": {},
   "outputs": [
    {
     "data": {
      "text/plain": [
       "<matplotlib.image.AxesImage at 0x11fbd0b50>"
      ]
     },
     "execution_count": 22,
     "metadata": {},
     "output_type": "execute_result"
    },
    {
     "data": {
      "image/png": "[encoded data removed]",
      "text/plain": [
       "<Figure size 432x288 with 1 Axes>"
      ]
     },
     "metadata": {
      "needs_background": "light"
     },
     "output_type": "display_data"
    }
   ],
   "source": [
    "%matplotlib inline\n",
    "\n",
    "plt.imshow(rho_2D)"
   ]
  },
  {
   "cell_type": "markdown",
   "id": "201ac3c7",
   "metadata": {},
   "source": [
    "## Grid"
   ]
  },
  {
   "cell_type": "code",
   "execution_count": 31,
   "id": "6e650261",
   "metadata": {},
   "outputs": [
    {
     "name": "stdout",
     "output_type": "stream",
     "text": [
      "[-2.         -1.91836735 -1.83673469 -1.75510204 -1.67346939 -1.59183673\n",
      " -1.51020408 -1.42857143 -1.34693878 -1.26530612 -1.18367347 -1.10204082\n",
      " -1.02040816 -0.93877551 -0.85714286 -0.7755102  -0.69387755 -0.6122449\n",
      " -0.53061224 -0.44897959 -0.36734694 -0.28571429 -0.20408163 -0.12244898\n",
      " -0.04081633  0.04081633  0.12244898  0.20408163  0.28571429  0.36734694\n",
      "  0.44897959  0.53061224  0.6122449   0.69387755  0.7755102   0.85714286\n",
      "  0.93877551  1.02040816  1.10204082  1.18367347  1.26530612  1.34693878\n",
      "  1.42857143  1.51020408  1.59183673  1.67346939  1.75510204  1.83673469\n",
      "  1.91836735  2.        ]\n"
     ]
    }
   ],
   "source": [
    "x = np.linspace(mesh.bounds[0], mesh.bounds[1], mesh.dimensions[0] - 1)\n",
    "y = np.linspace(mesh.bounds[2], mesh.bounds[3], mesh.dimensions[1] - 1)\n",
    "\n",
    "print(y)"
   ]
  },
  {
   "cell_type": "code",
   "execution_count": 32,
   "id": "d92ce5e5",
   "metadata": {},
   "outputs": [],
   "source": [
    "X, Y = np.meshgrid(x, y)"
   ]
  },
  {
   "cell_type": "code",
   "execution_count": 33,
   "id": "951c8a64",
   "metadata": {},
   "outputs": [
    {
     "name": "stdout",
     "output_type": "stream",
     "text": [
      "(50, 50)\n"
     ]
    }
   ],
   "source": [
    "print(X.shape)"
   ]
  },
  {
   "cell_type": "code",
   "execution_count": 40,
   "id": "f0eadbac",
   "metadata": {},
   "outputs": [
    {
     "data": {
      "image/png": "[encoded data removed]",
      "text/plain": [
       "<Figure size 864x720 with 2 Axes>"
      ]
     },
     "metadata": {
      "needs_background": "light"
     },
     "output_type": "display_data"
    }
   ],
   "source": [
    "plt.figure(figsize = (12,10))\n",
    "\n",
    "Z = plt.contourf(X, Y, rho_2D, 5)\n",
    "\n",
    "plt.colorbar(Z)\n",
    "\n",
    "plt.show()"
   ]
  },
  {
   "cell_type": "code",
   "execution_count": null,
   "id": "7e8a22dd",
   "metadata": {},
   "outputs": [],
   "source": []
  }
 ],
 "metadata": {
  "kernelspec": {
   "display_name": "Python 3",
   "language": "python",
   "name": "python3"
  },
  "language_info": {
   "codemirror_mode": {
    "name": "ipython",
    "version": 3
   },
   "file_extension": ".py",
   "mimetype": "text/x-python",
   "name": "python",
   "nbconvert_exporter": "python",
   "pygments_lexer": "ipython3",
   "version": "3.7.10"
  }
 },
 "nbformat": 4,
 "nbformat_minor": 5
}
