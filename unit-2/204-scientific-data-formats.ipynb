{
 "cells": [
  {
   "cell_type": "markdown",
   "id": "aa268f46",
   "metadata": {
    "id": "aa268f46"
   },
   "source": [
    "# Scientific data formats:"
   ]
  },
  {
   "cell_type": "markdown",
   "id": "b50caa6e",
   "metadata": {
    "id": "b50caa6e"
   },
   "source": [
    "In this tutorial, we will learn to open datasets that are stored in different scientific data formats:\n",
    "\n",
    "- Binary format\n",
    "- NetCDF\n",
    "- HDF5\n",
    "- VTK\n",
    "- FITS\n",
    "\n",
    "Please download the files from here:\n",
    "\n",
    "https://drive.google.com/file/d/1q1VQUgiXCOcUcT0EnVp0nMbt-gQqRQVM/view?usp=drive_link\n"
   ]
  },
  {
   "cell_type": "markdown",
   "id": "53a24906",
   "metadata": {
    "id": "53a24906"
   },
   "source": [
    "# 1. Binary data format"
   ]
  },
  {
   "cell_type": "markdown",
   "id": "db669e96",
   "metadata": {
    "id": "db669e96"
   },
   "source": [
    "Binary data refers to raw data.\n",
    "\n",
    "- It can be written in single precission (4 bytes = 32 bits) or double (8 bytes = 64 bits) precission.\n",
    "\n",
    "- This means no headers, no metadata, and no information on the structure of the files are included in the data.\n",
    "\n",
    "- Then, we need to know what sort of structure the data are stored in beforehand, otherwise we can only guess.\n",
    "\n",
    "- Sometimes guessing is possible because we can calculate the shape of the arrays based on the size of the file.\n",
    "\n",
    "- In this case I generated the file beta_temp.dbl, so I know it has a 2D array of 160 x 160 grid cells in double precission.\n"
   ]
  },
  {
   "cell_type": "markdown",
   "id": "600f4087",
   "metadata": {
    "id": "600f4087"
   },
   "source": [
    "# 2. NetCDF"
   ]
  },
  {
   "cell_type": "markdown",
   "id": "4543277d",
   "metadata": {
    "id": "4543277d"
   },
   "source": [
    "This is the favourite format of Earth scientists, particularly climate/weather researchers.\n",
    "\n",
    "- This is a self-describing data format. This means it does not need a descriptor file to be read, but all the necessary metadata to understand the file structure and content is embedded in the format.\n",
    "\n",
    "\n",
    "- It contains three sections:\n",
    "\n",
    "\n",
    "    - DIMENSIONS, which indicates how the data are organised in the file.\n",
    "\n",
    "    - VARIABLES, which contains information on both the data values and metadata, including some attributes such as units, each variable can have different shapes (e.g. 3D or 2D).\n",
    "\n",
    "    - GENERAL INFORMATION, which displays the main file properties, such as version of the library, date, and copyright information.\n"
   ]
  },
  {
   "cell_type": "markdown",
   "id": "c81ea7f7",
   "metadata": {
    "id": "c81ea7f7"
   },
   "source": [
    "Let us see the metadata of this file:"
   ]
  },
  {
   "cell_type": "markdown",
   "id": "2cd152a8",
   "metadata": {
    "id": "2cd152a8"
   },
   "source": [
    "# 3. Hierarchical Data Format v5 (HDF5)"
   ]
  },
  {
   "cell_type": "markdown",
   "id": "aa56d879",
   "metadata": {
    "id": "aa56d879"
   },
   "source": [
    "This is also a self-descriptive format, which is widely used in many physics sub-fields because of its versatility.\n",
    "\n",
    "- Data stored here can be very large!\n",
    "\n",
    "\n",
    "- Data don't have to be of the same type, you can save numbers, units, strings, images, etc, all in the same file.\n",
    "\n",
    "\n",
    "- It uses the structure of a file directory, organising information in GROUPS.\n",
    "\n",
    "\n",
    "- GROUPS are then comprised of data fields with their own metadata."
   ]
  },
  {
   "cell_type": "markdown",
   "id": "513a74ea",
   "metadata": {
    "id": "513a74ea"
   },
   "source": [
    "## 4. Visualization ToolKit (VTK) format\n",
    "\n",
    "https://vtk.org/\n",
    "\n",
    "This format is an open-source data format, developed by Kitware, and widely used in computational fluid dynamics and computer graphics applications. There are two sub-formats, legacy and XML.\n",
    "\n",
    "### VTK file structure:\n",
    "\n",
    "1. File version and ID.\n",
    "\n",
    "2. Header, comments with informaton on the dataset.\n",
    "\n",
    "3. Data type, which can be Binary or ASCII.\n",
    "\n",
    "4. Domain structure, mesh/grid information:\n",
    "\n",
    "- DATASET\n",
    "    - STRUCTURED_GRID\n",
    "    - UNSTRUCTURED_GRID\n",
    "    - RECTILINEAR_GRID\n",
    "    - POLYDATA\n",
    "    - FIELD\n",
    "    \n",
    "- Coordinates, Dimensions, Grid spacing.\n",
    "\n",
    "5. Attributes\n",
    "\n",
    "- Values stored at grid cells, e.g. scalars, vectors, tensors."
   ]
  },
  {
   "cell_type": "markdown",
   "id": "b96ea5d4",
   "metadata": {
    "id": "b96ea5d4"
   },
   "source": [
    "Imagen tomada de: http://victorsndvg.github.io/FEconv/formats/vtk.xhtml\n",
    "\n",
    "#![](https://drive.google.com/uc?id=1SZR76Q19ixrM5olFiYhw-w17oaAccqQ3)"
   ]
  },
  {
   "cell_type": "markdown",
   "id": "a4d3236b",
   "metadata": {
    "id": "a4d3236b"
   },
   "source": [
    "We define the input directory and file name:"
   ]
  },
  {
   "cell_type": "markdown",
   "id": "bccab6f9",
   "metadata": {
    "id": "bccab6f9"
   },
   "source": [
    "As we can see the data consists of a 3D grid of 100x100x100 cells/pixels, i.e. 1.e6 grid cells/pixels in total.\n",
    "\n",
    "The data are organised in 6 arrays:\n",
    "\n",
    "    Number Of Arrays: 6\n",
    "    Array 0 name = rho\n",
    "    Array 1 name = vx1\n",
    "    Array 2 name = vx2\n",
    "    Array 3 name = vx3\n",
    "    Array 4 name = prs\n",
    "    Array 5 name = tr1\n",
    "    \n",
    "  Bounds: \n",
    "    Xmin,Xmax: (-5, 15)\n",
    "    Ymin,Ymax: (-10, 10)\n",
    "    Zmin,Zmax: (-10, 10)\n",
    "  Compute Time: 0\n",
    "  Dimensions: (101, 101, 101)\n",
    "  X Coordinates: 0x7fbefd475a70\n",
    "  Y Coordinates: 0x7fbefd476cf0\n",
    "  Z Coordinates: 0x7fbefd476fc0\n",
    "  Extent: 0, 100, 0, 100, 0, 100    \n",
    "    \n",
    "Which we can now read with:"
   ]
  },
  {
   "cell_type": "markdown",
   "id": "8a28dcbb",
   "metadata": {
    "id": "8a28dcbb"
   },
   "source": [
    "# 3D Array manipulation"
   ]
  },
  {
   "cell_type": "markdown",
   "id": "a13cd77b",
   "metadata": {
    "id": "a13cd77b"
   },
   "source": [
    "# 5. Flexible Image Transport System (FITS) format"
   ]
  },
  {
   "cell_type": "markdown",
   "id": "81022169",
   "metadata": {
    "id": "81022169"
   },
   "source": [
    "This is the preferred data format used in observational astronomy.\n",
    "\n",
    "- It is mainly used as a standard format to share astronomical images (see Helga's talk).\n",
    "\n",
    "\n",
    "- But it can also contain tables or cubes, e.g. position-position-velocity diagrams.\n",
    "\n",
    "\n",
    "- It has a header with metadata related to the image.\n",
    "\n",
    "\n",
    "- It is much simpler than the previous formats we checked above, but very practical."
   ]
  }
 ],
 "metadata": {
  "colab": {
   "include_colab_link": true,
   "provenance": []
  },
  "kernelspec": {
   "display_name": "Python 3 (ipykernel)",
   "language": "python",
   "name": "python3"
  },
  "language_info": {
   "codemirror_mode": {
    "name": "ipython",
    "version": 3
   },
   "file_extension": ".py",
   "mimetype": "text/x-python",
   "name": "python",
   "nbconvert_exporter": "python",
   "pygments_lexer": "ipython3",
   "version": "3.7.16"
  }
 },
 "nbformat": 4,
 "nbformat_minor": 5
}
