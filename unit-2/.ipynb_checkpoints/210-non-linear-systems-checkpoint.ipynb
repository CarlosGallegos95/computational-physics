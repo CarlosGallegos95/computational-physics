{
 "cells": [
  {
   "cell_type": "markdown",
   "id": "8adfe8be",
   "metadata": {},
   "source": [
    "# Solving non-linear systems of equations\n",
    "\n",
    "## Example:\n",
    "\n",
    "\n",
    "$y = 2\\,x + 3$\n",
    "\n",
    "$y = x^2 +1$\n"
   ]
  },
  {
   "cell_type": "markdown",
   "id": "aa032836",
   "metadata": {},
   "source": [
    "## 1. Graphical solution of non-linear systems"
   ]
  },
  {
   "cell_type": "code",
   "execution_count": null,
   "id": "def03768",
   "metadata": {},
   "outputs": [],
   "source": []
  },
  {
   "cell_type": "markdown",
   "id": "328bbd2a",
   "metadata": {},
   "source": [
    "## 2. Solving non-linear systems using fsolve()\n",
    "\n",
    "https://docs.scipy.org/doc/scipy/reference/generated/scipy.optimize.fsolve.html"
   ]
  },
  {
   "cell_type": "code",
   "execution_count": null,
   "id": "eb9cd697",
   "metadata": {},
   "outputs": [],
   "source": []
  },
  {
   "cell_type": "markdown",
   "id": "f650752a",
   "metadata": {},
   "source": [
    "## 3. Solving non-linear systems using root()\n",
    "\n",
    "https://docs.scipy.org/doc/scipy/reference/generated/scipy.optimize.root.html"
   ]
  },
  {
   "cell_type": "code",
   "execution_count": null,
   "id": "b375d74a",
   "metadata": {},
   "outputs": [],
   "source": []
  },
  {
   "cell_type": "markdown",
   "id": "3ec24ffd",
   "metadata": {},
   "source": [
    "## 4. Using symbolic algebra (sympy)"
   ]
  },
  {
   "cell_type": "code",
   "execution_count": null,
   "id": "20b6344f",
   "metadata": {},
   "outputs": [],
   "source": []
  }
 ],
 "metadata": {
  "kernelspec": {
   "display_name": "Python 3 (ipykernel)",
   "language": "python",
   "name": "python3"
  },
  "language_info": {
   "codemirror_mode": {
    "name": "ipython",
    "version": 3
   },
   "file_extension": ".py",
   "mimetype": "text/x-python",
   "name": "python",
   "nbconvert_exporter": "python",
   "pygments_lexer": "ipython3",
   "version": "3.7.16"
  }
 },
 "nbformat": 4,
 "nbformat_minor": 5
}
