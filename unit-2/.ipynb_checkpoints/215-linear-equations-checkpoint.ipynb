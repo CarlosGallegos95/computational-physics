{
 "cells": [
  {
   "cell_type": "markdown",
   "id": "6938a7bc",
   "metadata": {},
   "source": [
    "# Linear equation systems\n",
    "\n",
    "$ax + by = c$ \n",
    "\n",
    "$dx + ey = f$"
   ]
  },
  {
   "cell_type": "code",
   "execution_count": 1,
   "id": "503286ad",
   "metadata": {},
   "outputs": [],
   "source": [
    "import matplotlib.pyplot as plt\n",
    "\n",
    "import numpy as np"
   ]
  },
  {
   "cell_type": "markdown",
   "id": "b050da73",
   "metadata": {},
   "source": [
    "## Example:\n",
    "\n",
    "Solve:\n",
    "\n",
    "$2x -3y = 1$ \n",
    "\n",
    "$4x + 5y = -2$"
   ]
  },
  {
   "cell_type": "markdown",
   "id": "13c4a474",
   "metadata": {},
   "source": [
    "### 1. Graphic solution:"
   ]
  },
  {
   "cell_type": "code",
   "execution_count": 2,
   "id": "a4c62b29",
   "metadata": {},
   "outputs": [],
   "source": [
    "x = np.arange(-5, 5, 0.01)"
   ]
  },
  {
   "cell_type": "code",
   "execution_count": 3,
   "id": "fa326618",
   "metadata": {},
   "outputs": [],
   "source": [
    "y1 = (2*x - 1)/3\n",
    "\n",
    "y2 = (-2 - 4*x)/5"
   ]
  },
  {
   "cell_type": "code",
   "execution_count": 4,
   "id": "3f30fa3c",
   "metadata": {},
   "outputs": [],
   "source": [
    "Asign = np.sign(y2 -y1)"
   ]
  },
  {
   "cell_type": "code",
   "execution_count": 6,
   "id": "22df678b",
   "metadata": {},
   "outputs": [],
   "source": [
    "#print(Asign)"
   ]
  },
  {
   "cell_type": "code",
   "execution_count": 7,
   "id": "9a7996c0",
   "metadata": {},
   "outputs": [],
   "source": [
    "Adiff = np.diff(Asign)"
   ]
  },
  {
   "cell_type": "code",
   "execution_count": 9,
   "id": "e2801c36",
   "metadata": {},
   "outputs": [],
   "source": [
    "#print(Adiff)"
   ]
  },
  {
   "cell_type": "code",
   "execution_count": 10,
   "id": "101389aa",
   "metadata": {},
   "outputs": [],
   "source": [
    "A_arg = np.argwhere(Adiff).flatten()"
   ]
  },
  {
   "cell_type": "code",
   "execution_count": 11,
   "id": "24d2da9c",
   "metadata": {},
   "outputs": [
    {
     "name": "stdout",
     "output_type": "stream",
     "text": [
      "[495]\n"
     ]
    }
   ],
   "source": [
    "print(A_arg)"
   ]
  },
  {
   "cell_type": "code",
   "execution_count": 13,
   "id": "4869f9b5",
   "metadata": {},
   "outputs": [
    {
     "name": "stdout",
     "output_type": "stream",
     "text": [
      "-0.050000000000105516 -0.36666666666673703\n"
     ]
    }
   ],
   "source": [
    "print(float(x[A_arg]), float(y1[A_arg]))"
   ]
  },
  {
   "cell_type": "code",
   "execution_count": 14,
   "id": "64ba194b",
   "metadata": {},
   "outputs": [],
   "source": [
    "idx = np.argwhere(np.diff(np.sign(y2 - y1))).flatten()"
   ]
  },
  {
   "cell_type": "code",
   "execution_count": 15,
   "id": "c707e22c",
   "metadata": {},
   "outputs": [
    {
     "name": "stdout",
     "output_type": "stream",
     "text": [
      "-0.050000000000105516 -0.36666666666673703\n"
     ]
    }
   ],
   "source": [
    "print(float(x[idx]), float(y1[idx]))"
   ]
  },
  {
   "cell_type": "code",
   "execution_count": 17,
   "id": "117a2892",
   "metadata": {},
   "outputs": [
    {
     "data": {
      "image/png": "[encoded data removed]",
      "text/plain": [
       "<Figure size 600x400 with 1 Axes>"
      ]
     },
     "metadata": {},
     "output_type": "display_data"
    }
   ],
   "source": [
    "fig, ax = plt.subplots(figsize=(6,4))\n",
    "ax.plot(x, y1)\n",
    "ax.plot(x, y2)\n",
    "ax.plot(x[idx], y1[idx], 'd', c = 'red')\n",
    "plt.show()"
   ]
  },
  {
   "cell_type": "code",
   "execution_count": null,
   "id": "3c5cb93e",
   "metadata": {},
   "outputs": [],
   "source": []
  }
 ],
 "metadata": {
  "kernelspec": {
   "display_name": "Python 3",
   "language": "python",
   "name": "python3"
  },
  "language_info": {
   "codemirror_mode": {
    "name": "ipython",
    "version": 3
   },
   "file_extension": ".py",
   "mimetype": "text/x-python",
   "name": "python",
   "nbconvert_exporter": "python",
   "pygments_lexer": "ipython3",
   "version": "3.7.10"
  }
 },
 "nbformat": 4,
 "nbformat_minor": 5
}
