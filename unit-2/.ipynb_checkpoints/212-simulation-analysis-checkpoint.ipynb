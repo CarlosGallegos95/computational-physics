{
 "cells": [
  {
   "cell_type": "markdown",
   "id": "3ebb0821",
   "metadata": {},
   "source": [
    "# In-class exercise: turbulence simulations analysis\n",
    "\n",
    "\n",
    "1. Choose file # 10 and normalise quantities to CGS units.\n",
    "\n",
    "\n",
    "2. Make a plot of density with superimposed velocity vectors.\n",
    "\n",
    "\n",
    "3. Make a plot of thermal pressure with superimposed magnetic field vectors.\n",
    "\n",
    "\n",
    "Remember that the thermal pressure for isothermal gas is:\n",
    "\n",
    "$p = \\rho\\,c_{\\rm iso}^2$, where $c_{\\rm iso}$ is the isothermal sound speed (see **units.out**).\n",
    "\n",
    "To normalise the magnetic field, we can use the following normalisation factor:\n",
    "\n",
    "$B_0 = v_0\\,\\sqrt{4\\,\\pi\\,\\rho_0}$\n",
    "\n",
    "\n",
    "4. The times can be retrieved from the second column of the **vtk.out** file in code units. To normalise it to CGS units, we can first calculate the normalisation factor for time:\n",
    "\n",
    "$t_0 = \\frac{L_0}{v_0}$\n",
    "\n",
    "\n",
    "5. Make a histogram of the density field and fit an appropriate function using regression methods.\n",
    "\n",
    "\n",
    "6. Create a function that calculates the following quantities and prints them in a pandas row with time in the first column and headers:\n",
    "\n",
    "\n",
    " - density average \n",
    " \n",
    " - density standard deviation\n",
    " \n",
    " - thermal pressure average\n",
    " \n",
    " - thermal pressure standard deviation"
   ]
  },
  {
   "cell_type": "markdown",
   "id": "de44b7d2",
   "metadata": {},
   "source": [
    "### Import libraries:"
   ]
  },
  {
   "cell_type": "code",
   "execution_count": 5,
   "id": "d2d5de14",
   "metadata": {},
   "outputs": [],
   "source": [
    "import numpy as np\n",
    "import matplotlib.pyplot as plt\n",
    "import pyvista as pv"
   ]
  },
  {
   "cell_type": "code",
   "execution_count": 6,
   "id": "fc757563",
   "metadata": {},
   "outputs": [],
   "source": [
    "import pandas as pd\n",
    "from scipy.optimize import curve_fit"
   ]
  },
  {
   "cell_type": "markdown",
   "id": "5fa7c13c",
   "metadata": {},
   "source": [
    "### Read mesh:"
   ]
  },
  {
   "cell_type": "code",
   "execution_count": 7,
   "id": "a5b76b42",
   "metadata": {},
   "outputs": [],
   "source": [
    "mesh = pv.read(\"./TURB_DRIVE_SUP/data.0010.vtk\")"
   ]
  },
  {
   "cell_type": "code",
   "execution_count": 8,
   "id": "a1da3d10",
   "metadata": {},
   "outputs": [
    {
     "name": "stdout",
     "output_type": "stream",
     "text": [
      "RectilinearGrid (0x11f842d00)\n",
      "  N Cells:\t2500\n",
      "  N Points:\t2601\n",
      "  X Bounds:\t-2.000e+00, 2.000e+00\n",
      "  Y Bounds:\t-2.000e+00, 2.000e+00\n",
      "  Z Bounds:\t0.000e+00, 0.000e+00\n",
      "  Dimensions:\t51, 51, 1\n",
      "  N Arrays:\t5\n",
      "\n"
     ]
    }
   ],
   "source": [
    "print(mesh)"
   ]
  },
  {
   "cell_type": "markdown",
   "id": "0c5eb3a6",
   "metadata": {},
   "source": [
    "### Get data arrays in code units:"
   ]
  },
  {
   "cell_type": "code",
   "execution_count": 11,
   "id": "2765259a",
   "metadata": {},
   "outputs": [],
   "source": [
    "rho = pv.get_array(mesh, \"rho\", preference = 'cell')\n",
    "vx1 = pv.get_array(mesh, \"vx1\", preference = 'cell')\n",
    "vx2 = pv.get_array(mesh, \"vx2\", preference = 'cell')\n",
    "Bx1 = pv.get_array(mesh, \"Bx1\", preference = 'cell')\n",
    "Bx2 = pv.get_array(mesh, \"Bx2\", preference = 'cell')"
   ]
  },
  {
   "cell_type": "code",
   "execution_count": 12,
   "id": "a9920584",
   "metadata": {},
   "outputs": [
    {
     "name": "stdout",
     "output_type": "stream",
     "text": [
      "(2500,)\n"
     ]
    }
   ],
   "source": [
    "print(rho.shape)"
   ]
  },
  {
   "cell_type": "markdown",
   "id": "9ea78a0e",
   "metadata": {},
   "source": [
    "### Normalisation:\n",
    "\n",
    "Remember that we need to read the **units.out** file and multiply the arrays above by the normalisation constants:"
   ]
  },
  {
   "cell_type": "code",
   "execution_count": 13,
   "id": "6ee43cc8",
   "metadata": {},
   "outputs": [],
   "source": [
    "data = pd.read_csv(\"./TURB_DRIVE_SUP/units.out\")"
   ]
  },
  {
   "cell_type": "code",
   "execution_count": 14,
   "id": "8db0b564",
   "metadata": {},
   "outputs": [
    {
     "name": "stdout",
     "output_type": "stream",
     "text": [
      "  variable  normalisation   units\n",
      "0    rho_0   1.660000e-24  g/cm^3\n",
      "1      v_0   1.000000e+06    cm/s\n",
      "2      L_0   3.086000e+18      cm\n",
      "3    c_iso   1.000000e+06    cm/s\n"
     ]
    }
   ],
   "source": [
    "print(data)"
   ]
  },
  {
   "cell_type": "code",
   "execution_count": 15,
   "id": "e48dfea0",
   "metadata": {},
   "outputs": [],
   "source": [
    "rho_0   = np.array(data.loc[data[\"variable\"] == \"rho_0\"][\"normalisation\"])\n",
    "vel_0   = np.array(data.loc[data[\"variable\"] == \"v_0\"][\"normalisation\"])\n",
    "len_0   = np.array(data.loc[data[\"variable\"] == \"L_0\"][\"normalisation\"])\n",
    "c_iso   = np.array(data.loc[data[\"variable\"] == \"c_iso\"][\"normalisation\"])"
   ]
  },
  {
   "cell_type": "markdown",
   "id": "f83c3fa7",
   "metadata": {},
   "source": [
    "### New normalisations:"
   ]
  },
  {
   "cell_type": "code",
   "execution_count": 17,
   "id": "2dfd4bb5",
   "metadata": {},
   "outputs": [
    {
     "name": "stdout",
     "output_type": "stream",
     "text": [
      "[3.086e+12]\n"
     ]
    }
   ],
   "source": [
    "tim_0 = (len_0/vel_0)\n",
    "\n",
    "print(tim_0) # in seconds"
   ]
  },
  {
   "cell_type": "markdown",
   "id": "e52fd5dc",
   "metadata": {},
   "source": [
    "Magnetic field:\n",
    "$B_0 = v_0\\,\\sqrt{4\\,\\pi\\,\\rho_0}$"
   ]
  },
  {
   "cell_type": "code",
   "execution_count": 20,
   "id": "5416695d",
   "metadata": {},
   "outputs": [
    {
     "name": "stdout",
     "output_type": "stream",
     "text": [
      "[4.56729408e-06]\n"
     ]
    }
   ],
   "source": [
    "bfi_0 = vel_0*np.sqrt(4*np.pi*rho_0)\n",
    "\n",
    "print(bfi_0) # in Gauss"
   ]
  },
  {
   "cell_type": "markdown",
   "id": "c8e60017",
   "metadata": {},
   "source": [
    "### Normalise:"
   ]
  },
  {
   "cell_type": "code",
   "execution_count": 21,
   "id": "503c1981",
   "metadata": {},
   "outputs": [],
   "source": [
    "rho_cgs = rho*rho_0\n",
    "\n",
    "vx1_cgs = vx1*vel_0\n",
    "vx2_cgs = vx2*vel_0\n",
    "\n",
    "Bx1_cgs = Bx1*bfi_0\n",
    "Bx2_cgs = Bx2*bfi_0"
   ]
  },
  {
   "cell_type": "code",
   "execution_count": 24,
   "id": "33b26e0b",
   "metadata": {},
   "outputs": [
    {
     "name": "stdout",
     "output_type": "stream",
     "text": [
      "(2500,)\n"
     ]
    }
   ],
   "source": [
    "print(Bx1_cgs.shape)"
   ]
  },
  {
   "cell_type": "markdown",
   "id": "372bebb1",
   "metadata": {},
   "source": [
    "### Convert to 2D:"
   ]
  },
  {
   "cell_type": "code",
   "execution_count": 25,
   "id": "2721183c",
   "metadata": {},
   "outputs": [],
   "source": [
    "rho_cgs2D = rho_cgs.reshape(mesh.dimensions[0] - 1, mesh.dimensions[1] - 1)\n",
    "\n",
    "vx1_cgs2D = vx1_cgs.reshape(mesh.dimensions[0] - 1, mesh.dimensions[1] - 1)\n",
    "vx2_cgs2D = vx2_cgs.reshape(mesh.dimensions[0] - 1, mesh.dimensions[1] - 1)\n",
    "\n",
    "Bx1_cgs2D = Bx1_cgs.reshape(mesh.dimensions[0] - 1, mesh.dimensions[1] - 1)\n",
    "Bx2_cgs2D = Bx2_cgs.reshape(mesh.dimensions[0] - 1, mesh.dimensions[1] - 1)"
   ]
  },
  {
   "cell_type": "code",
   "execution_count": 26,
   "id": "004b4f98",
   "metadata": {},
   "outputs": [
    {
     "name": "stdout",
     "output_type": "stream",
     "text": [
      "(50, 50)\n"
     ]
    }
   ],
   "source": [
    "print(rho_cgs2D.shape)"
   ]
  },
  {
   "cell_type": "markdown",
   "id": "1b153456",
   "metadata": {},
   "source": [
    "### Read time data:"
   ]
  },
  {
   "cell_type": "code",
   "execution_count": 41,
   "id": "d3fec537",
   "metadata": {},
   "outputs": [],
   "source": [
    "time_data = pd.read_csv(\"./TURB_DRIVE_SUP/vtk.out\", sep ='\\s+', header = None)"
   ]
  },
  {
   "cell_type": "code",
   "execution_count": 42,
   "id": "84d9c4e7",
   "metadata": {},
   "outputs": [
    {
     "name": "stdout",
     "output_type": "stream",
     "text": [
      "      0         1         2    3            4       5    6    7    8    9   \\\n",
      "0      0  0.000000  0.000100    0  single_file  little  rho  vx1  vx2  Bx1   \n",
      "1      1  0.018194  0.001919   31  single_file  little  rho  vx1  vx2  Bx1   \n",
      "2      2  0.036404  0.003740   38  single_file  little  rho  vx1  vx2  Bx1   \n",
      "3      3  0.059240  0.006024   43  single_file  little  rho  vx1  vx2  Bx1   \n",
      "4      4  0.079180  0.008018   46  single_file  little  rho  vx1  vx2  Bx1   \n",
      "..   ...       ...       ...  ...          ...     ...  ...  ...  ...  ...   \n",
      "96    96  1.918657  0.001664  809  single_file  little  rho  vx1  vx2  Bx1   \n",
      "97    97  1.938610  0.001678  821  single_file  little  rho  vx1  vx2  Bx1   \n",
      "98    98  1.958715  0.001762  833  single_file  little  rho  vx1  vx2  Bx1   \n",
      "99    99  1.979934  0.001973  844  single_file  little  rho  vx1  vx2  Bx1   \n",
      "100  100  2.000000  0.000444  855  single_file  little  rho  vx1  vx2  Bx1   \n",
      "\n",
      "      10  \n",
      "0    Bx2  \n",
      "1    Bx2  \n",
      "2    Bx2  \n",
      "3    Bx2  \n",
      "4    Bx2  \n",
      "..   ...  \n",
      "96   Bx2  \n",
      "97   Bx2  \n",
      "98   Bx2  \n",
      "99   Bx2  \n",
      "100  Bx2  \n",
      "\n",
      "[101 rows x 11 columns]\n"
     ]
    }
   ],
   "source": [
    "print(time_data)"
   ]
  },
  {
   "cell_type": "markdown",
   "id": "0a782690",
   "metadata": {},
   "source": [
    "### Get second column:"
   ]
  },
  {
   "cell_type": "code",
   "execution_count": 43,
   "id": "20395a39",
   "metadata": {},
   "outputs": [],
   "source": [
    "time_code = time_data.iloc[:,1]"
   ]
  },
  {
   "cell_type": "code",
   "execution_count": 44,
   "id": "dc37e736",
   "metadata": {},
   "outputs": [
    {
     "name": "stdout",
     "output_type": "stream",
     "text": [
      "0      0.000000\n",
      "1      0.018194\n",
      "2      0.036404\n",
      "3      0.059240\n",
      "4      0.079180\n",
      "         ...   \n",
      "96     1.918657\n",
      "97     1.938610\n",
      "98     1.958715\n",
      "99     1.979934\n",
      "100    2.000000\n",
      "Name: 1, Length: 101, dtype: float64\n"
     ]
    }
   ],
   "source": [
    "print(time_code)"
   ]
  },
  {
   "cell_type": "code",
   "execution_count": 45,
   "id": "e9aa7b09",
   "metadata": {},
   "outputs": [],
   "source": [
    "time_cgs = time_code*tim_0"
   ]
  },
  {
   "cell_type": "code",
   "execution_count": 46,
   "id": "c9c6fdb0",
   "metadata": {},
   "outputs": [
    {
     "name": "stdout",
     "output_type": "stream",
     "text": [
      "0      0.000000e+00\n",
      "1      5.614773e+10\n",
      "2      1.123438e+11\n",
      "3      1.828149e+11\n",
      "4      2.443480e+11\n",
      "           ...     \n",
      "96     5.920976e+12\n",
      "97     5.982550e+12\n",
      "98     6.044594e+12\n",
      "99     6.110076e+12\n",
      "100    6.172000e+12\n",
      "Name: 1, Length: 101, dtype: float64\n"
     ]
    }
   ],
   "source": [
    "print(time_cgs)"
   ]
  },
  {
   "cell_type": "code",
   "execution_count": null,
   "id": "92c4e6d4",
   "metadata": {},
   "outputs": [],
   "source": []
  }
 ],
 "metadata": {
  "kernelspec": {
   "display_name": "Python 3",
   "language": "python",
   "name": "python3"
  },
  "language_info": {
   "codemirror_mode": {
    "name": "ipython",
    "version": 3
   },
   "file_extension": ".py",
   "mimetype": "text/x-python",
   "name": "python",
   "nbconvert_exporter": "python",
   "pygments_lexer": "ipython3",
   "version": "3.7.10"
  }
 },
 "nbformat": 4,
 "nbformat_minor": 5
}
