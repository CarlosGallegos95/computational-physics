{
 "cells": [
  {
   "cell_type": "markdown",
   "id": "226db35e",
   "metadata": {},
   "source": [
    "# Scientific visualisation: \n",
    "\n",
    "This notebook shows some ways to carry out scientific visualisation:\n",
    "\n",
    "### 1. The pyvista library:\n",
    "\n",
    "Documentation: https://docs.pyvista.org/\n",
    "\n",
    "Installation:\n",
    "conda install -c conda-forge pyvista\n",
    "\n",
    "pip install pyvista\n",
    "\n",
    "pip install ipyvtklink\n",
    "\n",
    "\n",
    "### 2. Visualisation tools with a graphical interface (GUI):\n",
    "\n",
    "VisIt (physics): https://visit-dav.github.io/visit-website/releases-as-tables/\n",
    "\n",
    "Paraview (ingeneering): https://www.paraview.org/download/\n",
    "\n",
    "Note: 2D and 3D visualisation, but they provide limited capability for data analysis."
   ]
  },
  {
   "cell_type": "markdown",
   "id": "8ba26a57",
   "metadata": {},
   "source": [
    "### 3. The IPython + matplotlib libraries:"
   ]
  },
  {
   "cell_type": "markdown",
   "id": "510185a1",
   "metadata": {},
   "source": [
    "### 4. IPython + Celluloid\n",
    "\n",
    "pip install celluloid"
   ]
  },
  {
   "cell_type": "markdown",
   "id": "75c6c872",
   "metadata": {},
   "source": [
    "### 5. Pillow + Glob libraries (GIF animations)\n",
    "\n",
    "There are several ways to create animations in Python. One was consists of using pillow:\n",
    "\n",
    "- **Pillow (PIL), see: https://pillow.readthedocs.io/en/stable/**\n",
    "\n",
    "\n",
    "**conda install -c anaconda pillow**\n",
    "\n",
    "The Python Imaging Library (PIL) adds image processing capabilities to your Python interpreter.\n",
    "\n",
    "This library provides extensive file format support, an efficient internal representation, and fairly powerful image processing capabilities.\n",
    "\n",
    "The core image library is designed for fast access to data stored in a few basic pixel formats. It should provide a solid foundation for a general image processing tool.\n",
    "\n",
    "\n",
    "- **Glob, see https://docs.python.org/3/library/glob.html**\n",
    "\n",
    "The glob module finds all the pathnames matching a specified pattern according to the rules used by the Unix shell."
   ]
  }
 ],
 "metadata": {
  "kernelspec": {
   "display_name": "Python 3 (ipykernel)",
   "language": "python",
   "name": "python3"
  },
  "language_info": {
   "codemirror_mode": {
    "name": "ipython",
    "version": 3
   },
   "file_extension": ".py",
   "mimetype": "text/x-python",
   "name": "python",
   "nbconvert_exporter": "python",
   "pygments_lexer": "ipython3",
   "version": "3.7.16"
  }
 },
 "nbformat": 4,
 "nbformat_minor": 5
}
