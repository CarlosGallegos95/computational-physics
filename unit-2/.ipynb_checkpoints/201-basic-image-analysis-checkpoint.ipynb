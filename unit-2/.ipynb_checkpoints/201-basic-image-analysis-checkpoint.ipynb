{
 "cells": [
  {
   "cell_type": "markdown",
   "id": "d011c4c8",
   "metadata": {},
   "source": [
    "# Images and matrix algebra in Python\n",
    "\n",
    "The cbook library\n",
    "\n",
    "https://matplotlib.org/stable/api/cbook_api.html"
   ]
  },
  {
   "cell_type": "code",
   "execution_count": 1,
   "id": "8204d34c",
   "metadata": {},
   "outputs": [],
   "source": [
    "import matplotlib.cbook as cbook\n",
    "import matplotlib.pyplot as plt"
   ]
  },
  {
   "cell_type": "markdown",
   "id": "5488467d",
   "metadata": {},
   "source": [
    "### 1. Open images with cbook:\n",
    "\n",
    "To open images, we can use get_sample_data().\n",
    "\n",
    "The image below was taken from:\n",
    " https://en.wikipedia.org/wiki/Cotopaxi#/media/File:Cotopaxi_volcano_2008-06-27T1322.jpg"
   ]
  },
  {
   "cell_type": "code",
   "execution_count": null,
   "id": "4915463d",
   "metadata": {},
   "outputs": [],
   "source": []
  }
 ],
 "metadata": {
  "kernelspec": {
   "display_name": "Python 3 (ipykernel)",
   "language": "python",
   "name": "python3"
  },
  "language_info": {
   "codemirror_mode": {
    "name": "ipython",
    "version": 3
   },
   "file_extension": ".py",
   "mimetype": "text/x-python",
   "name": "python",
   "nbconvert_exporter": "python",
   "pygments_lexer": "ipython3",
   "version": "3.7.16"
  }
 },
 "nbformat": 4,
 "nbformat_minor": 5
}
