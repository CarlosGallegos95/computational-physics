{
 "cells": [
  {
   "cell_type": "markdown",
   "id": "de742f2e",
   "metadata": {},
   "source": [
    "# Image processing with scikit:\n",
    "\n",
    "Downsizing, rescaling, resizing:"
   ]
  },
  {
   "cell_type": "code",
   "execution_count": 1,
   "id": "a2f950a3",
   "metadata": {},
   "outputs": [],
   "source": [
    "import numpy as np\n",
    "import matplotlib.pyplot as plt\n",
    "\n",
    "from skimage import io\n",
    "from skimage.transform import rescale, resize, downscale_local_mean #reshape"
   ]
  },
  {
   "cell_type": "markdown",
   "id": "6e35c6cd",
   "metadata": {},
   "source": [
    "## 1. Down-sizing images\n",
    "\n",
    "See documentation here:\n",
    "https://scikit-image.org/docs/stable/auto_examples/transform/plot_rescale.html\n",
    "\n",
    "## Rescaling images\n",
    "\n",
    "- The **rescale()** operation resizes an image by a given scaling factor.\n",
    "\n",
    "\n",
    "- **rescale()** uses interpolation.\n",
    "\n",
    "\n",
    "- The scaling factor can either be a single floating point value, or multiple values - one along each axis.\n"
   ]
  },
  {
   "cell_type": "code",
   "execution_count": null,
   "id": "c974b343",
   "metadata": {},
   "outputs": [],
   "source": []
  }
 ],
 "metadata": {
  "kernelspec": {
   "display_name": "Python 3 (ipykernel)",
   "language": "python",
   "name": "python3"
  },
  "language_info": {
   "codemirror_mode": {
    "name": "ipython",
    "version": 3
   },
   "file_extension": ".py",
   "mimetype": "text/x-python",
   "name": "python",
   "nbconvert_exporter": "python",
   "pygments_lexer": "ipython3",
   "version": "3.7.16"
  }
 },
 "nbformat": 4,
 "nbformat_minor": 5
}
