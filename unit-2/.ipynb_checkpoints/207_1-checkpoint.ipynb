{
 "cells": [
  {
   "cell_type": "markdown",
   "id": "bad55688",
   "metadata": {},
   "source": [
    "# Scientific visualisation with pyvista\n",
    "\n",
    "## Installation:\n",
    "\n",
    "conda install -c conda-forge pyvista\n",
    "\n",
    "pip install pyvista\n",
    "\n",
    "pip install ipyvtklink"
   ]
  },
  {
   "cell_type": "code",
   "execution_count": 1,
   "id": "94dd8871",
   "metadata": {},
   "outputs": [],
   "source": [
    "import pyvista as pv"
   ]
  },
  {
   "cell_type": "code",
   "execution_count": 2,
   "id": "b687799f",
   "metadata": {},
   "outputs": [],
   "source": [
    "mesh = pv.read(\"/Users/webb/Dropbox/Yachay_Tech/Docencia/Fisica_Computacional/Lectures/computational-physics-1/unit-2/TURB_DRIVE_SUP/data.0010.vtk\")"
   ]
  },
  {
   "cell_type": "code",
   "execution_count": 3,
   "id": "c2bf7ee5",
   "metadata": {},
   "outputs": [
    {
     "name": "stdout",
     "output_type": "stream",
     "text": [
      "RectilinearGrid (0x1218912f0)\n",
      "  N Cells:\t2500\n",
      "  N Points:\t2601\n",
      "  X Bounds:\t-2.000e+00, 2.000e+00\n",
      "  Y Bounds:\t-2.000e+00, 2.000e+00\n",
      "  Z Bounds:\t0.000e+00, 0.000e+00\n",
      "  Dimensions:\t51, 51, 1\n",
      "  N Arrays:\t5\n",
      "\n"
     ]
    }
   ],
   "source": [
    "print(mesh)"
   ]
  },
  {
   "cell_type": "code",
   "execution_count": 4,
   "id": "d5f40d51",
   "metadata": {},
   "outputs": [
    {
     "data": {
      "text/plain": [
       "(51, 51, 1)"
      ]
     },
     "execution_count": 4,
     "metadata": {},
     "output_type": "execute_result"
    }
   ],
   "source": [
    "mesh.dimensions"
   ]
  },
  {
   "cell_type": "code",
   "execution_count": 5,
   "id": "d02ad63c",
   "metadata": {},
   "outputs": [
    {
     "data": {
      "text/plain": [
       "2500"
      ]
     },
     "execution_count": 5,
     "metadata": {},
     "output_type": "execute_result"
    }
   ],
   "source": [
    "mesh.n_cells"
   ]
  },
  {
   "cell_type": "code",
   "execution_count": 6,
   "id": "1a24f1e7",
   "metadata": {},
   "outputs": [
    {
     "data": {
      "text/plain": [
       "2601"
      ]
     },
     "execution_count": 6,
     "metadata": {},
     "output_type": "execute_result"
    }
   ],
   "source": [
    "mesh.n_points"
   ]
  },
  {
   "cell_type": "code",
   "execution_count": 7,
   "id": "bf69a92a",
   "metadata": {},
   "outputs": [
    {
     "data": {
      "text/plain": [
       "5"
      ]
     },
     "execution_count": 7,
     "metadata": {},
     "output_type": "execute_result"
    }
   ],
   "source": [
    "mesh.n_arrays"
   ]
  },
  {
   "cell_type": "code",
   "execution_count": 8,
   "id": "b32e9906",
   "metadata": {},
   "outputs": [
    {
     "data": {
      "text/plain": [
       "(-2.0, 2.0, -2.0, 2.0, 0.0, 0.0)"
      ]
     },
     "execution_count": 8,
     "metadata": {},
     "output_type": "execute_result"
    }
   ],
   "source": [
    "mesh.bounds"
   ]
  },
  {
   "cell_type": "code",
   "execution_count": 9,
   "id": "44a605a5",
   "metadata": {},
   "outputs": [
    {
     "data": {
      "text/plain": [
       "[0.0, 0.0, 0.0]"
      ]
     },
     "execution_count": 9,
     "metadata": {},
     "output_type": "execute_result"
    }
   ],
   "source": [
    "mesh.center"
   ]
  },
  {
   "cell_type": "code",
   "execution_count": 10,
   "id": "36a8316e",
   "metadata": {},
   "outputs": [
    {
     "data": {
      "application/vnd.jupyter.widget-view+json": {
       "model_id": "e3681eb7899b4d6f84ebf97cce3918ba",
       "version_major": 2,
       "version_minor": 0
      },
      "text/plain": [
       "ViewInteractiveWidget(height=768, layout=Layout(height='auto', width='100%'), width=1024)"
      ]
     },
     "metadata": {},
     "output_type": "display_data"
    }
   ],
   "source": [
    "mesh.plot()"
   ]
  },
  {
   "cell_type": "code",
   "execution_count": null,
   "id": "da4096e7",
   "metadata": {},
   "outputs": [],
   "source": []
  },
  {
   "cell_type": "code",
   "execution_count": null,
   "id": "153ec87d",
   "metadata": {},
   "outputs": [],
   "source": []
  }
 ],
 "metadata": {
  "kernelspec": {
   "display_name": "Python 3",
   "language": "python",
   "name": "python3"
  },
  "language_info": {
   "codemirror_mode": {
    "name": "ipython",
    "version": 3
   },
   "file_extension": ".py",
   "mimetype": "text/x-python",
   "name": "python",
   "nbconvert_exporter": "python",
   "pygments_lexer": "ipython3",
   "version": "3.7.10"
  }
 },
 "nbformat": 4,
 "nbformat_minor": 5
}
