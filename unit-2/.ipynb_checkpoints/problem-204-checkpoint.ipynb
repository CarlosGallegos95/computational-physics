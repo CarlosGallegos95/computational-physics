{
 "cells": [
  {
   "cell_type": "markdown",
   "id": "db574934",
   "metadata": {},
   "source": [
    "\n",
    "## QM problem: Hamiltonian, eigenvalues and eigenvectors\n",
    "\n",
    "$$\\newcommand{\\ket}[1]{\\left|{#1}\\right\\rangle}$$\n",
    "$$\\newcommand{\\bra}[1]{\\left\\langle{#1}\\right|}$$\n",
    "$$\\newcommand{\\braket}[2]{\\left\\langle{#1}\\middle|{#2}\\right\\rangle}$$\n",
    "\n",
    "Consider a quantum system in a state, $\\ket{\\Psi}$:\n",
    "\n",
    "$\\Psi = \\frac{1}{\\sqrt{3}}\\left[\\begin{array}{@{}c@{}}\n",
    "    i \\\\\n",
    "    -i \\\\\n",
    "    i \n",
    "    \\end{array} \\right]$\n",
    "    \n",
    "The Hamiltonian is represented by the matrix shown below:\n",
    "\n",
    "\n",
    "$\\hat{H} = \\left[\\begin{array}{@{ }c@{\\kern2em} c@{\\kern2em} c@{ }}\n",
    "2 & 1 & 0\\\\\n",
    "1 & 2 & 0\\\\\n",
    "0 & 0 & 3\n",
    "\\end{array} \\right]$\n",
    "\n",
    "(a) Determine the eigenvalues and eigenvectors of $\\hat{H}$. What do the eigenvalues represent?\n",
    "\n",
    "\n",
    "(b) Which eigenvalue of $\\hat{H}$ is most likely to emerge from a measurement?\n",
    "\n",
    "\n",
    "(c) Find $\\langle H \\rangle$, $\\langle H^2 \\rangle$, and $\\sigma_H$.\n"
   ]
  },
  {
   "cell_type": "code",
   "execution_count": null,
   "id": "6d522a59",
   "metadata": {},
   "outputs": [],
   "source": []
  }
 ],
 "metadata": {
  "kernelspec": {
   "display_name": "Python 3 (ipykernel)",
   "language": "python",
   "name": "python3"
  },
  "language_info": {
   "codemirror_mode": {
    "name": "ipython",
    "version": 3
   },
   "file_extension": ".py",
   "mimetype": "text/x-python",
   "name": "python",
   "nbconvert_exporter": "python",
   "pygments_lexer": "ipython3",
   "version": "3.7.16"
  }
 },
 "nbformat": 4,
 "nbformat_minor": 5
}
