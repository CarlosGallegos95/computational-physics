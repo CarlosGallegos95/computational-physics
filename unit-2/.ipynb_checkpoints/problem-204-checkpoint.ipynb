{
 "cells": [
  {
   "cell_type": "markdown",
   "id": "45ebcac1",
   "metadata": {},
   "source": [
    "\n",
    "## QM problem: Hamiltonian, eigenvalues and eigenvectors\n",
    "\n",
    "$$\\newcommand{\\ket}[1]{\\left|{#1}\\right\\rangle}$$\n",
    "$$\\newcommand{\\bra}[1]{\\left\\langle{#1}\\right|}$$\n",
    "$$\\newcommand{\\braket}[2]{\\left\\langle{#1}\\middle|{#2}\\right\\rangle}$$\n",
    "\n",
    "Consider a quantum system in a state, $\\ket{\\Psi}$:\n",
    "\n",
    "$\\Psi = \\frac{1}{\\sqrt{3}}\\left[\\begin{array}{@{}c@{}}\n",
    "    i \\\\\n",
    "    -i \\\\\n",
    "    i \n",
    "    \\end{array} \\right]$\n",
    "    \n",
    "The Hamiltonian is represented by the matrix shown below:\n",
    "\n",
    "\n",
    "$\\hat{H} = \\left[\\begin{array}{@{ }c@{\\kern2em} c@{\\kern2em} c@{ }}\n",
    "2 & 1 & 0\\\\\n",
    "1 & 2 & 0\\\\\n",
    "0 & 0 & 3\n",
    "\\end{array} \\right]$\n",
    "\n",
    "(a) Determine the eigenvalues and eigenvectors of $\\hat{H}$. What do the eigenvalues represent?\\\\\n",
    "(b) Which eigenvalue of $\\hat{H}$ is most likely to emerge from a measurement?\\\\\n",
    "(c) Find $\\langle H \\rangle$, $\\langle H^2 \\rangle$, and $\\sigma_H$.\\\\\n",
    "\n",
    "\\item {\\bf (4 points) Dirac notation: brakets and dual basis}\\\\\n",
    "\\\\\n",
    "Consider a 3D vector space spanned by an orthonormal basis $\\ket{1}$, $\\ket{2}$, $\\ket{3}$. In this basis, let the $\\ket{\\Psi_0}$ and $\\ket{\\Psi_1}$ kets be:\n",
    "\n",
    "$\\ket{\\Psi_0}=\\frac{1}{\\sqrt{2}}\\ket{1} + \\frac{i}{2}\\ket{2} + \\frac{1}{2}\\ket{3}$\n",
    "\n",
    "$\\ket{\\Psi_1}=\\frac{1}{\\sqrt{3}}\\ket{1} + \\frac{i}{\\sqrt{3}}\\ket{3}$\n",
    "\n",
    "(a) Are these kets normalised? If not, normalise them.\\\\\n",
    "(b) Write $\\bra{\\Psi_0}$ and $\\bra{\\Psi_1}$ in terms of the dual basis $\\bra{1}$, $\\bra{2}$, $\\bra{3}$.\\\\\n",
    "(c) Find $\\braket{\\Psi_0}{\\Psi_1}$ and $\\braket{\\Psi_1}{\\Psi_0}$, and confirm that $\\braket{\\Psi_1}{\\Psi_0}=\\braket{\\Psi_0}{\\Psi_1}^{*}$.\\\\\n",
    "(d) Find all the matrix elements of the operators $\\hat{M}_{01}=\\ket{\\Psi_0}\\bra{\\Psi_1}$, $\\hat{M}_{00}=\\ket{\\Psi_0}\\bra{\\Psi_0}$, and $\\hat{M}_{11}=\\ket{\\Psi_1}\\bra{\\Psi_1}$ in this basis, and construct their respective matrices, are they hermitian?"
   ]
  },
  {
   "cell_type": "code",
   "execution_count": null,
   "id": "9bc60c4d",
   "metadata": {},
   "outputs": [],
   "source": []
  }
 ],
 "metadata": {
  "kernelspec": {
   "display_name": "Python 3 (ipykernel)",
   "language": "python",
   "name": "python3"
  },
  "language_info": {
   "codemirror_mode": {
    "name": "ipython",
    "version": 3
   },
   "file_extension": ".py",
   "mimetype": "text/x-python",
   "name": "python",
   "nbconvert_exporter": "python",
   "pygments_lexer": "ipython3",
   "version": "3.7.16"
  }
 },
 "nbformat": 4,
 "nbformat_minor": 5
}
