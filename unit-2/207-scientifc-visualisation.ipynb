{
 "cells": [
  {
   "cell_type": "markdown",
   "id": "f851469f",
   "metadata": {},
   "source": [
    "# Scientific visualisation\n",
    "\n",
    "## 1. Graphical interface (GUI):\n",
    "\n",
    "VisIt (physics): https://visit-dav.github.io/visit-website/releases-as-tables/\n",
    "\n",
    "Paraview (ingeneering): https://www.paraview.org/download/\n",
    "\n",
    "**Note:** 2D and 3D visualisation, but they provided limited capability for data analysis\n",
    "\n",
    "\n",
    "## 2. pyvista:\n",
    "\n",
    "Documentation: https://docs.pyvista.org/\n",
    "\n",
    "\n",
    "## Installation:\n",
    "\n",
    "conda install -c conda-forge pyvista\n",
    "\n",
    "pip install pyvista\n",
    "\n",
    "pip install ipyvtklink"
   ]
  },
  {
   "cell_type": "markdown",
   "id": "08ac2c05",
   "metadata": {},
   "source": [
    "## 3. Visualization ToolKit (VTK) format\n",
    "https://vtk.org/\n",
    "\n",
    "This format is an open-source data format, developed by Kitware, and widely used in computational fluid dynamics and computer graphics applications. There are two sub-formats, legacy and XML.\n",
    "\n",
    "## VTK file structure:\n",
    "\n",
    "1. File version and ID.\n",
    "\n",
    "2. Header, comments with informaton on the dataset.\n",
    "\n",
    "3. Data type, which can be Binary or ASCII.\n",
    "\n",
    "4. Domain structure, mesh/grid information:\n",
    "\n",
    "### DATASET\n",
    "\n",
    "STRUCTURED_GRID\n",
    "\n",
    "UNSTRUCTURED_GRID\n",
    "\n",
    "**RECTILINEAR_GRID**\n",
    "\n",
    "POLYDATA\n",
    "\n",
    "FIELD\n",
    "\n",
    "- Coordinates, Dimensions, Grid spacing.\n",
    "\n",
    "### Attributes\n",
    "Values stored at grid cells, e.g. scalars, vectors, tensors.\n",
    "\n",
    "\n",
    "Imagen tomada de: http://victorsndvg.github.io/FEconv/formats/vtk.xhtml"
   ]
  },
  {
   "cell_type": "code",
   "execution_count": null,
   "id": "5dd659ed",
   "metadata": {},
   "outputs": [],
   "source": []
  }
 ],
 "metadata": {
  "kernelspec": {
   "display_name": "Python 3",
   "language": "python",
   "name": "python3"
  },
  "language_info": {
   "codemirror_mode": {
    "name": "ipython",
    "version": 3
   },
   "file_extension": ".py",
   "mimetype": "text/x-python",
   "name": "python",
   "nbconvert_exporter": "python",
   "pygments_lexer": "ipython3",
   "version": "3.7.10"
  }
 },
 "nbformat": 4,
 "nbformat_minor": 5
}
