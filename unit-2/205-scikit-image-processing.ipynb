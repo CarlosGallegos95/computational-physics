{
 "cells": [
  {
   "cell_type": "markdown",
   "id": "f72f2f14",
   "metadata": {},
   "source": [
    "# Image processing"
   ]
  },
  {
   "cell_type": "code",
   "execution_count": 1,
   "id": "7af264b0",
   "metadata": {},
   "outputs": [],
   "source": [
    "import numpy as np\n",
    "import matplotlib.pyplot as plt"
   ]
  },
  {
   "cell_type": "code",
   "execution_count": 3,
   "id": "4bc926d5",
   "metadata": {},
   "outputs": [],
   "source": [
    "from skimage import io\n",
    "from skimage.transform import rescale, resize, downscale_local_mean #reshape"
   ]
  },
  {
   "cell_type": "markdown",
   "id": "6109b592",
   "metadata": {},
   "source": [
    "## 1. Down-sizing images\n",
    "\n",
    "See documentation here:\n",
    "https://scikit-image.org/docs/stable/auto_examples/transform/plot_rescale.html"
   ]
  },
  {
   "cell_type": "markdown",
   "id": "185f9235",
   "metadata": {},
   "source": [
    "## Rescaling images\n",
    "\n",
    "- The **rescale()** operation resizes an image by a given scaling factor.\n",
    "\n",
    "\n",
    "- **rescale()** uses interpolation.\n",
    "\n",
    "\n",
    "- The scaling factor can either be a single floating point value, or multiple values - one along each axis.\n"
   ]
  },
  {
   "cell_type": "code",
   "execution_count": 5,
   "id": "042d042a",
   "metadata": {},
   "outputs": [],
   "source": [
    "A = np.arange(20).reshape(4, 5)"
   ]
  },
  {
   "cell_type": "code",
   "execution_count": 6,
   "id": "49c26c43",
   "metadata": {},
   "outputs": [
    {
     "name": "stdout",
     "output_type": "stream",
     "text": [
      "[[ 0  1  2  3  4]\n",
      " [ 5  6  7  8  9]\n",
      " [10 11 12 13 14]\n",
      " [15 16 17 18 19]]\n",
      "(4, 5)\n"
     ]
    }
   ],
   "source": [
    "print(A)\n",
    "print(A.shape)"
   ]
  },
  {
   "cell_type": "code",
   "execution_count": 7,
   "id": "bfd8acf5",
   "metadata": {},
   "outputs": [
    {
     "data": {
      "text/plain": [
       "<matplotlib.image.AxesImage at 0x11c5c7450>"
      ]
     },
     "execution_count": 7,
     "metadata": {},
     "output_type": "execute_result"
    },
    {
     "data": {
      "image/png": "[encoded data removed]",
      "text/plain": [
       "<Figure size 432x288 with 1 Axes>"
      ]
     },
     "metadata": {
      "needs_background": "light"
     },
     "output_type": "display_data"
    }
   ],
   "source": [
    "%matplotlib inline\n",
    "\n",
    "plt.imshow(A)"
   ]
  },
  {
   "cell_type": "code",
   "execution_count": 15,
   "id": "9068f146",
   "metadata": {},
   "outputs": [],
   "source": [
    "B = rescale(A, scale = 2)"
   ]
  },
  {
   "cell_type": "code",
   "execution_count": 16,
   "id": "0eb4dda5",
   "metadata": {},
   "outputs": [
    {
     "name": "stdout",
     "output_type": "stream",
     "text": [
      "(8, 10)\n"
     ]
    }
   ],
   "source": [
    "print(B.shape)"
   ]
  },
  {
   "cell_type": "code",
   "execution_count": 17,
   "id": "bc82cde1",
   "metadata": {},
   "outputs": [
    {
     "data": {
      "text/plain": [
       "<matplotlib.image.AxesImage at 0x11caf0750>"
      ]
     },
     "execution_count": 17,
     "metadata": {},
     "output_type": "execute_result"
    },
    {
     "data": {
      "image/png": "[encoded data removed]",
      "text/plain": [
       "<Figure size 432x288 with 1 Axes>"
      ]
     },
     "metadata": {
      "needs_background": "light"
     },
     "output_type": "display_data"
    }
   ],
   "source": [
    "plt.imshow(B)"
   ]
  },
  {
   "cell_type": "code",
   "execution_count": 18,
   "id": "cb9b9eee",
   "metadata": {},
   "outputs": [
    {
     "name": "stdout",
     "output_type": "stream",
     "text": [
      "[[1.62630326e-19 1.62630326e-19 2.16840434e-19 2.71050543e-19\n",
      "  3.25260652e-19 3.79470760e-19 4.33680869e-19 4.87890978e-19\n",
      "  5.42101086e-19 5.42101086e-19]\n",
      " [1.62630326e-19 1.62630326e-19 2.16840434e-19 2.71050543e-19\n",
      "  3.25260652e-19 3.79470760e-19 4.33680869e-19 4.87890978e-19\n",
      "  5.42101086e-19 5.42101086e-19]\n",
      " [4.33680869e-19 4.33680869e-19 4.87890978e-19 5.42101086e-19\n",
      "  5.96311195e-19 6.50521303e-19 7.04731412e-19 7.58941521e-19\n",
      "  8.13151629e-19 8.13151629e-19]\n",
      " [7.04731412e-19 7.04731412e-19 7.58941521e-19 8.13151629e-19\n",
      "  8.67361738e-19 9.21571847e-19 9.75781955e-19 1.02999206e-18\n",
      "  1.08420217e-18 1.08420217e-18]\n",
      " [9.75781955e-19 9.75781955e-19 1.02999206e-18 1.08420217e-18\n",
      "  1.13841228e-18 1.19262239e-18 1.24683250e-18 1.30104261e-18\n",
      "  1.35525272e-18 1.35525272e-18]\n",
      " [1.24683250e-18 1.24683250e-18 1.30104261e-18 1.35525272e-18\n",
      "  1.40946282e-18 1.46367293e-18 1.51788304e-18 1.57209315e-18\n",
      "  1.62630326e-18 1.62630326e-18]\n",
      " [1.51788304e-18 1.51788304e-18 1.57209315e-18 1.62630326e-18\n",
      "  1.68051337e-18 1.73472348e-18 1.78893358e-18 1.84314369e-18\n",
      "  1.89735380e-18 1.89735380e-18]\n",
      " [1.51788304e-18 1.51788304e-18 1.57209315e-18 1.62630326e-18\n",
      "  1.68051337e-18 1.73472348e-18 1.78893358e-18 1.84314369e-18\n",
      "  1.89735380e-18 1.89735380e-18]]\n"
     ]
    }
   ],
   "source": [
    "print(B)"
   ]
  },
  {
   "cell_type": "code",
   "execution_count": 21,
   "id": "dc484757",
   "metadata": {},
   "outputs": [
    {
     "name": "stdout",
     "output_type": "stream",
     "text": [
      "[[ 1.5  1.5  2.   2.5  3.   3.5  4.   4.5  5.   5. ]\n",
      " [ 1.5  1.5  2.   2.5  3.   3.5  4.   4.5  5.   5. ]\n",
      " [ 4.   4.   4.5  5.   5.5  6.   6.5  7.   7.5  7.5]\n",
      " [ 6.5  6.5  7.   7.5  8.   8.5  9.   9.5 10.  10. ]\n",
      " [ 9.   9.   9.5 10.  10.5 11.  11.5 12.  12.5 12.5]\n",
      " [11.5 11.5 12.  12.5 13.  13.5 14.  14.5 15.  15. ]\n",
      " [14.  14.  14.5 15.  15.5 16.  16.5 17.  17.5 17.5]\n",
      " [14.  14.  14.5 15.  15.5 16.  16.5 17.  17.5 17.5]]\n"
     ]
    }
   ],
   "source": [
    "C = rescale(A, scale = 2, preserve_range = True)\n",
    "\n",
    "print(C)"
   ]
  },
  {
   "cell_type": "code",
   "execution_count": 22,
   "id": "0cfbe3ae",
   "metadata": {},
   "outputs": [
    {
     "data": {
      "text/plain": [
       "<matplotlib.image.AxesImage at 0x11c90ad90>"
      ]
     },
     "execution_count": 22,
     "metadata": {},
     "output_type": "execute_result"
    },
    {
     "data": {
      "image/png": "[encoded data removed]",
      "text/plain": [
       "<Figure size 432x288 with 1 Axes>"
      ]
     },
     "metadata": {
      "needs_background": "light"
     },
     "output_type": "display_data"
    }
   ],
   "source": [
    "plt.imshow(C)"
   ]
  },
  {
   "cell_type": "code",
   "execution_count": 23,
   "id": "3e710218",
   "metadata": {},
   "outputs": [
    {
     "name": "stdout",
     "output_type": "stream",
     "text": [
      "19 1.8973538018496328e-18 17.5\n"
     ]
    }
   ],
   "source": [
    "print(np.max(A), np.max(B), np.max(C))"
   ]
  },
  {
   "cell_type": "code",
   "execution_count": null,
   "id": "0d5919dc",
   "metadata": {},
   "outputs": [],
   "source": []
  }
 ],
 "metadata": {
  "kernelspec": {
   "display_name": "Python 3",
   "language": "python",
   "name": "python3"
  },
  "language_info": {
   "codemirror_mode": {
    "name": "ipython",
    "version": 3
   },
   "file_extension": ".py",
   "mimetype": "text/x-python",
   "name": "python",
   "nbconvert_exporter": "python",
   "pygments_lexer": "ipython3",
   "version": "3.7.10"
  }
 },
 "nbformat": 4,
 "nbformat_minor": 5
}
