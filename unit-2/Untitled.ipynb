{
 "cells": [
  {
   "cell_type": "code",
   "execution_count": 5,
   "id": "02ffde6e",
   "metadata": {},
   "outputs": [],
   "source": [
    "import numpy as np"
   ]
  },
  {
   "cell_type": "code",
   "execution_count": 9,
   "id": "4ffd6236",
   "metadata": {},
   "outputs": [],
   "source": [
    "A = np.array([1920, 1921, 1922, 1923, 1924])"
   ]
  },
  {
   "cell_type": "code",
   "execution_count": 10,
   "id": "475c80bb",
   "metadata": {},
   "outputs": [
    {
     "name": "stdout",
     "output_type": "stream",
     "text": [
      "[1920 1921 1922 1923 1924]\n"
     ]
    }
   ],
   "source": [
    "print(A)"
   ]
  },
  {
   "cell_type": "code",
   "execution_count": 25,
   "id": "37367cc6",
   "metadata": {},
   "outputs": [
    {
     "name": "stdout",
     "output_type": "stream",
     "text": [
      "(array([2, 3]),)\n"
     ]
    }
   ],
   "source": [
    "indices = np.where((A >= 1922) & (A <= 1923))\n",
    "\n",
    "print(indices)"
   ]
  },
  {
   "cell_type": "code",
   "execution_count": 26,
   "id": "cb291770",
   "metadata": {},
   "outputs": [
    {
     "name": "stdout",
     "output_type": "stream",
     "text": [
      "[1922 1923]\n"
     ]
    }
   ],
   "source": [
    "print(A[indices])"
   ]
  },
  {
   "cell_type": "code",
   "execution_count": null,
   "id": "a7e8c589",
   "metadata": {},
   "outputs": [],
   "source": []
  }
 ],
 "metadata": {
  "kernelspec": {
   "display_name": "Python 3",
   "language": "python",
   "name": "python3"
  },
  "language_info": {
   "codemirror_mode": {
    "name": "ipython",
    "version": 3
   },
   "file_extension": ".py",
   "mimetype": "text/x-python",
   "name": "python",
   "nbconvert_exporter": "python",
   "pygments_lexer": "ipython3",
   "version": "3.7.10"
  }
 },
 "nbformat": 4,
 "nbformat_minor": 5
}
