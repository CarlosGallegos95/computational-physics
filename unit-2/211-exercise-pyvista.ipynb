{
 "cells": [
  {
   "cell_type": "markdown",
   "id": "0c96f3cd",
   "metadata": {},
   "source": [
    "# Simulation analysis:\n",
    "\n",
    "- Repeat the calculations/plots for all the files in the simulations.\n",
    "\n",
    "- Plot: density + velocity vector fields\n",
    "\n",
    "- Plot: thermal pressure + magnetic fields\n",
    "\n",
    "- Simulation fields: code units (rho,vx2,2,Bx1,2) -> CGS units\n",
    "\n",
    "We need to read the file: units.out\n",
    "\n",
    "rho_cgs = rho*rho_0\n",
    "\n",
    "len_cgs - len*l_0\n",
    "\n",
    "where rho_0 is the normalisation parameter\n",
    "\n",
    "To get the times in CGS units, we need to read the second column of vtk,out\n",
    "\n",
    "- Produce the plots in CGS units\n",
    "\n",
    "- Make an animation: MPEG, FFMEG, **GIF**."
   ]
  },
  {
   "cell_type": "code",
   "execution_count": 2,
   "id": "268b09e0",
   "metadata": {},
   "outputs": [],
   "source": [
    "import pyvista as pv\n",
    "\n",
    "import numpy as np\n",
    "import matplotlib.pyplot as plt\n",
    "\n",
    "import pandas as pd"
   ]
  },
  {
   "cell_type": "code",
   "execution_count": 3,
   "id": "7f314b7f",
   "metadata": {},
   "outputs": [],
   "source": [
    "mesh = pv.read(\"./TURB_DRIVE_SUP/data.0010.vtk\")"
   ]
  },
  {
   "cell_type": "code",
   "execution_count": 7,
   "id": "6fe37b32",
   "metadata": {},
   "outputs": [],
   "source": [
    "#mesh.plot()"
   ]
  },
  {
   "cell_type": "code",
   "execution_count": 8,
   "id": "42755c16",
   "metadata": {},
   "outputs": [],
   "source": [
    "rho = pv.get_array(mesh, \"rho\", preference = 'cell') #density in code units\n",
    "vx1 = pv.get_array(mesh, \"vx1\", preference = 'cell') #vx in code units\n",
    "vx2 = pv.get_array(mesh, \"vx2\", preference = 'cell') #vy in code units\n",
    "Bx1 = pv.get_array(mesh, \"Bx1\", preference = 'cell') #Bx in code units\n",
    "Bx2 = pv.get_array(mesh, \"Bx2\", preference = 'cell') #By in code units"
   ]
  },
  {
   "cell_type": "code",
   "execution_count": 9,
   "id": "fa0c5a8f",
   "metadata": {},
   "outputs": [
    {
     "name": "stdout",
     "output_type": "stream",
     "text": [
      "(2500,)\n"
     ]
    }
   ],
   "source": [
    "print(rho.shape)"
   ]
  },
  {
   "cell_type": "code",
   "execution_count": 10,
   "id": "4916717e",
   "metadata": {},
   "outputs": [],
   "source": [
    "rho_2D = rho.reshape(mesh.dimensions[0] - 1, mesh.dimensions[1] - 1)\n",
    "vx1_2D = vx1.reshape(mesh.dimensions[0] - 1, mesh.dimensions[1] - 1)\n",
    "vx2_2D = vx2.reshape(mesh.dimensions[0] - 1, mesh.dimensions[1] - 1)\n",
    "Bx1_2D = Bx1.reshape(mesh.dimensions[0] - 1, mesh.dimensions[1] - 1)\n",
    "Bx2_2D = Bx2.reshape(mesh.dimensions[0] - 1, mesh.dimensions[1] - 1)"
   ]
  },
  {
   "cell_type": "code",
   "execution_count": 12,
   "id": "5e9fff59",
   "metadata": {},
   "outputs": [
    {
     "name": "stdout",
     "output_type": "stream",
     "text": [
      "(50, 50)\n"
     ]
    }
   ],
   "source": [
    "print(Bx1_2D.shape)"
   ]
  },
  {
   "cell_type": "markdown",
   "id": "7dfacf19",
   "metadata": {},
   "source": [
    "## Unit normalisation:"
   ]
  },
  {
   "cell_type": "code",
   "execution_count": 13,
   "id": "96663c1b",
   "metadata": {},
   "outputs": [],
   "source": [
    "# Open the units.out file (CSV file)"
   ]
  },
  {
   "cell_type": "code",
   "execution_count": 14,
   "id": "1cfd73ef",
   "metadata": {},
   "outputs": [],
   "source": [
    "units_data = pd.read_csv(\"./TURB_DRIVE_SUP/units.out\")"
   ]
  },
  {
   "cell_type": "code",
   "execution_count": 15,
   "id": "769738a5",
   "metadata": {},
   "outputs": [
    {
     "name": "stdout",
     "output_type": "stream",
     "text": [
      "  variable  normalisation   units\n",
      "0    rho_0   1.660000e-24  g/cm^3\n",
      "1      v_0   1.000000e+06    cm/s\n",
      "2      L_0   3.086000e+18      cm\n",
      "3    c_iso   1.000000e+06    cm/s\n"
     ]
    }
   ],
   "source": [
    "print(units_data)"
   ]
  },
  {
   "cell_type": "code",
   "execution_count": null,
   "id": "d88f8ac2",
   "metadata": {},
   "outputs": [],
   "source": []
  }
 ],
 "metadata": {
  "kernelspec": {
   "display_name": "Python 3",
   "language": "python",
   "name": "python3"
  },
  "language_info": {
   "codemirror_mode": {
    "name": "ipython",
    "version": 3
   },
   "file_extension": ".py",
   "mimetype": "text/x-python",
   "name": "python",
   "nbconvert_exporter": "python",
   "pygments_lexer": "ipython3",
   "version": "3.7.10"
  }
 },
 "nbformat": 4,
 "nbformat_minor": 5
}
