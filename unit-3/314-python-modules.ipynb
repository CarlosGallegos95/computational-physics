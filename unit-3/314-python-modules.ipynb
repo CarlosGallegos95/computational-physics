{
 "cells": [
  {
   "cell_type": "markdown",
   "id": "ffa84146",
   "metadata": {},
   "source": [
    "# Python Modules\n",
    "\n",
    "- A module is a code library.\n",
    "\n",
    "\n",
    "- It is a file with .py extension\n",
    "\n",
    "\n",
    "- It contains a set of functions."
   ]
  },
  {
   "cell_type": "markdown",
   "id": "c90e9dcb",
   "metadata": {},
   "source": [
    "## Creating modules\n",
    "To create a module, save or edit python code in a file with the file extension **.py**:"
   ]
  },
  {
   "cell_type": "code",
   "execution_count": 1,
   "id": "75fdc838",
   "metadata": {},
   "outputs": [
    {
     "name": "stdout",
     "output_type": "stream",
     "text": [
      "def print_message(msg):\r\n",
      "    print(\"Hola, \" + msg)\r\n"
     ]
    }
   ],
   "source": [
    "!cat ./first_module.py"
   ]
  },
  {
   "cell_type": "markdown",
   "id": "2a7cf02d",
   "metadata": {},
   "source": [
    "## Using modules\n",
    "\n",
    "We can use these modules using the **import** statement.\n",
    "\n",
    "Module can contain functions and/or variables of all types (arrays, dictionaries, objects etc)."
   ]
  },
  {
   "cell_type": "code",
   "execution_count": 2,
   "id": "d85a0fed",
   "metadata": {},
   "outputs": [],
   "source": [
    "import first_module"
   ]
  },
  {
   "cell_type": "code",
   "execution_count": 3,
   "id": "ffca40c0",
   "metadata": {},
   "outputs": [
    {
     "name": "stdout",
     "output_type": "stream",
     "text": [
      "Hola, Clase de Fisica Computacional\n"
     ]
    }
   ],
   "source": [
    "first_module.print_message(\"Clase de Fisica Computacional\")"
   ]
  },
  {
   "cell_type": "code",
   "execution_count": 4,
   "id": "a5d5bec4",
   "metadata": {},
   "outputs": [
    {
     "name": "stdout",
     "output_type": "stream",
     "text": [
      "#include <stdio.h>\r\n",
      "int main() {\r\n",
      "    printf(\"Hola Mundo.\\n\");\r\n",
      "    return 0;\r\n",
      "}\r\n",
      "\r\n"
     ]
    }
   ],
   "source": [
    "!cat ./hola.c"
   ]
  },
  {
   "cell_type": "code",
   "execution_count": 5,
   "id": "a338a673",
   "metadata": {},
   "outputs": [
    {
     "name": "stdout",
     "output_type": "stream",
     "text": [
      "# Function\r\n",
      "def print_message(msg):\r\n",
      "    print(\"Hola, \" + msg)\r\n",
      "\r\n",
      "# Dictionary\r\n",
      "computational_physics = {\r\n",
      "  \"level\": \"BSc\", \r\n",
      "  \"course\": \"Mandatory\",\r\n",
      "  \"modules\": 5, \r\n",
      "  \"program\": \"Physics/Nano\"\r\n",
      "}\r\n"
     ]
    }
   ],
   "source": [
    "!cat ./second_module.py"
   ]
  },
  {
   "cell_type": "code",
   "execution_count": 6,
   "id": "50d0897a",
   "metadata": {},
   "outputs": [],
   "source": [
    "import second_module"
   ]
  },
  {
   "cell_type": "code",
   "execution_count": 10,
   "id": "ed5ee427",
   "metadata": {},
   "outputs": [
    {
     "name": "stdout",
     "output_type": "stream",
     "text": [
      "BSc\n",
      "<class 'str'>\n"
     ]
    }
   ],
   "source": [
    "obj = second_module.computational_physics[\"level\"]\n",
    "\n",
    "print(obj)\n",
    "print(type(obj))"
   ]
  },
  {
   "cell_type": "code",
   "execution_count": 11,
   "id": "9e7b226f",
   "metadata": {},
   "outputs": [
    {
     "name": "stdout",
     "output_type": "stream",
     "text": [
      "5\n",
      "<class 'int'>\n"
     ]
    }
   ],
   "source": [
    "obj1 = second_module.computational_physics[\"modules\"]\n",
    "\n",
    "print(obj1)\n",
    "print(type(obj1))"
   ]
  },
  {
   "cell_type": "markdown",
   "id": "313492cc",
   "metadata": {},
   "source": [
    "## Aliasing modules\n",
    "\n",
    "We can create an **alias** when we import a module by using the **as** keyword:"
   ]
  },
  {
   "cell_type": "code",
   "execution_count": 12,
   "id": "0229344e",
   "metadata": {},
   "outputs": [],
   "source": [
    "import second_module as mo2"
   ]
  },
  {
   "cell_type": "code",
   "execution_count": 13,
   "id": "22217b0a",
   "metadata": {},
   "outputs": [
    {
     "name": "stdout",
     "output_type": "stream",
     "text": [
      "5\n",
      "<class 'int'>\n"
     ]
    }
   ],
   "source": [
    "obj2 = mo2.computational_physics[\"modules\"]\n",
    "\n",
    "print(obj2)\n",
    "print(type(obj2))"
   ]
  },
  {
   "cell_type": "markdown",
   "id": "ee938cb1",
   "metadata": {},
   "source": [
    "## Built-in modules in Python:"
   ]
  },
  {
   "cell_type": "markdown",
   "id": "98660edf",
   "metadata": {},
   "source": [
    "### 1. platform:\n",
    "\n",
    "https://docs.python.org/3/library/platform.html"
   ]
  },
  {
   "cell_type": "code",
   "execution_count": 14,
   "id": "61c8f535",
   "metadata": {},
   "outputs": [],
   "source": [
    "import platform"
   ]
  },
  {
   "cell_type": "code",
   "execution_count": 15,
   "id": "d9a7f1e9",
   "metadata": {},
   "outputs": [
    {
     "name": "stdout",
     "output_type": "stream",
     "text": [
      "Darwin\n"
     ]
    }
   ],
   "source": [
    "obj = platform.system()\n",
    "\n",
    "print(obj)"
   ]
  },
  {
   "cell_type": "code",
   "execution_count": 16,
   "id": "b131f750",
   "metadata": {},
   "outputs": [
    {
     "data": {
      "text/plain": [
       "'3.7.10'"
      ]
     },
     "execution_count": 16,
     "metadata": {},
     "output_type": "execute_result"
    }
   ],
   "source": [
    "platform.python_version()\n"
   ]
  },
  {
   "cell_type": "markdown",
   "id": "1e15b72d",
   "metadata": {},
   "source": [
    "### The dir() function in platform\n",
    "\n",
    "dir() lists all the function names (or variable names) in a module."
   ]
  },
  {
   "cell_type": "code",
   "execution_count": 18,
   "id": "9ce2d934",
   "metadata": {},
   "outputs": [
    {
     "name": "stdout",
     "output_type": "stream",
     "text": [
      "['DEV_NULL', '_UNIXCONFDIR', '_WIN32_CLIENT_RELEASES', '_WIN32_SERVER_RELEASES', '__builtins__', '__cached__', '__copyright__', '__doc__', '__file__', '__loader__', '__name__', '__package__', '__spec__', '__version__', '_comparable_version', '_component_re', '_default_architecture', '_dist_try_harder', '_follow_symlinks', '_ironpython26_sys_version_parser', '_ironpython_sys_version_parser', '_java_getprop', '_libc_search', '_linux_distribution', '_lsb_release_version', '_mac_ver_xml', '_node', '_norm_version', '_parse_release_file', '_platform', '_platform_cache', '_pypy_sys_version_parser', '_release_filename', '_release_version', '_supported_dists', '_sys_version', '_sys_version_cache', '_sys_version_parser', '_syscmd_file', '_syscmd_uname', '_syscmd_ver', '_uname_cache', '_ver_output', '_ver_stages', 'architecture', 'collections', 'dist', 'java_ver', 'libc_ver', 'linux_distribution', 'mac_ver', 'machine', 'node', 'os', 'platform', 'popen', 'processor', 'python_branch', 'python_build', 'python_compiler', 'python_implementation', 'python_revision', 'python_version', 'python_version_tuple', 're', 'release', 'subprocess', 'sys', 'system', 'system_alias', 'uname', 'uname_result', 'version', 'warnings', 'win32_ver']\n"
     ]
    }
   ],
   "source": [
    "a = dir(platform)\n",
    "\n",
    "print(a)"
   ]
  },
  {
   "cell_type": "code",
   "execution_count": 19,
   "id": "60beed97",
   "metadata": {},
   "outputs": [
    {
     "name": "stdout",
     "output_type": "stream",
     "text": [
      "['__builtins__', '__cached__', '__doc__', '__file__', '__loader__', '__name__', '__package__', '__spec__', 'computational_physics', 'print_message']\n"
     ]
    }
   ],
   "source": [
    "b = dir(mo2)\n",
    "\n",
    "print(b)"
   ]
  },
  {
   "cell_type": "markdown",
   "id": "e029df97",
   "metadata": {},
   "source": [
    "### 2. datetime\n",
    "\n",
    "https://docs.python.org/3/library/platform.html\n",
    "\n",
    "https://www.w3schools.com/python/python_datetime.asp"
   ]
  },
  {
   "cell_type": "code",
   "execution_count": 26,
   "id": "3618b177",
   "metadata": {},
   "outputs": [],
   "source": [
    "import datetime"
   ]
  },
  {
   "cell_type": "code",
   "execution_count": 27,
   "id": "f581ae1c",
   "metadata": {},
   "outputs": [
    {
     "name": "stdout",
     "output_type": "stream",
     "text": [
      "2022-08-10 14:24:47.606745\n"
     ]
    }
   ],
   "source": [
    "now = datetime.datetime.now()\n",
    "\n",
    "print(now)"
   ]
  },
  {
   "cell_type": "code",
   "execution_count": 28,
   "id": "b861a36e",
   "metadata": {},
   "outputs": [
    {
     "name": "stdout",
     "output_type": "stream",
     "text": [
      "2022-08-10 00:00:00\n"
     ]
    }
   ],
   "source": [
    "y = datetime.datetime.fromisoformat('2022-08-10')\n",
    "print(y)"
   ]
  },
  {
   "cell_type": "code",
   "execution_count": 29,
   "id": "87a948de",
   "metadata": {},
   "outputs": [
    {
     "name": "stdout",
     "output_type": "stream",
     "text": [
      "year: 2022\n",
      "month: 08\n",
      "day: 10\n",
      "time: 14:24:47\n",
      "date and time: 08/10/2022, 14:24:47\n"
     ]
    }
   ],
   "source": [
    "now = datetime.datetime.now() # current date and time\n",
    "\n",
    "year = now.strftime(\"%Y\")\n",
    "print(\"year:\", year)\n",
    "\n",
    "month = now.strftime(\"%m\")\n",
    "print(\"month:\", month)\n",
    "\n",
    "day = now.strftime(\"%d\")\n",
    "print(\"day:\", day)\n",
    "\n",
    "time = now.strftime(\"%H:%M:%S\")\n",
    "print(\"time:\", time)\n",
    "\n",
    "date_time = now.strftime(\"%m/%d/%Y, %H:%M:%S\")\n",
    "print(\"date and time:\",date_time)"
   ]
  }
 ],
 "metadata": {
  "kernelspec": {
   "display_name": "Python 3",
   "language": "python",
   "name": "python3"
  },
  "language_info": {
   "codemirror_mode": {
    "name": "ipython",
    "version": 3
   },
   "file_extension": ".py",
   "mimetype": "text/x-python",
   "name": "python",
   "nbconvert_exporter": "python",
   "pygments_lexer": "ipython3",
   "version": "3.7.10"
  }
 },
 "nbformat": 4,
 "nbformat_minor": 5
}
