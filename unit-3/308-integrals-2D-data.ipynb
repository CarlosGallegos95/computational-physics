{
 "cells": [
  {
   "cell_type": "markdown",
   "id": "db8a9698",
   "metadata": {},
   "source": [
    "# Integrals on the grid "
   ]
  },
  {
   "cell_type": "code",
   "execution_count": 27,
   "id": "d2b29fc8",
   "metadata": {},
   "outputs": [],
   "source": [
    "import numpy as np\n",
    "import matplotlib.pyplot as plt\n",
    "import pyvista as pv"
   ]
  },
  {
   "cell_type": "code",
   "execution_count": 28,
   "id": "7f19689b",
   "metadata": {},
   "outputs": [],
   "source": [
    "mesh = pv.read(\"./Wind-Cloud-MHD-Al/data.0000.vtk\")"
   ]
  },
  {
   "cell_type": "code",
   "execution_count": 29,
   "id": "67c57979",
   "metadata": {},
   "outputs": [
    {
     "name": "stdout",
     "output_type": "stream",
     "text": [
      "RectilinearGrid (0x10e05c3d0)\n",
      "  N Cells:\t1769472\n",
      "  N Points:\t1815937\n",
      "  X Bounds:\t-6.000e+00, 6.000e+00\n",
      "  Y Bounds:\t-2.000e+00, 2.200e+01\n",
      "  Z Bounds:\t-6.000e+00, 6.000e+00\n",
      "  Dimensions:\t97, 193, 97\n",
      "  N Arrays:\t9\n",
      "\n"
     ]
    }
   ],
   "source": [
    "print(mesh)"
   ]
  },
  {
   "cell_type": "code",
   "execution_count": 30,
   "id": "42116bc5",
   "metadata": {},
   "outputs": [],
   "source": [
    "rho = pv.get_array(mesh, \"rho\", preference = 'cell')\n",
    "\n",
    "tr1 = pv.get_array(mesh, \"tr1\", preference = 'cell')"
   ]
  },
  {
   "cell_type": "code",
   "execution_count": 31,
   "id": "cf14a52b",
   "metadata": {},
   "outputs": [
    {
     "name": "stdout",
     "output_type": "stream",
     "text": [
      "(96, 192, 96)\n"
     ]
    }
   ],
   "source": [
    "rho3D = rho.reshape(mesh.dimensions[0] - 1, mesh.dimensions[1] - 1, mesh.dimensions[2] - 1)\n",
    "\n",
    "tr13D = tr1.reshape(mesh.dimensions[0] - 1, mesh.dimensions[1] - 1, mesh.dimensions[2] - 1)\n",
    "\n",
    "print(rho3D.shape)"
   ]
  },
  {
   "cell_type": "code",
   "execution_count": 32,
   "id": "393ab17b",
   "metadata": {},
   "outputs": [
    {
     "name": "stdout",
     "output_type": "stream",
     "text": [
      "48\n"
     ]
    }
   ],
   "source": [
    "print((mesh.dimensions[2] - 1)//2)\n"
   ]
  },
  {
   "cell_type": "code",
   "execution_count": 33,
   "id": "2be8e560",
   "metadata": {},
   "outputs": [],
   "source": [
    "rho2D = rho3D[((mesh.dimensions[2] - 1)//2),:,:]"
   ]
  },
  {
   "cell_type": "code",
   "execution_count": 34,
   "id": "2b253568",
   "metadata": {},
   "outputs": [
    {
     "name": "stdout",
     "output_type": "stream",
     "text": [
      "(192, 96)\n"
     ]
    }
   ],
   "source": [
    "print(rho2D.shape)"
   ]
  },
  {
   "cell_type": "code",
   "execution_count": 35,
   "id": "82c8466b",
   "metadata": {},
   "outputs": [
    {
     "data": {
      "text/plain": [
       "<matplotlib.image.AxesImage at 0x10e05fad0>"
      ]
     },
     "execution_count": 35,
     "metadata": {},
     "output_type": "execute_result"
    },
    {
     "data": {
      "image/png": "[encoded data removed]",
      "text/plain": [
       "<Figure size 432x288 with 1 Axes>"
      ]
     },
     "metadata": {
      "needs_background": "light"
     },
     "output_type": "display_data"
    }
   ],
   "source": [
    "%matplotlib inline\n",
    "plt.imshow(np.log10(rho2D))"
   ]
  },
  {
   "cell_type": "code",
   "execution_count": 47,
   "id": "a5620f7c",
   "metadata": {},
   "outputs": [],
   "source": [
    "x = np.linspace(mesh.bounds[0], mesh.bounds[1], mesh.dimensions[0] - 1, dtype = float)\n",
    "y = np.linspace(mesh.bounds[2], mesh.bounds[3], mesh.dimensions[1] - 1, dtype = float)\n",
    "z = np.linspace(mesh.bounds[4], mesh.bounds[5], mesh.dimensions[2] - 1, dtype = float)"
   ]
  },
  {
   "cell_type": "code",
   "execution_count": 48,
   "id": "abf27147",
   "metadata": {},
   "outputs": [
    {
     "name": "stdout",
     "output_type": "stream",
     "text": [
      "[-6.         -5.87368421 -5.74736842 -5.62105263 -5.49473684 -5.36842105\n",
      " -5.24210526 -5.11578947 -4.98947368 -4.86315789 -4.73684211 -4.61052632\n",
      " -4.48421053 -4.35789474 -4.23157895 -4.10526316 -3.97894737 -3.85263158\n",
      " -3.72631579 -3.6        -3.47368421 -3.34736842 -3.22105263 -3.09473684\n",
      " -2.96842105 -2.84210526 -2.71578947 -2.58947368 -2.46315789 -2.33684211\n",
      " -2.21052632 -2.08421053 -1.95789474 -1.83157895 -1.70526316 -1.57894737\n",
      " -1.45263158 -1.32631579 -1.2        -1.07368421 -0.94736842 -0.82105263\n",
      " -0.69473684 -0.56842105 -0.44210526 -0.31578947 -0.18947368 -0.06315789\n",
      "  0.06315789  0.18947368  0.31578947  0.44210526  0.56842105  0.69473684\n",
      "  0.82105263  0.94736842  1.07368421  1.2         1.32631579  1.45263158\n",
      "  1.57894737  1.70526316  1.83157895  1.95789474  2.08421053  2.21052632\n",
      "  2.33684211  2.46315789  2.58947368  2.71578947  2.84210526  2.96842105\n",
      "  3.09473684  3.22105263  3.34736842  3.47368421  3.6         3.72631579\n",
      "  3.85263158  3.97894737  4.10526316  4.23157895  4.35789474  4.48421053\n",
      "  4.61052632  4.73684211  4.86315789  4.98947368  5.11578947  5.24210526\n",
      "  5.36842105  5.49473684  5.62105263  5.74736842  5.87368421  6.        ]\n"
     ]
    }
   ],
   "source": [
    "print(x)"
   ]
  },
  {
   "cell_type": "code",
   "execution_count": 49,
   "id": "af2b75cf",
   "metadata": {},
   "outputs": [
    {
     "name": "stdout",
     "output_type": "stream",
     "text": [
      "[-2.00000000e+00 -1.87434555e+00 -1.74869110e+00 -1.62303665e+00\n",
      " -1.49738220e+00 -1.37172775e+00 -1.24607330e+00 -1.12041885e+00\n",
      " -9.94764398e-01 -8.69109948e-01 -7.43455497e-01 -6.17801047e-01\n",
      " -4.92146597e-01 -3.66492147e-01 -2.40837696e-01 -1.15183246e-01\n",
      "  1.04712042e-02  1.36125654e-01  2.61780105e-01  3.87434555e-01\n",
      "  5.13089005e-01  6.38743455e-01  7.64397906e-01  8.90052356e-01\n",
      "  1.01570681e+00  1.14136126e+00  1.26701571e+00  1.39267016e+00\n",
      "  1.51832461e+00  1.64397906e+00  1.76963351e+00  1.89528796e+00\n",
      "  2.02094241e+00  2.14659686e+00  2.27225131e+00  2.39790576e+00\n",
      "  2.52356021e+00  2.64921466e+00  2.77486911e+00  2.90052356e+00\n",
      "  3.02617801e+00  3.15183246e+00  3.27748691e+00  3.40314136e+00\n",
      "  3.52879581e+00  3.65445026e+00  3.78010471e+00  3.90575916e+00\n",
      "  4.03141361e+00  4.15706806e+00  4.28272251e+00  4.40837696e+00\n",
      "  4.53403141e+00  4.65968586e+00  4.78534031e+00  4.91099476e+00\n",
      "  5.03664921e+00  5.16230366e+00  5.28795812e+00  5.41361257e+00\n",
      "  5.53926702e+00  5.66492147e+00  5.79057592e+00  5.91623037e+00\n",
      "  6.04188482e+00  6.16753927e+00  6.29319372e+00  6.41884817e+00\n",
      "  6.54450262e+00  6.67015707e+00  6.79581152e+00  6.92146597e+00\n",
      "  7.04712042e+00  7.17277487e+00  7.29842932e+00  7.42408377e+00\n",
      "  7.54973822e+00  7.67539267e+00  7.80104712e+00  7.92670157e+00\n",
      "  8.05235602e+00  8.17801047e+00  8.30366492e+00  8.42931937e+00\n",
      "  8.55497382e+00  8.68062827e+00  8.80628272e+00  8.93193717e+00\n",
      "  9.05759162e+00  9.18324607e+00  9.30890052e+00  9.43455497e+00\n",
      "  9.56020942e+00  9.68586387e+00  9.81151832e+00  9.93717277e+00\n",
      "  1.00628272e+01  1.01884817e+01  1.03141361e+01  1.04397906e+01\n",
      "  1.05654450e+01  1.06910995e+01  1.08167539e+01  1.09424084e+01\n",
      "  1.10680628e+01  1.11937173e+01  1.13193717e+01  1.14450262e+01\n",
      "  1.15706806e+01  1.16963351e+01  1.18219895e+01  1.19476440e+01\n",
      "  1.20732984e+01  1.21989529e+01  1.23246073e+01  1.24502618e+01\n",
      "  1.25759162e+01  1.27015707e+01  1.28272251e+01  1.29528796e+01\n",
      "  1.30785340e+01  1.32041885e+01  1.33298429e+01  1.34554974e+01\n",
      "  1.35811518e+01  1.37068063e+01  1.38324607e+01  1.39581152e+01\n",
      "  1.40837696e+01  1.42094241e+01  1.43350785e+01  1.44607330e+01\n",
      "  1.45863874e+01  1.47120419e+01  1.48376963e+01  1.49633508e+01\n",
      "  1.50890052e+01  1.52146597e+01  1.53403141e+01  1.54659686e+01\n",
      "  1.55916230e+01  1.57172775e+01  1.58429319e+01  1.59685864e+01\n",
      "  1.60942408e+01  1.62198953e+01  1.63455497e+01  1.64712042e+01\n",
      "  1.65968586e+01  1.67225131e+01  1.68481675e+01  1.69738220e+01\n",
      "  1.70994764e+01  1.72251309e+01  1.73507853e+01  1.74764398e+01\n",
      "  1.76020942e+01  1.77277487e+01  1.78534031e+01  1.79790576e+01\n",
      "  1.81047120e+01  1.82303665e+01  1.83560209e+01  1.84816754e+01\n",
      "  1.86073298e+01  1.87329843e+01  1.88586387e+01  1.89842932e+01\n",
      "  1.91099476e+01  1.92356021e+01  1.93612565e+01  1.94869110e+01\n",
      "  1.96125654e+01  1.97382199e+01  1.98638743e+01  1.99895288e+01\n",
      "  2.01151832e+01  2.02408377e+01  2.03664921e+01  2.04921466e+01\n",
      "  2.06178010e+01  2.07434555e+01  2.08691099e+01  2.09947644e+01\n",
      "  2.11204188e+01  2.12460733e+01  2.13717277e+01  2.14973822e+01\n",
      "  2.16230366e+01  2.17486911e+01  2.18743455e+01  2.20000000e+01]\n"
     ]
    }
   ],
   "source": [
    "print(y)"
   ]
  },
  {
   "cell_type": "code",
   "execution_count": 50,
   "id": "68d1deeb",
   "metadata": {},
   "outputs": [
    {
     "name": "stdout",
     "output_type": "stream",
     "text": [
      "(192, 96)\n"
     ]
    }
   ],
   "source": [
    "X, Y = np.meshgrid(x, y)\n",
    "\n",
    "print(X.shape)"
   ]
  },
  {
   "cell_type": "code",
   "execution_count": 51,
   "id": "2a874f45",
   "metadata": {},
   "outputs": [
    {
     "name": "stdout",
     "output_type": "stream",
     "text": [
      "0.12631578947368372 0.12565445026178024\n"
     ]
    }
   ],
   "source": [
    "print(x[2] - x[1], y[2] - y[1])"
   ]
  },
  {
   "cell_type": "code",
   "execution_count": 39,
   "id": "6c8d4aaa",
   "metadata": {},
   "outputs": [
    {
     "name": "stderr",
     "output_type": "stream",
     "text": [
      "/Users/webb/opt/anaconda3/envs/py37/lib/python3.7/site-packages/ipykernel_launcher.py:3: MatplotlibDeprecationWarning: shading='flat' when X and Y have the same dimensions as C is deprecated since 3.3.  Either specify the corners of the quadrilaterals with X and Y, or pass shading='auto', 'nearest' or 'gouraud', or set rcParams['pcolor.shading'].  This will become an error two minor releases later.\n",
      "  This is separate from the ipykernel package so we can avoid doing imports until\n"
     ]
    },
    {
     "data": {
      "image/png": "[encoded data removed]",
      "text/plain": [
       "<Figure size 576x864 with 2 Axes>"
      ]
     },
     "metadata": {
      "needs_background": "light"
     },
     "output_type": "display_data"
    }
   ],
   "source": [
    "plt.figure(figsize = (8,12))\n",
    "\n",
    "Z1 = plt.pcolor(X, Y, np.log10(rho2D))#, cmap = 'viridis', shading = 'auto', vmin = 0, vmax= 4.e-24)\n",
    "#Z2 = plt.quiver(X, Y, vx1_cgs2D, vx2_cgs2D, modulus_velocity, cmap = 'Oranges')\n",
    "\n",
    "CB1 = plt.colorbar(Z1)\n",
    "#CB2 = plt.colorbar(Z2)\n",
    "\n",
    "#CB1.set_label('Density', size=18)\n",
    "#CB2.set_label('Velocity', size=18)\n",
    "\n",
    "plt.xticks(fontsize=18)\n",
    "plt.yticks(fontsize=18)\n",
    "\n",
    "plt.show()"
   ]
  },
  {
   "cell_type": "code",
   "execution_count": 40,
   "id": "b11f8622",
   "metadata": {},
   "outputs": [
    {
     "name": "stdout",
     "output_type": "stream",
     "text": [
      "(96, 192)\n",
      "(192,)\n",
      "(192,)\n",
      "[-2.00000000e+00 -1.87434555e+00 -1.74869110e+00 -1.62303665e+00\n",
      " -1.49738220e+00 -1.37172775e+00 -1.24607330e+00 -1.12041885e+00\n",
      " -9.94764398e-01 -8.69109948e-01 -7.43455497e-01 -6.17801047e-01\n",
      " -4.92146597e-01 -3.66492147e-01 -2.40837696e-01 -1.15183246e-01\n",
      "  1.04712042e-02  1.36125654e-01  2.61780105e-01  3.87434555e-01\n",
      "  5.13089005e-01  6.38743455e-01  7.64397906e-01  8.90052356e-01\n",
      "  1.01570681e+00  1.14136126e+00  1.26701571e+00  1.39267016e+00\n",
      "  1.51832461e+00  1.64397906e+00  1.76963351e+00  1.89528796e+00\n",
      "  2.02094241e+00  2.14659686e+00  2.27225131e+00  2.39790576e+00\n",
      "  2.52356021e+00  2.64921466e+00  2.77486911e+00  2.90052356e+00\n",
      "  3.02617801e+00  3.15183246e+00  3.27748691e+00  3.40314136e+00\n",
      "  3.52879581e+00  3.65445026e+00  3.78010471e+00  3.90575916e+00\n",
      "  4.03141361e+00  4.15706806e+00  4.28272251e+00  4.40837696e+00\n",
      "  4.53403141e+00  4.65968586e+00  4.78534031e+00  4.91099476e+00\n",
      "  5.03664921e+00  5.16230366e+00  5.28795812e+00  5.41361257e+00\n",
      "  5.53926702e+00  5.66492147e+00  5.79057592e+00  5.91623037e+00\n",
      "  6.04188482e+00  6.16753927e+00  6.29319372e+00  6.41884817e+00\n",
      "  6.54450262e+00  6.67015707e+00  6.79581152e+00  6.92146597e+00\n",
      "  7.04712042e+00  7.17277487e+00  7.29842932e+00  7.42408377e+00\n",
      "  7.54973822e+00  7.67539267e+00  7.80104712e+00  7.92670157e+00\n",
      "  8.05235602e+00  8.17801047e+00  8.30366492e+00  8.42931937e+00\n",
      "  8.55497382e+00  8.68062827e+00  8.80628272e+00  8.93193717e+00\n",
      "  9.05759162e+00  9.18324607e+00  9.30890052e+00  9.43455497e+00\n",
      "  9.56020942e+00  9.68586387e+00  9.81151832e+00  9.93717277e+00\n",
      "  1.00628272e+01  1.01884817e+01  1.03141361e+01  1.04397906e+01\n",
      "  1.05654450e+01  1.06910995e+01  1.08167539e+01  1.09424084e+01\n",
      "  1.10680628e+01  1.11937173e+01  1.13193717e+01  1.14450262e+01\n",
      "  1.15706806e+01  1.16963351e+01  1.18219895e+01  1.19476440e+01\n",
      "  1.20732984e+01  1.21989529e+01  1.23246073e+01  1.24502618e+01\n",
      "  1.25759162e+01  1.27015707e+01  1.28272251e+01  1.29528796e+01\n",
      "  1.30785340e+01  1.32041885e+01  1.33298429e+01  1.34554974e+01\n",
      "  1.35811518e+01  1.37068063e+01  1.38324607e+01  1.39581152e+01\n",
      "  1.40837696e+01  1.42094241e+01  1.43350785e+01  1.44607330e+01\n",
      "  1.45863874e+01  1.47120419e+01  1.48376963e+01  1.49633508e+01\n",
      "  1.50890052e+01  1.52146597e+01  1.53403141e+01  1.54659686e+01\n",
      "  1.55916230e+01  1.57172775e+01  1.58429319e+01  1.59685864e+01\n",
      "  1.60942408e+01  1.62198953e+01  1.63455497e+01  1.64712042e+01\n",
      "  1.65968586e+01  1.67225131e+01  1.68481675e+01  1.69738220e+01\n",
      "  1.70994764e+01  1.72251309e+01  1.73507853e+01  1.74764398e+01\n",
      "  1.76020942e+01  1.77277487e+01  1.78534031e+01  1.79790576e+01\n",
      "  1.81047120e+01  1.82303665e+01  1.83560209e+01  1.84816754e+01\n",
      "  1.86073298e+01  1.87329843e+01  1.88586387e+01  1.89842932e+01\n",
      "  1.91099476e+01  1.92356021e+01  1.93612565e+01  1.94869110e+01\n",
      "  1.96125654e+01  1.97382199e+01  1.98638743e+01  1.99895288e+01\n",
      "  2.01151832e+01  2.02408377e+01  2.03664921e+01  2.04921466e+01\n",
      "  2.06178010e+01  2.07434555e+01  2.08691099e+01  2.09947644e+01\n",
      "  2.11204188e+01  2.12460733e+01  2.13717277e+01  2.14973822e+01\n",
      "  2.16230366e+01  2.17486911e+01  2.18743455e+01  2.20000000e+01]\n"
     ]
    }
   ],
   "source": [
    "A = (np.sum(rho3D*tr13D,axis=2, dtype = float))\n",
    "\n",
    "B = np.sum(np.sum(rho3D*tr13D,axis=2, dtype = float), axis = 0)\n",
    "     \n",
    "print(A.shape)\n",
    "print(B.shape)\n",
    "print(y.shape)\n",
    "\n",
    "print(y)"
   ]
  },
  {
   "cell_type": "code",
   "execution_count": 41,
   "id": "d3a578cf",
   "metadata": {},
   "outputs": [],
   "source": [
    "#Centre of mass\n",
    "cmx = np.sum(np.sum(np.sum(rho3D*tr13D,axis=2, dtype = float),axis=1, dtype = float)*(x), dtype = float)/np.sum(rho3D*tr13D, dtype = float)\n",
    "cmy = np.sum(np.sum(np.sum(rho3D*tr13D,axis=2, dtype = float),axis=0, dtype = float)*(y), dtype = float)/np.sum(rho3D*tr13D, dtype = float)\n",
    "cmz = np.sum(np.sum(np.sum(rho3D*tr13D,axis=1, dtype = float),axis=0, dtype = float)*(z), dtype = float)/np.sum(rho3D*tr13D, dtype = float) "
   ]
  },
  {
   "cell_type": "code",
   "execution_count": 42,
   "id": "acbefe31",
   "metadata": {},
   "outputs": [
    {
     "data": {
      "text/plain": [
       "-0.052356020942408474"
      ]
     },
     "execution_count": 42,
     "metadata": {},
     "output_type": "execute_result"
    }
   ],
   "source": [
    "cmy\n"
   ]
  },
  {
   "cell_type": "code",
   "execution_count": null,
   "id": "575b7f51",
   "metadata": {},
   "outputs": [],
   "source": []
  },
  {
   "cell_type": "code",
   "execution_count": null,
   "id": "c5cb52ef",
   "metadata": {},
   "outputs": [],
   "source": []
  },
  {
   "cell_type": "code",
   "execution_count": null,
   "id": "eae8a90d",
   "metadata": {},
   "outputs": [],
   "source": []
  }
 ],
 "metadata": {
  "kernelspec": {
   "display_name": "Python 3",
   "language": "python",
   "name": "python3"
  },
  "language_info": {
   "codemirror_mode": {
    "name": "ipython",
    "version": 3
   },
   "file_extension": ".py",
   "mimetype": "text/x-python",
   "name": "python",
   "nbconvert_exporter": "python",
   "pygments_lexer": "ipython3",
   "version": "3.7.10"
  }
 },
 "nbformat": 4,
 "nbformat_minor": 5
}
