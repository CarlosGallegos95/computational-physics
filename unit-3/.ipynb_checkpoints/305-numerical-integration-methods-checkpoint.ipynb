{
 "cells": [
  {
   "cell_type": "markdown",
   "id": "596d347f",
   "metadata": {},
   "source": [
    "# Numerical Integration"
   ]
  },
  {
   "cell_type": "markdown",
   "id": "5c22b9e4",
   "metadata": {},
   "source": [
    "### Example:\n",
    "\n",
    "Calculate the integral of:\n",
    "\n",
    "$f(x) = \\int_0^{\\pi}\\sin(x)\\,dx$ "
   ]
  },
  {
   "cell_type": "code",
   "execution_count": 1,
   "id": "9c7e87ab",
   "metadata": {},
   "outputs": [],
   "source": [
    "import numpy as np\n",
    "import matplotlib.pyplot as plt\n",
    "from sympy import *\n",
    "import sympy as sp"
   ]
  },
  {
   "cell_type": "markdown",
   "id": "8b0118d9",
   "metadata": {},
   "source": [
    "## 1. Using sympy (symbolic algebra):\n",
    "\n",
    "We can use the integrate() function to calculate both the undefined and defined integral of analytical functions:\n",
    "\n",
    "https://docs.sympy.org/latest/modules/integrals/integrals.html\n"
   ]
  },
  {
   "cell_type": "code",
   "execution_count": 2,
   "id": "6af11362",
   "metadata": {},
   "outputs": [
    {
     "name": "stdout",
     "output_type": "stream",
     "text": [
      "-cos(x)\n"
     ]
    }
   ],
   "source": [
    "x = sp.Symbol('x')\n",
    "\n",
    "y = sp.integrate(sin(x), x)\n",
    "\n",
    "print(y)"
   ]
  },
  {
   "cell_type": "code",
   "execution_count": 3,
   "id": "16d74838",
   "metadata": {},
   "outputs": [
    {
     "name": "stdout",
     "output_type": "stream",
     "text": [
      "2.00000000000000\n"
     ]
    }
   ],
   "source": [
    "y_eval = integrate(sin(x), (x, 0, np.pi))\n",
    "\n",
    "print(y_eval)"
   ]
  },
  {
   "cell_type": "markdown",
   "id": "02226fd5",
   "metadata": {},
   "source": [
    "### Plot:"
   ]
  },
  {
   "cell_type": "code",
   "execution_count": 4,
   "id": "9b5d8a5f",
   "metadata": {},
   "outputs": [
    {
     "data": {
      "text/plain": [
       "[<matplotlib.lines.Line2D at 0x11a362250>]"
      ]
     },
     "execution_count": 4,
     "metadata": {},
     "output_type": "execute_result"
    },
    {
     "data": {
      "image/png": "[encoded data removed]",
      "text/plain": [
       "<Figure size 432x288 with 1 Axes>"
      ]
     },
     "metadata": {
      "needs_background": "light"
     },
     "output_type": "display_data"
    }
   ],
   "source": [
    "%matplotlib inline\n",
    "\n",
    "x = np.arange(0, np.pi, 0.01)\n",
    "\n",
    "y = np.sin(x)\n",
    "\n",
    "plt.plot(x, y)"
   ]
  },
  {
   "cell_type": "markdown",
   "id": "09914ba6",
   "metadata": {},
   "source": [
    "## 2. Using Riemanns Integral:\n",
    "\n",
    "We can approximate integrals by summing the area of rectangles under the curve.\n",
    "\n",
    "The width of the rectangle is $x_{i+1} - x_i = h$, and its height is defined by the function $f(x)$ evaluated for the interval, $h$.\n",
    "\n",
    "We have three options:\n",
    "\n",
    "1. We can choose the left point, $x_i$, to evaluate $f(x_i)$ and get $O(h)$ for:\n",
    "\n",
    "$$\\int_a^b f(x) dx \\approx \\sum_{i = 0}^{n-1} hf(x_i),$$\n",
    "\n",
    "2. We can choose the right point, $x_{i+1}$, to evaluate $f(x_{i+1})$ and get $O(h)$ for:\n",
    "\n",
    "$$\\int_a^b f(x) dx \\approx \\sum_{i = 1}^{n} hf(x_i),$$\n",
    "\n",
    "3. We can choose the mid point, $x_{mid} = \\frac{x_{i+1} + x_i}{2}$, to evaluate $f(x_{mid})$ and get $O(h^2)$ for:\n",
    "\n",
    "$$\\int_a^b f(x)dx \\approx \\sum_{i = 0}^{n-1} hf(y_i)$$\n",
    "\n",
    "where $y_i = \\frac{x_{i+1} + x_i}{2}$.\n",
    "\n",
    "Based on: https://pythonnumericalmethods.berkeley.edu/notebooks/chapter21.02-Riemanns-Integral.html"
   ]
  },
  {
   "cell_type": "markdown",
   "id": "e3665635",
   "metadata": {},
   "source": [
    "### 2.1. Left and right Riemann integrals:\n",
    "\n",
    "Calculate the integral of:\n",
    "\n",
    "$f(x) = \\int_0^{\\pi}\\sin(x)\\,dx$ \n",
    "\n",
    "using the Riemann left and right approximations and compare the errors to the actual value."
   ]
  },
  {
   "cell_type": "code",
   "execution_count": 5,
   "id": "225747f1",
   "metadata": {},
   "outputs": [],
   "source": [
    "# Integration limits\n",
    "x_0 = 0\n",
    "x_1 = np.pi\n",
    "\n",
    "# Number of rectangles\n",
    "n = 10\n",
    "\n",
    "# x and y vectors\n",
    "x = np.linspace(x_0, x_1, n)\n",
    "y = np.sin(x)"
   ]
  },
  {
   "cell_type": "code",
   "execution_count": 6,
   "id": "ec6c131e",
   "metadata": {},
   "outputs": [],
   "source": [
    "# Rectangle width\n",
    "h = (x_1 - x_0)/(n - 1)"
   ]
  },
  {
   "cell_type": "code",
   "execution_count": 7,
   "id": "9e319154",
   "metadata": {},
   "outputs": [
    {
     "name": "stdout",
     "output_type": "stream",
     "text": [
      "1.979650811216484 1.979650811216484\n"
     ]
    }
   ],
   "source": [
    "# Left and right Riemann approximations:\n",
    "left_riemann = h * sum(np.sin(x[:n-1]))\n",
    "\n",
    "right_riemann = h * sum(np.sin(x[1:]))\n",
    "\n",
    "print(left_riemann, right_riemann)"
   ]
  },
  {
   "cell_type": "markdown",
   "id": "85d6d858",
   "metadata": {},
   "source": [
    "#### Integration errors:"
   ]
  },
  {
   "cell_type": "code",
   "execution_count": 8,
   "id": "ee693621",
   "metadata": {},
   "outputs": [
    {
     "name": "stdout",
     "output_type": "stream",
     "text": [
      "h = 0.3490658503988659 , O_{left} = 0.0203491887835161 , O_{right} = 0.0203491887835161\n"
     ]
    }
   ],
   "source": [
    "error_left_riemann = np.abs(y_eval - left_riemann)\n",
    "\n",
    "error_right_riemann = np.abs(y_eval - right_riemann)\n",
    "\n",
    "print('h =', h, ', O_{left} =', error_left_riemann, ', O_{right} =', error_right_riemann)"
   ]
  },
  {
   "cell_type": "markdown",
   "id": "bdc2fa6e",
   "metadata": {},
   "source": [
    "### 2.2. Midpoint Riemann integral"
   ]
  },
  {
   "cell_type": "code",
   "execution_count": 9,
   "id": "314a1ec9",
   "metadata": {},
   "outputs": [],
   "source": [
    "# Mid-point:\n",
    "\n",
    "x_mid = (x[:n-1] + x[1:])/2"
   ]
  },
  {
   "cell_type": "code",
   "execution_count": 10,
   "id": "11235a5c",
   "metadata": {},
   "outputs": [
    {
     "name": "stdout",
     "output_type": "stream",
     "text": [
      "2.01019011595042\n"
     ]
    }
   ],
   "source": [
    "# Midpint integral\n",
    "\n",
    "midpoint_riemann = h * sum(np.sin(x_mid))\n",
    "print(midpoint_riemann)"
   ]
  },
  {
   "cell_type": "markdown",
   "id": "857b417e",
   "metadata": {},
   "source": [
    "#### Integration error:"
   ]
  },
  {
   "cell_type": "code",
   "execution_count": 11,
   "id": "60b39914",
   "metadata": {},
   "outputs": [
    {
     "name": "stdout",
     "output_type": "stream",
     "text": [
      "0.0101901159504201\n"
     ]
    }
   ],
   "source": [
    "error_midpoint_riemann = np.abs(y_eval - midpoint_riemann)\n",
    "\n",
    "print(error_midpoint_riemann)"
   ]
  },
  {
   "cell_type": "code",
   "execution_count": 12,
   "id": "559aa155",
   "metadata": {},
   "outputs": [
    {
     "name": "stdout",
     "output_type": "stream",
     "text": [
      "h = 0.0425326154736623 , O_{mid} = 0.0101901159504201\n"
     ]
    }
   ],
   "source": [
    "print('h =', h**3, ', O_{mid} =', error_midpoint_riemann)"
   ]
  },
  {
   "cell_type": "markdown",
   "id": "db73a5e6",
   "metadata": {},
   "source": [
    "## 3. Using the Trapezoid Rule:\n",
    "\n",
    "Instead of rectangles, this method fits trapezoids into each subintervals, and then it sums the areas of the trapezoids to approximate the total integral.\n",
    "\n",
    "For each subinterval along $x$, the trapezoid rule computes the area:\n",
    "\n",
    "$h\\frac{f(x_i) + f(x_{i+1})}{2}$\n",
    "\n",
    "of a trapezoid with corners at:\n",
    "\n",
    "1. $(x_i, 0)$\n",
    "\n",
    "2. $(x_{i+1}, 0)$\n",
    "\n",
    "3. $(x_i, f(x_i))$\n",
    "\n",
    "4. $(x_{i+1}, f(x_{i+1}))$.\n",
    "\n",
    "The Trapezoid Rule approximates integrals according to the expression:\n",
    "\n",
    "$$\\int_a^b f(x) dx \\approx \\sum_{i=0}^{n-1} h\\frac{f(x_i) + f(x_{i+1})}{2}.$$"
   ]
  },
  {
   "cell_type": "code",
   "execution_count": 13,
   "id": "133eb7d1",
   "metadata": {},
   "outputs": [
    {
     "name": "stdout",
     "output_type": "stream",
     "text": [
      "1.9796508112164835\n"
     ]
    }
   ],
   "source": [
    "# Trapezoid area\n",
    "\n",
    "trapezoid_1 = sum(0.5*h*(y[:n-1] + y[1:]))\n",
    "\n",
    "print(trapezoid_1)"
   ]
  },
  {
   "cell_type": "markdown",
   "id": "6818ecf5",
   "metadata": {},
   "source": [
    "The trapezoid rule \"double-counts\" most of the terms in the series:\n",
    "\n",
    "\\begin{eqnarray*}\\sum_{i=0}^{n-1} h\\frac{f(x_i) + f(x_{i+1})}{2} &=& \\frac{h}{2} \\left[(f(x_0) + f(x_1)) + (f(x_1) + f(x_2)) + (f(x_2)\\right. \\\\\n",
    "&&\\left. + f(x_3)) + \\cdots + (f(x_{n-1}) + f(x_n))\\right].\\end{eqnarray*}\n",
    "\n",
    "We can be more computationally efficient using the following expression.\n",
    "\n",
    "$$\\int_a^b f(x) dx \\approx \\frac{h}{2} \\left(f(x_0) + 2 \\left(\\sum_{i=1}^{n-1} f(x_i)\\right) + f(x_n)\\right).$$"
   ]
  },
  {
   "cell_type": "code",
   "execution_count": 14,
   "id": "fa15c7a0",
   "metadata": {},
   "outputs": [
    {
     "name": "stdout",
     "output_type": "stream",
     "text": [
      "1.979650811216484\n"
     ]
    }
   ],
   "source": [
    "# Trapezoid area\n",
    "trapezoid_2 = (h/2)*(y[0] + 2 * sum(y[1:n-1]) + y[n-1])\n",
    "\n",
    "print(trapezoid_2)"
   ]
  },
  {
   "cell_type": "markdown",
   "id": "e559dc0e",
   "metadata": {},
   "source": [
    "#### Error estimation:"
   ]
  },
  {
   "cell_type": "code",
   "execution_count": 15,
   "id": "83e1b92c",
   "metadata": {},
   "outputs": [
    {
     "name": "stdout",
     "output_type": "stream",
     "text": [
      "h = 0.12184696791468343 , O_{trap} = 0.0203491887835161\n"
     ]
    }
   ],
   "source": [
    "error_trapezoid = np.abs(y_eval - trapezoid_2)\n",
    "\n",
    "print('h =', h**2, ', O_{trap} =', error_trapezoid)"
   ]
  },
  {
   "cell_type": "markdown",
   "id": "27a92af2",
   "metadata": {},
   "source": [
    "## 4. Using Simpson's rule:\n",
    "\n",
    "The Simpson's Rule approximates the area under $f(x)$ over these two subintervals by fitting a quadratic polynomial through the points:\n",
    "\n",
    "1. $(x_{i-1}, f(x_{i-1}))$\n",
    "\n",
    "2. $(x_i, f(x_i))$\n",
    "\n",
    "3. $(x_{i+1}, f(x_{i+1}))$\n",
    "\n",
    "which is a unique polynomial, and then integrating the quadratic exactly.\n",
    "\n",
    "First, we construct the quadratic polynomial approximation of the function over the two subintervals. The easiest way to do this is to use Lagrange polynomials:\n",
    "\n",
    "\\begin{eqnarray*}P_i(x) &=& f(x_{i-1})\\frac{(x - x_i)(x - x_{i+1})}{(x_{i-1} - x_i)(x_{i-1} - x_{i+1})} + f(x_i)\\frac{(x - x_{i-1})(x - x_{i+1})}{(x_{i} - x_{i-1})(x_{i} - x_{i+1})}\\\\\n",
    "&&+ f(x_{i+1})\\frac{(x - x_{i-1})(x - x_{i})}{(x_{i+1} - x_{i-1})(x_{i+1} -\n",
    "x_{i})},\\end{eqnarray*}\n",
    "\n",
    "and with substitutions for $h$ results in\n",
    "\n",
    "$$P_i(x) = \\frac{f(x_{i-1})}{2h^2} (x - x_i)(x - x_{i+1}) - \\frac{f(x_i)}{h^2} (x - x_{i-1})(x - x_{i+1}) + \\frac{f(x_{i+1})}{2h^2} (x - x_{i-1})(x - x_{i}).$$\n",
    "\n",
    "You can confirm that the polynomial intersects the desired points. With some algebra and manipulation, the integral of $P_i(x)$ over the two subintervals is\n",
    "\n",
    "$$\\int_{x_{i-1}}^{x_{i+1}} P_i(x) dx = \\frac{h}{3}(f(x_{i-1}) + 4f(x_i) + f(x_{i+1}).$$\n",
    "\n",
    "To approximate the integral over $(a, b)$, we must sum the integrals of $P_i(x)$ over every *two* subintervals since $P_i(x)$ spans two subintervals. Substituting $\\frac{h}{3}(f(x_{i-1}) + 4f(x_i) + f(x_{i+1}))$ for the integral of $P_i(x)$ and regrouping the terms for efficiency leads to the formula\n",
    "\n",
    "$$\\int_a^b f(x) dx \\approx \\frac{h}{3} \\left[f(x_0)+4 \\left(\\sum_{i=1, i\\  {\\text{odd}}}^{n-1}f(x_i)\\right)+2 \\left(\\sum_{i=2, i\\  {\\text{even}}}^{n-2}f(x_i)\\right)+f(x_n)\\right].$$\n",
    "\n",
    "Note that to use Simpson's Rule, we **must** have an even number of intervals and, therefore, an odd number of grid points."
   ]
  },
  {
   "cell_type": "code",
   "execution_count": 16,
   "id": "2de2f128",
   "metadata": {},
   "outputs": [
    {
     "name": "stdout",
     "output_type": "stream",
     "text": [
      "1.9000591097608057\n"
     ]
    }
   ],
   "source": [
    "simpson = (h/3) * (y[0] + 4*sum(y[1:n-1:2]) + + 2*sum(y[:n-2:2]) + y[n-1])\n",
    "\n",
    "print(simpson)"
   ]
  },
  {
   "cell_type": "markdown",
   "id": "063c1b6d",
   "metadata": {},
   "source": [
    "#### Error estimation:"
   ]
  },
  {
   "cell_type": "code",
   "execution_count": 17,
   "id": "0e5b0f35",
   "metadata": {},
   "outputs": [
    {
     "name": "stdout",
     "output_type": "stream",
     "text": [
      "h = 0.014846683590001892 , O_{simpson} = 0.0999408902391943\n"
     ]
    }
   ],
   "source": [
    "error_simpson = np.abs(y_eval - simpson)\n",
    "\n",
    "print('h =', h**4, ', O_{simpson} =', error_simpson)"
   ]
  },
  {
   "cell_type": "code",
   "execution_count": null,
   "id": "5b436820",
   "metadata": {},
   "outputs": [],
   "source": []
  }
 ],
 "metadata": {
  "kernelspec": {
   "display_name": "Python 3 (ipykernel)",
   "language": "python",
   "name": "python3"
  },
  "language_info": {
   "codemirror_mode": {
    "name": "ipython",
    "version": 3
   },
   "file_extension": ".py",
   "mimetype": "text/x-python",
   "name": "python",
   "nbconvert_exporter": "python",
   "pygments_lexer": "ipython3",
   "version": "3.7.16"
  }
 },
 "nbformat": 4,
 "nbformat_minor": 5
}
