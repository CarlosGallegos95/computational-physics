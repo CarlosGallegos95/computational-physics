{
 "cells": [
  {
   "cell_type": "markdown",
   "id": "cd9b6d9d",
   "metadata": {},
   "source": [
    "# Integrals on the grid "
   ]
  },
  {
   "cell_type": "code",
   "execution_count": 2,
   "id": "c553b936",
   "metadata": {},
   "outputs": [],
   "source": [
    "import numpy as np\n",
    "import matplotlib.pyplot as plt\n",
    "import pyvista as pv"
   ]
  },
  {
   "cell_type": "markdown",
   "id": "3078eefe",
   "metadata": {},
   "source": [
    "### Read mesh:"
   ]
  },
  {
   "cell_type": "code",
   "execution_count": 3,
   "id": "9aeed015",
   "metadata": {},
   "outputs": [],
   "source": [
    "mesh = pv.read(\"./Wind-Cloud-MHD-Al/data.0000.vtk\")"
   ]
  },
  {
   "cell_type": "code",
   "execution_count": 4,
   "id": "477636dd",
   "metadata": {},
   "outputs": [
    {
     "name": "stdout",
     "output_type": "stream",
     "text": [
      "RectilinearGrid (0x1273d46e0)\n",
      "  N Cells:\t1769472\n",
      "  N Points:\t1815937\n",
      "  X Bounds:\t-6.000e+00, 6.000e+00\n",
      "  Y Bounds:\t-2.000e+00, 2.200e+01\n",
      "  Z Bounds:\t-6.000e+00, 6.000e+00\n",
      "  Dimensions:\t97, 193, 97\n",
      "  N Arrays:\t9\n",
      "\n"
     ]
    }
   ],
   "source": [
    "print(mesh)"
   ]
  },
  {
   "cell_type": "code",
   "execution_count": 5,
   "id": "41aeaa0a",
   "metadata": {},
   "outputs": [
    {
     "name": "stdout",
     "output_type": "stream",
     "text": [
      "(97, 193, 97)\n"
     ]
    }
   ],
   "source": [
    "print(mesh.dimensions)"
   ]
  },
  {
   "cell_type": "code",
   "execution_count": 6,
   "id": "5254962b",
   "metadata": {},
   "outputs": [
    {
     "name": "stdout",
     "output_type": "stream",
     "text": [
      "1769472\n"
     ]
    }
   ],
   "source": [
    "print(mesh.n_cells)"
   ]
  },
  {
   "cell_type": "code",
   "execution_count": 7,
   "id": "8f6703f1",
   "metadata": {},
   "outputs": [
    {
     "name": "stdout",
     "output_type": "stream",
     "text": [
      "9\n"
     ]
    }
   ],
   "source": [
    "print(mesh.n_arrays)"
   ]
  },
  {
   "cell_type": "code",
   "execution_count": 8,
   "id": "b67b52e8",
   "metadata": {},
   "outputs": [
    {
     "name": "stdout",
     "output_type": "stream",
     "text": [
      "[0.0, 10.0, 0.0]\n"
     ]
    }
   ],
   "source": [
    "print(mesh.center)"
   ]
  },
  {
   "cell_type": "code",
   "execution_count": 9,
   "id": "4a624d69",
   "metadata": {},
   "outputs": [
    {
     "name": "stdout",
     "output_type": "stream",
     "text": [
      "pyvista DataSetAttributes\n",
      "Association     : CELL\n",
      "Active Scalars  : rho\n",
      "Active Vectors  : None\n",
      "Active Texture  : None\n",
      "Active Normals  : None\n",
      "Contains arrays :\n",
      "    rho                     float32  (1769472,)           SCALARS\n",
      "    vx1                     float32  (1769472,)\n",
      "    vx2                     float32  (1769472,)\n",
      "    vx3                     float32  (1769472,)\n",
      "    Bx1                     float32  (1769472,)\n",
      "    Bx2                     float32  (1769472,)\n",
      "    Bx3                     float32  (1769472,)\n",
      "    prs                     float32  (1769472,)\n",
      "    tr1                     float32  (1769472,)\n"
     ]
    }
   ],
   "source": [
    "print(mesh.cell_data)"
   ]
  },
  {
   "cell_type": "code",
   "execution_count": 10,
   "id": "a39539b3",
   "metadata": {},
   "outputs": [],
   "source": [
    "rho = pv.get_array(mesh, \"rho\", preference = \"cell\")"
   ]
  },
  {
   "cell_type": "code",
   "execution_count": 11,
   "id": "346ade6e",
   "metadata": {},
   "outputs": [
    {
     "name": "stdout",
     "output_type": "stream",
     "text": [
      "(1769472,)\n"
     ]
    }
   ],
   "source": [
    "print(rho.shape)"
   ]
  },
  {
   "cell_type": "code",
   "execution_count": 15,
   "id": "b04fd015",
   "metadata": {},
   "outputs": [
    {
     "name": "stdout",
     "output_type": "stream",
     "text": [
      "96\n"
     ]
    }
   ],
   "source": [
    "print(mesh.dimensions[2] - 1)"
   ]
  },
  {
   "cell_type": "code",
   "execution_count": 16,
   "id": "4212e4bd",
   "metadata": {},
   "outputs": [],
   "source": [
    "rho3D = rho.reshape(mesh.dimensions[0] - 1, mesh.dimensions[1] - 1, mesh.dimensions[2] - 1)"
   ]
  },
  {
   "cell_type": "code",
   "execution_count": 18,
   "id": "d94f282f",
   "metadata": {},
   "outputs": [
    {
     "name": "stdout",
     "output_type": "stream",
     "text": [
      "(96, 192, 96)\n"
     ]
    }
   ],
   "source": [
    "print(rho3D.shape)"
   ]
  },
  {
   "cell_type": "markdown",
   "id": "792d65c5",
   "metadata": {},
   "source": [
    "# Slicing 3D data"
   ]
  },
  {
   "cell_type": "code",
   "execution_count": 19,
   "id": "073ce4f8",
   "metadata": {},
   "outputs": [],
   "source": [
    "rho2D_48 = rho3D[48, :, :]"
   ]
  },
  {
   "cell_type": "code",
   "execution_count": 21,
   "id": "3bead39e",
   "metadata": {},
   "outputs": [
    {
     "name": "stdout",
     "output_type": "stream",
     "text": [
      "(192, 96)\n"
     ]
    }
   ],
   "source": [
    "print(rho2D_48.shape)"
   ]
  },
  {
   "cell_type": "code",
   "execution_count": 22,
   "id": "759e7c43",
   "metadata": {},
   "outputs": [
    {
     "data": {
      "text/plain": [
       "<matplotlib.image.AxesImage at 0x12eded1d0>"
      ]
     },
     "execution_count": 22,
     "metadata": {},
     "output_type": "execute_result"
    },
    {
     "data": {
      "image/png": "[encoded data removed]",
      "text/plain": [
       "<Figure size 432x288 with 1 Axes>"
      ]
     },
     "metadata": {
      "needs_background": "light"
     },
     "output_type": "display_data"
    }
   ],
   "source": [
    "%matplotlib inline\n",
    "\n",
    "plt.imshow(rho2D_48)"
   ]
  },
  {
   "cell_type": "markdown",
   "id": "2f9ee199",
   "metadata": {},
   "source": [
    "# Mesh grid:"
   ]
  },
  {
   "cell_type": "code",
   "execution_count": 29,
   "id": "2e2f8144",
   "metadata": {},
   "outputs": [
    {
     "name": "stdout",
     "output_type": "stream",
     "text": [
      "22.0\n"
     ]
    }
   ],
   "source": [
    "print(mesh.bounds[3])"
   ]
  },
  {
   "cell_type": "code",
   "execution_count": 30,
   "id": "d50bb990",
   "metadata": {},
   "outputs": [],
   "source": [
    "# Coordinates:\n",
    "\n",
    "x = np.linspace(mesh.bounds[0], mesh.bounds[1], mesh.dimensions[0] - 1)\n",
    "y = np.linspace(mesh.bounds[2], mesh.bounds[3], mesh.dimensions[1] - 1)\n",
    "z = np.linspace(mesh.bounds[4], mesh.bounds[5], mesh.dimensions[2] - 1)\n"
   ]
  },
  {
   "cell_type": "code",
   "execution_count": 55,
   "id": "0493b087",
   "metadata": {},
   "outputs": [
    {
     "name": "stdout",
     "output_type": "stream",
     "text": [
      "[-2.00000000e+00 -1.87434555e+00 -1.74869110e+00 -1.62303665e+00\n",
      " -1.49738220e+00 -1.37172775e+00 -1.24607330e+00 -1.12041885e+00\n",
      " -9.94764398e-01 -8.69109948e-01 -7.43455497e-01 -6.17801047e-01\n",
      " -4.92146597e-01 -3.66492147e-01 -2.40837696e-01 -1.15183246e-01\n",
      "  1.04712042e-02  1.36125654e-01  2.61780105e-01  3.87434555e-01\n",
      "  5.13089005e-01  6.38743455e-01  7.64397906e-01  8.90052356e-01\n",
      "  1.01570681e+00  1.14136126e+00  1.26701571e+00  1.39267016e+00\n",
      "  1.51832461e+00  1.64397906e+00  1.76963351e+00  1.89528796e+00\n",
      "  2.02094241e+00  2.14659686e+00  2.27225131e+00  2.39790576e+00\n",
      "  2.52356021e+00  2.64921466e+00  2.77486911e+00  2.90052356e+00\n",
      "  3.02617801e+00  3.15183246e+00  3.27748691e+00  3.40314136e+00\n",
      "  3.52879581e+00  3.65445026e+00  3.78010471e+00  3.90575916e+00\n",
      "  4.03141361e+00  4.15706806e+00  4.28272251e+00  4.40837696e+00\n",
      "  4.53403141e+00  4.65968586e+00  4.78534031e+00  4.91099476e+00\n",
      "  5.03664921e+00  5.16230366e+00  5.28795812e+00  5.41361257e+00\n",
      "  5.53926702e+00  5.66492147e+00  5.79057592e+00  5.91623037e+00\n",
      "  6.04188482e+00  6.16753927e+00  6.29319372e+00  6.41884817e+00\n",
      "  6.54450262e+00  6.67015707e+00  6.79581152e+00  6.92146597e+00\n",
      "  7.04712042e+00  7.17277487e+00  7.29842932e+00  7.42408377e+00\n",
      "  7.54973822e+00  7.67539267e+00  7.80104712e+00  7.92670157e+00\n",
      "  8.05235602e+00  8.17801047e+00  8.30366492e+00  8.42931937e+00\n",
      "  8.55497382e+00  8.68062827e+00  8.80628272e+00  8.93193717e+00\n",
      "  9.05759162e+00  9.18324607e+00  9.30890052e+00  9.43455497e+00\n",
      "  9.56020942e+00  9.68586387e+00  9.81151832e+00  9.93717277e+00\n",
      "  1.00628272e+01  1.01884817e+01  1.03141361e+01  1.04397906e+01\n",
      "  1.05654450e+01  1.06910995e+01  1.08167539e+01  1.09424084e+01\n",
      "  1.10680628e+01  1.11937173e+01  1.13193717e+01  1.14450262e+01\n",
      "  1.15706806e+01  1.16963351e+01  1.18219895e+01  1.19476440e+01\n",
      "  1.20732984e+01  1.21989529e+01  1.23246073e+01  1.24502618e+01\n",
      "  1.25759162e+01  1.27015707e+01  1.28272251e+01  1.29528796e+01\n",
      "  1.30785340e+01  1.32041885e+01  1.33298429e+01  1.34554974e+01\n",
      "  1.35811518e+01  1.37068063e+01  1.38324607e+01  1.39581152e+01\n",
      "  1.40837696e+01  1.42094241e+01  1.43350785e+01  1.44607330e+01\n",
      "  1.45863874e+01  1.47120419e+01  1.48376963e+01  1.49633508e+01\n",
      "  1.50890052e+01  1.52146597e+01  1.53403141e+01  1.54659686e+01\n",
      "  1.55916230e+01  1.57172775e+01  1.58429319e+01  1.59685864e+01\n",
      "  1.60942408e+01  1.62198953e+01  1.63455497e+01  1.64712042e+01\n",
      "  1.65968586e+01  1.67225131e+01  1.68481675e+01  1.69738220e+01\n",
      "  1.70994764e+01  1.72251309e+01  1.73507853e+01  1.74764398e+01\n",
      "  1.76020942e+01  1.77277487e+01  1.78534031e+01  1.79790576e+01\n",
      "  1.81047120e+01  1.82303665e+01  1.83560209e+01  1.84816754e+01\n",
      "  1.86073298e+01  1.87329843e+01  1.88586387e+01  1.89842932e+01\n",
      "  1.91099476e+01  1.92356021e+01  1.93612565e+01  1.94869110e+01\n",
      "  1.96125654e+01  1.97382199e+01  1.98638743e+01  1.99895288e+01\n",
      "  2.01151832e+01  2.02408377e+01  2.03664921e+01  2.04921466e+01\n",
      "  2.06178010e+01  2.07434555e+01  2.08691099e+01  2.09947644e+01\n",
      "  2.11204188e+01  2.12460733e+01  2.13717277e+01  2.14973822e+01\n",
      "  2.16230366e+01  2.17486911e+01  2.18743455e+01  2.20000000e+01]\n"
     ]
    }
   ],
   "source": [
    "print(y)"
   ]
  },
  {
   "cell_type": "code",
   "execution_count": 31,
   "id": "aaac44e0",
   "metadata": {},
   "outputs": [
    {
     "name": "stdout",
     "output_type": "stream",
     "text": [
      "96\n"
     ]
    }
   ],
   "source": [
    "print(x.size)"
   ]
  },
  {
   "cell_type": "code",
   "execution_count": 32,
   "id": "1d79e31d",
   "metadata": {},
   "outputs": [],
   "source": [
    "X, Y = np.meshgrid(x, y)"
   ]
  },
  {
   "cell_type": "code",
   "execution_count": 35,
   "id": "92307c17",
   "metadata": {},
   "outputs": [
    {
     "name": "stdout",
     "output_type": "stream",
     "text": [
      "(192, 96)\n",
      "(192, 96)\n"
     ]
    }
   ],
   "source": [
    "print(X.shape)\n",
    "print(Y.shape)"
   ]
  },
  {
   "cell_type": "code",
   "execution_count": 41,
   "id": "9257d91a",
   "metadata": {},
   "outputs": [
    {
     "data": {
      "image/png": "[encoded data removed]",
      "text/plain": [
       "<Figure size 288x720 with 2 Axes>"
      ]
     },
     "metadata": {
      "needs_background": "light"
     },
     "output_type": "display_data"
    }
   ],
   "source": [
    "plt.figure(figsize = (4, 10))\n",
    "\n",
    "Z = plt.pcolor(X, Y, np.log10(rho2D_48), shading='auto')\n",
    "\n",
    "plt.colorbar(Z)\n",
    "\n",
    "plt.show()"
   ]
  },
  {
   "cell_type": "code",
   "execution_count": 43,
   "id": "b2efb11c",
   "metadata": {},
   "outputs": [],
   "source": [
    "rho2D_00 = rho3D[0, :, :]"
   ]
  },
  {
   "cell_type": "code",
   "execution_count": 44,
   "id": "915c402d",
   "metadata": {},
   "outputs": [
    {
     "data": {
      "image/png": "[encoded data removed]",
      "text/plain": [
       "<Figure size 288x720 with 2 Axes>"
      ]
     },
     "metadata": {
      "needs_background": "light"
     },
     "output_type": "display_data"
    }
   ],
   "source": [
    "plt.figure(figsize = (4, 10))\n",
    "\n",
    "Z = plt.pcolor(X, Y, np.log10(rho2D_00), shading='auto')\n",
    "\n",
    "plt.colorbar(Z)\n",
    "\n",
    "plt.show()"
   ]
  },
  {
   "cell_type": "markdown",
   "id": "4a922e3d",
   "metadata": {},
   "source": [
    "## Integrated quantities\n",
    "\n",
    "### Example 1:\n",
    "\n",
    "Compute the mass:\n",
    "\n",
    "$M = \\int\\int\\int \\rho\\,dV = \\sum_i \\sum_j \\sum_k \\rho_{i,j,k}\\Delta V_{i,j,k}$\n",
    "\n",
    "The grid is uniform:\n",
    "\n",
    "$M = \\int\\int\\int \\rho\\,dV = \\Delta V\\,\\sum_i \\sum_j \\sum_k \\rho_{i,j,k}$\n",
    "\n",
    "$M = \\Delta x^3\\,\\sum_i \\sum_j \\sum_k \\rho_{i,j,k}$"
   ]
  },
  {
   "cell_type": "code",
   "execution_count": 54,
   "id": "8128f9ce",
   "metadata": {},
   "outputs": [
    {
     "name": "stdout",
     "output_type": "stream",
     "text": [
      "0.1263157894736846 0.12565445026178002 0.1263157894736846\n"
     ]
    }
   ],
   "source": [
    "# Delta x\n",
    "\n",
    "delta_x = x[1] - x[0]\n",
    "delta_y = y[1] - y[0]\n",
    "delta_z = z[1] - z[0]\n",
    "\n",
    "print(delta_x, delta_y, delta_z)"
   ]
  },
  {
   "cell_type": "code",
   "execution_count": 46,
   "id": "805d079f",
   "metadata": {},
   "outputs": [],
   "source": [
    "# mass\n",
    "\n",
    "total_mass = np.sum(rho3D)*delta_x**3"
   ]
  },
  {
   "cell_type": "code",
   "execution_count": 50,
   "id": "fa04bafd",
   "metadata": {},
   "outputs": [
    {
     "name": "stdout",
     "output_type": "stream",
     "text": [
      "419.5124665403159\n"
     ]
    }
   ],
   "source": [
    "print(total_mass)"
   ]
  },
  {
   "cell_type": "code",
   "execution_count": 51,
   "id": "430351c7",
   "metadata": {},
   "outputs": [],
   "source": [
    "total_mass1 = (delta_x**3)*np.sum(np.sum(np.sum(rho3D, axis = 2), axis =1), axis = 0)"
   ]
  },
  {
   "cell_type": "code",
   "execution_count": 53,
   "id": "d9e0be9f",
   "metadata": {},
   "outputs": [
    {
     "name": "stdout",
     "output_type": "stream",
     "text": [
      "419.51180521942365\n"
     ]
    }
   ],
   "source": [
    "print(total_mass1)"
   ]
  },
  {
   "cell_type": "code",
   "execution_count": null,
   "id": "302ac006",
   "metadata": {},
   "outputs": [],
   "source": []
  }
 ],
 "metadata": {
  "kernelspec": {
   "display_name": "Python 3",
   "language": "python",
   "name": "python3"
  },
  "language_info": {
   "codemirror_mode": {
    "name": "ipython",
    "version": 3
   },
   "file_extension": ".py",
   "mimetype": "text/x-python",
   "name": "python",
   "nbconvert_exporter": "python",
   "pygments_lexer": "ipython3",
   "version": "3.7.10"
  }
 },
 "nbformat": 4,
 "nbformat_minor": 5
}
