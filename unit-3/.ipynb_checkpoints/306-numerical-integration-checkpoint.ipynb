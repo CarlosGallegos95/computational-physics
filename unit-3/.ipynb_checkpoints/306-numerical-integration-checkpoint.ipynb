{
 "cells": [
  {
   "cell_type": "markdown",
   "id": "034d6a7c",
   "metadata": {},
   "source": [
    "# Numerical Integration"
   ]
  },
  {
   "cell_type": "code",
   "execution_count": 49,
   "id": "2944360a",
   "metadata": {},
   "outputs": [],
   "source": [
    "import numpy as np\n",
    "import matplotlib.pyplot as plt\n",
    "from sympy import *"
   ]
  },
  {
   "cell_type": "markdown",
   "id": "750f61ee",
   "metadata": {},
   "source": [
    "$f(x) = \\sin(x)$ "
   ]
  },
  {
   "cell_type": "code",
   "execution_count": 50,
   "id": "978bd18a",
   "metadata": {},
   "outputs": [
    {
     "data": {
      "text/latex": [
       "$\\displaystyle - \\cos{\\left(x \\right)}$"
      ],
      "text/plain": [
       "-cos(x)"
      ]
     },
     "execution_count": 50,
     "metadata": {},
     "output_type": "execute_result"
    }
   ],
   "source": [
    "x = Symbol('x')\n",
    "\n",
    "integrate(sin(x), x)"
   ]
  },
  {
   "cell_type": "code",
   "execution_count": 19,
   "id": "a9778ec9",
   "metadata": {},
   "outputs": [
    {
     "data": {
      "text/latex": [
       "$\\displaystyle 2.0$"
      ],
      "text/plain": [
       "2.00000000000000"
      ]
     },
     "execution_count": 19,
     "metadata": {},
     "output_type": "execute_result"
    }
   ],
   "source": [
    "integrate(sin(x), (x, 0, np.pi))"
   ]
  },
  {
   "cell_type": "markdown",
   "id": "e6f5a133",
   "metadata": {},
   "source": [
    "## 1. Riemanns Integral"
   ]
  },
  {
   "cell_type": "code",
   "execution_count": 36,
   "id": "b7db35cb",
   "metadata": {},
   "outputs": [],
   "source": [
    "a = 0\n",
    "b = np.pi\n",
    "n = 20\n",
    "\n",
    "h = (b - a) / (n - 1)\n",
    "x = np.linspace(a, b, n)\n",
    "y = np.sin(x)"
   ]
  },
  {
   "cell_type": "code",
   "execution_count": 37,
   "id": "2ed64a01",
   "metadata": {},
   "outputs": [
    {
     "data": {
      "text/plain": [
       "[<matplotlib.lines.Line2D at 0x11efbdc90>]"
      ]
     },
     "execution_count": 37,
     "metadata": {},
     "output_type": "execute_result"
    },
    {
     "data": {
      "image/png": "[encoded data removed]",
      "text/plain": [
       "<Figure size 432x288 with 1 Axes>"
      ]
     },
     "metadata": {
      "needs_background": "light"
     },
     "output_type": "display_data"
    }
   ],
   "source": [
    "%matplotlib inline\n",
    "\n",
    "plt.plot(x, y)"
   ]
  },
  {
   "cell_type": "code",
   "execution_count": 42,
   "id": "e488bddc",
   "metadata": {},
   "outputs": [
    {
     "name": "stdout",
     "output_type": "stream",
     "text": [
      "1.9954413183201947\n",
      "0.004558681679805332\n"
     ]
    }
   ],
   "source": [
    "I_riemannL = h * sum(y[:n-1])\n",
    "err_riemannL = 2 - I_riemannL\n",
    "\n",
    "print(I_riemannL)\n",
    "print(err_riemannL)"
   ]
  },
  {
   "cell_type": "code",
   "execution_count": 43,
   "id": "dc2c46ad",
   "metadata": {},
   "outputs": [
    {
     "name": "stdout",
     "output_type": "stream",
     "text": [
      "1.9954413183201947\n",
      "0.004558681679805332\n"
     ]
    }
   ],
   "source": [
    "I_riemannR = h * sum(y[1:])\n",
    "err_riemannR = 2 - I_riemannR\n",
    "\n",
    "print(I_riemannR)\n",
    "print(err_riemannR)"
   ]
  },
  {
   "cell_type": "code",
   "execution_count": 45,
   "id": "6f2eb560",
   "metadata": {},
   "outputs": [],
   "source": [
    "I_mid = h * sum(np.sin((x[:n-1] + x[1:])/2))\n",
    "err_mid = 2 - I_mid"
   ]
  },
  {
   "cell_type": "code",
   "execution_count": 41,
   "id": "d0c060b0",
   "metadata": {},
   "outputs": [
    {
     "name": "stdout",
     "output_type": "stream",
     "text": [
      "2.00228012007291\n",
      "-0.002280120072910119\n"
     ]
    }
   ],
   "source": [
    "print(I_mid)\n",
    "print(err_mid)"
   ]
  },
  {
   "cell_type": "markdown",
   "id": "e5a3ba0d",
   "metadata": {},
   "source": [
    "# Trapezoid rule"
   ]
  },
  {
   "cell_type": "code",
   "execution_count": 47,
   "id": "69fa920c",
   "metadata": {},
   "outputs": [
    {
     "name": "stdout",
     "output_type": "stream",
     "text": [
      "1.9835235375094546\n",
      "0.01647646249054535\n"
     ]
    }
   ],
   "source": [
    "I_trap = (h/2)*(f[0] + 2 * sum(f[1:n-1]) + f[n-1])\n",
    "err_trap = 2 - I_trap\n",
    "\n",
    "print(I_trap)\n",
    "print(err_trap)"
   ]
  },
  {
   "cell_type": "markdown",
   "id": "ce297a4f",
   "metadata": {},
   "source": [
    "# Simpson's rule"
   ]
  },
  {
   "cell_type": "code",
   "execution_count": 48,
   "id": "9f6619d4",
   "metadata": {},
   "outputs": [
    {
     "name": "stdout",
     "output_type": "stream",
     "text": [
      "2.0001095173150043\n",
      "-0.00010951731500430384\n"
     ]
    }
   ],
   "source": [
    "I_simp = (h/3) * (f[0] + 2*sum(f[:n-2:2]) \\\n",
    "            + 4*sum(f[1:n-1:2]) + f[n-1])\n",
    "err_simp = 2 - I_simp\n",
    "\n",
    "print(I_simp)\n",
    "print(err_simp)"
   ]
  },
  {
   "cell_type": "code",
   "execution_count": null,
   "id": "af11879f",
   "metadata": {},
   "outputs": [],
   "source": []
  }
 ],
 "metadata": {
  "kernelspec": {
   "display_name": "Python 3",
   "language": "python",
   "name": "python3"
  },
  "language_info": {
   "codemirror_mode": {
    "name": "ipython",
    "version": 3
   },
   "file_extension": ".py",
   "mimetype": "text/x-python",
   "name": "python",
   "nbconvert_exporter": "python",
   "pygments_lexer": "ipython3",
   "version": "3.7.10"
  }
 },
 "nbformat": 4,
 "nbformat_minor": 5
}
