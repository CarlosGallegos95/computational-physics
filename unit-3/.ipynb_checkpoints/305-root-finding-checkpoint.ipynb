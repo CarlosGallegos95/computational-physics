{
 "cells": [
  {
   "cell_type": "markdown",
   "id": "4e0dc3e7",
   "metadata": {},
   "source": [
    "# Root finding methods\n",
    "\n",
    "These are a collection of methods used to find where 1D functions are zero.\n",
    "\n",
    "\n",
    "## Example:\n",
    "\n",
    "Find the roots of:\n",
    "\n",
    "$f(x) = x^2 -1$"
   ]
  },
  {
   "cell_type": "code",
   "execution_count": 3,
   "id": "44da736c",
   "metadata": {},
   "outputs": [],
   "source": [
    "import numpy as np\n",
    "import matplotlib.pyplot as plt\n",
    "import scipy.optimize as opt"
   ]
  },
  {
   "cell_type": "code",
   "execution_count": 10,
   "id": "815facd5",
   "metadata": {},
   "outputs": [],
   "source": [
    "x = np.arange(-2, 2, 0.01)\n",
    "\n",
    "f = lambda x: x**2 - 1\n",
    "\n",
    "y = f(x)"
   ]
  },
  {
   "cell_type": "code",
   "execution_count": 11,
   "id": "c0d5374e",
   "metadata": {},
   "outputs": [
    {
     "data": {
      "text/plain": [
       "[<matplotlib.lines.Line2D at 0x117c2cfd0>]"
      ]
     },
     "execution_count": 11,
     "metadata": {},
     "output_type": "execute_result"
    },
    {
     "data": {
      "image/png": "[encoded data removed]",
      "text/plain": [
       "<Figure size 432x288 with 1 Axes>"
      ]
     },
     "metadata": {
      "needs_background": "light"
     },
     "output_type": "display_data"
    }
   ],
   "source": [
    "%matplotlib inline\n",
    "\n",
    "plt.plot(x, y)"
   ]
  },
  {
   "cell_type": "markdown",
   "id": "5cc73fa3",
   "metadata": {},
   "source": [
    "## Roots:"
   ]
  },
  {
   "cell_type": "code",
   "execution_count": 14,
   "id": "3f02f273",
   "metadata": {},
   "outputs": [
    {
     "data": {
      "text/plain": [
       "array([-1.,  1.])"
      ]
     },
     "execution_count": 14,
     "metadata": {},
     "output_type": "execute_result"
    }
   ],
   "source": [
    "fsolve(f, [-2, 2])"
   ]
  },
  {
   "cell_type": "markdown",
   "id": "7b1b38ef",
   "metadata": {},
   "source": [
    "## Newton-Rhapson:"
   ]
  },
  {
   "cell_type": "code",
   "execution_count": 18,
   "id": "59fff1c9",
   "metadata": {},
   "outputs": [
    {
     "name": "stdout",
     "output_type": "stream",
     "text": [
      "newton_raphson = 0.8428571428571425\n",
      "sqrt(1) = 1.0\n"
     ]
    }
   ],
   "source": [
    "f = lambda x: x**2 - 1\n",
    "f_prime = lambda x: 2*x\n",
    "\n",
    "newton_raphson = 1.4 - (f(1.6))/(f_prime(1.4))\n",
    "\n",
    "print(\"newton_raphson =\", newton_raphson)\n",
    "print(\"sqrt(1) =\", np.sqrt(1))"
   ]
  },
  {
   "cell_type": "code",
   "execution_count": 19,
   "id": "5407ed31",
   "metadata": {},
   "outputs": [],
   "source": [
    "def my_newton(f, df, x0, tol):\n",
    "    # output is an estimation of the root of f \n",
    "    # using the Newton Raphson method\n",
    "    # recursive implementation\n",
    "    if abs(f(x0)) < tol:\n",
    "        return x0\n",
    "    else:\n",
    "        return my_newton(f, df, x0 - f(x0)/df(x0), tol)"
   ]
  },
  {
   "cell_type": "code",
   "execution_count": 22,
   "id": "e7147992",
   "metadata": {},
   "outputs": [
    {
     "name": "stdout",
     "output_type": "stream",
     "text": [
      "estimate = 1.000000000013107\n",
      "sqrt(1) = 1.0\n"
     ]
    }
   ],
   "source": [
    "estimate = my_newton(f, f_prime, 1.5, 1e-6)\n",
    "print(\"estimate =\", estimate)\n",
    "print(\"sqrt(1) =\", np.sqrt(1))"
   ]
  },
  {
   "cell_type": "markdown",
   "id": "caed7961",
   "metadata": {},
   "source": [
    "## Bisection method:"
   ]
  },
  {
   "cell_type": "code",
   "execution_count": 23,
   "id": "e3b3ccd4",
   "metadata": {},
   "outputs": [],
   "source": [
    "def my_bisection(f, a, b, tol): \n",
    "    # approximates a root, R, of f bounded \n",
    "    # by a and b to within tolerance \n",
    "    # | f(m) | < tol with m the midpoint \n",
    "    # between a and b Recursive implementation\n",
    "    \n",
    "    # check if a and b bound a root\n",
    "    if np.sign(f(a)) == np.sign(f(b)):\n",
    "        raise Exception(\n",
    "         \"The scalars a and b do not bound a root\")\n",
    "        \n",
    "    # get midpoint\n",
    "    m = (a + b)/2\n",
    "    \n",
    "    if np.abs(f(m)) < tol:\n",
    "        # stopping condition, report m as root\n",
    "        return m\n",
    "    elif np.sign(f(a)) == np.sign(f(m)):\n",
    "        # case where m is an improvement on a. \n",
    "        # Make recursive call with a = m\n",
    "        return my_bisection(f, m, b, tol)\n",
    "    elif np.sign(f(b)) == np.sign(f(m)):\n",
    "        # case where m is an improvement on b. \n",
    "        # Make recursive call with b = m\n",
    "        return my_bisection(f, a, m, tol)"
   ]
  },
  {
   "cell_type": "code",
   "execution_count": 27,
   "id": "30f160de",
   "metadata": {},
   "outputs": [
    {
     "name": "stdout",
     "output_type": "stream",
     "text": [
      "r1 = 1.0\n",
      "r2 = -1.0\n",
      "f(r1) = 0.0\n",
      "f(r2) = 0.0\n"
     ]
    }
   ],
   "source": [
    "r1 = my_bisection(f, 0, 2, 0.1)\n",
    "print(\"r1 =\", r1)\n",
    "\n",
    "r2 = my_bisection(f, -2, 0, 0.01)\n",
    "print(\"r2 =\", r2)\n",
    "\n",
    "print(\"f(r1) =\", f(r1))\n",
    "print(\"f(r2) =\", f(r2))"
   ]
  },
  {
   "cell_type": "code",
   "execution_count": null,
   "id": "a9987c81",
   "metadata": {},
   "outputs": [],
   "source": []
  }
 ],
 "metadata": {
  "kernelspec": {
   "display_name": "Python 3",
   "language": "python",
   "name": "python3"
  },
  "language_info": {
   "codemirror_mode": {
    "name": "ipython",
    "version": 3
   },
   "file_extension": ".py",
   "mimetype": "text/x-python",
   "name": "python",
   "nbconvert_exporter": "python",
   "pygments_lexer": "ipython3",
   "version": "3.7.10"
  }
 },
 "nbformat": 4,
 "nbformat_minor": 5
}
