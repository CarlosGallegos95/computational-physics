{
 "cells": [
  {
   "cell_type": "markdown",
   "id": "a478c777",
   "metadata": {},
   "source": [
    "# Integrals on the grid "
   ]
  },
  {
   "cell_type": "code",
   "execution_count": 1,
   "id": "8486a0e9",
   "metadata": {},
   "outputs": [],
   "source": [
    "import numpy as np\n",
    "import matplotlib.pyplot as plt\n",
    "import pyvista as pv"
   ]
  },
  {
   "cell_type": "markdown",
   "id": "7c46333c",
   "metadata": {},
   "source": [
    "### Read mesh:"
   ]
  },
  {
   "cell_type": "code",
   "execution_count": 2,
   "id": "b84c57cb",
   "metadata": {},
   "outputs": [],
   "source": [
    "mesh = pv.read(\"./Wind-Cloud-MHD-Al/data.0000.vtk\")"
   ]
  },
  {
   "cell_type": "code",
   "execution_count": 3,
   "id": "9576ad13",
   "metadata": {},
   "outputs": [
    {
     "name": "stdout",
     "output_type": "stream",
     "text": [
      "RectilinearGrid (0x12026ce50)\n",
      "  N Cells:\t1769472\n",
      "  N Points:\t1815937\n",
      "  X Bounds:\t-6.000e+00, 6.000e+00\n",
      "  Y Bounds:\t-2.000e+00, 2.200e+01\n",
      "  Z Bounds:\t-6.000e+00, 6.000e+00\n",
      "  Dimensions:\t97, 193, 97\n",
      "  N Arrays:\t9\n",
      "\n"
     ]
    }
   ],
   "source": [
    "print(mesh)"
   ]
  },
  {
   "cell_type": "code",
   "execution_count": 4,
   "id": "4eeedcb0",
   "metadata": {},
   "outputs": [
    {
     "name": "stdout",
     "output_type": "stream",
     "text": [
      "(97, 193, 97)\n"
     ]
    }
   ],
   "source": [
    "print(mesh.dimensions)"
   ]
  },
  {
   "cell_type": "code",
   "execution_count": 5,
   "id": "ad3a621c",
   "metadata": {},
   "outputs": [
    {
     "name": "stdout",
     "output_type": "stream",
     "text": [
      "1769472\n"
     ]
    }
   ],
   "source": [
    "print(mesh.n_cells)"
   ]
  },
  {
   "cell_type": "code",
   "execution_count": 6,
   "id": "120473ca",
   "metadata": {},
   "outputs": [
    {
     "name": "stdout",
     "output_type": "stream",
     "text": [
      "9\n"
     ]
    }
   ],
   "source": [
    "print(mesh.n_arrays)"
   ]
  },
  {
   "cell_type": "code",
   "execution_count": 7,
   "id": "f265a6ce",
   "metadata": {},
   "outputs": [
    {
     "name": "stdout",
     "output_type": "stream",
     "text": [
      "[0.0, 10.0, 0.0]\n"
     ]
    }
   ],
   "source": [
    "print(mesh.center)"
   ]
  },
  {
   "cell_type": "code",
   "execution_count": 8,
   "id": "50343521",
   "metadata": {},
   "outputs": [
    {
     "name": "stdout",
     "output_type": "stream",
     "text": [
      "pyvista DataSetAttributes\n",
      "Association     : CELL\n",
      "Active Scalars  : rho\n",
      "Active Vectors  : None\n",
      "Active Texture  : None\n",
      "Active Normals  : None\n",
      "Contains arrays :\n",
      "    rho                     float32  (1769472,)           SCALARS\n",
      "    vx1                     float32  (1769472,)\n",
      "    vx2                     float32  (1769472,)\n",
      "    vx3                     float32  (1769472,)\n",
      "    Bx1                     float32  (1769472,)\n",
      "    Bx2                     float32  (1769472,)\n",
      "    Bx3                     float32  (1769472,)\n",
      "    prs                     float32  (1769472,)\n",
      "    tr1                     float32  (1769472,)\n"
     ]
    }
   ],
   "source": [
    "print(mesh.cell_data)"
   ]
  },
  {
   "cell_type": "code",
   "execution_count": 9,
   "id": "0ace34fe",
   "metadata": {},
   "outputs": [],
   "source": [
    "rho = pv.get_array(mesh, \"rho\", preference = \"cell\")"
   ]
  },
  {
   "cell_type": "code",
   "execution_count": 10,
   "id": "71ec6c73",
   "metadata": {},
   "outputs": [
    {
     "name": "stdout",
     "output_type": "stream",
     "text": [
      "(1769472,)\n"
     ]
    }
   ],
   "source": [
    "print(rho.shape)"
   ]
  },
  {
   "cell_type": "code",
   "execution_count": 11,
   "id": "43e01e35",
   "metadata": {},
   "outputs": [
    {
     "name": "stdout",
     "output_type": "stream",
     "text": [
      "96\n"
     ]
    }
   ],
   "source": [
    "print(mesh.dimensions[2] - 1)"
   ]
  },
  {
   "cell_type": "code",
   "execution_count": 12,
   "id": "71434616",
   "metadata": {},
   "outputs": [],
   "source": [
    "rho3D = rho.reshape(mesh.dimensions[0] - 1, mesh.dimensions[1] - 1, mesh.dimensions[2] - 1)"
   ]
  },
  {
   "cell_type": "code",
   "execution_count": 13,
   "id": "1adae257",
   "metadata": {},
   "outputs": [
    {
     "name": "stdout",
     "output_type": "stream",
     "text": [
      "(96, 192, 96)\n"
     ]
    }
   ],
   "source": [
    "print(rho3D.shape)"
   ]
  },
  {
   "cell_type": "markdown",
   "id": "0cfb4688",
   "metadata": {},
   "source": [
    "# Slicing 3D data"
   ]
  },
  {
   "cell_type": "code",
   "execution_count": 14,
   "id": "cb4030eb",
   "metadata": {},
   "outputs": [],
   "source": [
    "rho2D_48 = rho3D[48, :, :]"
   ]
  },
  {
   "cell_type": "code",
   "execution_count": 15,
   "id": "7baeb788",
   "metadata": {},
   "outputs": [
    {
     "name": "stdout",
     "output_type": "stream",
     "text": [
      "(192, 96)\n"
     ]
    }
   ],
   "source": [
    "print(rho2D_48.shape)"
   ]
  },
  {
   "cell_type": "code",
   "execution_count": 16,
   "id": "8ff56067",
   "metadata": {},
   "outputs": [
    {
     "data": {
      "text/plain": [
       "<matplotlib.image.AxesImage at 0x127c8ac90>"
      ]
     },
     "execution_count": 16,
     "metadata": {},
     "output_type": "execute_result"
    },
    {
     "data": {
      "image/png": "[encoded data removed]",
      "text/plain": [
       "<Figure size 432x288 with 1 Axes>"
      ]
     },
     "metadata": {
      "needs_background": "light"
     },
     "output_type": "display_data"
    }
   ],
   "source": [
    "%matplotlib inline\n",
    "\n",
    "plt.imshow(rho2D_48)"
   ]
  },
  {
   "cell_type": "markdown",
   "id": "79267d8e",
   "metadata": {},
   "source": [
    "# Mesh grid:"
   ]
  },
  {
   "cell_type": "code",
   "execution_count": 17,
   "id": "d432d42e",
   "metadata": {},
   "outputs": [
    {
     "name": "stdout",
     "output_type": "stream",
     "text": [
      "22.0\n"
     ]
    }
   ],
   "source": [
    "print(mesh.bounds[3])"
   ]
  },
  {
   "cell_type": "code",
   "execution_count": 18,
   "id": "955daf6c",
   "metadata": {},
   "outputs": [],
   "source": [
    "# Coordinates:\n",
    "\n",
    "x = np.linspace(mesh.bounds[0], mesh.bounds[1], mesh.dimensions[0] - 1)\n",
    "y = np.linspace(mesh.bounds[2], mesh.bounds[3], mesh.dimensions[1] - 1)\n",
    "z = np.linspace(mesh.bounds[4], mesh.bounds[5], mesh.dimensions[2] - 1)\n"
   ]
  },
  {
   "cell_type": "code",
   "execution_count": 19,
   "id": "3e46359e",
   "metadata": {},
   "outputs": [],
   "source": [
    "# Coordinates:\n",
    "\n",
    "x1 = np.arange(mesh.bounds[0], mesh.bounds[1], (mesh.bounds[1] - mesh.bounds[0])/(mesh.dimensions[0] - 1))\n",
    "y1 = np.arange(mesh.bounds[2], mesh.bounds[3], (mesh.bounds[3] - mesh.bounds[2])/(mesh.dimensions[1] - 1))\n",
    "z1 = np.arange(mesh.bounds[4], mesh.bounds[5], (mesh.bounds[5] - mesh.bounds[4])/(mesh.dimensions[2] - 1))\n"
   ]
  },
  {
   "cell_type": "code",
   "execution_count": 20,
   "id": "d25ceb68",
   "metadata": {},
   "outputs": [
    {
     "name": "stdout",
     "output_type": "stream",
     "text": [
      "0.125\n",
      "0.125\n"
     ]
    }
   ],
   "source": [
    "print(x1[1] - x1[0])\n",
    "print(y1[1] - y1[0])"
   ]
  },
  {
   "cell_type": "code",
   "execution_count": 21,
   "id": "3c0cef35",
   "metadata": {},
   "outputs": [
    {
     "name": "stdout",
     "output_type": "stream",
     "text": [
      "[-2.00000000e+00 -1.87434555e+00 -1.74869110e+00 -1.62303665e+00\n",
      " -1.49738220e+00 -1.37172775e+00 -1.24607330e+00 -1.12041885e+00\n",
      " -9.94764398e-01 -8.69109948e-01 -7.43455497e-01 -6.17801047e-01\n",
      " -4.92146597e-01 -3.66492147e-01 -2.40837696e-01 -1.15183246e-01\n",
      "  1.04712042e-02  1.36125654e-01  2.61780105e-01  3.87434555e-01\n",
      "  5.13089005e-01  6.38743455e-01  7.64397906e-01  8.90052356e-01\n",
      "  1.01570681e+00  1.14136126e+00  1.26701571e+00  1.39267016e+00\n",
      "  1.51832461e+00  1.64397906e+00  1.76963351e+00  1.89528796e+00\n",
      "  2.02094241e+00  2.14659686e+00  2.27225131e+00  2.39790576e+00\n",
      "  2.52356021e+00  2.64921466e+00  2.77486911e+00  2.90052356e+00\n",
      "  3.02617801e+00  3.15183246e+00  3.27748691e+00  3.40314136e+00\n",
      "  3.52879581e+00  3.65445026e+00  3.78010471e+00  3.90575916e+00\n",
      "  4.03141361e+00  4.15706806e+00  4.28272251e+00  4.40837696e+00\n",
      "  4.53403141e+00  4.65968586e+00  4.78534031e+00  4.91099476e+00\n",
      "  5.03664921e+00  5.16230366e+00  5.28795812e+00  5.41361257e+00\n",
      "  5.53926702e+00  5.66492147e+00  5.79057592e+00  5.91623037e+00\n",
      "  6.04188482e+00  6.16753927e+00  6.29319372e+00  6.41884817e+00\n",
      "  6.54450262e+00  6.67015707e+00  6.79581152e+00  6.92146597e+00\n",
      "  7.04712042e+00  7.17277487e+00  7.29842932e+00  7.42408377e+00\n",
      "  7.54973822e+00  7.67539267e+00  7.80104712e+00  7.92670157e+00\n",
      "  8.05235602e+00  8.17801047e+00  8.30366492e+00  8.42931937e+00\n",
      "  8.55497382e+00  8.68062827e+00  8.80628272e+00  8.93193717e+00\n",
      "  9.05759162e+00  9.18324607e+00  9.30890052e+00  9.43455497e+00\n",
      "  9.56020942e+00  9.68586387e+00  9.81151832e+00  9.93717277e+00\n",
      "  1.00628272e+01  1.01884817e+01  1.03141361e+01  1.04397906e+01\n",
      "  1.05654450e+01  1.06910995e+01  1.08167539e+01  1.09424084e+01\n",
      "  1.10680628e+01  1.11937173e+01  1.13193717e+01  1.14450262e+01\n",
      "  1.15706806e+01  1.16963351e+01  1.18219895e+01  1.19476440e+01\n",
      "  1.20732984e+01  1.21989529e+01  1.23246073e+01  1.24502618e+01\n",
      "  1.25759162e+01  1.27015707e+01  1.28272251e+01  1.29528796e+01\n",
      "  1.30785340e+01  1.32041885e+01  1.33298429e+01  1.34554974e+01\n",
      "  1.35811518e+01  1.37068063e+01  1.38324607e+01  1.39581152e+01\n",
      "  1.40837696e+01  1.42094241e+01  1.43350785e+01  1.44607330e+01\n",
      "  1.45863874e+01  1.47120419e+01  1.48376963e+01  1.49633508e+01\n",
      "  1.50890052e+01  1.52146597e+01  1.53403141e+01  1.54659686e+01\n",
      "  1.55916230e+01  1.57172775e+01  1.58429319e+01  1.59685864e+01\n",
      "  1.60942408e+01  1.62198953e+01  1.63455497e+01  1.64712042e+01\n",
      "  1.65968586e+01  1.67225131e+01  1.68481675e+01  1.69738220e+01\n",
      "  1.70994764e+01  1.72251309e+01  1.73507853e+01  1.74764398e+01\n",
      "  1.76020942e+01  1.77277487e+01  1.78534031e+01  1.79790576e+01\n",
      "  1.81047120e+01  1.82303665e+01  1.83560209e+01  1.84816754e+01\n",
      "  1.86073298e+01  1.87329843e+01  1.88586387e+01  1.89842932e+01\n",
      "  1.91099476e+01  1.92356021e+01  1.93612565e+01  1.94869110e+01\n",
      "  1.96125654e+01  1.97382199e+01  1.98638743e+01  1.99895288e+01\n",
      "  2.01151832e+01  2.02408377e+01  2.03664921e+01  2.04921466e+01\n",
      "  2.06178010e+01  2.07434555e+01  2.08691099e+01  2.09947644e+01\n",
      "  2.11204188e+01  2.12460733e+01  2.13717277e+01  2.14973822e+01\n",
      "  2.16230366e+01  2.17486911e+01  2.18743455e+01  2.20000000e+01]\n"
     ]
    }
   ],
   "source": [
    "print(y)"
   ]
  },
  {
   "cell_type": "code",
   "execution_count": 22,
   "id": "c09297da",
   "metadata": {},
   "outputs": [
    {
     "name": "stdout",
     "output_type": "stream",
     "text": [
      "96\n"
     ]
    }
   ],
   "source": [
    "print(x.size)"
   ]
  },
  {
   "cell_type": "code",
   "execution_count": 23,
   "id": "28af25a6",
   "metadata": {},
   "outputs": [],
   "source": [
    "X, Y = np.meshgrid(x1, y1)"
   ]
  },
  {
   "cell_type": "code",
   "execution_count": 24,
   "id": "12d63c72",
   "metadata": {},
   "outputs": [
    {
     "name": "stdout",
     "output_type": "stream",
     "text": [
      "(192, 96)\n",
      "(192, 96)\n"
     ]
    }
   ],
   "source": [
    "print(X.shape)\n",
    "print(Y.shape)"
   ]
  },
  {
   "cell_type": "code",
   "execution_count": 25,
   "id": "f05e3e35",
   "metadata": {},
   "outputs": [
    {
     "data": {
      "image/png": "[encoded data removed]",
      "text/plain": [
       "<Figure size 432x720 with 2 Axes>"
      ]
     },
     "metadata": {
      "needs_background": "light"
     },
     "output_type": "display_data"
    }
   ],
   "source": [
    "plt.figure(figsize = (6, 10))\n",
    "\n",
    "Z = plt.pcolor(X, Y, np.log10(rho2D_48), shading='auto')\n",
    "\n",
    "plt.colorbar(Z)\n",
    "\n",
    "plt.show()"
   ]
  },
  {
   "cell_type": "code",
   "execution_count": 26,
   "id": "269fa840",
   "metadata": {},
   "outputs": [],
   "source": [
    "rho2D_00 = rho3D[0, :, :]"
   ]
  },
  {
   "cell_type": "code",
   "execution_count": 27,
   "id": "212cbab8",
   "metadata": {},
   "outputs": [
    {
     "data": {
      "image/png": "[encoded data removed]",
      "text/plain": [
       "<Figure size 432x720 with 2 Axes>"
      ]
     },
     "metadata": {
      "needs_background": "light"
     },
     "output_type": "display_data"
    }
   ],
   "source": [
    "plt.figure(figsize = (6, 10))\n",
    "\n",
    "Z = plt.pcolor(X, Y, np.log10(rho2D_00), shading='auto')\n",
    "\n",
    "plt.colorbar(Z)\n",
    "\n",
    "plt.show()"
   ]
  },
  {
   "cell_type": "markdown",
   "id": "ebf8fc30",
   "metadata": {},
   "source": [
    "## Integrated quantities\n",
    "\n",
    "### Example 1:\n",
    "\n",
    "Compute the mass:\n",
    "\n",
    "$M = \\int\\int\\int \\rho\\,dV = \\sum_i \\sum_j \\sum_k \\rho_{i,j,k}\\Delta V_{i,j,k}$\n",
    "\n",
    "The grid is uniform:\n",
    "\n",
    "$M = \\int\\int\\int \\rho\\,dV = \\Delta V\\,\\sum_i \\sum_j \\sum_k \\rho_{i,j,k}$\n",
    "\n",
    "$M = \\Delta x^3\\,\\sum_i \\sum_j \\sum_k \\rho_{i,j,k}$"
   ]
  },
  {
   "cell_type": "code",
   "execution_count": 28,
   "id": "24ac821c",
   "metadata": {},
   "outputs": [
    {
     "name": "stdout",
     "output_type": "stream",
     "text": [
      "0.125 0.125 0.125\n"
     ]
    }
   ],
   "source": [
    "# Delta x\n",
    "\n",
    "delta_x = x1[1] - x1[0]\n",
    "delta_y = y1[1] - y1[0]\n",
    "delta_z = z1[1] - z1[0]\n",
    "\n",
    "print(delta_x, delta_y, delta_z)"
   ]
  },
  {
   "cell_type": "code",
   "execution_count": 29,
   "id": "9b42c856",
   "metadata": {},
   "outputs": [],
   "source": [
    "# mass\n",
    "\n",
    "total_mass = np.sum(rho3D)*delta_x**3"
   ]
  },
  {
   "cell_type": "code",
   "execution_count": 30,
   "id": "95bf4d0f",
   "metadata": {},
   "outputs": [
    {
     "name": "stdout",
     "output_type": "stream",
     "text": [
      "406.5387878417969\n"
     ]
    }
   ],
   "source": [
    "print(total_mass)"
   ]
  },
  {
   "cell_type": "code",
   "execution_count": 31,
   "id": "1295b22c",
   "metadata": {},
   "outputs": [],
   "source": [
    "total_mass1 = (delta_x**3)*np.sum(np.sum(np.sum(rho3D, axis = 2), axis =1), axis = 0)"
   ]
  },
  {
   "cell_type": "code",
   "execution_count": 32,
   "id": "f55bf28c",
   "metadata": {},
   "outputs": [
    {
     "name": "stdout",
     "output_type": "stream",
     "text": [
      "406.53814697265625\n"
     ]
    }
   ],
   "source": [
    "print(total_mass1)"
   ]
  },
  {
   "cell_type": "code",
   "execution_count": 33,
   "id": "a15b89d7",
   "metadata": {},
   "outputs": [
    {
     "data": {
      "text/plain": [
       "0.125"
      ]
     },
     "execution_count": 33,
     "metadata": {},
     "output_type": "execute_result"
    }
   ],
   "source": [
    "24/192"
   ]
  },
  {
   "cell_type": "markdown",
   "id": "6a053aa9",
   "metadata": {},
   "source": [
    "### Example 2:\n",
    "\n",
    "Compute the column density:\n",
    "\n",
    "$\\rho_A = \\int \\rho\\,dy = \\sum_j \\rho_{i,j,k}\\Delta y$\n",
    "\n",
    "The grid is uniform:\n",
    "\n",
    "$\\rho_A = \\Delta y\\, \\sum_j \\rho_{i,j,k}$"
   ]
  },
  {
   "cell_type": "code",
   "execution_count": 34,
   "id": "9fc013bb",
   "metadata": {},
   "outputs": [],
   "source": [
    "# Projected 2D density:\n",
    "\n",
    "rho_A = delta_y*np.sum(rho3D, axis = 1)"
   ]
  },
  {
   "cell_type": "code",
   "execution_count": 35,
   "id": "0fdfa326",
   "metadata": {},
   "outputs": [
    {
     "name": "stdout",
     "output_type": "stream",
     "text": [
      "(96, 96)\n"
     ]
    }
   ],
   "source": [
    "print(rho_A.shape)"
   ]
  },
  {
   "cell_type": "code",
   "execution_count": 36,
   "id": "003c274f",
   "metadata": {},
   "outputs": [
    {
     "data": {
      "text/plain": [
       "<matplotlib.image.AxesImage at 0x120efaf50>"
      ]
     },
     "execution_count": 36,
     "metadata": {},
     "output_type": "execute_result"
    },
    {
     "data": {
      "image/png": "[encoded data removed]",
      "text/plain": [
       "<Figure size 432x288 with 1 Axes>"
      ]
     },
     "metadata": {
      "needs_background": "light"
     },
     "output_type": "display_data"
    }
   ],
   "source": [
    "plt.imshow(rho_A)"
   ]
  },
  {
   "cell_type": "markdown",
   "id": "277dbbe2",
   "metadata": {},
   "source": [
    "### Example 3:\n",
    "\n",
    "Compute the linear density:\n",
    "\n",
    "$\\rho_l = \\int \\rho\\,dy\\,dz$"
   ]
  },
  {
   "cell_type": "code",
   "execution_count": 37,
   "id": "0bd30df5",
   "metadata": {},
   "outputs": [],
   "source": [
    "# Projected linear density:\n",
    "\n",
    "rho_l = delta_y**2*np.sum(np.sum(rho3D, axis = 1), axis = 0)"
   ]
  },
  {
   "cell_type": "code",
   "execution_count": 38,
   "id": "46735dc5",
   "metadata": {},
   "outputs": [
    {
     "name": "stdout",
     "output_type": "stream",
     "text": [
      "(96,)\n"
     ]
    }
   ],
   "source": [
    "print(rho_l.shape)"
   ]
  },
  {
   "cell_type": "code",
   "execution_count": 39,
   "id": "8be983f8",
   "metadata": {},
   "outputs": [
    {
     "data": {
      "text/plain": [
       "[<matplotlib.lines.Line2D at 0x120ed0c90>]"
      ]
     },
     "execution_count": 39,
     "metadata": {},
     "output_type": "execute_result"
    },
    {
     "data": {
      "image/png": "[encoded data removed]",
      "text/plain": [
       "<Figure size 432x288 with 1 Axes>"
      ]
     },
     "metadata": {
      "needs_background": "light"
     },
     "output_type": "display_data"
    }
   ],
   "source": [
    "plt.plot(rho_l)"
   ]
  },
  {
   "cell_type": "markdown",
   "id": "fea6c185",
   "metadata": {},
   "source": [
    "### Example 4:  Centre of mass\n",
    "\n",
    "\n",
    "$cm_x = \\frac{\\int \\rho\\,x\\,dV}{\\int \\rho\\,dV}$\n",
    "\n",
    "$cm_x = \\frac{\\int \\rho\\,y\\,dV}{\\int \\rho\\,dV}$\n",
    "\n",
    "$cm_z = \\frac{\\int \\rho\\,z\\,dV}{\\int \\rho\\,dV}$\n"
   ]
  },
  {
   "cell_type": "code",
   "execution_count": 40,
   "id": "dadf506e",
   "metadata": {},
   "outputs": [],
   "source": [
    "cmx = np.sum(np.sum(np.sum(rho3D,axis=2),axis=1)*(x))/np.sum(rho3D) \n",
    "\n",
    "cmy = np.sum(np.sum(np.sum(rho3D,axis=2),axis=0)*(y))/np.sum(rho3D) \n",
    "\n",
    "cmz = np.sum(np.sum(np.sum(rho3D,axis=1),axis=0)*(z))/np.sum(rho3D) "
   ]
  },
  {
   "cell_type": "code",
   "execution_count": 41,
   "id": "8108813d",
   "metadata": {},
   "outputs": [
    {
     "name": "stdout",
     "output_type": "stream",
     "text": [
      "1.7477858374404495e-16 8.493178390076352 2.4469001724166293e-16\n"
     ]
    }
   ],
   "source": [
    "print(cmx, cmy, cmz)"
   ]
  }
 ],
 "metadata": {
  "kernelspec": {
   "display_name": "Python 3",
   "language": "python",
   "name": "python3"
  },
  "language_info": {
   "codemirror_mode": {
    "name": "ipython",
    "version": 3
   },
   "file_extension": ".py",
   "mimetype": "text/x-python",
   "name": "python",
   "nbconvert_exporter": "python",
   "pygments_lexer": "ipython3",
   "version": "3.7.10"
  }
 },
 "nbformat": 4,
 "nbformat_minor": 5
}
