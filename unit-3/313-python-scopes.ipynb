{
 "cells": [
  {
   "cell_type": "markdown",
   "id": "3d0cd2b3",
   "metadata": {},
   "source": [
    "# Python Scopes\n",
    "\n",
    "Scopes are environments within which variables are defined.\n",
    "\n",
    "- A variable is only available from inside the region where it is created.\n",
    "\n",
    "We have two types:\n",
    "\n",
    "\n",
    "## 1. Local scope:\n",
    "\n",
    "A variable created inside a function belongs to the local scope of that function, and can only be used inside that function."
   ]
  },
  {
   "cell_type": "code",
   "execution_count": 1,
   "id": "b93c3332",
   "metadata": {},
   "outputs": [],
   "source": [
    "def function1():\n",
    "    a = \"physics\"\n",
    "    print(a)"
   ]
  },
  {
   "cell_type": "code",
   "execution_count": 2,
   "id": "76375685",
   "metadata": {},
   "outputs": [
    {
     "name": "stdout",
     "output_type": "stream",
     "text": [
      "physics\n"
     ]
    }
   ],
   "source": [
    "function1()"
   ]
  },
  {
   "cell_type": "code",
   "execution_count": 3,
   "id": "32fb163b",
   "metadata": {},
   "outputs": [],
   "source": [
    "def function1():\n",
    "    a = \"physics\"\n",
    "    def function2():\n",
    "        print(a)\n",
    "    function2()"
   ]
  },
  {
   "cell_type": "code",
   "execution_count": 4,
   "id": "607e56b2",
   "metadata": {},
   "outputs": [
    {
     "name": "stdout",
     "output_type": "stream",
     "text": [
      "physics\n"
     ]
    }
   ],
   "source": [
    "function1()"
   ]
  },
  {
   "cell_type": "markdown",
   "id": "561088a7",
   "metadata": {},
   "source": [
    "## 2. Global scope:\n",
    "\n",
    "A variable created in the main body of the Python code is a global variable and belongs to the global scope.\n",
    "\n",
    "Global variables are available from within any scope, global and local."
   ]
  },
  {
   "cell_type": "code",
   "execution_count": 5,
   "id": "643506bb",
   "metadata": {},
   "outputs": [],
   "source": [
    "a = \"physics\"\n",
    "\n",
    "def function1():\n",
    "    print(a)"
   ]
  },
  {
   "cell_type": "code",
   "execution_count": 6,
   "id": "63d2705c",
   "metadata": {},
   "outputs": [
    {
     "name": "stdout",
     "output_type": "stream",
     "text": [
      "physics\n"
     ]
    }
   ],
   "source": [
    "function1()"
   ]
  },
  {
   "cell_type": "code",
   "execution_count": 7,
   "id": "c635d1b8",
   "metadata": {},
   "outputs": [
    {
     "name": "stdout",
     "output_type": "stream",
     "text": [
      "physics\n"
     ]
    }
   ],
   "source": [
    "print(a)"
   ]
  },
  {
   "cell_type": "markdown",
   "id": "6d8eaae1",
   "metadata": {},
   "source": [
    "### Variable naming hierarchy:"
   ]
  },
  {
   "cell_type": "code",
   "execution_count": 8,
   "id": "3a582946",
   "metadata": {},
   "outputs": [],
   "source": [
    "a = \"physics\"\n",
    "\n",
    "def function_new():\n",
    "    a = \"mathematics\"\n",
    "    print(a)"
   ]
  },
  {
   "cell_type": "code",
   "execution_count": 9,
   "id": "b7ec4ea1",
   "metadata": {},
   "outputs": [
    {
     "name": "stdout",
     "output_type": "stream",
     "text": [
      "mathematics\n"
     ]
    }
   ],
   "source": [
    "function_new()"
   ]
  },
  {
   "cell_type": "code",
   "execution_count": 10,
   "id": "a7cbc6b5",
   "metadata": {},
   "outputs": [
    {
     "name": "stdout",
     "output_type": "stream",
     "text": [
      "physics\n"
     ]
    }
   ],
   "source": [
    "print(a)"
   ]
  },
  {
   "cell_type": "markdown",
   "id": "ee60a1e2",
   "metadata": {},
   "source": [
    "### Creating global variable:"
   ]
  },
  {
   "cell_type": "code",
   "execution_count": 11,
   "id": "c3bab2e1",
   "metadata": {},
   "outputs": [],
   "source": [
    "a = \"physics\"\n",
    "\n",
    "def function_new():\n",
    "    # The global keyword makes the variable belong to the global scope\n",
    "    global a \n",
    "    a = \"mathematics\"\n",
    "    print(a)"
   ]
  },
  {
   "cell_type": "code",
   "execution_count": 12,
   "id": "ee5eb8b5",
   "metadata": {},
   "outputs": [
    {
     "name": "stdout",
     "output_type": "stream",
     "text": [
      "mathematics\n"
     ]
    }
   ],
   "source": [
    "function_new()"
   ]
  },
  {
   "cell_type": "code",
   "execution_count": 13,
   "id": "2933aa98",
   "metadata": {},
   "outputs": [
    {
     "name": "stdout",
     "output_type": "stream",
     "text": [
      "mathematics\n"
     ]
    }
   ],
   "source": [
    "print(a)"
   ]
  },
  {
   "cell_type": "markdown",
   "id": "78678a87",
   "metadata": {},
   "source": [
    "### Check global and local variables:"
   ]
  },
  {
   "cell_type": "code",
   "execution_count": 14,
   "id": "d6b6cad2",
   "metadata": {
    "scrolled": true
   },
   "outputs": [
    {
     "data": {
      "text/plain": [
       "{'__name__': '__main__',\n",
       " '__doc__': 'Automatically created module for IPython interactive environment',\n",
       " '__package__': None,\n",
       " '__loader__': None,\n",
       " '__spec__': None,\n",
       " '__builtin__': <module 'builtins' (built-in)>,\n",
       " '__builtins__': <module 'builtins' (built-in)>,\n",
       " '_ih': ['',\n",
       "  'def function1():\\n    a = \"physics\"\\n    print(a)',\n",
       "  'function1()',\n",
       "  'def function1():\\n    a = \"physics\"\\n    def function2():\\n        print(a)\\n    function2()',\n",
       "  'function1()',\n",
       "  'a = \"physics\"\\n\\ndef function1():\\n    print(a)',\n",
       "  'function1()',\n",
       "  'print(a)',\n",
       "  'a = \"physics\"\\n\\ndef function_new():\\n    a = \"mathematics\"\\n    print(a)',\n",
       "  'function_new()',\n",
       "  'print(a)',\n",
       "  'a = \"physics\"\\n\\ndef function_new():\\n    # The global keyword makes the variable belong to the global scope\\n    global a \\n    a = \"mathematics\"\\n    print(a)',\n",
       "  'function_new()',\n",
       "  'print(a)',\n",
       "  'globals()'],\n",
       " '_oh': {},\n",
       " '_dh': ['/Users/webb/Dropbox/Yachay_Tech/Docencia/Fisica_Computacional/Lectures/computational-physics-1/unit-3'],\n",
       " 'In': ['',\n",
       "  'def function1():\\n    a = \"physics\"\\n    print(a)',\n",
       "  'function1()',\n",
       "  'def function1():\\n    a = \"physics\"\\n    def function2():\\n        print(a)\\n    function2()',\n",
       "  'function1()',\n",
       "  'a = \"physics\"\\n\\ndef function1():\\n    print(a)',\n",
       "  'function1()',\n",
       "  'print(a)',\n",
       "  'a = \"physics\"\\n\\ndef function_new():\\n    a = \"mathematics\"\\n    print(a)',\n",
       "  'function_new()',\n",
       "  'print(a)',\n",
       "  'a = \"physics\"\\n\\ndef function_new():\\n    # The global keyword makes the variable belong to the global scope\\n    global a \\n    a = \"mathematics\"\\n    print(a)',\n",
       "  'function_new()',\n",
       "  'print(a)',\n",
       "  'globals()'],\n",
       " 'Out': {},\n",
       " 'get_ipython': <bound method InteractiveShell.get_ipython of <ipykernel.zmqshell.ZMQInteractiveShell object at 0x108765550>>,\n",
       " 'exit': <IPython.core.autocall.ZMQExitAutocall at 0x1087f7150>,\n",
       " 'quit': <IPython.core.autocall.ZMQExitAutocall at 0x1087f7150>,\n",
       " '_': '',\n",
       " '__': '',\n",
       " '___': '',\n",
       " '_i': 'print(a)',\n",
       " '_ii': 'function_new()',\n",
       " '_iii': 'a = \"physics\"\\n\\ndef function_new():\\n    # The global keyword makes the variable belong to the global scope\\n    global a \\n    a = \"mathematics\"\\n    print(a)',\n",
       " '_i1': 'def function1():\\n    a = \"physics\"\\n    print(a)',\n",
       " 'function1': <function __main__.function1()>,\n",
       " '_i2': 'function1()',\n",
       " '_i3': 'def function1():\\n    a = \"physics\"\\n    def function2():\\n        print(a)\\n    function2()',\n",
       " '_i4': 'function1()',\n",
       " '_i5': 'a = \"physics\"\\n\\ndef function1():\\n    print(a)',\n",
       " 'a': 'mathematics',\n",
       " '_i6': 'function1()',\n",
       " '_i7': 'print(a)',\n",
       " '_i8': 'a = \"physics\"\\n\\ndef function_new():\\n    a = \"mathematics\"\\n    print(a)',\n",
       " 'function_new': <function __main__.function_new()>,\n",
       " '_i9': 'function_new()',\n",
       " '_i10': 'print(a)',\n",
       " '_i11': 'a = \"physics\"\\n\\ndef function_new():\\n    # The global keyword makes the variable belong to the global scope\\n    global a \\n    a = \"mathematics\"\\n    print(a)',\n",
       " '_i12': 'function_new()',\n",
       " '_i13': 'print(a)',\n",
       " '_i14': 'globals()'}"
      ]
     },
     "execution_count": 14,
     "metadata": {},
     "output_type": "execute_result"
    }
   ],
   "source": [
    "globals()"
   ]
  },
  {
   "cell_type": "code",
   "execution_count": 15,
   "id": "26a7a290",
   "metadata": {},
   "outputs": [
    {
     "data": {
      "text/plain": [
       "{'__name__': '__main__',\n",
       " '__doc__': 'Automatically created module for IPython interactive environment',\n",
       " '__package__': None,\n",
       " '__loader__': None,\n",
       " '__spec__': None,\n",
       " '__builtin__': <module 'builtins' (built-in)>,\n",
       " '__builtins__': <module 'builtins' (built-in)>,\n",
       " '_ih': ['',\n",
       "  'def function1():\\n    a = \"physics\"\\n    print(a)',\n",
       "  'function1()',\n",
       "  'def function1():\\n    a = \"physics\"\\n    def function2():\\n        print(a)\\n    function2()',\n",
       "  'function1()',\n",
       "  'a = \"physics\"\\n\\ndef function1():\\n    print(a)',\n",
       "  'function1()',\n",
       "  'print(a)',\n",
       "  'a = \"physics\"\\n\\ndef function_new():\\n    a = \"mathematics\"\\n    print(a)',\n",
       "  'function_new()',\n",
       "  'print(a)',\n",
       "  'a = \"physics\"\\n\\ndef function_new():\\n    # The global keyword makes the variable belong to the global scope\\n    global a \\n    a = \"mathematics\"\\n    print(a)',\n",
       "  'function_new()',\n",
       "  'print(a)',\n",
       "  'globals()',\n",
       "  'locals()'],\n",
       " '_oh': {14: {...}},\n",
       " '_dh': ['/Users/webb/Dropbox/Yachay_Tech/Docencia/Fisica_Computacional/Lectures/computational-physics-1/unit-3'],\n",
       " 'In': ['',\n",
       "  'def function1():\\n    a = \"physics\"\\n    print(a)',\n",
       "  'function1()',\n",
       "  'def function1():\\n    a = \"physics\"\\n    def function2():\\n        print(a)\\n    function2()',\n",
       "  'function1()',\n",
       "  'a = \"physics\"\\n\\ndef function1():\\n    print(a)',\n",
       "  'function1()',\n",
       "  'print(a)',\n",
       "  'a = \"physics\"\\n\\ndef function_new():\\n    a = \"mathematics\"\\n    print(a)',\n",
       "  'function_new()',\n",
       "  'print(a)',\n",
       "  'a = \"physics\"\\n\\ndef function_new():\\n    # The global keyword makes the variable belong to the global scope\\n    global a \\n    a = \"mathematics\"\\n    print(a)',\n",
       "  'function_new()',\n",
       "  'print(a)',\n",
       "  'globals()',\n",
       "  'locals()'],\n",
       " 'Out': {14: {...}},\n",
       " 'get_ipython': <bound method InteractiveShell.get_ipython of <ipykernel.zmqshell.ZMQInteractiveShell object at 0x108765550>>,\n",
       " 'exit': <IPython.core.autocall.ZMQExitAutocall at 0x1087f7150>,\n",
       " 'quit': <IPython.core.autocall.ZMQExitAutocall at 0x1087f7150>,\n",
       " '_': {...},\n",
       " '__': '',\n",
       " '___': '',\n",
       " '_i': 'globals()',\n",
       " '_ii': 'print(a)',\n",
       " '_iii': 'function_new()',\n",
       " '_i1': 'def function1():\\n    a = \"physics\"\\n    print(a)',\n",
       " 'function1': <function __main__.function1()>,\n",
       " '_i2': 'function1()',\n",
       " '_i3': 'def function1():\\n    a = \"physics\"\\n    def function2():\\n        print(a)\\n    function2()',\n",
       " '_i4': 'function1()',\n",
       " '_i5': 'a = \"physics\"\\n\\ndef function1():\\n    print(a)',\n",
       " 'a': 'mathematics',\n",
       " '_i6': 'function1()',\n",
       " '_i7': 'print(a)',\n",
       " '_i8': 'a = \"physics\"\\n\\ndef function_new():\\n    a = \"mathematics\"\\n    print(a)',\n",
       " 'function_new': <function __main__.function_new()>,\n",
       " '_i9': 'function_new()',\n",
       " '_i10': 'print(a)',\n",
       " '_i11': 'a = \"physics\"\\n\\ndef function_new():\\n    # The global keyword makes the variable belong to the global scope\\n    global a \\n    a = \"mathematics\"\\n    print(a)',\n",
       " '_i12': 'function_new()',\n",
       " '_i13': 'print(a)',\n",
       " '_i14': 'globals()',\n",
       " '_14': {...},\n",
       " '_i15': 'locals()'}"
      ]
     },
     "execution_count": 15,
     "metadata": {},
     "output_type": "execute_result"
    }
   ],
   "source": [
    "locals()"
   ]
  },
  {
   "cell_type": "code",
   "execution_count": 16,
   "id": "f78e4b36",
   "metadata": {},
   "outputs": [
    {
     "name": "stdout",
     "output_type": "stream",
     "text": [
      "Variable       Type        Data/Info\n",
      "------------------------------------\n",
      "a              str         mathematics\n",
      "function1      function    <function function1 at 0x108872200>\n",
      "function_new   function    <function function_new at 0x1088729e0>\n"
     ]
    }
   ],
   "source": [
    "%whos"
   ]
  },
  {
   "cell_type": "code",
   "execution_count": 17,
   "id": "65d14382",
   "metadata": {},
   "outputs": [
    {
     "name": "stdout",
     "output_type": "stream",
     "text": [
      "mathematics\n"
     ]
    }
   ],
   "source": [
    "print(a)"
   ]
  },
  {
   "cell_type": "code",
   "execution_count": 18,
   "id": "2ffdc544",
   "metadata": {},
   "outputs": [],
   "source": [
    "del a"
   ]
  },
  {
   "cell_type": "code",
   "execution_count": 19,
   "id": "3d641d36",
   "metadata": {},
   "outputs": [
    {
     "ename": "NameError",
     "evalue": "name 'a' is not defined",
     "output_type": "error",
     "traceback": [
      "\u001b[0;31m---------------------------------------------------------------------------\u001b[0m",
      "\u001b[0;31mNameError\u001b[0m                                 Traceback (most recent call last)",
      "\u001b[0;32m<ipython-input-19-bca0e2660b9f>\u001b[0m in \u001b[0;36m<module>\u001b[0;34m\u001b[0m\n\u001b[0;32m----> 1\u001b[0;31m \u001b[0mprint\u001b[0m\u001b[0;34m(\u001b[0m\u001b[0ma\u001b[0m\u001b[0;34m)\u001b[0m\u001b[0;34m\u001b[0m\u001b[0;34m\u001b[0m\u001b[0m\n\u001b[0m",
      "\u001b[0;31mNameError\u001b[0m: name 'a' is not defined"
     ]
    }
   ],
   "source": [
    "print(a)"
   ]
  }
 ],
 "metadata": {
  "kernelspec": {
   "display_name": "Python 3",
   "language": "python",
   "name": "python3"
  },
  "language_info": {
   "codemirror_mode": {
    "name": "ipython",
    "version": 3
   },
   "file_extension": ".py",
   "mimetype": "text/x-python",
   "name": "python",
   "nbconvert_exporter": "python",
   "pygments_lexer": "ipython3",
   "version": "3.7.10"
  }
 },
 "nbformat": 4,
 "nbformat_minor": 5
}
