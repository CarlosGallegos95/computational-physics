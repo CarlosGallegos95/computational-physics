{
 "cells": [
  {
   "cell_type": "markdown",
   "id": "44eb3ac3",
   "metadata": {},
   "source": [
    "# Ordinary Differential Equations\n",
    "\n",
    "A **differential equation** is a relationship between a function, $f(x)$, its independent variable, $x$, and any number of its derivatives.\n",
    "\n",
    "An **ordinary differential equation** or **ODE** is a differential equation where the independent variable, and therefore also the derivatives, is in one dimension. An ODE can be written as:\n",
    "\n",
    "$$\n",
    "F\\left(x, f(x), \\frac{df(x)}{dx}, \\frac{d^2f(x)}{dx^2}, \\frac{d^3f(x)}{dx^3}, \\ldots, \\frac{d^{n-1}f(x)}{dx^{n-1}}\\right) = \\frac{d^{n}f(x)}{dx^{n}},\n",
    "$$\n",
    "\n",
    "where $F$ is an arbitrary function that incorporates one or all of the input arguments, and $n$ is the **order** of the differential equation.\n",
    "\n",
    "This equation is referred to as an **$n^{\\mathrm{th}}$ order ODE**.\n",
    "\n",
    "\n",
    "**Reference:**\n",
    "\n",
    "https://pythonnumericalmethods.berkeley.edu/notebooks/chapter22.00-ODE-Initial-Value-Problems.html"
   ]
  },
  {
   "cell_type": "markdown",
   "id": "10a02059",
   "metadata": {},
   "source": [
    "## Initial value problems:\n",
    "\n",
    "\n",
    "A common set of known values for an ODE solution is the **initial value**.\n",
    "\n",
    "For an ODE of order $n$, the initial value is a known value for the $0^{\\mathrm{th}}$ to $(n-1)^{\\mathrm{th}}$ derivatives at $x = 0, f(0), f^{(1)}(0), f^{(2)}(0),\\ldots, f^{(n-1)}(0)$.\n",
    "\n",
    "For a certain class of ordinary differential equations, the initial value is sufficient to find a unique particular solution. Finding a solution to an ODE given an initial value is called the **initial value problem**. Although the name suggests we will only cover ODEs that evolve in time, initial value problems can also include systems that evolve in other dimensions such as space."
   ]
  },
  {
   "cell_type": "markdown",
   "id": "c2c1dd67",
   "metadata": {},
   "source": [
    "## 1. Solving ODEs using sympy (symbolic algebra):\n",
    "\n",
    "We can use **dsolve()**, which solves any (supported) kind of ordinary differential equation and system of ordinary differential equations.\n",
    "\n",
    "**Documentation:**\n",
    "\n",
    "https://docs.sympy.org/latest/modules/solvers/ode.html"
   ]
  },
  {
   "cell_type": "code",
   "execution_count": 1,
   "id": "71c804dd",
   "metadata": {},
   "outputs": [],
   "source": [
    "import sympy as sp\n",
    "\n",
    "# To see the outputs in latex format\n",
    "from sympy.interactive import printing\n",
    "printing.init_printing(use_latex = True)"
   ]
  },
  {
   "cell_type": "markdown",
   "id": "82bc2406",
   "metadata": {},
   "source": [
    "## Example 1:\n",
    "\n",
    "Find the solution to:\n",
    "\n",
    "$\\frac{𝑑^2𝑓(𝑥)}{dx^2}−2𝑓(𝑥)=0$"
   ]
  },
  {
   "cell_type": "code",
   "execution_count": 2,
   "id": "553e80d7",
   "metadata": {},
   "outputs": [],
   "source": [
    "# We define symbols for variables and functions:\n",
    "\n",
    "# For variable x:\n",
    "x = sp.Symbol('x')\n",
    "\n",
    "# For function f(x):\n",
    "f = sp.Function('f')(x)"
   ]
  },
  {
   "cell_type": "code",
   "execution_count": 3,
   "id": "76cbf4d6",
   "metadata": {},
   "outputs": [
    {
     "data": {
      "image/png": "[encoded data removed]",
      "text/latex": [
       "$\\displaystyle f{\\left(x \\right)}$"
      ],
      "text/plain": [
       "f(x)"
      ]
     },
     "metadata": {},
     "output_type": "display_data"
    },
    {
     "name": "stdout",
     "output_type": "stream",
     "text": [
      "f(x)\n"
     ]
    }
   ],
   "source": [
    "display(f)\n",
    "\n",
    "print(f)"
   ]
  },
  {
   "cell_type": "code",
   "execution_count": 4,
   "id": "cffd0142",
   "metadata": {},
   "outputs": [
    {
     "data": {
      "image/png": "[encoded data removed]",
      "text/latex": [
       "$\\displaystyle \\frac{d}{d x} f{\\left(x \\right)}$"
      ],
      "text/plain": [
       "d       \n",
       "──(f(x))\n",
       "dx      "
      ]
     },
     "metadata": {},
     "output_type": "display_data"
    },
    {
     "data": {
      "image/png": "[encoded data removed]",
      "text/latex": [
       "$\\displaystyle \\frac{d^{2}}{d x^{2}} f{\\left(x \\right)}$"
      ],
      "text/plain": [
       "  2      \n",
       " d       \n",
       "───(f(x))\n",
       "  2      \n",
       "dx       "
      ]
     },
     "metadata": {},
     "output_type": "display_data"
    },
    {
     "data": {
      "image/png": "[encoded data removed]",
      "text/latex": [
       "$\\displaystyle \\frac{d^{2}}{d x^{2}} f{\\left(x \\right)}$"
      ],
      "text/plain": [
       "  2      \n",
       " d       \n",
       "───(f(x))\n",
       "  2      \n",
       "dx       "
      ]
     },
     "metadata": {},
     "output_type": "display_data"
    }
   ],
   "source": [
    "# Derivatives:\n",
    "\n",
    "der_f1 = f.diff(x)\n",
    "der_f2 = f.diff(x, x)\n",
    "der_f2b = f.diff(x, 2) # indicating order\n",
    "\n",
    "display(der_f1)\n",
    "display(der_f2)\n",
    "display(der_f2b)\n",
    "\n",
    "#print(der_f1)"
   ]
  },
  {
   "cell_type": "markdown",
   "id": "6b7a5a95",
   "metadata": {},
   "source": [
    "We want to define this ODE:\n",
    "\n",
    "$\\frac{𝑑^2𝑓(𝑥)}{dx^2}−2𝑓(𝑥)=0$"
   ]
  },
  {
   "cell_type": "code",
   "execution_count": 5,
   "id": "88a58b33",
   "metadata": {},
   "outputs": [
    {
     "data": {
      "image/png": "[encoded data removed]",
      "text/latex": [
       "$\\displaystyle - 2 f{\\left(x \\right)} + \\frac{d^{2}}{d x^{2}} f{\\left(x \\right)} = 0$"
      ],
      "text/plain": [
       "            2          \n",
       "           d           \n",
       "-2⋅f(x) + ───(f(x)) = 0\n",
       "            2          \n",
       "          dx           "
      ]
     },
     "metadata": {},
     "output_type": "display_data"
    },
    {
     "name": "stdout",
     "output_type": "stream",
     "text": [
      "Eq(-2*f(x) + Derivative(f(x), (x, 2)), 0)\n"
     ]
    }
   ],
   "source": [
    "# Differential equation:\n",
    "\n",
    "diffeq = sp.Eq(der_f2 - 2*f, 0)\n",
    "\n",
    "display(diffeq)\n",
    "\n",
    "print(diffeq)"
   ]
  },
  {
   "cell_type": "code",
   "execution_count": 6,
   "id": "9effefc3",
   "metadata": {},
   "outputs": [
    {
     "data": {
      "image/png": "[encoded data removed]",
      "text/latex": [
       "$\\displaystyle f{\\left(x \\right)} = C_{1} e^{- \\sqrt{2} x} + C_{2} e^{\\sqrt{2} x}$"
      ],
      "text/plain": [
       "           -√2⋅x       √2⋅x\n",
       "f(x) = C₁⋅ℯ      + C₂⋅ℯ    "
      ]
     },
     "metadata": {},
     "output_type": "display_data"
    }
   ],
   "source": [
    "# Now, we find the solution:\n",
    "\n",
    "result = sp.dsolve(diffeq, f)\n",
    "\n",
    "display(result)"
   ]
  },
  {
   "cell_type": "markdown",
   "id": "7878af80",
   "metadata": {},
   "source": [
    "### Example 2: \n",
    "\n",
    "Find the solution to:\n",
    "\n",
    "\n",
    "$\\frac{𝑑^2f(x)}{dx^2}+𝑓(𝑥)=0$"
   ]
  },
  {
   "cell_type": "code",
   "execution_count": 7,
   "id": "ecea3e23",
   "metadata": {},
   "outputs": [
    {
     "data": {
      "image/png": "[encoded data removed]",
      "text/latex": [
       "$\\displaystyle f{\\left(x \\right)} + \\frac{d^{2}}{d x^{2}} f{\\left(x \\right)} = 0$"
      ],
      "text/plain": [
       "         2          \n",
       "        d           \n",
       "f(x) + ───(f(x)) = 0\n",
       "         2          \n",
       "       dx           "
      ]
     },
     "metadata": {},
     "output_type": "display_data"
    }
   ],
   "source": [
    "diffeq2 = sp.Eq(f.diff(x,2) + f, 0)\n",
    "\n",
    "display(diffeq2)"
   ]
  },
  {
   "cell_type": "code",
   "execution_count": 8,
   "id": "5a3f2154",
   "metadata": {},
   "outputs": [
    {
     "data": {
      "image/png": "[encoded data removed]",
      "text/latex": [
       "$\\displaystyle f{\\left(x \\right)} = C_{1} \\sin{\\left(x \\right)} + C_{2} \\cos{\\left(x \\right)}$"
      ],
      "text/plain": [
       "f(x) = C₁⋅sin(x) + C₂⋅cos(x)"
      ]
     },
     "metadata": {},
     "output_type": "display_data"
    }
   ],
   "source": [
    "result2 = sp.dsolve(diffeq2, f)\n",
    "\n",
    "display(result2)"
   ]
  },
  {
   "cell_type": "markdown",
   "id": "98df4e6d",
   "metadata": {},
   "source": [
    "### Example 3:\n",
    "\n",
    "Find the solution to:\n",
    "\n",
    "$\\sin(x)\\cos(f(x))+\\sin(f(x))\\cos(x)\\frac{d}{dx}f(x)=0$"
   ]
  },
  {
   "cell_type": "code",
   "execution_count": 9,
   "id": "158353ee",
   "metadata": {},
   "outputs": [],
   "source": [
    "from sympy import sin, cos, sqrt"
   ]
  },
  {
   "cell_type": "code",
   "execution_count": 10,
   "id": "8a36254a",
   "metadata": {},
   "outputs": [],
   "source": [
    "f = sp.Function('f')"
   ]
  },
  {
   "cell_type": "code",
   "execution_count": 11,
   "id": "e4d56d12",
   "metadata": {},
   "outputs": [
    {
     "data": {
      "image/png": "[encoded data removed]",
      "text/latex": [
       "$\\displaystyle \\sin{\\left(x \\right)} \\cos{\\left(f{\\left(x \\right)} \\right)} + \\sin{\\left(f{\\left(x \\right)} \\right)} \\cos{\\left(x \\right)} \\frac{d}{d x} f{\\left(x \\right)} = 0$"
      ],
      "text/plain": [
       "                                    d           \n",
       "sin(x)⋅cos(f(x)) + sin(f(x))⋅cos(x)⋅──(f(x)) = 0\n",
       "                                    dx          "
      ]
     },
     "metadata": {},
     "output_type": "display_data"
    }
   ],
   "source": [
    "diffeq3 = sp.Eq(sin(x)*cos(f(x)) + sin(f(x))*cos(x)*f(x).diff(x), 0)\n",
    "\n",
    "display(diffeq3)"
   ]
  },
  {
   "cell_type": "code",
   "execution_count": 12,
   "id": "f31b2a75",
   "metadata": {},
   "outputs": [
    {
     "data": {
      "image/png": "[encoded data removed]",
      "text/latex": [
       "$\\displaystyle \\left[ f{\\left(x \\right)} = - \\operatorname{acos}{\\left(\\frac{C_{1}}{\\cos{\\left(x \\right)}} \\right)} + 2 \\pi, \\  f{\\left(x \\right)} = \\operatorname{acos}{\\left(\\frac{C_{1}}{\\cos{\\left(x \\right)}} \\right)}\\right]$"
      ],
      "text/plain": [
       "⎡             ⎛  C₁  ⎞                   ⎛  C₁  ⎞⎤\n",
       "⎢f(x) = - acos⎜──────⎟ + 2⋅π, f(x) = acos⎜──────⎟⎥\n",
       "⎣             ⎝cos(x)⎠                   ⎝cos(x)⎠⎦"
      ]
     },
     "metadata": {},
     "output_type": "display_data"
    }
   ],
   "source": [
    "result3 = sp.dsolve(diffeq3, hint=\"1st_exact\")\n",
    "\n",
    "display(result3)"
   ]
  },
  {
   "cell_type": "code",
   "execution_count": 13,
   "id": "1ead2930",
   "metadata": {},
   "outputs": [
    {
     "data": {
      "image/png": "[encoded data removed]",
      "text/latex": [
       "$\\displaystyle \\left[ f{\\left(x \\right)} = - \\operatorname{acos}{\\left(\\frac{C_{1}}{\\cos{\\left(x \\right)}} \\right)} + 2 \\pi, \\  f{\\left(x \\right)} = \\operatorname{acos}{\\left(\\frac{C_{1}}{\\cos{\\left(x \\right)}} \\right)}\\right]$"
      ],
      "text/plain": [
       "⎡             ⎛  C₁  ⎞                   ⎛  C₁  ⎞⎤\n",
       "⎢f(x) = - acos⎜──────⎟ + 2⋅π, f(x) = acos⎜──────⎟⎥\n",
       "⎣             ⎝cos(x)⎠                   ⎝cos(x)⎠⎦"
      ]
     },
     "metadata": {},
     "output_type": "display_data"
    }
   ],
   "source": [
    "result3_2 = sp.dsolve(diffeq3, hint=\"almost_linear\")\n",
    "\n",
    "display(result3_2)"
   ]
  },
  {
   "cell_type": "markdown",
   "id": "a3fde5e7",
   "metadata": {},
   "source": [
    "### Example 4 (initial value problem):\n",
    "\n",
    "Find the solution to:\n",
    "\n",
    "$\\frac{d}{dt}y(t) + \\frac{y(t)}{20} - 10 = 0$\n",
    "\n",
    "with $y(t=0) = 20$."
   ]
  },
  {
   "cell_type": "code",
   "execution_count": 14,
   "id": "7f3bd444",
   "metadata": {},
   "outputs": [],
   "source": [
    "# We define symbols:\n",
    "\n",
    "t = sp.Symbol('t')\n",
    "y = sp.Function('y')"
   ]
  },
  {
   "cell_type": "code",
   "execution_count": 16,
   "id": "8fdb37ba",
   "metadata": {},
   "outputs": [
    {
     "data": {
      "image/png": "[encoded data removed]",
      "text/latex": [
       "$\\displaystyle \\frac{y{\\left(t \\right)}}{20} + \\frac{d}{d t} y{\\left(t \\right)} - 10 = 0$"
      ],
      "text/plain": [
       "y(t)   d                \n",
       "──── + ──(y(t)) - 10 = 0\n",
       " 20    dt               "
      ]
     },
     "metadata": {},
     "output_type": "display_data"
    }
   ],
   "source": [
    "# We define the ODE:\n",
    "\n",
    "diffeq4 = sp.Eq(y(t).diff(t) + y(t)/20 -10,0)\n",
    "\n",
    "display(diffeq4)"
   ]
  },
  {
   "cell_type": "code",
   "execution_count": 19,
   "id": "44c89e93",
   "metadata": {},
   "outputs": [
    {
     "data": {
      "image/png": "[encoded data removed]",
      "text/latex": [
       "$\\displaystyle y{\\left(t \\right)} = 200 - 180 e^{- \\frac{t}{20}}$"
      ],
      "text/plain": [
       "                  -t \n",
       "                  ───\n",
       "                   20\n",
       "y(t) = 200 - 180⋅ℯ   "
      ]
     },
     "metadata": {},
     "output_type": "display_data"
    }
   ],
   "source": [
    "# Solution to the ODE:\n",
    "\n",
    "result4 = sp.dsolve(diffeq4, y(t), ics = {y(0):20})\n",
    "\n",
    "display(result4)"
   ]
  },
  {
   "cell_type": "markdown",
   "id": "ff891e35",
   "metadata": {},
   "source": [
    "## Systems of ODEs\n",
    "\n",
    "\n",
    "We can use **dsolve()** or **dsolve_system**."
   ]
  },
  {
   "cell_type": "markdown",
   "id": "34e87200",
   "metadata": {},
   "source": [
    "### Example 5 (using dsolve) :\n",
    "\n",
    "Find the solution to:\n",
    "\n",
    "$x'(t) = x(t)y(t)\\sin(t)$\n",
    "\n",
    "$y'(t) = y^2(t)\\sin(t)$\n"
   ]
  },
  {
   "cell_type": "code",
   "execution_count": 20,
   "id": "acb8684b",
   "metadata": {},
   "outputs": [],
   "source": [
    "# We define symbols:\n",
    "\n",
    "t = sp.symbols('t')\n",
    "\n",
    "x, y = sp.symbols('x, y', cls=sp.Function)"
   ]
  },
  {
   "cell_type": "code",
   "execution_count": null,
   "id": "36b719c0",
   "metadata": {},
   "outputs": [],
   "source": [
    "# Differential equations:\n",
    "\n",
    "diffeqs5 = "
   ]
  }
 ],
 "metadata": {
  "kernelspec": {
   "display_name": "Python 3",
   "language": "python",
   "name": "python3"
  },
  "language_info": {
   "codemirror_mode": {
    "name": "ipython",
    "version": 3
   },
   "file_extension": ".py",
   "mimetype": "text/x-python",
   "name": "python",
   "nbconvert_exporter": "python",
   "pygments_lexer": "ipython3",
   "version": "3.7.10"
  }
 },
 "nbformat": 4,
 "nbformat_minor": 5
}
