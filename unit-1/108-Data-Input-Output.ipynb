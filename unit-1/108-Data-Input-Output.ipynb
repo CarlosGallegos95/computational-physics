{
 "cells": [
  {
   "cell_type": "markdown",
   "id": "f3178b02",
   "metadata": {},
   "source": [
    "# Data Input/Output:\n",
    "\n",
    "## Number Formatting\n",
    "\n",
    "- This is useful for data output.\n",
    "\n",
    "- It is good to have a standard way of writing data into files, e.g. with scientific notation and/or with a predefined number of significant figures."
   ]
  },
  {
   "cell_type": "code",
   "execution_count": 2,
   "id": "14146eb7",
   "metadata": {},
   "outputs": [],
   "source": [
    "# Import most-used libraries\n",
    "import numpy as np\n",
    "import matplotlib.pyplot as plt"
   ]
  },
  {
   "cell_type": "markdown",
   "id": "b0f80d59",
   "metadata": {},
   "source": [
    "### Standard syntax:\n",
    "\n",
    "\n",
    "print(\"FORMAT\".format(NUMBER))\n",
    "\n",
    "### 1. Format float 2 decimal places"
   ]
  },
  {
   "cell_type": "code",
   "execution_count": 3,
   "id": "a6499acd",
   "metadata": {},
   "outputs": [
    {
     "name": "stdout",
     "output_type": "stream",
     "text": [
      "3.14\n"
     ]
    }
   ],
   "source": [
    "print(\"{:.2f}\".format(np.pi))"
   ]
  },
  {
   "cell_type": "markdown",
   "id": "0d8495d1",
   "metadata": {},
   "source": [
    "### 2. Format float 3 decimal places with signs"
   ]
  },
  {
   "cell_type": "code",
   "execution_count": 5,
   "id": "5b11030e",
   "metadata": {},
   "outputs": [
    {
     "name": "stdout",
     "output_type": "stream",
     "text": [
      "+3.142\n",
      "-3.142\n"
     ]
    }
   ],
   "source": [
    "print(\"{:+.3f}\".format(np.pi))\n",
    "\n",
    "print(\"{:+.3f}\".format(-np.pi))"
   ]
  },
  {
   "cell_type": "markdown",
   "id": "f421089a",
   "metadata": {},
   "source": [
    "### 3. Format float with no decimal places"
   ]
  },
  {
   "cell_type": "code",
   "execution_count": 6,
   "id": "232514ab",
   "metadata": {},
   "outputs": [
    {
     "name": "stdout",
     "output_type": "stream",
     "text": [
      "3\n"
     ]
    }
   ],
   "source": [
    "print(\"{:.0f}\".format(np.pi))"
   ]
  },
  {
   "cell_type": "markdown",
   "id": "8bd8cbd3",
   "metadata": {},
   "source": [
    "### 4. Exponent notation (scientific notation)\n",
    "\n",
    ".1e = scientific notation with 1 decimal point (standard form)\n",
    "\n",
    ".2f = 2 decimal places"
   ]
  },
  {
   "cell_type": "code",
   "execution_count": 7,
   "id": "2d93e1d1",
   "metadata": {},
   "outputs": [
    {
     "name": "stdout",
     "output_type": "stream",
     "text": [
      "3.1416e+00\n"
     ]
    }
   ],
   "source": [
    "print(\"{:.4e}\".format(np.pi))"
   ]
  },
  {
   "cell_type": "markdown",
   "id": "fd174074",
   "metadata": {},
   "source": [
    "### 5. Specify number of significant figures\n",
    "\n",
    ".3g = 3 significant figures"
   ]
  },
  {
   "cell_type": "code",
   "execution_count": 8,
   "id": "d9464b64",
   "metadata": {},
   "outputs": [
    {
     "name": "stdout",
     "output_type": "stream",
     "text": [
      "3.14\n"
     ]
    }
   ],
   "source": [
    "print(\"{:.3g}\".format(np.pi))"
   ]
  },
  {
   "cell_type": "markdown",
   "id": "4b16e516",
   "metadata": {},
   "source": [
    "### 6. Write percentages:\n",
    "\n",
    ".4% = percentage with 4 decimal places"
   ]
  },
  {
   "cell_type": "code",
   "execution_count": 9,
   "id": "a23d7fe7",
   "metadata": {},
   "outputs": [
    {
     "name": "stdout",
     "output_type": "stream",
     "text": [
      "50.0000%\n"
     ]
    }
   ],
   "source": [
    "# Note that it multiplies numbers by 100\n",
    "\n",
    "print(\"{:.4%}\".format(0.5)) "
   ]
  },
  {
   "cell_type": "markdown",
   "id": "f0f6a40b",
   "metadata": {},
   "source": [
    "### 7. Putting zeroes onto the left hand side of an integer"
   ]
  },
  {
   "cell_type": "code",
   "execution_count": 12,
   "id": "05967ba6",
   "metadata": {},
   "outputs": [
    {
     "name": "stdout",
     "output_type": "stream",
     "text": [
      "001\n",
      "010\n",
      "100\n"
     ]
    }
   ],
   "source": [
    "print(\"{:03d}\".format(1)) # Needs to be an integer\n",
    "print(\"{:03d}\".format(10)) # Needs to be an integer\n",
    "print(\"{:03d}\".format(100)) # Needs to be an integer"
   ]
  },
  {
   "cell_type": "markdown",
   "id": "03a4a340",
   "metadata": {},
   "source": [
    "## Data I/O:\n",
    "\n",
    "### Python Native Function (open function)\n",
    "\n",
    "- Reading or writing files is handled natively in python.\n",
    "\n",
    "- You can use the built-in open() function to open a file.\n",
    "\n",
    "- When you use the open function, it returns something called a file object. File objects contain methods and attributes that can be used to collect information about the file you opened. They can also be used to manipulate said file.\n",
    "\n",
    "- For example, the mode attribute of a file object tells you which mode a file was opened in. And the name attribute tells you the name of the file that the file object has opened.\n",
    "\n",
    "### How do we call the open function?\n",
    "\n",
    "The syntax to open a file object in Python is the following:\n",
    "\n",
    "file_object = open(“filename”, “mode”)\n",
    "\n",
    "- file_object is the variable to add the file object.\n",
    "\n",
    "- mode tells the interpreter and developer which way the file will be used.\n",
    "\n",
    "Including a mode argument is optional because a default value of ‘r’ will be assumed if it is omitted. The ‘r’ value stands for read mode, which is just one of many. The modes are:\n",
    "\n",
    "- ‘r’ -> Read mode which is used when the file is only being read\n",
    "- ‘w’ –> Write mode which is used to edit and write new information to the file (any existing files with the same name will be erased when this mode is activated)\n",
    "- ‘a’ –> Appending mode, which is used to add new data to the end of the file; that is new information is automatically amended to the end\n",
    "- ‘r+’ –> Special read and write mode, which is used to handle both actions when working with a file"
   ]
  },
  {
   "cell_type": "code",
   "execution_count": 14,
   "id": "ee32336f",
   "metadata": {},
   "outputs": [
    {
     "name": "stdout",
     "output_type": "stream",
     "text": [
      "101-Introduction-GoogleColab.ipynb 107-Python-Functions.ipynb\r\n",
      "102-Introduction-Anaconda.md       108-Data-Input-Output.ipynb\r\n",
      "103-Computer-Science.pdf           brachistochrone.jpeg\r\n",
      "104-Python-Basics-Review.ipynb     file_1.txt\r\n",
      "105-Numpy-Arrays.ipynb             problem-101.ipynb\r\n",
      "106-Plotting-in-Python.ipynb\r\n"
     ]
    }
   ],
   "source": [
    "!ls"
   ]
  },
  {
   "cell_type": "markdown",
   "id": "7c326214",
   "metadata": {},
   "source": [
    "## Reading text files:"
   ]
  },
  {
   "cell_type": "code",
   "execution_count": 20,
   "id": "a2558477",
   "metadata": {},
   "outputs": [
    {
     "name": "stdout",
     "output_type": "stream",
     "text": [
      "<_io.TextIOWrapper name='file_1.txt' mode='r' encoding='UTF-8'>\n",
      "Computational Physics 1\n",
      "4 May 2023\n",
      "W.E.B.B.\n",
      "\n"
     ]
    }
   ],
   "source": [
    "# To read text files, we need a file object\n",
    "file_1 = open(\"file_1.txt\", \"r\")\n",
    "\n",
    "print(file_1)\n",
    "\n",
    "# To see the contents\n",
    "print(file_1.read())\n",
    "\n",
    "# Close it\n",
    "file_1.close()"
   ]
  },
  {
   "cell_type": "code",
   "execution_count": 22,
   "id": "47ce6a08",
   "metadata": {},
   "outputs": [
    {
     "name": "stdout",
     "output_type": "stream",
     "text": [
      "Compu\n"
     ]
    }
   ],
   "source": [
    "# Reading some characters in text files\n",
    "\n",
    "file_1 = open(\"file_1.txt\", \"r\")\n",
    "\n",
    "# To read 5 characters\n",
    "print(file_1.read(5))\n",
    "\n",
    "file_1.close()"
   ]
  },
  {
   "cell_type": "code",
   "execution_count": 23,
   "id": "aed3762e",
   "metadata": {},
   "outputs": [
    {
     "name": "stdout",
     "output_type": "stream",
     "text": [
      "['Computational Physics 1\\n', '4 May 2023\\n', 'W.E.B.B.\\n']\n"
     ]
    }
   ],
   "source": [
    "# Reading some characters in text files\n",
    "\n",
    "file_1 = open(\"file_1.txt\", \"r\")\n",
    "\n",
    "# To read line by line\n",
    "print(file_1.readlines())\n",
    "\n",
    "file_1.close()"
   ]
  },
  {
   "cell_type": "code",
   "execution_count": 28,
   "id": "0b9b1e8b",
   "metadata": {},
   "outputs": [
    {
     "name": "stdout",
     "output_type": "stream",
     "text": [
      "<class 'list'>\n",
      "3\n",
      "['Computational Physics 1\\n', '4 May 2023\\n', 'W.E.B.B.\\n']\n",
      "Computational Physics 1\n",
      "\n",
      "4 May 2023\n",
      "\n",
      "W.E.B.B.\n",
      "\n"
     ]
    }
   ],
   "source": [
    "# Reading some characters in text files\n",
    "\n",
    "file_1 = open(\"file_1.txt\", \"r\")\n",
    "\n",
    "# To read line by line and we put everything into a line object\n",
    "lines = file_1.readlines()\n",
    "\n",
    "print(type(lines))\n",
    "print(len(lines))\n",
    "print(lines)\n",
    "\n",
    "# Indexing:\n",
    "print(lines[0])\n",
    "print(lines[1])\n",
    "print(lines[2])\n",
    "\n",
    "file_1.close()"
   ]
  },
  {
   "cell_type": "markdown",
   "id": "a50eabb0",
   "metadata": {},
   "source": [
    "You can do the same in a more memory efficient and fast manner using a **for** loop.\n",
    "\n",
    "The general syntax of a for loop is:\n",
    "\n",
    "**for** index **in** object:</br>\n",
    "(tab/indentation) instructions to be executed within a loop"
   ]
  },
  {
   "cell_type": "code",
   "execution_count": 30,
   "id": "4a2446e2",
   "metadata": {},
   "outputs": [
    {
     "name": "stdout",
     "output_type": "stream",
     "text": [
      "Computational Physics 1\n",
      "\n",
      "4 May 2023\n",
      "\n",
      "W.E.B.B.\n",
      "\n"
     ]
    }
   ],
   "source": [
    "# Reading some characters in text files\n",
    "\n",
    "file_1 = open(\"file_1.txt\", \"r\")\n",
    "\n",
    "for i in file_1: # i is our index\n",
    "    print(i)\n",
    "\n",
    "file_1.close()"
   ]
  },
  {
   "cell_type": "markdown",
   "id": "c1b25515",
   "metadata": {},
   "source": [
    "### Writing into files\n",
    "\n",
    "Now that we know how to open text files and read the information, let's see how to write into files.\n",
    "\n",
    "The function .write() can be invoked."
   ]
  },
  {
   "cell_type": "code",
   "execution_count": 32,
   "id": "a1b6fec6",
   "metadata": {},
   "outputs": [],
   "source": [
    "# Let's open a new file and write into it\n",
    "\n",
    "file_2 = open(\"file_2.txt\", \"w\")\n",
    "\n",
    "file_2.write(\"This is a new text file.\\n\")\n",
    "\n",
    "file_2.close()"
   ]
  },
  {
   "cell_type": "code",
   "execution_count": 33,
   "id": "3868f2bb",
   "metadata": {},
   "outputs": [
    {
     "name": "stdout",
     "output_type": "stream",
     "text": [
      "101-Introduction-GoogleColab.ipynb 107-Python-Functions.ipynb\r\n",
      "102-Introduction-Anaconda.md       108-Data-Input-Output.ipynb\r\n",
      "103-Computer-Science.pdf           brachistochrone.jpeg\r\n",
      "104-Python-Basics-Review.ipynb     file_1.txt\r\n",
      "105-Numpy-Arrays.ipynb             file_2.txt\r\n",
      "106-Plotting-in-Python.ipynb       problem-101.ipynb\r\n"
     ]
    }
   ],
   "source": [
    "!ls"
   ]
  },
  {
   "cell_type": "markdown",
   "id": "6ca522cc",
   "metadata": {},
   "source": [
    "We can check this in a Linux shell using the terminal:<br>\n",
    "\n",
    "~~~~html\n",
    "$ cat file_2.txt\n",
    "~~~~"
   ]
  },
  {
   "cell_type": "code",
   "execution_count": 34,
   "id": "1fadbe8b",
   "metadata": {},
   "outputs": [
    {
     "name": "stdout",
     "output_type": "stream",
     "text": [
      "This is a new text file.\r\n"
     ]
    }
   ],
   "source": [
    "!cat file_2.txt"
   ]
  },
  {
   "cell_type": "markdown",
   "id": "000d0573",
   "metadata": {},
   "source": [
    "And there is a second way to do the same, using **print()**."
   ]
  },
  {
   "cell_type": "code",
   "execution_count": 43,
   "id": "f3e700f3",
   "metadata": {},
   "outputs": [],
   "source": [
    "print('This is my new file written with print().\\n', file = open(\"file_3.txt\", \"w\"))"
   ]
  },
  {
   "cell_type": "code",
   "execution_count": 44,
   "id": "5bfe24e5",
   "metadata": {},
   "outputs": [
    {
     "name": "stdout",
     "output_type": "stream",
     "text": [
      "This is my new file written with print().\r\n",
      "\r\n"
     ]
    }
   ],
   "source": [
    "!cat file_3.txt"
   ]
  },
  {
   "cell_type": "markdown",
   "id": "0110e4c9",
   "metadata": {},
   "source": [
    "### Writing some numbers (data) in a table format"
   ]
  },
  {
   "cell_type": "code",
   "execution_count": 50,
   "id": "59c82286",
   "metadata": {},
   "outputs": [
    {
     "name": "stdout",
     "output_type": "stream",
     "text": [
      "(10,) (10,) (10,)\n"
     ]
    }
   ],
   "source": [
    "# Generate some sample data\n",
    "\n",
    "data_1 = np.arange(0., 10., 1.)\n",
    "data_2 = np.arange(10., 20., 1.)\n",
    "data_3 = np.arange(20., 30., 1.)\n",
    "\n",
    "print(data_1.shape, data_2.shape, data_3.shape)\n",
    "\n",
    "# Now let's write these vectors as columns into a data file\n",
    "file = open(\"file_4.txt\", \"w\")\n",
    "\n",
    "# Write vectors as columns\n",
    "for i in range(len(data_1)):\n",
    "    print(data_1[i], data_2[i], data_3[i], file = open(\"file_4.txt\", \"a\"))\n",
    "\n",
    "file.close()"
   ]
  },
  {
   "cell_type": "code",
   "execution_count": 51,
   "id": "d2a4caee",
   "metadata": {},
   "outputs": [
    {
     "name": "stdout",
     "output_type": "stream",
     "text": [
      "0.0 10.0 20.0\r\n",
      "1.0 11.0 21.0\r\n",
      "2.0 12.0 22.0\r\n",
      "3.0 13.0 23.0\r\n",
      "4.0 14.0 24.0\r\n",
      "5.0 15.0 25.0\r\n",
      "6.0 16.0 26.0\r\n",
      "7.0 17.0 27.0\r\n",
      "8.0 18.0 28.0\r\n",
      "9.0 19.0 29.0\r\n"
     ]
    }
   ],
   "source": [
    "!cat file_4.txt"
   ]
  },
  {
   "cell_type": "code",
   "execution_count": null,
   "id": "3e3e4a80",
   "metadata": {},
   "outputs": [],
   "source": []
  }
 ],
 "metadata": {
  "kernelspec": {
   "display_name": "Python 3 (ipykernel)",
   "language": "python",
   "name": "python3"
  },
  "language_info": {
   "codemirror_mode": {
    "name": "ipython",
    "version": 3
   },
   "file_extension": ".py",
   "mimetype": "text/x-python",
   "name": "python",
   "nbconvert_exporter": "python",
   "pygments_lexer": "ipython3",
   "version": "3.7.16"
  }
 },
 "nbformat": 4,
 "nbformat_minor": 5
}
