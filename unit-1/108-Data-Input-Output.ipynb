{
  "cells": [
    {
      "cell_type": "markdown",
      "metadata": {
        "id": "view-in-github",
        "colab_type": "text"
      },
      "source": [
        "<a href=\"https://colab.research.google.com/github/wbandabarragan/computational-physics-1/blob/main/unit-1/108-Data-Input-Output.ipynb\" target=\"_parent\"><img src=\"https://colab.research.google.com/assets/colab-badge.svg\" alt=\"Open In Colab\"/></a>"
      ]
    },
    {
      "cell_type": "markdown",
      "id": "b35f7106",
      "metadata": {
        "id": "b35f7106"
      },
      "source": [
        "# Data Input/Output:\n",
        "\n",
        "## Number Formatting\n",
        "\n",
        "- This is useful for data output.\n",
        "\n",
        "- It is good to have a standard way of writing data into files, e.g. with scientific notation and/or with a predefined number of significant figures."
      ]
    },
    {
      "cell_type": "code",
      "execution_count": 1,
      "id": "d414f63c",
      "metadata": {
        "id": "d414f63c"
      },
      "outputs": [],
      "source": [
        "# Import most-used libraries\n",
        "import numpy as np\n",
        "import matplotlib.pyplot as plt"
      ]
    },
    {
      "cell_type": "markdown",
      "id": "e1e3e9b7",
      "metadata": {
        "id": "e1e3e9b7"
      },
      "source": [
        "### Standard syntax:\n",
        "\n",
        "\n",
        "print(\"FORMAT\".format(NUMBER))\n",
        "\n",
        "### 1. Format float 2 decimal places"
      ]
    },
    {
      "cell_type": "code",
      "execution_count": 2,
      "id": "fb822afd",
      "metadata": {
        "colab": {
          "base_uri": "https://localhost:8080/"
        },
        "id": "fb822afd",
        "outputId": "911d8865-17d3-4f7f-b9b3-7aa9eecaa0c2"
      },
      "outputs": [
        {
          "output_type": "stream",
          "name": "stdout",
          "text": [
            "3.14\n"
          ]
        }
      ],
      "source": [
        "print(\"{:.2f}\".format(np.pi))"
      ]
    },
    {
      "cell_type": "markdown",
      "id": "2e02a46b",
      "metadata": {
        "id": "2e02a46b"
      },
      "source": [
        "### 2. Format float 3 decimal places with signs"
      ]
    },
    {
      "cell_type": "code",
      "execution_count": 3,
      "id": "b3ce5f54",
      "metadata": {
        "colab": {
          "base_uri": "https://localhost:8080/"
        },
        "id": "b3ce5f54",
        "outputId": "84040475-69c3-4216-8df8-7fa048393a49"
      },
      "outputs": [
        {
          "output_type": "stream",
          "name": "stdout",
          "text": [
            "+3.142\n",
            "-3.142\n"
          ]
        }
      ],
      "source": [
        "print(\"{:+.3f}\".format(np.pi))\n",
        "\n",
        "print(\"{:+.3f}\".format(-np.pi))"
      ]
    },
    {
      "cell_type": "markdown",
      "id": "8314dfdf",
      "metadata": {
        "id": "8314dfdf"
      },
      "source": [
        "### 3. Format float with no decimal places"
      ]
    },
    {
      "cell_type": "code",
      "execution_count": 4,
      "id": "10ed40dd",
      "metadata": {
        "colab": {
          "base_uri": "https://localhost:8080/"
        },
        "id": "10ed40dd",
        "outputId": "77ee3ce3-27d3-4391-99c0-dcf63d60f44e"
      },
      "outputs": [
        {
          "output_type": "stream",
          "name": "stdout",
          "text": [
            "3\n"
          ]
        }
      ],
      "source": [
        "print(\"{:.0f}\".format(np.pi))"
      ]
    },
    {
      "cell_type": "markdown",
      "id": "d68b1398",
      "metadata": {
        "id": "d68b1398"
      },
      "source": [
        "### 4. Exponent notation (scientific notation)\n",
        "\n",
        ".1e = scientific notation with 1 decimal point (standard form)\n",
        "\n",
        ".2f = 2 decimal places"
      ]
    },
    {
      "cell_type": "code",
      "execution_count": 5,
      "id": "b1282d50",
      "metadata": {
        "colab": {
          "base_uri": "https://localhost:8080/"
        },
        "id": "b1282d50",
        "outputId": "da093553-08c0-4ecb-8ebd-043fc1744e84"
      },
      "outputs": [
        {
          "output_type": "stream",
          "name": "stdout",
          "text": [
            "3.1416e+00\n"
          ]
        }
      ],
      "source": [
        "print(\"{:.4e}\".format(np.pi))"
      ]
    },
    {
      "cell_type": "markdown",
      "id": "a85a6707",
      "metadata": {
        "id": "a85a6707"
      },
      "source": [
        "### 5. Specify number of significant figures\n",
        "\n",
        ".3g = 3 significant figures"
      ]
    },
    {
      "cell_type": "code",
      "execution_count": 6,
      "id": "610721b9",
      "metadata": {
        "colab": {
          "base_uri": "https://localhost:8080/"
        },
        "id": "610721b9",
        "outputId": "15a794f0-f493-48f2-cda8-bde6d40bf6ac"
      },
      "outputs": [
        {
          "output_type": "stream",
          "name": "stdout",
          "text": [
            "3.14\n"
          ]
        }
      ],
      "source": [
        "print(\"{:.3g}\".format(np.pi))"
      ]
    },
    {
      "cell_type": "markdown",
      "id": "d54fe3f2",
      "metadata": {
        "id": "d54fe3f2"
      },
      "source": [
        "### 6. Write percentages:\n",
        "\n",
        ".4% = percentage with 4 decimal places"
      ]
    },
    {
      "cell_type": "code",
      "execution_count": 7,
      "id": "d84929a5",
      "metadata": {
        "colab": {
          "base_uri": "https://localhost:8080/"
        },
        "id": "d84929a5",
        "outputId": "fd2047bc-6c37-4c04-d01d-b220f5be08c6"
      },
      "outputs": [
        {
          "output_type": "stream",
          "name": "stdout",
          "text": [
            "50.0000%\n"
          ]
        }
      ],
      "source": [
        "# Note that it multiplies numbers by 100\n",
        "\n",
        "print(\"{:.4%}\".format(0.5)) "
      ]
    },
    {
      "cell_type": "markdown",
      "id": "f4f301a3",
      "metadata": {
        "id": "f4f301a3"
      },
      "source": [
        "### 7. Putting zeroes onto the left hand side of an integer"
      ]
    },
    {
      "cell_type": "code",
      "execution_count": 8,
      "id": "b9108d4d",
      "metadata": {
        "colab": {
          "base_uri": "https://localhost:8080/"
        },
        "id": "b9108d4d",
        "outputId": "fc9c8362-949b-405d-d1a0-9c8c37b1cfa0"
      },
      "outputs": [
        {
          "output_type": "stream",
          "name": "stdout",
          "text": [
            "001\n",
            "010\n",
            "100\n"
          ]
        }
      ],
      "source": [
        "print(\"{:03d}\".format(1)) # Needs to be an integer\n",
        "print(\"{:03d}\".format(10)) # Needs to be an integer\n",
        "print(\"{:03d}\".format(100)) # Needs to be an integer"
      ]
    },
    {
      "cell_type": "markdown",
      "source": [
        "## Data I/O:\n",
        "\n",
        "### Python Native Function (open function)\n",
        "\n",
        "- Reading or writing files is handled natively in python.\n",
        "\n",
        "- You can use the built-in open() function to open a file.\n",
        "\n",
        "- When you use the open function, it returns something called a file object. File objects contain methods and attributes that can be used to collect information about the file you opened. They can also be used to manipulate said file.\n",
        "\n",
        "- For example, the mode attribute of a file object tells you which mode a file was opened in. And the name attribute tells you the name of the file that the file object has opened.\n",
        "\n",
        "### How do we call the open function?\n",
        "\n",
        "The syntax to open a file object in Python is the following:\n",
        "\n",
        "file_object = open(“filename”, “mode”)\n",
        "\n",
        "- file_object is the variable to add the file object.\n",
        "\n",
        "- mode tells the interpreter and developer which way the file will be used.\n",
        "\n",
        "Including a mode argument is optional because a default value of ‘r’ will be assumed if it is omitted. The ‘r’ value stands for read mode, which is just one of many. The modes are:\n",
        "\n",
        "- ‘r’ -> Read mode which is used when the file is only being read\n",
        "- ‘w’ –> Write mode which is used to edit and write new information to the file (any existing files with the same name will be erased when this mode is activated)\n",
        "- ‘a’ –> Appending mode, which is used to add new data to the end of the file; that is new information is automatically amended to the end\n",
        "- ‘r+’ –> Special read and write mode, which is used to handle both actions when working with a file"
      ],
      "metadata": {
        "id": "HDbK7RDI_1b2"
      },
      "id": "HDbK7RDI_1b2"
    },
    {
      "cell_type": "code",
      "execution_count": 8,
      "id": "0f294117",
      "metadata": {
        "id": "0f294117"
      },
      "outputs": [],
      "source": []
    }
  ],
  "metadata": {
    "kernelspec": {
      "display_name": "Python 3 (ipykernel)",
      "language": "python",
      "name": "python3"
    },
    "language_info": {
      "codemirror_mode": {
        "name": "ipython",
        "version": 3
      },
      "file_extension": ".py",
      "mimetype": "text/x-python",
      "name": "python",
      "nbconvert_exporter": "python",
      "pygments_lexer": "ipython3",
      "version": "3.7.16"
    },
    "colab": {
      "provenance": [],
      "include_colab_link": true
    }
  },
  "nbformat": 4,
  "nbformat_minor": 5
}