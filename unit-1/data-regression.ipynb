{
 "cells": [
  {
   "cell_type": "markdown",
   "id": "68e8e7e5",
   "metadata": {},
   "source": [
    "# Data fitting and regression"
   ]
  },
  {
   "cell_type": "markdown",
   "id": "6f7ff324",
   "metadata": {},
   "source": [
    "Let us imagine we measure the thickness of a book for different number of pages. We count the number of pages (variable book pages) and use a Vernier to measure the thickness in units of $\\rm mm$.\n",
    "\n",
    "Then, we save the experimental data into a file named: **\"books.dat\"**"
   ]
  },
  {
   "cell_type": "code",
   "execution_count": 1,
   "id": "4195c6d7",
   "metadata": {},
   "outputs": [],
   "source": [
    "import matplotlib.pyplot as plt\n",
    "import numpy as np\n",
    "import pandas as pd"
   ]
  },
  {
   "cell_type": "code",
   "execution_count": null,
   "id": "83d93180",
   "metadata": {},
   "outputs": [],
   "source": [
    "# read_csv returns a DataFrame, which is two-dimensional data structure with labeled axes.\n",
    "\n",
    "data = pd.read_csv(\"books.dat\", sep = \"\\s+\")\n",
    "print(data) # Uncomment to print data"
   ]
  }
 ],
 "metadata": {
  "kernelspec": {
   "display_name": "Python 3",
   "language": "python",
   "name": "python3"
  },
  "language_info": {
   "codemirror_mode": {
    "name": "ipython",
    "version": 3
   },
   "file_extension": ".py",
   "mimetype": "text/x-python",
   "name": "python",
   "nbconvert_exporter": "python",
   "pygments_lexer": "ipython3",
   "version": "3.7.10"
  }
 },
 "nbformat": 4,
 "nbformat_minor": 5
}
