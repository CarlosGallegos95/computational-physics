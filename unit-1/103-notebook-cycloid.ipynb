{
 "cells": [
  {
   "cell_type": "markdown",
   "metadata": {
    "id": "MjzLxfrRofLq"
   },
   "source": [
    "## In-class exercise: The Brachistochrone curve"
   ]
  },
  {
   "cell_type": "markdown",
   "metadata": {},
   "source": [
    "The Brachistochrone curve describes the trajectory of a particle that falls under the action of gravity employing minimal time. Finding the solutions, thus, requires minimising the time function, which we need to find first.\n",
    "\n",
    "\n",
    "So, let's sketch the problem.\n",
    "\n",
    "![brachistochrone.jpeg](./brachistochrone.jpeg)\n",
    "\n",
    "Here we have a particle at rest in point 0, that then moves to point B via points A and P employing minimal time.\n",
    "\n",
    "\n",
    "The particle at point P at any time, $t$, has a speed, $v(t)=\\frac{ds}{dt}$, where $ds$ is the path differential, i.e., $ds^2=dx^2+dy^2$.\n",
    "\n",
    "If we use $y$ as the independent variable of the system, $x=x(y)$, so $dx = x'\\,dy$, where $x'=\\frac{dx}{dy}$. Therefore, we can re-write the above equation as:\n",
    "$ds^2=(1+x'^2)\\,dy^2$ (eq. 1).\n",
    "\n",
    "This is going to be useful later on. Now let's look at the physics of the problem.\n",
    "\n",
    "## Energy conservation:\n",
    "\n",
    "Considering points O and P, we see that in point O we don't have mechanical energy, $E$, while in point P have both kinetic energy, $K_p$, and potential energy, $U_p$, then:\n",
    "\n",
    "$\\Delta E_{OP} = E_P- E_O =0$\n",
    "\n",
    "\n",
    "$\\Rightarrow \\frac{1}{2}mv^2-mgy=0$\n",
    "\n",
    "$\\Rightarrow v = \\frac{ds}{dt}=\\sqrt{2gy}$ (eq. 2)\n",
    "\n",
    "Solving for $dt$:\n",
    "\n",
    "$\\Rightarrow dt = \\frac{ds}{v}$\n",
    "\n",
    "$\\Rightarrow \\int dt = \\int{\\frac{ds}{v}}$ (eq. 3)\n",
    "\n",
    "Substituting eqs. 1 and 2 in eq. 3:\n",
    "\n",
    "\n",
    "$\\Rightarrow \\int dt = \\int{{\\frac{\\sqrt{x'^2+1}}{\\sqrt{2gy}}}dy} = \\frac{1}{\\sqrt{2g}}\\int{{\\frac{\\sqrt{x'^2+1}}{\\sqrt{y}}}dy}$\n",
    "\n",
    "\n",
    "This is the integral whose minimum we want to find.\n",
    "\n",
    "Fortunately, we recognise that that the argument of the integral on the RHS has the form:\n",
    "\n",
    "$f(x,x',y)=\\frac{\\sqrt{x'^2+1}}{\\sqrt{y}}$ (eq. 4)\n",
    "\n",
    "So, we can use the Euler-Lagrange equation from Calculus of Variations to find the minimum. Remember that this eq. allows us to find stationary points and that differentiable functionals, like this one, are stationary at local extrema.\n",
    "\n",
    "The Euler-Lagrange equation for this case reads:\n",
    "\n",
    "$\\frac{\\partial f}{\\partial x}=\\frac{d}{dy}\\frac{\\partial f}{\\partial x'}$ (eq. 5)\n",
    "\n",
    "Calculating the derivatives for eq. 4, we find:\n",
    "\n",
    "$\\frac{\\partial f}{\\partial x}=0$, and\n",
    "\n",
    "$\\frac{\\partial f}{\\partial x'}=\\frac{1}{\\sqrt{y}}(x'^2+1)^{-\\frac{1}{2}}(x')$\n",
    "\n",
    "\n",
    "Thus, eq. 5 implies:\n",
    "\n",
    "$\\frac{1}{\\sqrt{y}}(x'^2+1)^{-\\frac{1}{2}}(x') = constant$\n",
    "\n",
    "For convenience, we write:\n",
    "\n",
    "$\\frac{x'^2}{y\\,(x'^2+1)} = \\frac{1}{2\\alpha}$, where $\\alpha$ is a constant.\n",
    "\n",
    "\n",
    "Solving for $x'$:\n",
    "\n",
    "\n",
    "$\\Rightarrow x'=\\sqrt{\\frac{y}{2\\alpha - y}}$\n",
    "\n",
    "$\\Rightarrow dx=\\int{\\sqrt{\\frac{y}{2\\alpha - y}}dy}$"
   ]
  },
  {
   "cell_type": "markdown",
   "metadata": {
    "id": "_U7-s-wO4pnx"
   },
   "source": [
    "We can readily solve this by changing variables from $y$ to $\\theta$, and we find the Brachistochrone parametric solutions:\n",
    "\n",
    "$x = \\alpha \\left(\\theta-\\sin(\\theta)\\right)$\n",
    "\n",
    "\n",
    "$y = \\alpha \\left(1-\\cos(\\theta)\\right)$\n",
    "\n",
    "Note that these solutions correspond to those of a cycloid curve."
   ]
  },
  {
   "cell_type": "code",
   "execution_count": 1,
   "metadata": {
    "id": "D_kHnnex7n2z"
   },
   "outputs": [],
   "source": [
    "# Let us define a function named cycloid with one argument alpha.\n",
    "\n",
    "# We will see later that defining functions is important because it simplifies the code.\n",
    "\n",
    "def cycloid(alpha):\n",
    "\n",
    "    # We define empty lists x and y\n",
    "    x = []\n",
    "    y = []\n",
    "    \n",
    "    # And now we append values with a for loop over theta\n",
    "    for theta in np.linspace(0, 10*np.pi, 100):\n",
    "      x.append(alpha*(theta-np.sin(theta)))\n",
    "      y.append(alpha*(1-np.cos(theta)))\n",
    "        \n",
    "    # Note that the above lines correspond to our solutions above.\n",
    "    \n",
    "    # And finally we return x and y in a tuple.\n",
    "    return x, y"
   ]
  },
  {
   "cell_type": "code",
   "execution_count": 2,
   "metadata": {
    "colab": {
     "base_uri": "https://localhost:8080/",
     "height": 335
    },
    "id": "1GLrANyc6PMp",
    "outputId": "3387bcb6-da79-4a63-d422-6cf6aa293ff6"
   },
   "outputs": [
    {
     "data": {
      "image/png": "[encoded data removed]",
      "text/plain": [
       "<Figure size 640x480 with 1 Axes>"
      ]
     },
     "metadata": {},
     "output_type": "display_data"
    }
   ],
   "source": [
    "# You need the next two lines only if you are using Google Colab.\n",
    "# They allow you to access your own Google Drive.\n",
    "\n",
    "#from google.colab import drive\n",
    "#drive.mount('/content/drive')\n",
    "\n",
    "\n",
    "# Import libraries for plotting\n",
    "import numpy as np\n",
    "import matplotlib.pyplot as plt\n",
    "\n",
    "# Define a value for alpha\n",
    "alpha1 = 3\n",
    "\n",
    "# Plot a figure using pyplot\n",
    "fig, ax = plt.subplots()\n",
    "\n",
    "x, y = cycloid(alpha1)\n",
    "\n",
    "ax.plot(x, y, lw=4, label=\"The Brachistochrone curve\")\n",
    "ax.legend()\n",
    "\n",
    "# Setting the axes labels\n",
    "ax.set_xlabel('$x$')\n",
    "ax.set_ylabel('$y$')\n",
    "\n",
    "# Setting the limits for x and y\n",
    "ax.set_xlim(-2, 18.5)\n",
    "ax.set_ylim(-5, 8)\n",
    "\n",
    "# Inverting the curve for simplicity, technically there are constants that you can determine\n",
    "# based on which points $(x_1,y_1)$ and $(x_2,y_2)$ you want the cycloid to go thru.\n",
    "plt.gca().invert_yaxis()\n",
    "\n",
    "plt.show()"
   ]
  }
 ],
 "metadata": {
  "colab": {
   "name": "Pre-test.ipynb",
   "provenance": []
  },
  "kernelspec": {
   "display_name": "Python 3",
   "language": "python",
   "name": "python3"
  },
  "language_info": {
   "codemirror_mode": {
    "name": "ipython",
    "version": 3
   },
   "file_extension": ".py",
   "mimetype": "text/x-python",
   "name": "python",
   "nbconvert_exporter": "python",
   "pygments_lexer": "ipython3",
   "version": "3.7.10"
  }
 },
 "nbformat": 4,
 "nbformat_minor": 1
}
