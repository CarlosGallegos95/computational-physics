{
 "cells": [
  {
   "cell_type": "markdown",
   "id": "1a6d18b3",
   "metadata": {},
   "source": [
    "# Python Objects"
   ]
  },
  {
   "cell_type": "markdown",
   "id": "70d29e07",
   "metadata": {},
   "source": [
    "# Data types:"
   ]
  },
  {
   "cell_type": "markdown",
   "id": "9c90350d",
   "metadata": {},
   "source": [
    "### Integers (int)"
   ]
  },
  {
   "cell_type": "code",
   "execution_count": 1,
   "id": "dcde4b18",
   "metadata": {},
   "outputs": [
    {
     "name": "stdout",
     "output_type": "stream",
     "text": [
      "<class 'int'>\n",
      "<class 'int'>\n"
     ]
    }
   ],
   "source": [
    "x = 1\n",
    "y = 4\n",
    "\n",
    "print(type(x))\n",
    "print(type(y))"
   ]
  },
  {
   "cell_type": "markdown",
   "id": "679c4c6d",
   "metadata": {},
   "source": [
    "### Integer operations"
   ]
  },
  {
   "cell_type": "code",
   "execution_count": 2,
   "id": "d0b6a12b",
   "metadata": {},
   "outputs": [
    {
     "name": "stdout",
     "output_type": "stream",
     "text": [
      "5\n",
      "-3\n",
      "4\n",
      "0.25\n",
      "0.2\n"
     ]
    }
   ],
   "source": [
    "print(x + y)\n",
    "print(x - y)\n",
    "print(x * y)\n",
    "print(x / y)\n",
    "print(x /(x+y))"
   ]
  },
  {
   "cell_type": "markdown",
   "id": "ecb15e3e",
   "metadata": {},
   "source": [
    "### Floating-point numbers (float)\n"
   ]
  },
  {
   "cell_type": "code",
   "execution_count": 3,
   "id": "451a3729",
   "metadata": {},
   "outputs": [
    {
     "name": "stdout",
     "output_type": "stream",
     "text": [
      "<class 'float'>\n",
      "<class 'float'>\n",
      "<class 'float'>\n"
     ]
    }
   ],
   "source": [
    "import numpy as np\n",
    "x = 1.\n",
    "y = 4.\n",
    "z = np.pi\n",
    "\n",
    "print(type(x))\n",
    "print(type(y))\n",
    "print(type(z))"
   ]
  },
  {
   "cell_type": "markdown",
   "id": "6d27f27d",
   "metadata": {},
   "source": [
    "### Floating-point operations"
   ]
  },
  {
   "cell_type": "code",
   "execution_count": 4,
   "id": "e7fa0fb6",
   "metadata": {},
   "outputs": [
    {
     "name": "stdout",
     "output_type": "stream",
     "text": [
      "5.0\n",
      "-3.0\n",
      "4.0\n",
      "0.25\n",
      "0.2\n"
     ]
    }
   ],
   "source": [
    "print(x + y)\n",
    "print(x - y)\n",
    "print(x * y)\n",
    "print(x / y)\n",
    "print(x /(x+y))"
   ]
  },
  {
   "cell_type": "markdown",
   "id": "d9445c98",
   "metadata": {},
   "source": [
    "### Strings (str)"
   ]
  },
  {
   "cell_type": "code",
   "execution_count": 5,
   "id": "74f582b4",
   "metadata": {},
   "outputs": [
    {
     "name": "stdout",
     "output_type": "stream",
     "text": [
      "<class 'str'>\n",
      "<class 'str'>\n",
      "<class 'str'>\n"
     ]
    }
   ],
   "source": [
    "x = '1.'\n",
    "y = '4.'\n",
    "z = 'np.pi'\n",
    "\n",
    "print(type(x))\n",
    "print(type(y))\n",
    "print(type(z))"
   ]
  },
  {
   "cell_type": "code",
   "execution_count": 6,
   "id": "f788eb36",
   "metadata": {},
   "outputs": [
    {
     "name": "stdout",
     "output_type": "stream",
     "text": [
      "1.4.\n"
     ]
    }
   ],
   "source": [
    "print(x + y) # This concatanates strings"
   ]
  },
  {
   "cell_type": "markdown",
   "id": "ee5e5e08",
   "metadata": {},
   "source": [
    "Sometimes is it advisable to delete the variables if you are re-using them for different data formats."
   ]
  },
  {
   "cell_type": "code",
   "execution_count": 7,
   "id": "68d3d29f",
   "metadata": {},
   "outputs": [],
   "source": [
    "del x\n",
    "del y\n",
    "del z"
   ]
  },
  {
   "cell_type": "markdown",
   "id": "6ab6402c",
   "metadata": {},
   "source": [
    "## Complex numbers"
   ]
  },
  {
   "cell_type": "code",
   "execution_count": 8,
   "id": "b8bad734",
   "metadata": {},
   "outputs": [
    {
     "name": "stdout",
     "output_type": "stream",
     "text": [
      "(-2+4j)\n"
     ]
    }
   ],
   "source": [
    "z = -2 + 4j\n",
    "\n",
    "print(z)"
   ]
  },
  {
   "cell_type": "markdown",
   "id": "f9098c08",
   "metadata": {},
   "source": [
    "### Conjugate"
   ]
  },
  {
   "cell_type": "code",
   "execution_count": 9,
   "id": "62b10a50",
   "metadata": {},
   "outputs": [
    {
     "name": "stdout",
     "output_type": "stream",
     "text": [
      "(-2-4j)\n"
     ]
    }
   ],
   "source": [
    "zc = np.conj(z)\n",
    "\n",
    "print(zc)"
   ]
  },
  {
   "cell_type": "markdown",
   "id": "3e16450b",
   "metadata": {},
   "source": [
    "### Norm"
   ]
  },
  {
   "cell_type": "code",
   "execution_count": 10,
   "id": "daee0227",
   "metadata": {},
   "outputs": [
    {
     "name": "stdout",
     "output_type": "stream",
     "text": [
      "4.47213595499958\n"
     ]
    }
   ],
   "source": [
    "normz = np.abs(z)\n",
    "\n",
    "print(normz)"
   ]
  },
  {
   "cell_type": "markdown",
   "id": "bff88a2e",
   "metadata": {},
   "source": [
    "## Second manner\n",
    "\n",
    "You can also use the complex() function."
   ]
  },
  {
   "cell_type": "code",
   "execution_count": 11,
   "id": "44430a1e",
   "metadata": {},
   "outputs": [
    {
     "name": "stdout",
     "output_type": "stream",
     "text": [
      "(-2+4j)\n"
     ]
    }
   ],
   "source": [
    "z2 = complex(-2,4)\n",
    "\n",
    "print(z2)"
   ]
  },
  {
   "cell_type": "code",
   "execution_count": 12,
   "id": "20875ba9",
   "metadata": {},
   "outputs": [
    {
     "name": "stdout",
     "output_type": "stream",
     "text": [
      "4.47213595499958\n"
     ]
    }
   ],
   "source": [
    "normz2 = np.abs(z2)\n",
    "\n",
    "print(normz2)"
   ]
  },
  {
   "cell_type": "markdown",
   "id": "90db5796",
   "metadata": {},
   "source": [
    "# Python Objects"
   ]
  },
  {
   "cell_type": "markdown",
   "id": "628394a8",
   "metadata": {},
   "source": [
    "### Tuples\n",
    "\n",
    "- A tuple is an ordered set of objects that cannot be manually changed.\n",
    "\n",
    "\n",
    "- The objects inside a tuple can have different data formats.\n"
   ]
  },
  {
   "cell_type": "code",
   "execution_count": 58,
   "id": "3719ad30",
   "metadata": {},
   "outputs": [
    {
     "name": "stdout",
     "output_type": "stream",
     "text": [
      "('hola', 0, 1.0, 2) <class 'tuple'>\n"
     ]
    }
   ],
   "source": [
    "# Example 1\n",
    "\n",
    "tuple_1 = ('hola', 0, 1., 2)\n",
    "\n",
    "print(tuple_1, type(tuple_1))"
   ]
  },
  {
   "cell_type": "markdown",
   "id": "7d0e3797",
   "metadata": {},
   "source": [
    "We can also print individual elements in the tuple:"
   ]
  },
  {
   "cell_type": "code",
   "execution_count": 60,
   "id": "af429446",
   "metadata": {},
   "outputs": [
    {
     "name": "stdout",
     "output_type": "stream",
     "text": [
      "hola\n",
      "('hola', 1.0)\n"
     ]
    }
   ],
   "source": [
    "print(tuple_1[0]) # First element\n",
    "print(tuple_1[::2]) # Jumping one element"
   ]
  },
  {
   "cell_type": "markdown",
   "id": "d317a1f6",
   "metadata": {},
   "source": [
    "### Lists\n",
    "\n",
    "- A list of is an ordered set of objects that can be manually changed.\n",
    "\n",
    "\n",
    "- The objects can have different data types."
   ]
  },
  {
   "cell_type": "code",
   "execution_count": 13,
   "id": "71888d39",
   "metadata": {},
   "outputs": [
    {
     "name": "stdout",
     "output_type": "stream",
     "text": [
      "['hola', 1, 2.0, 3]\n"
     ]
    }
   ],
   "source": [
    "list_1 = ['hola', 1, 2., 3]\n",
    "\n",
    "print(list_1)"
   ]
  },
  {
   "cell_type": "markdown",
   "id": "aa572dbb",
   "metadata": {},
   "source": [
    "## Accessing objects in a list"
   ]
  },
  {
   "cell_type": "code",
   "execution_count": 14,
   "id": "6d8c0c43",
   "metadata": {},
   "outputs": [
    {
     "name": "stdout",
     "output_type": "stream",
     "text": [
      "hola <class 'str'>\n",
      "1 <class 'int'>\n",
      "2.0 <class 'float'>\n",
      "3 <class 'int'>\n"
     ]
    }
   ],
   "source": [
    "A0 = list_1[0]\n",
    "A1 = list_1[1]\n",
    "A2 = list_1[2]\n",
    "A3 = list_1[3]\n",
    "\n",
    "print(A0, type(A0))\n",
    "print(A1, type(A1))\n",
    "print(A2, type(A2))\n",
    "print(A3, type(A3))"
   ]
  },
  {
   "cell_type": "markdown",
   "id": "daf71888",
   "metadata": {},
   "source": [
    "### Using a for loop"
   ]
  },
  {
   "cell_type": "code",
   "execution_count": 15,
   "id": "6eddfc4c",
   "metadata": {},
   "outputs": [
    {
     "name": "stdout",
     "output_type": "stream",
     "text": [
      "hola <class 'str'>\n",
      "1 <class 'int'>\n",
      "2.0 <class 'float'>\n",
      "3 <class 'int'>\n"
     ]
    }
   ],
   "source": [
    "for i in list_1:\n",
    "    print(i, type(i))"
   ]
  },
  {
   "cell_type": "markdown",
   "id": "e32a0920",
   "metadata": {},
   "source": [
    "## Example: List"
   ]
  },
  {
   "cell_type": "code",
   "execution_count": 16,
   "id": "7c51187c",
   "metadata": {},
   "outputs": [],
   "source": [
    "list_2 = [0,1,2,3,4,5,6,7,8,9]"
   ]
  },
  {
   "cell_type": "markdown",
   "id": "5f0e8d59",
   "metadata": {},
   "source": [
    "We can select elements with [m, n]."
   ]
  },
  {
   "cell_type": "code",
   "execution_count": 61,
   "id": "c1a31381",
   "metadata": {},
   "outputs": [
    {
     "name": "stdout",
     "output_type": "stream",
     "text": [
      "[2, 3] <class 'list'>\n"
     ]
    }
   ],
   "source": [
    "A24 = list_2[2:4] # to n-1\n",
    "\n",
    "print(A24, type(A24))"
   ]
  },
  {
   "cell_type": "markdown",
   "id": "6b0f85e2",
   "metadata": {},
   "source": [
    "Also, we can use : to select all elements, e.g up to certain element position [:,n] or from certain element position [m:]."
   ]
  },
  {
   "cell_type": "code",
   "execution_count": 18,
   "id": "409c0acf",
   "metadata": {},
   "outputs": [
    {
     "name": "stdout",
     "output_type": "stream",
     "text": [
      "[0, 1, 2, 3, 4]\n",
      "[5, 6, 7, 8, 9]\n"
     ]
    }
   ],
   "source": [
    "print(list_2[:5])\n",
    "print(list_2[5:])"
   ]
  },
  {
   "cell_type": "markdown",
   "id": "82274728",
   "metadata": {},
   "source": [
    "- The length of a list can be returned with len()\n",
    "\n",
    "\n",
    "- Similarly, the minimum number or maximum numbers in the list can be obtained with min() and max()."
   ]
  },
  {
   "cell_type": "code",
   "execution_count": 62,
   "id": "60b9cb10",
   "metadata": {},
   "outputs": [
    {
     "name": "stdout",
     "output_type": "stream",
     "text": [
      "10\n",
      "1\n",
      "15\n"
     ]
    }
   ],
   "source": [
    "print(len(list_2))\n",
    "\n",
    "print(min(list_2))\n",
    "\n",
    "print(max(list_2))"
   ]
  },
  {
   "cell_type": "markdown",
   "id": "97cb40b8",
   "metadata": {},
   "source": [
    "Individual elements can be obtained with [::n], where n tells how many positions we jump"
   ]
  },
  {
   "cell_type": "code",
   "execution_count": 20,
   "id": "c12f9dd7",
   "metadata": {},
   "outputs": [
    {
     "name": "stdout",
     "output_type": "stream",
     "text": [
      "[0, 2, 4, 6, 8]\n"
     ]
    }
   ],
   "source": [
    "print(list_2[::2])"
   ]
  },
  {
   "cell_type": "code",
   "execution_count": 21,
   "id": "1da618d2",
   "metadata": {},
   "outputs": [
    {
     "name": "stdout",
     "output_type": "stream",
     "text": [
      "9\n"
     ]
    }
   ],
   "source": [
    "print(list_2[-1])"
   ]
  },
  {
   "cell_type": "code",
   "execution_count": 73,
   "id": "166d554a",
   "metadata": {},
   "outputs": [
    {
     "name": "stdout",
     "output_type": "stream",
     "text": [
      "8\n"
     ]
    }
   ],
   "source": [
    "print(list_2[-2])"
   ]
  },
  {
   "cell_type": "code",
   "execution_count": 22,
   "id": "e413af27",
   "metadata": {},
   "outputs": [
    {
     "name": "stdout",
     "output_type": "stream",
     "text": [
      "8\n"
     ]
    }
   ],
   "source": [
    "print(list_2[-2])"
   ]
  },
  {
   "cell_type": "code",
   "execution_count": 23,
   "id": "61f6a2e5",
   "metadata": {},
   "outputs": [
    {
     "name": "stdout",
     "output_type": "stream",
     "text": [
      "[1, 2, 3, 4, 5, 6, 7, 8]\n"
     ]
    }
   ],
   "source": [
    "print(list_2[1:-1])"
   ]
  },
  {
   "cell_type": "code",
   "execution_count": 24,
   "id": "4e0145de",
   "metadata": {},
   "outputs": [
    {
     "name": "stdout",
     "output_type": "stream",
     "text": [
      "[15, 1, 2, 3, 4, 5, 6, 7, 8, 9]\n"
     ]
    }
   ],
   "source": [
    "list_2[0]=15\n",
    "print(list_2)"
   ]
  },
  {
   "cell_type": "code",
   "execution_count": 25,
   "id": "28ebb886",
   "metadata": {},
   "outputs": [],
   "source": [
    "list_3 = list_1+list_2"
   ]
  },
  {
   "cell_type": "code",
   "execution_count": 26,
   "id": "2dd29dd4",
   "metadata": {},
   "outputs": [
    {
     "name": "stdout",
     "output_type": "stream",
     "text": [
      "['hola', 1, 2.0, 3, 15, 1, 2, 3, 4, 5, 6, 7, 8, 9, 100]\n"
     ]
    }
   ],
   "source": [
    "list_3.append(100)\n",
    "\n",
    "print(list_3)"
   ]
  },
  {
   "cell_type": "code",
   "execution_count": 27,
   "id": "d89c4578",
   "metadata": {},
   "outputs": [
    {
     "name": "stdout",
     "output_type": "stream",
     "text": [
      "[1, 2.0, 3, 15, 1, 2, 3, 4, 5, 6, 7, 8, 9, 100]\n"
     ]
    }
   ],
   "source": [
    "del list_3[0]\n",
    "\n",
    "print(list_3)"
   ]
  },
  {
   "cell_type": "code",
   "execution_count": 36,
   "id": "bf271d73",
   "metadata": {},
   "outputs": [
    {
     "name": "stdout",
     "output_type": "stream",
     "text": [
      "[[1, 2, 3, 4], [5, 6, 7, 8, 9]]\n",
      "[1, 2, 3, 4] len = 4\n",
      "[5, 6, 7, 8, 9] len = 5\n"
     ]
    }
   ],
   "source": [
    "list_array = [[1,2,3,4],[5,6,7,8,9]]\n",
    "\n",
    "print(list_array)\n",
    "\n",
    "print(list_array[0], 'len =', len(list_array[0]))\n",
    "print(list_array[1], 'len =', len(list_array[1]))"
   ]
  },
  {
   "cell_type": "code",
   "execution_count": 40,
   "id": "4d25484e",
   "metadata": {},
   "outputs": [
    {
     "name": "stdout",
     "output_type": "stream",
     "text": [
      "1 type = <class 'int'>\n",
      "5 type = <class 'int'>\n"
     ]
    }
   ],
   "source": [
    "print(list_array[0][0], 'type =', type(list_array[0][0]))\n",
    "print(list_array[1][0], 'type =', type(list_array[0][0]))"
   ]
  },
  {
   "cell_type": "code",
   "execution_count": 41,
   "id": "6eab25ac",
   "metadata": {},
   "outputs": [
    {
     "name": "stdout",
     "output_type": "stream",
     "text": [
      "[1, 2, 3, 4] type = <class 'int'>\n",
      "9 type = <class 'int'>\n"
     ]
    }
   ],
   "source": [
    "print(list_array[0][:], 'type =', type(list_array[0][0]))\n",
    "print(list_array[1][-1], 'type =', type(list_array[0][0]))"
   ]
  },
  {
   "cell_type": "markdown",
   "id": "4c44c926",
   "metadata": {},
   "source": [
    "### Arrays\n",
    "\n",
    "\n",
    "- Very useful when carrying out mathematical operations.\n",
    "\n",
    "\n",
    "- Numpy needs to be called as Lists are the native Python objects."
   ]
  },
  {
   "cell_type": "code",
   "execution_count": 68,
   "id": "53d64f46",
   "metadata": {},
   "outputs": [
    {
     "name": "stdout",
     "output_type": "stream",
     "text": [
      "[ 10.  20.  50. 100.  80.  65.] <class 'numpy.ndarray'>\n",
      "[ 10.  20.  50. 100.  80.  65.] <class 'numpy.ndarray'>\n"
     ]
    }
   ],
   "source": [
    "A = np.array((10., 20., 50., 100., 80., 65.))\n",
    "\n",
    "B = np.array([10., 20., 50., 100., 80., 65.])\n",
    "\n",
    "print(A, type(A))\n",
    "print(B, type(B))"
   ]
  },
  {
   "cell_type": "markdown",
   "id": "4827c999",
   "metadata": {},
   "source": [
    "### Dictionaries"
   ]
  },
  {
   "cell_type": "code",
   "execution_count": 49,
   "id": "9cd9ec4d",
   "metadata": {},
   "outputs": [
    {
     "name": "stdout",
     "output_type": "stream",
     "text": [
      "{'variable x': 1, 'variable y': 2} <class 'dict'>\n"
     ]
    }
   ],
   "source": [
    "dictionary_1 = {'variable x': 1,'variable y': 2}\n",
    "\n",
    "print(dictionary_1, type(dictionary_1))"
   ]
  },
  {
   "cell_type": "code",
   "execution_count": 50,
   "id": "fddf5079",
   "metadata": {},
   "outputs": [
    {
     "data": {
      "text/plain": [
       "1"
      ]
     },
     "execution_count": 50,
     "metadata": {},
     "output_type": "execute_result"
    }
   ],
   "source": [
    "dictionary_1['variable x']"
   ]
  },
  {
   "cell_type": "code",
   "execution_count": 51,
   "id": "a8099f8e",
   "metadata": {},
   "outputs": [
    {
     "data": {
      "text/plain": [
       "2"
      ]
     },
     "execution_count": 51,
     "metadata": {},
     "output_type": "execute_result"
    }
   ],
   "source": [
    "dictionary_1['variable y']"
   ]
  },
  {
   "cell_type": "markdown",
   "id": "578de741",
   "metadata": {},
   "source": [
    "### Defining dictionaries"
   ]
  },
  {
   "cell_type": "code",
   "execution_count": 53,
   "id": "4745a49f",
   "metadata": {},
   "outputs": [
    {
     "name": "stdout",
     "output_type": "stream",
     "text": [
      "{'temperature': [10, 40, 50, 60], 'pressure': (1, 1.6, 3, 4)}\n"
     ]
    }
   ],
   "source": [
    "dictionary_2={}\n",
    "\n",
    "dictionary_2['temperature'] = [10, 40, 50, 60]\n",
    "dictionary_2['pressure'] = (1, 1.6, 3, 4)\n",
    "\n",
    "print(dictionary_2)"
   ]
  },
  {
   "cell_type": "code",
   "execution_count": 55,
   "id": "bd1d72c6",
   "metadata": {},
   "outputs": [
    {
     "name": "stdout",
     "output_type": "stream",
     "text": [
      "[10, 40, 50, 60] <class 'list'>\n"
     ]
    }
   ],
   "source": [
    "print(dictionary_2['temperature'], type(dictionary_2['temperature']))"
   ]
  },
  {
   "cell_type": "code",
   "execution_count": 56,
   "id": "496a9d25",
   "metadata": {},
   "outputs": [
    {
     "name": "stdout",
     "output_type": "stream",
     "text": [
      "(1, 1.6, 3, 4) <class 'tuple'>\n"
     ]
    }
   ],
   "source": [
    "print(dictionary_2['pressure'], type(dictionary_2['pressure']))"
   ]
  },
  {
   "cell_type": "code",
   "execution_count": 57,
   "id": "012230bd",
   "metadata": {},
   "outputs": [
    {
     "data": {
      "text/plain": [
       "dict_keys(['temperature', 'pressure'])"
      ]
     },
     "execution_count": 57,
     "metadata": {},
     "output_type": "execute_result"
    }
   ],
   "source": [
    "dictionary_2.keys()"
   ]
  },
  {
   "cell_type": "code",
   "execution_count": 70,
   "id": "2d19ddff",
   "metadata": {},
   "outputs": [
    {
     "name": "stdout",
     "output_type": "stream",
     "text": [
      "{'temperature': [10, 40, 50, 60], 'pressure': (1, 1.6, 3, 4), 'density': array([0.2, 0.4, 0.1, 0.3])}\n"
     ]
    }
   ],
   "source": [
    "dictionary_3={}\n",
    "\n",
    "dictionary_3['temperature'] = [10, 40, 50, 60]\n",
    "dictionary_3['pressure'] = (1, 1.6, 3, 4)\n",
    "dictionary_3['density'] = np.array((0.2, 0.4, 0.1, 0.3))\n",
    "\n",
    "print(dictionary_3)"
   ]
  },
  {
   "cell_type": "code",
   "execution_count": 72,
   "id": "bceea56b",
   "metadata": {},
   "outputs": [
    {
     "name": "stdout",
     "output_type": "stream",
     "text": [
      "[10, 40, 50, 60] <class 'list'>\n",
      "(1, 1.6, 3, 4) <class 'tuple'>\n",
      "[0.2 0.4 0.1 0.3] <class 'numpy.ndarray'>\n"
     ]
    }
   ],
   "source": [
    "print(dictionary_3['temperature'], type(dictionary_3['temperature']))\n",
    "print(dictionary_3['pressure'], type(dictionary_3['pressure']))\n",
    "print(dictionary_3['density'], type(dictionary_3['density']))"
   ]
  },
  {
   "cell_type": "code",
   "execution_count": null,
   "id": "9e57ec69",
   "metadata": {},
   "outputs": [],
   "source": []
  }
 ],
 "metadata": {
  "kernelspec": {
   "display_name": "Python 3",
   "language": "python",
   "name": "python3"
  },
  "language_info": {
   "codemirror_mode": {
    "name": "ipython",
    "version": 3
   },
   "file_extension": ".py",
   "mimetype": "text/x-python",
   "name": "python",
   "nbconvert_exporter": "python",
   "pygments_lexer": "ipython3",
   "version": "3.7.10"
  }
 },
 "nbformat": 4,
 "nbformat_minor": 5
}
