{
 "cells": [
  {
   "cell_type": "markdown",
   "id": "a0ed7be1",
   "metadata": {},
   "source": [
    "## Same Exercise: Reading simulation data files"
   ]
  },
  {
   "cell_type": "code",
   "execution_count": 1,
   "id": "1de11cf4",
   "metadata": {},
   "outputs": [],
   "source": [
    "# Importing pandas\n",
    "\n",
    "import pandas as pd"
   ]
  },
  {
   "cell_type": "code",
   "execution_count": 2,
   "id": "5b424c3b",
   "metadata": {},
   "outputs": [
    {
     "name": "stdout",
     "output_type": "stream",
     "text": [
      "         Time     Mass1     FluxH      FluxE\n",
      "0    0.000000  61.18026  8.262365   8.262365\n",
      "1    0.099800  61.18028  8.262365   8.262365\n",
      "2    0.199956  61.18033  8.262365   8.262365\n",
      "3    0.299681  61.18041  7.561459   8.262365\n",
      "4    0.399916  61.18043  7.927189   8.262365\n",
      "..        ...       ...       ...        ...\n",
      "96   9.599985  23.29446  8.262365  10.585580\n",
      "97   9.699971  20.33465  8.262365  11.147210\n",
      "98   9.799818  17.66679  8.262365  12.601620\n",
      "99   9.899956  15.14736  8.262365  12.675020\n",
      "100  9.999821  12.79309  8.262365  12.691090\n",
      "\n",
      "[101 rows x 4 columns]\n"
     ]
    }
   ],
   "source": [
    "# First we read the file and put it into a dataframe\n",
    "\n",
    "data = pd.read_csv(\"data_1.dat\", sep = \"\\s+\")\n",
    "\n",
    "print(data)"
   ]
  },
  {
   "cell_type": "code",
   "execution_count": 3,
   "id": "fa9486a6",
   "metadata": {},
   "outputs": [],
   "source": [
    "# To get the data from specific columns, you can use their respective keys, e.g.:\n",
    "\n",
    "time = data[\"Time\"]\n",
    "mass = data[\"Mass1\"]\n",
    "flxh = data[\"FluxH\"]\n",
    "flxb = data[\"FluxE\"]"
   ]
  },
  {
   "cell_type": "code",
   "execution_count": 8,
   "id": "8238638c",
   "metadata": {},
   "outputs": [
    {
     "name": "stdout",
     "output_type": "stream",
     "text": [
      "<class 'pandas.core.frame.DataFrame'> <class 'pandas.core.series.Series'>\n"
     ]
    }
   ],
   "source": [
    "print(type(data), type(mass))"
   ]
  },
  {
   "cell_type": "code",
   "execution_count": null,
   "id": "dc91565c",
   "metadata": {},
   "outputs": [],
   "source": []
  }
 ],
 "metadata": {
  "kernelspec": {
   "display_name": "Python 3 (ipykernel)",
   "language": "python",
   "name": "python3"
  },
  "language_info": {
   "codemirror_mode": {
    "name": "ipython",
    "version": 3
   },
   "file_extension": ".py",
   "mimetype": "text/x-python",
   "name": "python",
   "nbconvert_exporter": "python",
   "pygments_lexer": "ipython3",
   "version": "3.7.16"
  }
 },
 "nbformat": 4,
 "nbformat_minor": 5
}
