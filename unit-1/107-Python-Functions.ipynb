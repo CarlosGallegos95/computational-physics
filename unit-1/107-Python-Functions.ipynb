{
  "nbformat": 4,
  "nbformat_minor": 0,
  "metadata": {
    "colab": {
      "provenance": [],
      "authorship_tag": "ABX9TyNkuf9+aDfZGSahXygoBEr8",
      "include_colab_link": true
    },
    "kernelspec": {
      "name": "python3",
      "display_name": "Python 3"
    },
    "language_info": {
      "name": "python"
    }
  },
  "cells": [
    {
      "cell_type": "markdown",
      "metadata": {
        "id": "view-in-github",
        "colab_type": "text"
      },
      "source": [
        "<a href=\"https://colab.research.google.com/github/wbandabarragan/computational-physics-1/blob/main/unit-1/107-Python-Functions.ipynb\" target=\"_parent\"><img src=\"https://colab.research.google.com/assets/colab-badge.svg\" alt=\"Open In Colab\"/></a>"
      ]
    },
    {
      "cell_type": "markdown",
      "source": [
        "# Reviews of Python Functions"
      ],
      "metadata": {
        "id": "XoVsi5t278cH"
      }
    },
    {
      "cell_type": "markdown",
      "source": [
        "## 1. Built-in Functions:"
      ],
      "metadata": {
        "id": "yh5cNwpa8TJ-"
      }
    },
    {
      "cell_type": "code",
      "execution_count": 4,
      "metadata": {
        "colab": {
          "base_uri": "https://localhost:8080/"
        },
        "id": "NYwusqoP7zdK",
        "outputId": "4d0b4c1e-c59e-4aac-90bc-29615d2e8e1a"
      },
      "outputs": [
        {
          "output_type": "stream",
          "name": "stdout",
          "text": [
            "<class 'builtin_function_or_method'>\n",
            "<class 'builtin_function_or_method'>\n"
          ]
        }
      ],
      "source": [
        "print(type(len))\n",
        "print(type(abs))"
      ]
    },
    {
      "cell_type": "markdown",
      "source": [
        "## 2. Third-party function:"
      ],
      "metadata": {
        "id": "n9zVaiPC9BoA"
      }
    },
    {
      "cell_type": "code",
      "source": [
        "import numpy as np"
      ],
      "metadata": {
        "id": "Bn9rQEYp8aQE"
      },
      "execution_count": 5,
      "outputs": []
    },
    {
      "cell_type": "code",
      "source": [
        "print(type(np.sin))"
      ],
      "metadata": {
        "colab": {
          "base_uri": "https://localhost:8080/"
        },
        "id": "Dryf_wju9Azu",
        "outputId": "76868a5d-9ce6-4e3b-cd6a-e89a7547d52c"
      },
      "execution_count": 6,
      "outputs": [
        {
          "output_type": "stream",
          "name": "stdout",
          "text": [
            "<class 'numpy.ufunc'>\n"
          ]
        }
      ]
    },
    {
      "cell_type": "markdown",
      "source": [
        "## 3. Our own functions:\n",
        "\n",
        "Customised functions have:\n",
        "\n",
        "1. Header: def ___:\n",
        "\n",
        "2. Body: Needs to be indented, statements, finishes with return ___\n",
        "\n",
        "### Example:\n",
        "\n",
        "$$pV=NRT$$\n",
        "\n",
        "$$p = n k_B T$$, where $n = \\frac{\\rho}{\\mu m}$\n",
        "\n"
      ],
      "metadata": {
        "id": "3epUU7Ui9OVH"
      }
    },
    {
      "cell_type": "code",
      "source": [
        "# Example:\n",
        "\n",
        "# Boltzmann constant k_B:\n",
        "k_B = 1.380649e-23 #m2 kg s-2 K-1\n",
        "\n",
        "# Header\n",
        "def pressure(n, T):\n",
        "  # Body\n",
        "  \"\"\"\n",
        "  Function used to compute the thermal pressure of ideal gases\n",
        "  Inputs: n (number density), T(temperature)\n",
        "  Output: prs (pressure)\n",
        "  Author: W.E.B.B.\n",
        "  Date: 28/04/23\n",
        "  \"\"\"\n",
        "\n",
        "  # What you compute\n",
        "  prs = n*k_B*T\n",
        "\n",
        "  # What you return\n",
        "  return prs\n"
      ],
      "metadata": {
        "id": "iRwPsobX9HLK"
      },
      "execution_count": 7,
      "outputs": []
    },
    {
      "cell_type": "code",
      "source": [
        "# Get help on how to use the function\n",
        "\n",
        "help(pressure)"
      ],
      "metadata": {
        "colab": {
          "base_uri": "https://localhost:8080/"
        },
        "id": "VWx6pDJZ_Ig1",
        "outputId": "a5a06db5-7108-4e44-c2a0-87298b8aa6dd"
      },
      "execution_count": 8,
      "outputs": [
        {
          "output_type": "stream",
          "name": "stdout",
          "text": [
            "Help on function pressure in module __main__:\n",
            "\n",
            "pressure(n, T)\n",
            "    Function used to compute the thermal pressure of ideal gases\n",
            "    Inputs: n (number density), T(temperature)\n",
            "    Output: prs (pressure)\n",
            "    Author: W.E.B.B.\n",
            "    Date: 28/04/23\n",
            "\n"
          ]
        }
      ]
    },
    {
      "cell_type": "code",
      "source": [
        "# Call the function\n",
        "\n",
        "n = 0.1 #m^{-3}\n",
        "T = 290 #K\n",
        "\n",
        "pres = pressure(n, T)\n",
        "\n",
        "print(\"The pressure in N/m^2 is:\", pres)"
      ],
      "metadata": {
        "colab": {
          "base_uri": "https://localhost:8080/"
        },
        "id": "i4Ctbnnr_fsq",
        "outputId": "521d12d5-11dd-48e1-d7d9-72a5d6beb20f"
      },
      "execution_count": 10,
      "outputs": [
        {
          "output_type": "stream",
          "name": "stdout",
          "text": [
            "The pressure in N/m^2 is: 4.0038821000000004e-22\n"
          ]
        }
      ]
    },
    {
      "cell_type": "code",
      "source": [],
      "metadata": {
        "id": "Jpa_HY9-AMrQ"
      },
      "execution_count": null,
      "outputs": []
    }
  ]
}