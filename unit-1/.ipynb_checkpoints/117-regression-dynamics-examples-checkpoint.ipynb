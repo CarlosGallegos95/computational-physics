{
 "cells": [
  {
   "cell_type": "code",
   "execution_count": 1,
   "id": "a3a0c607",
   "metadata": {},
   "outputs": [],
   "source": [
    "import numpy as np\n",
    "import matplotlib.pyplot as plt\n",
    "import pandas as pd"
   ]
  },
  {
   "cell_type": "code",
   "execution_count": 2,
   "id": "775737fa",
   "metadata": {},
   "outputs": [],
   "source": [
    "data_1 = pd.read_csv('data_gravity.csv')\n",
    "\n",
    "time = data_1['Time (s)']\n",
    "position = data_1[\"Position (m)\"]"
   ]
  },
  {
   "cell_type": "code",
   "execution_count": 3,
   "id": "ae12f543",
   "metadata": {},
   "outputs": [
    {
     "data": {
      "text/html": [
       "<div>\n",
       "<style scoped>\n",
       "    .dataframe tbody tr th:only-of-type {\n",
       "        vertical-align: middle;\n",
       "    }\n",
       "\n",
       "    .dataframe tbody tr th {\n",
       "        vertical-align: top;\n",
       "    }\n",
       "\n",
       "    .dataframe thead th {\n",
       "        text-align: right;\n",
       "    }\n",
       "</style>\n",
       "<table border=\"1\" class=\"dataframe\">\n",
       "  <thead>\n",
       "    <tr style=\"text-align: right;\">\n",
       "      <th></th>\n",
       "      <th>Time (s)</th>\n",
       "      <th>Position (m)</th>\n",
       "    </tr>\n",
       "  </thead>\n",
       "  <tbody>\n",
       "    <tr>\n",
       "      <th>0</th>\n",
       "      <td>0.0</td>\n",
       "      <td>0.0</td>\n",
       "    </tr>\n",
       "    <tr>\n",
       "      <th>1</th>\n",
       "      <td>0.5</td>\n",
       "      <td>2.0</td>\n",
       "    </tr>\n",
       "    <tr>\n",
       "      <th>2</th>\n",
       "      <td>1.0</td>\n",
       "      <td>5.2</td>\n",
       "    </tr>\n",
       "    <tr>\n",
       "      <th>3</th>\n",
       "      <td>1.5</td>\n",
       "      <td>9.8</td>\n",
       "    </tr>\n",
       "    <tr>\n",
       "      <th>4</th>\n",
       "      <td>2.0</td>\n",
       "      <td>19.7</td>\n",
       "    </tr>\n",
       "    <tr>\n",
       "      <th>5</th>\n",
       "      <td>2.5</td>\n",
       "      <td>31.2</td>\n",
       "    </tr>\n",
       "    <tr>\n",
       "      <th>6</th>\n",
       "      <td>3.0</td>\n",
       "      <td>44.4</td>\n",
       "    </tr>\n",
       "    <tr>\n",
       "      <th>7</th>\n",
       "      <td>3.5</td>\n",
       "      <td>57.8</td>\n",
       "    </tr>\n",
       "    <tr>\n",
       "      <th>8</th>\n",
       "      <td>4.0</td>\n",
       "      <td>80.8</td>\n",
       "    </tr>\n",
       "    <tr>\n",
       "      <th>9</th>\n",
       "      <td>4.5</td>\n",
       "      <td>100.4</td>\n",
       "    </tr>\n",
       "    <tr>\n",
       "      <th>10</th>\n",
       "      <td>5.0</td>\n",
       "      <td>121.1</td>\n",
       "    </tr>\n",
       "  </tbody>\n",
       "</table>\n",
       "</div>"
      ],
      "text/plain": [
       "    Time (s)  Position (m)\n",
       "0        0.0           0.0\n",
       "1        0.5           2.0\n",
       "2        1.0           5.2\n",
       "3        1.5           9.8\n",
       "4        2.0          19.7\n",
       "5        2.5          31.2\n",
       "6        3.0          44.4\n",
       "7        3.5          57.8\n",
       "8        4.0          80.8\n",
       "9        4.5         100.4\n",
       "10       5.0         121.1"
      ]
     },
     "execution_count": 3,
     "metadata": {},
     "output_type": "execute_result"
    }
   ],
   "source": [
    "data_1"
   ]
  },
  {
   "cell_type": "code",
   "execution_count": 20,
   "id": "97f01abe",
   "metadata": {
    "scrolled": true
   },
   "outputs": [
    {
     "data": {
      "image/png": "[encoded data removed]",
      "text/plain": [
       "<Figure size 432x288 with 1 Axes>"
      ]
     },
     "metadata": {
      "needs_background": "light"
     },
     "output_type": "display_data"
    }
   ],
   "source": [
    "%matplotlib inline\n",
    "\n",
    "# And now we plot\n",
    "fig, ax = plt.subplots()\n",
    "\n",
    "ax.plot(time, position, marker='d', linestyle=\" \", label=\"Free fall experiment\")\n",
    "ax.set_xlabel('time (s)')\n",
    "ax.set_ylabel('position (m)')\n",
    "ax.legend()\n",
    "plt.show()"
   ]
  },
  {
   "cell_type": "code",
   "execution_count": 22,
   "id": "98e6aa78",
   "metadata": {},
   "outputs": [
    {
     "name": "stdout",
     "output_type": "stream",
     "text": [
      "Pearson r coefficients: (0.9626893939403707, 2.076326993227384e-06)\n",
      "Spearman values: SpearmanrResult(correlation=1.0, pvalue=0.0)\n"
     ]
    }
   ],
   "source": [
    "# calculate Pearson's r correlation coeficient\n",
    "from scipy.stats import spearmanr, pearsonr\n",
    "\n",
    "p1 = pearsonr(time, position)\n",
    "\n",
    "print('Pearson r coefficients:', p1)\n",
    "\n",
    "# calculate Spearman's r correlation coeficient\n",
    "\n",
    "p = spearmanr(time, position)\n",
    "\n",
    "print('Spearman values:', p)"
   ]
  },
  {
   "cell_type": "code",
   "execution_count": 23,
   "id": "031b6cf5",
   "metadata": {},
   "outputs": [
    {
     "name": "stdout",
     "output_type": "stream",
     "text": [
      "factor or y^2 = 4.8969696969697  factor of y= -0.0012121212121286383  constant factor= 0.10000000000000825\n"
     ]
    }
   ],
   "source": [
    "# Get coefficients\n",
    "\n",
    "a, b, c = np.polyfit(time, position, 2)\n",
    "\n",
    "# Print to check\n",
    "print('factor or y^2 =', a, ' factor of y=', b, ' constant factor=', c)\n",
    "\n",
    "# Get fitting function\n",
    "fit_position = a*time**2 + b*time +c"
   ]
  },
  {
   "cell_type": "code",
   "execution_count": 24,
   "id": "fd28cbcd",
   "metadata": {},
   "outputs": [
    {
     "data": {
      "image/png": "[encoded data removed]",
      "text/plain": [
       "<Figure size 432x288 with 1 Axes>"
      ]
     },
     "metadata": {
      "needs_background": "light"
     },
     "output_type": "display_data"
    }
   ],
   "source": [
    "# And now we plot\n",
    "fig, ax = plt.subplots()\n",
    "\n",
    "ax.plot(time, position, marker='d', linestyle=\" \", label=\"Free fall experiment\")\n",
    "ax.plot(time, fit_position, linestyle=\"-.\", label=\"fit\")\n",
    "ax.set_xlabel('time (s)')\n",
    "ax.set_ylabel('position (m)')\n",
    "ax.legend()\n",
    "plt.show()"
   ]
  },
  {
   "cell_type": "markdown",
   "id": "2cb17aed",
   "metadata": {},
   "source": [
    "### Calculate the acceleration of gravity"
   ]
  },
  {
   "cell_type": "code",
   "execution_count": 25,
   "id": "35396cf7",
   "metadata": {},
   "outputs": [
    {
     "name": "stdout",
     "output_type": "stream",
     "text": [
      "g =  9.7939393939394 m/s\n"
     ]
    }
   ],
   "source": [
    "grav = 2*a\n",
    "\n",
    "print(\"g = \", grav, \"m/s\")"
   ]
  },
  {
   "cell_type": "code",
   "execution_count": 26,
   "id": "f10097ab",
   "metadata": {},
   "outputs": [
    {
     "name": "stdout",
     "output_type": "stream",
     "text": [
      "[4.90275925] [[0.00105229]]\n",
      "y = 4.90276 * t^2\n"
     ]
    }
   ],
   "source": [
    "from scipy.optimize import curve_fit\n",
    "\n",
    "#define a function to fit to the data\n",
    "def func(x, a):\n",
    "    return a * x**2 \n",
    "\n",
    "coef, cova = curve_fit(func, time, position)\n",
    "\n",
    "print(coef, cova)\n",
    "\n",
    "print('y = %.5f * t^2' % (coef[0]))"
   ]
  },
  {
   "cell_type": "code",
   "execution_count": 27,
   "id": "55a6c516",
   "metadata": {},
   "outputs": [
    {
     "name": "stdout",
     "output_type": "stream",
     "text": [
      "g =  9.805518493681415 m/s\n"
     ]
    }
   ],
   "source": [
    "grav2 = 2*coef[0]\n",
    "\n",
    "print(\"g = \", grav2, \"m/s\")"
   ]
  },
  {
   "cell_type": "markdown",
   "id": "5f4825e9",
   "metadata": {},
   "source": [
    "## Linearisation\n",
    "\n",
    "$y = a\\,t^2$\n",
    "\n",
    "$y = a\\,\\tau$"
   ]
  },
  {
   "cell_type": "code",
   "execution_count": 28,
   "id": "5f803376",
   "metadata": {},
   "outputs": [
    {
     "data": {
      "image/png": "[encoded data removed]",
      "text/plain": [
       "<Figure size 432x288 with 1 Axes>"
      ]
     },
     "metadata": {
      "needs_background": "light"
     },
     "output_type": "display_data"
    }
   ],
   "source": [
    "# And now we plot\n",
    "fig, ax = plt.subplots()\n",
    "\n",
    "ax.plot(time*time, position, marker='d', linestyle=\" \", label=\"Free fall experiment\")\n",
    "ax.set_xlabel('time*time (s^2)')\n",
    "ax.set_ylabel('position (m)')\n",
    "ax.legend()\n",
    "plt.show()"
   ]
  },
  {
   "cell_type": "code",
   "execution_count": 29,
   "id": "27ffbca6",
   "metadata": {},
   "outputs": [
    {
     "name": "stdout",
     "output_type": "stream",
     "text": [
      "slope = 4.896744813627932  intercept= 0.09893742621015894\n"
     ]
    }
   ],
   "source": [
    "# Get coefficients\n",
    "\n",
    "time_sqr = time*time\n",
    "\n",
    "a, b = np.polyfit(time_sqr, position, 1)\n",
    "\n",
    "# Print to check\n",
    "print('slope =', a, ' intercept=', b)\n",
    "\n",
    "# Get fitting function\n",
    "fit_position = a*time_sqr + b"
   ]
  },
  {
   "cell_type": "code",
   "execution_count": 30,
   "id": "4de8c8e3",
   "metadata": {},
   "outputs": [
    {
     "name": "stdout",
     "output_type": "stream",
     "text": [
      "g =  9.793489627255864 m/s\n"
     ]
    }
   ],
   "source": [
    "grav3 = 2*a\n",
    "\n",
    "print(\"g = \", grav3, \"m/s\")"
   ]
  },
  {
   "cell_type": "code",
   "execution_count": 31,
   "id": "a7fcd928",
   "metadata": {},
   "outputs": [
    {
     "name": "stdout",
     "output_type": "stream",
     "text": [
      "[4.90275925] [[0.00105229]]\n",
      "y = 4.90276 * t^2\n"
     ]
    }
   ],
   "source": [
    "#define a function to fit to the data\n",
    "def func2(x, a):\n",
    "    return a * x \n",
    "\n",
    "coef2, cova2 = curve_fit(func2, time_sqr, position)\n",
    "\n",
    "print(coef2, cova2)\n",
    "\n",
    "print('y = %.5f * t^2' % (coef2[0]))"
   ]
  },
  {
   "cell_type": "code",
   "execution_count": 32,
   "id": "967790d6",
   "metadata": {},
   "outputs": [
    {
     "name": "stdout",
     "output_type": "stream",
     "text": [
      "g =  9.805518493681415 m/s\n"
     ]
    }
   ],
   "source": [
    "grav4 = 2*(coef2[0])\n",
    "\n",
    "print(\"g = \", grav4, \"m/s\")"
   ]
  },
  {
   "cell_type": "markdown",
   "id": "55e1d34f",
   "metadata": {},
   "source": [
    "# Gravity drop experiment\n",
    "\n",
    "\n",
    "These data belong to a gravity drop experiment with the following setup:\n",
    "\n",
    "- There are two photo gates A and B that measure the time it takes for the dropped ball to pass by the photo gate.\n",
    "\n",
    "\n",
    "- Photo gate A is stationary, photo gate B gets moved at each trial 5 cm further below photo gate A.\n",
    "\n",
    "\n",
    "- Photo gate A always measure the same passage time because it stays at the same position while photo gate B measures shorter and shorter times as it moves along the path of the motion.\n",
    "\n",
    "\n",
    "- The diameter of the falling marble is 1.90 cm.\n",
    "\n",
    "\n",
    "- See further details here:\n",
    "\n",
    "https://freyscientific.com/FREY/media/downloads/cpo/science-link/link_sample_investigation_gravity_drop.pdf"
   ]
  },
  {
   "cell_type": "code",
   "execution_count": 16,
   "id": "e75a3efe",
   "metadata": {},
   "outputs": [],
   "source": [
    "data = pd.read_csv('gravity_drop.csv')"
   ]
  },
  {
   "cell_type": "code",
   "execution_count": 17,
   "id": "c3d9e4bf",
   "metadata": {},
   "outputs": [
    {
     "data": {
      "text/html": [
       "<div>\n",
       "<style scoped>\n",
       "    .dataframe tbody tr th:only-of-type {\n",
       "        vertical-align: middle;\n",
       "    }\n",
       "\n",
       "    .dataframe tbody tr th {\n",
       "        vertical-align: top;\n",
       "    }\n",
       "\n",
       "    .dataframe thead th {\n",
       "        text-align: right;\n",
       "    }\n",
       "</style>\n",
       "<table border=\"1\" class=\"dataframe\">\n",
       "  <thead>\n",
       "    <tr style=\"text-align: right;\">\n",
       "      <th></th>\n",
       "      <th>trial</th>\n",
       "      <th>Distance between photo gates (cm)</th>\n",
       "      <th>Diameter (cm)</th>\n",
       "      <th>Time A (s)</th>\n",
       "      <th>Speed A (cm/s)</th>\n",
       "      <th>Time B (s)</th>\n",
       "      <th>Speed B (cm/s)</th>\n",
       "      <th>Time from A to B</th>\n",
       "    </tr>\n",
       "  </thead>\n",
       "  <tbody>\n",
       "    <tr>\n",
       "      <th>0</th>\n",
       "      <td>1</td>\n",
       "      <td>5</td>\n",
       "      <td>1.9</td>\n",
       "      <td>0.0182</td>\n",
       "      <td>104.40</td>\n",
       "      <td>0.0129</td>\n",
       "      <td>147.29</td>\n",
       "      <td>0.0422</td>\n",
       "    </tr>\n",
       "    <tr>\n",
       "      <th>1</th>\n",
       "      <td>2</td>\n",
       "      <td>10</td>\n",
       "      <td>1.9</td>\n",
       "      <td>0.0183</td>\n",
       "      <td>103.83</td>\n",
       "      <td>0.0108</td>\n",
       "      <td>175.93</td>\n",
       "      <td>0.0745</td>\n",
       "    </tr>\n",
       "    <tr>\n",
       "      <th>2</th>\n",
       "      <td>3</td>\n",
       "      <td>15</td>\n",
       "      <td>1.9</td>\n",
       "      <td>0.0181</td>\n",
       "      <td>104.97</td>\n",
       "      <td>0.0090</td>\n",
       "      <td>211.11</td>\n",
       "      <td>0.1049</td>\n",
       "    </tr>\n",
       "    <tr>\n",
       "      <th>3</th>\n",
       "      <td>4</td>\n",
       "      <td>20</td>\n",
       "      <td>1.9</td>\n",
       "      <td>0.0183</td>\n",
       "      <td>103.83</td>\n",
       "      <td>0.0079</td>\n",
       "      <td>240.51</td>\n",
       "      <td>0.1293</td>\n",
       "    </tr>\n",
       "    <tr>\n",
       "      <th>4</th>\n",
       "      <td>5</td>\n",
       "      <td>25</td>\n",
       "      <td>1.9</td>\n",
       "      <td>0.0185</td>\n",
       "      <td>102.70</td>\n",
       "      <td>0.0075</td>\n",
       "      <td>253.33</td>\n",
       "      <td>0.1523</td>\n",
       "    </tr>\n",
       "    <tr>\n",
       "      <th>5</th>\n",
       "      <td>6</td>\n",
       "      <td>30</td>\n",
       "      <td>1.9</td>\n",
       "      <td>0.0185</td>\n",
       "      <td>102.70</td>\n",
       "      <td>0.0070</td>\n",
       "      <td>271.43</td>\n",
       "      <td>0.1728</td>\n",
       "    </tr>\n",
       "    <tr>\n",
       "      <th>6</th>\n",
       "      <td>7</td>\n",
       "      <td>35</td>\n",
       "      <td>1.9</td>\n",
       "      <td>0.0185</td>\n",
       "      <td>102.70</td>\n",
       "      <td>0.0066</td>\n",
       "      <td>287.88</td>\n",
       "      <td>0.1900</td>\n",
       "    </tr>\n",
       "    <tr>\n",
       "      <th>7</th>\n",
       "      <td>8</td>\n",
       "      <td>40</td>\n",
       "      <td>1.9</td>\n",
       "      <td>0.0183</td>\n",
       "      <td>103.83</td>\n",
       "      <td>0.0056</td>\n",
       "      <td>339.29</td>\n",
       "      <td>0.2075</td>\n",
       "    </tr>\n",
       "    <tr>\n",
       "      <th>8</th>\n",
       "      <td>9</td>\n",
       "      <td>45</td>\n",
       "      <td>1.9</td>\n",
       "      <td>0.0187</td>\n",
       "      <td>101.60</td>\n",
       "      <td>0.0060</td>\n",
       "      <td>316.67</td>\n",
       "      <td>0.2261</td>\n",
       "    </tr>\n",
       "    <tr>\n",
       "      <th>9</th>\n",
       "      <td>10</td>\n",
       "      <td>50</td>\n",
       "      <td>1.9</td>\n",
       "      <td>0.0188</td>\n",
       "      <td>101.06</td>\n",
       "      <td>0.0057</td>\n",
       "      <td>333.33</td>\n",
       "      <td>0.2407</td>\n",
       "    </tr>\n",
       "    <tr>\n",
       "      <th>10</th>\n",
       "      <td>11</td>\n",
       "      <td>55</td>\n",
       "      <td>1.9</td>\n",
       "      <td>0.0186</td>\n",
       "      <td>102.15</td>\n",
       "      <td>0.0052</td>\n",
       "      <td>365.39</td>\n",
       "      <td>0.2563</td>\n",
       "    </tr>\n",
       "    <tr>\n",
       "      <th>11</th>\n",
       "      <td>12</td>\n",
       "      <td>60</td>\n",
       "      <td>1.9</td>\n",
       "      <td>0.0185</td>\n",
       "      <td>102.70</td>\n",
       "      <td>0.0049</td>\n",
       "      <td>387.76</td>\n",
       "      <td>0.2713</td>\n",
       "    </tr>\n",
       "    <tr>\n",
       "      <th>12</th>\n",
       "      <td>13</td>\n",
       "      <td>65</td>\n",
       "      <td>1.9</td>\n",
       "      <td>0.0187</td>\n",
       "      <td>101.60</td>\n",
       "      <td>0.0051</td>\n",
       "      <td>372.55</td>\n",
       "      <td>0.2843</td>\n",
       "    </tr>\n",
       "    <tr>\n",
       "      <th>13</th>\n",
       "      <td>14</td>\n",
       "      <td>70</td>\n",
       "      <td>1.9</td>\n",
       "      <td>0.0186</td>\n",
       "      <td>102.15</td>\n",
       "      <td>0.0047</td>\n",
       "      <td>404.26</td>\n",
       "      <td>0.2986</td>\n",
       "    </tr>\n",
       "    <tr>\n",
       "      <th>14</th>\n",
       "      <td>15</td>\n",
       "      <td>75</td>\n",
       "      <td>1.9</td>\n",
       "      <td>0.0188</td>\n",
       "      <td>101.06</td>\n",
       "      <td>0.0046</td>\n",
       "      <td>413.04</td>\n",
       "      <td>0.3109</td>\n",
       "    </tr>\n",
       "  </tbody>\n",
       "</table>\n",
       "</div>"
      ],
      "text/plain": [
       "    trial  Distance between photo gates (cm)  Diameter (cm)  Time A (s)  \\\n",
       "0       1                                  5            1.9      0.0182   \n",
       "1       2                                 10            1.9      0.0183   \n",
       "2       3                                 15            1.9      0.0181   \n",
       "3       4                                 20            1.9      0.0183   \n",
       "4       5                                 25            1.9      0.0185   \n",
       "5       6                                 30            1.9      0.0185   \n",
       "6       7                                 35            1.9      0.0185   \n",
       "7       8                                 40            1.9      0.0183   \n",
       "8       9                                 45            1.9      0.0187   \n",
       "9      10                                 50            1.9      0.0188   \n",
       "10     11                                 55            1.9      0.0186   \n",
       "11     12                                 60            1.9      0.0185   \n",
       "12     13                                 65            1.9      0.0187   \n",
       "13     14                                 70            1.9      0.0186   \n",
       "14     15                                 75            1.9      0.0188   \n",
       "\n",
       "    Speed A (cm/s)  Time B (s)  Speed B (cm/s)  Time from A to B  \n",
       "0           104.40      0.0129          147.29            0.0422  \n",
       "1           103.83      0.0108          175.93            0.0745  \n",
       "2           104.97      0.0090          211.11            0.1049  \n",
       "3           103.83      0.0079          240.51            0.1293  \n",
       "4           102.70      0.0075          253.33            0.1523  \n",
       "5           102.70      0.0070          271.43            0.1728  \n",
       "6           102.70      0.0066          287.88            0.1900  \n",
       "7           103.83      0.0056          339.29            0.2075  \n",
       "8           101.60      0.0060          316.67            0.2261  \n",
       "9           101.06      0.0057          333.33            0.2407  \n",
       "10          102.15      0.0052          365.39            0.2563  \n",
       "11          102.70      0.0049          387.76            0.2713  \n",
       "12          101.60      0.0051          372.55            0.2843  \n",
       "13          102.15      0.0047          404.26            0.2986  \n",
       "14          101.06      0.0046          413.04            0.3109  "
      ]
     },
     "execution_count": 17,
     "metadata": {},
     "output_type": "execute_result"
    }
   ],
   "source": [
    "data"
   ]
  },
  {
   "cell_type": "code",
   "execution_count": 18,
   "id": "4a500519",
   "metadata": {},
   "outputs": [
    {
     "data": {
      "text/plain": [
       "[<matplotlib.lines.Line2D at 0x124968610>]"
      ]
     },
     "execution_count": 18,
     "metadata": {},
     "output_type": "execute_result"
    },
    {
     "data": {
      "image/png": "[encoded data removed]",
      "text/plain": [
       "<Figure size 432x288 with 1 Axes>"
      ]
     },
     "metadata": {
      "needs_background": "light"
     },
     "output_type": "display_data"
    }
   ],
   "source": [
    "# plotting the time it takes the ball to pass trough the photo gates\n",
    "\n",
    "plt.plot(data['Distance between photo gates (cm)'], data['Time A (s)'])\n",
    "plt.plot(data['Distance between photo gates (cm)'], data['Time B (s)'])"
   ]
  },
  {
   "cell_type": "code",
   "execution_count": 33,
   "id": "7e55ad07",
   "metadata": {},
   "outputs": [
    {
     "data": {
      "image/png": "[encoded data removed]",
      "text/plain": [
       "<Figure size 432x288 with 1 Axes>"
      ]
     },
     "metadata": {
      "needs_background": "light"
     },
     "output_type": "display_data"
    }
   ],
   "source": [
    " \n",
    "fig, ax = plt.subplots()\n",
    "plt.plot(data['Distance between photo gates (cm)'], data['Time from A to B'])\n",
    "ax.set_xlabel('distance [cm]')\n",
    "ax.set_ylabel('time [s]')\n",
    "plt.show()"
   ]
  },
  {
   "cell_type": "code",
   "execution_count": null,
   "id": "20c764a2",
   "metadata": {},
   "outputs": [],
   "source": []
  }
 ],
 "metadata": {
  "kernelspec": {
   "display_name": "Python 3",
   "language": "python",
   "name": "python3"
  },
  "language_info": {
   "codemirror_mode": {
    "name": "ipython",
    "version": 3
   },
   "file_extension": ".py",
   "mimetype": "text/x-python",
   "name": "python",
   "nbconvert_exporter": "python",
   "pygments_lexer": "ipython3",
   "version": "3.7.10"
  }
 },
 "nbformat": 4,
 "nbformat_minor": 5
}
