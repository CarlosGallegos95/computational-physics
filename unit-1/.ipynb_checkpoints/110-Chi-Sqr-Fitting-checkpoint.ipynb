{
 "cells": [
  {
   "cell_type": "markdown",
   "id": "21dc015e",
   "metadata": {},
   "source": [
    "# $\\chi^2$ fitting/minimisation:\n",
    "\n",
    "Given the functional form:\n",
    "\n",
    "$r(p) = \\frac{y_i - f(x_i,p)}{\\sigma_i}$\n",
    "\n",
    "where $y_i$ are the data points and $f(x_i,p)$ is the model.\n",
    "\n",
    "\n",
    "$\\chi^2$ minimisation requires you to minimise it so that we find the best value of $p$:\n",
    "\n",
    "$\\min \\sum_1^N (r(p))^2$\n",
    "\n",
    "The advantage of this method is that you can include the uncertainties in $y_i$."
   ]
  },
  {
   "cell_type": "code",
   "execution_count": null,
   "id": "c8777f5c",
   "metadata": {},
   "outputs": [],
   "source": []
  }
 ],
 "metadata": {
  "kernelspec": {
   "display_name": "Python 3 (ipykernel)",
   "language": "python",
   "name": "python3"
  },
  "language_info": {
   "codemirror_mode": {
    "name": "ipython",
    "version": 3
   },
   "file_extension": ".py",
   "mimetype": "text/x-python",
   "name": "python",
   "nbconvert_exporter": "python",
   "pygments_lexer": "ipython3",
   "version": "3.7.16"
  }
 },
 "nbformat": 4,
 "nbformat_minor": 5
}
