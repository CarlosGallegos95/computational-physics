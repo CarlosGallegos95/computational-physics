{
 "cells": [
  {
   "cell_type": "markdown",
   "id": "aa268f46",
   "metadata": {},
   "source": [
    "# Exercise:"
   ]
  },
  {
   "cell_type": "markdown",
   "id": "e3e9aed4",
   "metadata": {},
   "source": [
    "### 1. Data Input, analysis, and plotting\n",
    "\n",
    "Consider a wind-tunnel simulation containing a spherical gas cloud with initial mass, $m_0=61.18026\\,\\rm g$. The cloud is embedded in a constant velocity vector field and can be tracked with three pigments. Pigment 1 traces the core of the cloud, pigment 2 the envelope of the cloud, and pigment 3 the more exterior shell.\n",
    "\n",
    "We carry out the simulation and extract some data on how much these pigments mixed in a data table (see file **simulation_data_hw1.txt**) with 4 columns (time, mixedmass1, mixedmass2, mixedmass3), where the first column indicates the time in units of $\\rm s$ and the last three columns provide the mass of mixed pigment gas, $m_{\\rm mix}$, in units of $\\rm g$.\n",
    "\n",
    "(a) Create a Python function to read in the simulation data and return four vector arrays containing: time, mixedmass1, mixedmass2, and mixedmass3.\n",
    "\n",
    "\n",
    "(b) Make a single plot of $m_{\\rm mix}$ versus time of all three pigments. Which part of the cloud mixed the most?\n",
    "\n",
    "\n",
    "(c) Write a Python function that calculates the mixing fractions, $f_{\\rm mix}$, for each pigment, according to the following definition:\n",
    "\n",
    "$f_{\\rm mix}=\\frac{m_{\\rm mix}}{m_0}$\n",
    "\n",
    "The mixing fractions then represent the fraction of initial cloud mass that mixed in different layers.\n",
    "\n",
    "\n",
    "(d) Make a single plot containing $f_{\\rm mix}$ of all three pigments versus time.\n",
    "\n",
    "**Data file:**\n",
    "https://github.com/wbandabarragan/computational-physics-1/blob/main/homework/simulation_data_hw1.txt"
   ]
  },
  {
   "cell_type": "markdown",
   "id": "7bd66974",
   "metadata": {},
   "source": [
    "### 2. Data Output, analysis, and plotting:\n",
    "\n",
    "Consider the same simulation data as for problem 3.\n",
    "\n",
    "(a) Now, we are interested in studying the total mass of cloud gas that mixed. Create a Python function that calculates the total mass of mixed gas in the cloud, i.e.:\n",
    "\n",
    "$m_{\\rm mix,total}=\\sum_i m_{\\rm mix,i}$, where $i\\equiv$ pigment 1,2,3\n",
    "\n",
    "\n",
    "(b) Create a function to calculate the total mixing fraction.\n",
    "\n",
    "$f_{\\rm mix,total}=\\frac{m_{\\rm mix,total}}{m_0}$\n",
    "\n",
    "\n",
    "(c) Write a Python function that prints three vectors as columns into a file called **total_mixing.csv**. This data file should contain a header, the time as the first column, $m_{\\rm mix,total}$ as the second column, and $f_{\\rm mix,total}$ as the third column.\n",
    "\n",
    "\n",
    "(d) Make a single plot that include $f_{\\rm mix,total}$ and $f_{\\rm mix}$ of all three pigments versus time."
   ]
  },
  {
   "cell_type": "code",
   "execution_count": null,
   "id": "49ddd3ed",
   "metadata": {},
   "outputs": [],
   "source": []
  },
  {
   "cell_type": "code",
   "execution_count": null,
   "id": "60b3d5d1",
   "metadata": {},
   "outputs": [],
   "source": []
  }
 ],
 "metadata": {
  "kernelspec": {
   "display_name": "Python 3 (ipykernel)",
   "language": "python",
   "name": "python3"
  },
  "language_info": {
   "codemirror_mode": {
    "name": "ipython",
    "version": 3
   },
   "file_extension": ".py",
   "mimetype": "text/x-python",
   "name": "python",
   "nbconvert_exporter": "python",
   "pygments_lexer": "ipython3",
   "version": "3.7.16"
  }
 },
 "nbformat": 4,
 "nbformat_minor": 5
}
