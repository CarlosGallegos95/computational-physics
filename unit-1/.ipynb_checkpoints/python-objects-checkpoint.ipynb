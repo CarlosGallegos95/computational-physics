{
 "cells": [
  {
   "cell_type": "markdown",
   "id": "36af9019",
   "metadata": {},
   "source": [
    "# Python Objects\n",
    "\n",
    "## Data types"
   ]
  },
  {
   "cell_type": "markdown",
   "id": "fe648fdb",
   "metadata": {},
   "source": [
    "### Integers (int)"
   ]
  },
  {
   "cell_type": "code",
   "execution_count": 5,
   "id": "55395952",
   "metadata": {},
   "outputs": [
    {
     "name": "stdout",
     "output_type": "stream",
     "text": [
      "<class 'int'>\n",
      "<class 'int'>\n"
     ]
    }
   ],
   "source": [
    "x = 1\n",
    "y = 4\n",
    "\n",
    "print(type(x))\n",
    "print(type(y))"
   ]
  },
  {
   "cell_type": "code",
   "execution_count": 6,
   "id": "453db808",
   "metadata": {},
   "outputs": [
    {
     "name": "stdout",
     "output_type": "stream",
     "text": [
      "5\n",
      "-3\n",
      "4\n",
      "0.25\n",
      "0.2\n"
     ]
    }
   ],
   "source": [
    "print(x + y)\n",
    "print(x - y)\n",
    "print(x * y)\n",
    "print(x / y)\n",
    "print(x /(x+y))"
   ]
  },
  {
   "cell_type": "markdown",
   "id": "ff4bfb87",
   "metadata": {},
   "source": [
    "### Floating-point numbers (float)"
   ]
  },
  {
   "cell_type": "code",
   "execution_count": 7,
   "id": "0034a30b",
   "metadata": {},
   "outputs": [
    {
     "name": "stdout",
     "output_type": "stream",
     "text": [
      "<class 'float'>\n",
      "<class 'float'>\n",
      "<class 'float'>\n"
     ]
    }
   ],
   "source": [
    "import numpy as np\n",
    "\n",
    "x = 1.\n",
    "y = 4.\n",
    "z = np.pi\n",
    "\n",
    "print(type(x))\n",
    "print(type(y))\n",
    "print(type(z))"
   ]
  },
  {
   "cell_type": "code",
   "execution_count": 8,
   "id": "f6df6c7b",
   "metadata": {},
   "outputs": [
    {
     "name": "stdout",
     "output_type": "stream",
     "text": [
      "5.0\n",
      "-3.0\n",
      "4.0\n",
      "0.25\n",
      "0.2\n"
     ]
    }
   ],
   "source": [
    "print(x + y)\n",
    "print(x - y)\n",
    "print(x * y)\n",
    "print(x / y)\n",
    "print(x /(x+y))"
   ]
  },
  {
   "cell_type": "markdown",
   "id": "3070a756",
   "metadata": {},
   "source": [
    "### Strings (str)"
   ]
  },
  {
   "cell_type": "code",
   "execution_count": 10,
   "id": "228621d7",
   "metadata": {},
   "outputs": [
    {
     "name": "stdout",
     "output_type": "stream",
     "text": [
      "<class 'str'>\n",
      "<class 'str'>\n",
      "<class 'str'>\n",
      "1.\n"
     ]
    }
   ],
   "source": [
    "x = '1.'\n",
    "y = '4.'\n",
    "z = 'np.pi'\n",
    "\n",
    "print(type(x))\n",
    "print(type(y))\n",
    "print(type(z))\n",
    "\n",
    "print(x)"
   ]
  },
  {
   "cell_type": "code",
   "execution_count": 11,
   "id": "39621b6a",
   "metadata": {},
   "outputs": [
    {
     "name": "stdout",
     "output_type": "stream",
     "text": [
      "1.4.\n"
     ]
    }
   ],
   "source": [
    "print(x + y)"
   ]
  },
  {
   "cell_type": "code",
   "execution_count": 12,
   "id": "a47371f2",
   "metadata": {},
   "outputs": [],
   "source": [
    "del x\n",
    "del y\n",
    "del z"
   ]
  },
  {
   "cell_type": "markdown",
   "id": "71b595b8",
   "metadata": {},
   "source": [
    "## Complex numbers"
   ]
  },
  {
   "cell_type": "code",
   "execution_count": 13,
   "id": "44f49cb1",
   "metadata": {},
   "outputs": [
    {
     "name": "stdout",
     "output_type": "stream",
     "text": [
      "(-2+4j)\n"
     ]
    }
   ],
   "source": [
    "z = -2 + 4j\n",
    "\n",
    "print(z)"
   ]
  },
  {
   "cell_type": "markdown",
   "id": "dbabbf0d",
   "metadata": {},
   "source": [
    "### Conjugate"
   ]
  },
  {
   "cell_type": "code",
   "execution_count": 16,
   "id": "6e907c87",
   "metadata": {},
   "outputs": [
    {
     "name": "stdout",
     "output_type": "stream",
     "text": [
      "(-2-4j)\n"
     ]
    }
   ],
   "source": [
    "zc = np.conj(z)\n",
    "\n",
    "print(zc)"
   ]
  },
  {
   "cell_type": "markdown",
   "id": "106bf19a",
   "metadata": {},
   "source": [
    "### Norm"
   ]
  },
  {
   "cell_type": "code",
   "execution_count": 18,
   "id": "42c1ead1",
   "metadata": {},
   "outputs": [
    {
     "name": "stdout",
     "output_type": "stream",
     "text": [
      "4.47213595499958 4.47213595499958\n"
     ]
    }
   ],
   "source": [
    "normz = np.abs(z)\n",
    "\n",
    "print(normz, np.sqrt(20))"
   ]
  },
  {
   "cell_type": "code",
   "execution_count": 19,
   "id": "6fe918bf",
   "metadata": {},
   "outputs": [
    {
     "name": "stdout",
     "output_type": "stream",
     "text": [
      "(-2+4j)\n"
     ]
    }
   ],
   "source": [
    "z1 = complex(-2, 4)\n",
    "\n",
    "print(z1)"
   ]
  },
  {
   "cell_type": "code",
   "execution_count": 21,
   "id": "7aa53d5d",
   "metadata": {},
   "outputs": [
    {
     "name": "stdout",
     "output_type": "stream",
     "text": [
      "4.47213595499958\n"
     ]
    }
   ],
   "source": [
    "normz1 = np.abs(z1)\n",
    "print(normz1)"
   ]
  },
  {
   "cell_type": "markdown",
   "id": "726f972e",
   "metadata": {},
   "source": [
    "# Python Objects"
   ]
  },
  {
   "cell_type": "markdown",
   "id": "9ee03146",
   "metadata": {},
   "source": [
    "## Tuples\n",
    "\n",
    "- A tuple is an ordered set of objects that cannot be manually changed.\n",
    "\n",
    "\n",
    "- The objects inside a tuple can have different data formats.\n",
    "\n",
    "\n",
    "- **You can use ( )**"
   ]
  },
  {
   "cell_type": "code",
   "execution_count": 22,
   "id": "7222e3ea",
   "metadata": {},
   "outputs": [
    {
     "name": "stdout",
     "output_type": "stream",
     "text": [
      "('hola', 0, 1.0, 2)\n"
     ]
    }
   ],
   "source": [
    "# Example 1\n",
    "\n",
    "tuple_1 = ('hola', 0, 1., 2)\n",
    "\n",
    "print(tuple_1)"
   ]
  },
  {
   "cell_type": "code",
   "execution_count": 24,
   "id": "d33227a5",
   "metadata": {},
   "outputs": [
    {
     "name": "stdout",
     "output_type": "stream",
     "text": [
      "hola <class 'str'>\n",
      "('hola', 1.0) <class 'tuple'>\n"
     ]
    }
   ],
   "source": [
    "print(tuple_1[0], type(tuple_1[0])) # First element\n",
    "\n",
    "print(tuple_1[::2], type(tuple_1[::2])) # Jumping one element"
   ]
  },
  {
   "cell_type": "code",
   "execution_count": 25,
   "id": "ede329a1",
   "metadata": {},
   "outputs": [
    {
     "ename": "TypeError",
     "evalue": "'tuple' object does not support item assignment",
     "output_type": "error",
     "traceback": [
      "\u001b[0;31m---------------------------------------------------------------------------\u001b[0m",
      "\u001b[0;31mTypeError\u001b[0m                                 Traceback (most recent call last)",
      "\u001b[0;32m<ipython-input-25-c6c5aae8d4a2>\u001b[0m in \u001b[0;36m<module>\u001b[0;34m\u001b[0m\n\u001b[0;32m----> 1\u001b[0;31m \u001b[0mtuple_1\u001b[0m\u001b[0;34m[\u001b[0m\u001b[0;36m0\u001b[0m\u001b[0;34m]\u001b[0m \u001b[0;34m=\u001b[0m \u001b[0;36m1.\u001b[0m\u001b[0;34m\u001b[0m\u001b[0;34m\u001b[0m\u001b[0m\n\u001b[0m",
      "\u001b[0;31mTypeError\u001b[0m: 'tuple' object does not support item assignment"
     ]
    }
   ],
   "source": [
    "tuple_1[0] = 1."
   ]
  },
  {
   "cell_type": "markdown",
   "id": "000c04e0",
   "metadata": {},
   "source": [
    "### Lists\n",
    "\n",
    "- A list of is an ordered set of objects that can be manually changed.\n",
    "\n",
    "\n",
    "- The objects can have different data types.\n",
    "\n",
    "\n",
    "- **You can use [ ]**"
   ]
  },
  {
   "cell_type": "code",
   "execution_count": 28,
   "id": "6bfffea7",
   "metadata": {},
   "outputs": [
    {
     "name": "stdout",
     "output_type": "stream",
     "text": [
      "['hola', 1, 2.0, 3]\n"
     ]
    }
   ],
   "source": [
    "list_1 = ['hola', 1, 2., 3]\n",
    "\n",
    "print(list_1)"
   ]
  },
  {
   "cell_type": "code",
   "execution_count": 29,
   "id": "c9305adc",
   "metadata": {},
   "outputs": [
    {
     "name": "stdout",
     "output_type": "stream",
     "text": [
      "hola <class 'str'>\n",
      "1 <class 'int'>\n",
      "2.0 <class 'float'>\n",
      "3 <class 'int'>\n"
     ]
    }
   ],
   "source": [
    "A0 = list_1[0]\n",
    "A1 = list_1[1]\n",
    "A2 = list_1[2]\n",
    "A3 = list_1[3]\n",
    "\n",
    "print(A0, type(A0))\n",
    "print(A1, type(A1))\n",
    "print(A2, type(A2))\n",
    "print(A3, type(A3))"
   ]
  },
  {
   "cell_type": "code",
   "execution_count": 30,
   "id": "32017c7a",
   "metadata": {},
   "outputs": [
    {
     "name": "stdout",
     "output_type": "stream",
     "text": [
      "hola <class 'str'>\n",
      "1 <class 'int'>\n",
      "2.0 <class 'float'>\n",
      "3 <class 'int'>\n"
     ]
    }
   ],
   "source": [
    "for i in list_1:\n",
    "    print(i, type(i))"
   ]
  },
  {
   "cell_type": "markdown",
   "id": "bdfd7827",
   "metadata": {},
   "source": [
    "Example:"
   ]
  },
  {
   "cell_type": "code",
   "execution_count": 31,
   "id": "05d7f1a0",
   "metadata": {},
   "outputs": [
    {
     "name": "stdout",
     "output_type": "stream",
     "text": [
      "[2, 3] <class 'list'>\n"
     ]
    }
   ],
   "source": [
    "list_2 = [0,1,2,3,4,5,6,7,8,9]\n",
    "\n",
    "A24 = list_2[2:4] # to n-1\n",
    "\n",
    "print(A24, type(A24))"
   ]
  },
  {
   "cell_type": "code",
   "execution_count": 32,
   "id": "11a0e17e",
   "metadata": {},
   "outputs": [
    {
     "name": "stdout",
     "output_type": "stream",
     "text": [
      "[0, 1, 2, 3, 4]\n",
      "[5, 6, 7, 8, 9]\n"
     ]
    }
   ],
   "source": [
    "print(list_2[:5])\n",
    "print(list_2[5:])"
   ]
  },
  {
   "cell_type": "code",
   "execution_count": 33,
   "id": "37f63fa5",
   "metadata": {},
   "outputs": [
    {
     "name": "stdout",
     "output_type": "stream",
     "text": [
      "10\n",
      "0\n",
      "9\n"
     ]
    }
   ],
   "source": [
    "print(len(list_2))\n",
    "\n",
    "print(min(list_2))\n",
    "\n",
    "print(max(list_2))"
   ]
  },
  {
   "cell_type": "code",
   "execution_count": 35,
   "id": "ecba2b34",
   "metadata": {},
   "outputs": [
    {
     "name": "stdout",
     "output_type": "stream",
     "text": [
      "[0, 3, 6, 9]\n"
     ]
    }
   ],
   "source": [
    "print(list_2[::3])"
   ]
  },
  {
   "cell_type": "code",
   "execution_count": 37,
   "id": "fdbba16a",
   "metadata": {},
   "outputs": [
    {
     "name": "stdout",
     "output_type": "stream",
     "text": [
      "9\n",
      "8\n"
     ]
    }
   ],
   "source": [
    "print(list_2[-1])\n",
    "print(list_2[-2])"
   ]
  },
  {
   "cell_type": "code",
   "execution_count": 38,
   "id": "f7927ecb",
   "metadata": {},
   "outputs": [
    {
     "name": "stdout",
     "output_type": "stream",
     "text": [
      "[1, 2, 3, 4, 5, 6, 7, 8]\n"
     ]
    }
   ],
   "source": [
    "print(list_2[1:-1])"
   ]
  },
  {
   "cell_type": "code",
   "execution_count": 39,
   "id": "1759d1e1",
   "metadata": {},
   "outputs": [
    {
     "name": "stdout",
     "output_type": "stream",
     "text": [
      "0\n"
     ]
    }
   ],
   "source": [
    "print(list_2[0])"
   ]
  },
  {
   "cell_type": "code",
   "execution_count": 41,
   "id": "c3d146e2",
   "metadata": {},
   "outputs": [
    {
     "name": "stdout",
     "output_type": "stream",
     "text": [
      "[15.0, 1, 2, 3, 4, 5, 6, 7, 8, 9]\n"
     ]
    }
   ],
   "source": [
    "list_2[0]  = 15.\n",
    "\n",
    "print(list_2)"
   ]
  },
  {
   "cell_type": "code",
   "execution_count": 42,
   "id": "f7f3ce3c",
   "metadata": {},
   "outputs": [
    {
     "name": "stdout",
     "output_type": "stream",
     "text": [
      "['hola', 1, 2.0, 3, 15.0, 1, 2, 3, 4, 5, 6, 7, 8, 9]\n"
     ]
    }
   ],
   "source": [
    "list_3 = list_1 + list_2\n",
    "\n",
    "print(list_3)"
   ]
  },
  {
   "cell_type": "code",
   "execution_count": 43,
   "id": "8fafa52b",
   "metadata": {},
   "outputs": [
    {
     "name": "stdout",
     "output_type": "stream",
     "text": [
      "['hola', 1, 2.0, 3, 15.0, 1, 2, 3, 4, 5, 6, 7, 8, 9, 100]\n"
     ]
    }
   ],
   "source": [
    "list_3.append(100)\n",
    "\n",
    "print(list_3)"
   ]
  },
  {
   "cell_type": "code",
   "execution_count": 44,
   "id": "cd723204",
   "metadata": {},
   "outputs": [
    {
     "name": "stdout",
     "output_type": "stream",
     "text": [
      "[1, 2.0, 3, 15.0, 1, 2, 3, 4, 5, 6, 7, 8, 9, 100]\n"
     ]
    }
   ],
   "source": [
    "del list_3[0]\n",
    "\n",
    "print(list_3)"
   ]
  },
  {
   "cell_type": "code",
   "execution_count": 45,
   "id": "d47c6dcf",
   "metadata": {},
   "outputs": [
    {
     "name": "stdout",
     "output_type": "stream",
     "text": [
      "[[1, 2, 3, 4], [5, 6, 7, 8, 9]]\n",
      "[1, 2, 3, 4] len = 4\n",
      "[5, 6, 7, 8, 9] len = 5\n"
     ]
    }
   ],
   "source": [
    "list_array = [[1,2,3,4],[5,6,7,8,9]]\n",
    "\n",
    "print(list_array)\n",
    "\n",
    "print(list_array[0], 'len =', len(list_array[0]))\n",
    "print(list_array[1], 'len =', len(list_array[1]))"
   ]
  },
  {
   "cell_type": "code",
   "execution_count": 46,
   "id": "6282ec5e",
   "metadata": {},
   "outputs": [
    {
     "name": "stdout",
     "output_type": "stream",
     "text": [
      "1 type = <class 'int'>\n",
      "5 type = <class 'int'>\n"
     ]
    }
   ],
   "source": [
    "print(list_array[0][0], 'type =', type(list_array[0][0]))\n",
    "print(list_array[1][0], 'type =', type(list_array[0][0]))"
   ]
  },
  {
   "cell_type": "code",
   "execution_count": 47,
   "id": "f29b2211",
   "metadata": {},
   "outputs": [
    {
     "name": "stdout",
     "output_type": "stream",
     "text": [
      "[1, 2, 3, 4] type = <class 'int'>\n",
      "9 type = <class 'int'>\n"
     ]
    }
   ],
   "source": [
    "print(list_array[0][:], 'type =', type(list_array[0][0]))\n",
    "print(list_array[1][-1], 'type =', type(list_array[0][0]))"
   ]
  },
  {
   "cell_type": "markdown",
   "id": "c5a876ea",
   "metadata": {},
   "source": [
    "### Arrays\n",
    "\n",
    "\n",
    "- Very useful when carrying out mathematical operations.\n",
    "\n",
    "\n",
    "- Numpy needs to be called as Lists are the native Python objects."
   ]
  },
  {
   "cell_type": "code",
   "execution_count": 48,
   "id": "12f8a67c",
   "metadata": {},
   "outputs": [
    {
     "name": "stdout",
     "output_type": "stream",
     "text": [
      "[ 10.  20.  50. 100.  80.  65.] <class 'numpy.ndarray'>\n",
      "[ 10.  20.  50. 100.  80.  65.] <class 'numpy.ndarray'>\n"
     ]
    }
   ],
   "source": [
    "A = np.array((10., 20., 50., 100., 80., 65.))\n",
    "\n",
    "B = np.array([10., 20., 50., 100., 80., 65.])\n",
    "\n",
    "print(A, type(A))\n",
    "print(B, type(B))"
   ]
  },
  {
   "cell_type": "markdown",
   "id": "4f676b6e",
   "metadata": {},
   "source": [
    "### Dictionaries"
   ]
  },
  {
   "cell_type": "code",
   "execution_count": 49,
   "id": "3d41d8b2",
   "metadata": {},
   "outputs": [
    {
     "name": "stdout",
     "output_type": "stream",
     "text": [
      "{'variable x': 1, 'variable y': 2} <class 'dict'>\n"
     ]
    }
   ],
   "source": [
    "dictionary_1 = {'variable x': 1,'variable y': 2}\n",
    "\n",
    "print(dictionary_1, type(dictionary_1))"
   ]
  },
  {
   "cell_type": "code",
   "execution_count": 51,
   "id": "eede5432",
   "metadata": {},
   "outputs": [
    {
     "data": {
      "text/plain": [
       "1"
      ]
     },
     "execution_count": 51,
     "metadata": {},
     "output_type": "execute_result"
    }
   ],
   "source": [
    "dictionary_1['variable x']"
   ]
  },
  {
   "cell_type": "code",
   "execution_count": 52,
   "id": "fed80d20",
   "metadata": {},
   "outputs": [
    {
     "data": {
      "text/plain": [
       "2"
      ]
     },
     "execution_count": 52,
     "metadata": {},
     "output_type": "execute_result"
    }
   ],
   "source": [
    "dictionary_1['variable y']"
   ]
  },
  {
   "cell_type": "markdown",
   "id": "5b4ca492",
   "metadata": {},
   "source": [
    "### Defining dictionaries"
   ]
  },
  {
   "cell_type": "code",
   "execution_count": 53,
   "id": "d8db69a4",
   "metadata": {},
   "outputs": [
    {
     "name": "stdout",
     "output_type": "stream",
     "text": [
      "{'temperature': [10, 40, 50, 60], 'pressure': (1, 1.6, 3, 4)}\n"
     ]
    }
   ],
   "source": [
    "dictionary_2 = {}\n",
    "\n",
    "dictionary_2['temperature'] = [10, 40, 50, 60] # in K\n",
    "dictionary_2['pressure'] = (1, 1.6, 3, 4) # in atm\n",
    "\n",
    "print(dictionary_2)"
   ]
  },
  {
   "cell_type": "code",
   "execution_count": 54,
   "id": "c93f06ad",
   "metadata": {},
   "outputs": [
    {
     "name": "stdout",
     "output_type": "stream",
     "text": [
      "[10, 40, 50, 60] <class 'list'>\n"
     ]
    }
   ],
   "source": [
    "print(dictionary_2['temperature'], type(dictionary_2['temperature']))"
   ]
  },
  {
   "cell_type": "code",
   "execution_count": 55,
   "id": "35b580e8",
   "metadata": {},
   "outputs": [
    {
     "name": "stdout",
     "output_type": "stream",
     "text": [
      "(1, 1.6, 3, 4) <class 'tuple'>\n"
     ]
    }
   ],
   "source": [
    "print(dictionary_2['pressure'], type(dictionary_2['pressure']))"
   ]
  },
  {
   "cell_type": "code",
   "execution_count": 56,
   "id": "bfdae64d",
   "metadata": {},
   "outputs": [
    {
     "data": {
      "text/plain": [
       "dict_keys(['temperature', 'pressure'])"
      ]
     },
     "execution_count": 56,
     "metadata": {},
     "output_type": "execute_result"
    }
   ],
   "source": [
    "dictionary_2.keys()"
   ]
  },
  {
   "cell_type": "code",
   "execution_count": 57,
   "id": "1f472018",
   "metadata": {},
   "outputs": [
    {
     "name": "stdout",
     "output_type": "stream",
     "text": [
      "{'temperature': [10, 40, 50, 60], 'pressure': (1, 1.6, 3, 4), 'density': array([0.2, 0.4, 0.1, 0.3])}\n"
     ]
    }
   ],
   "source": [
    "dictionary_3 = {}\n",
    "\n",
    "dictionary_3['temperature'] = [10, 40, 50, 60]\n",
    "dictionary_3['pressure'] = (1, 1.6, 3, 4)\n",
    "dictionary_3['density'] = np.array((0.2, 0.4, 0.1, 0.3))\n",
    "\n",
    "print(dictionary_3)"
   ]
  },
  {
   "cell_type": "code",
   "execution_count": 58,
   "id": "67507735",
   "metadata": {},
   "outputs": [
    {
     "name": "stdout",
     "output_type": "stream",
     "text": [
      "[10, 40, 50, 60] <class 'list'>\n",
      "(1, 1.6, 3, 4) <class 'tuple'>\n",
      "[0.2 0.4 0.1 0.3] <class 'numpy.ndarray'>\n"
     ]
    }
   ],
   "source": [
    "print(dictionary_3['temperature'], type(dictionary_3['temperature']))\n",
    "print(dictionary_3['pressure'], type(dictionary_3['pressure']))\n",
    "print(dictionary_3['density'], type(dictionary_3['density']))"
   ]
  },
  {
   "cell_type": "code",
   "execution_count": null,
   "id": "e9cd8be5",
   "metadata": {},
   "outputs": [],
   "source": []
  }
 ],
 "metadata": {
  "kernelspec": {
   "display_name": "Python 3",
   "language": "python",
   "name": "python3"
  },
  "language_info": {
   "codemirror_mode": {
    "name": "ipython",
    "version": 3
   },
   "file_extension": ".py",
   "mimetype": "text/x-python",
   "name": "python",
   "nbconvert_exporter": "python",
   "pygments_lexer": "ipython3",
   "version": "3.7.10"
  }
 },
 "nbformat": 4,
 "nbformat_minor": 5
}
