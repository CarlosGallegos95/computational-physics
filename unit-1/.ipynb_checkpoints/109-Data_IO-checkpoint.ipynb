{
 "cells": [
  {
   "cell_type": "markdown",
   "id": "181ef893",
   "metadata": {},
   "source": [
    "# Data plotting"
   ]
  },
  {
   "cell_type": "code",
   "execution_count": 14,
   "id": "01aa9513",
   "metadata": {
    "scrolled": false
   },
   "outputs": [
    {
     "name": "stdout",
     "output_type": "stream",
     "text": [
      "T\n"
     ]
    }
   ],
   "source": [
    "# Let's see what is in our file?.\n",
    "\n",
    "file = open('ejemplo_datos_0.dat', 'r')\n",
    "#print(file.read())     \n",
    "data = file.read()\n",
    "data2=\n",
    "file.close()    \n"
   ]
  },
  {
   "cell_type": "code",
   "execution_count": null,
   "id": "53ac911f",
   "metadata": {},
   "outputs": [],
   "source": [
    "#Import\n",
    "x = np.sin(x)\n",
    "y = np.cos(x+np.pi/2)"
   ]
  }
 ],
 "metadata": {
  "kernelspec": {
   "display_name": "Python 3",
   "language": "python",
   "name": "python3"
  },
  "language_info": {
   "codemirror_mode": {
    "name": "ipython",
    "version": 3
   },
   "file_extension": ".py",
   "mimetype": "text/x-python",
   "name": "python",
   "nbconvert_exporter": "python",
   "pygments_lexer": "ipython3",
   "version": "3.7.10"
  }
 },
 "nbformat": 4,
 "nbformat_minor": 5
}
