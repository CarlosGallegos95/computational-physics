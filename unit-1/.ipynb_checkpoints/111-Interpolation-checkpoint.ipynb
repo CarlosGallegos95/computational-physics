{
 "cells": [
  {
   "cell_type": "markdown",
   "id": "feb856d1",
   "metadata": {},
   "source": [
    "# Interpolation:\n",
    "\n",
    "## 1. Newton interpolation\n",
    "\n",
    "$f(x)=a_0+a_1(x-x_0)+a_2(x-x_0)(x-x_1)+...+a_n(x-x-0)...(x-x_n)$\n",
    "\n",
    "Divided differences:\n",
    "\n",
    "$f(x_1,x_0)=\\frac{y_1-y_0}{x_1-x_0}$\n"
   ]
  },
  {
   "cell_type": "code",
   "execution_count": 1,
   "id": "9d5240b0",
   "metadata": {},
   "outputs": [],
   "source": [
    "# Importing libraries\n",
    "import numpy as np\n",
    "import matplotlib.pyplot as plt"
   ]
  },
  {
   "cell_type": "markdown",
   "id": "f38958a7",
   "metadata": {},
   "source": [
    "### Example:\n",
    "\n",
    "Find the polynomial function that goes through all the following data points:\n",
    "\n",
    "$x= [-8,-5, -1, 0, 2, 4]$\n",
    "\n",
    "$y= [-4,-2, 6, 1, 3, 5]$"
   ]
  },
  {
   "cell_type": "code",
   "execution_count": 3,
   "id": "d3c01f79",
   "metadata": {},
   "outputs": [],
   "source": [
    "# We need the vectors\n",
    "x = np.array([-8,-5,-1,0,2,4])\n",
    "y = np.array([-4,-2,6,1,3,5])"
   ]
  },
  {
   "cell_type": "code",
   "execution_count": 9,
   "id": "a069e842",
   "metadata": {},
   "outputs": [
    {
     "data": {
      "image/png": "[encoded data removed]",
      "text/plain": [
       "<Figure size 400x300 with 1 Axes>"
      ]
     },
     "metadata": {},
     "output_type": "display_data"
    }
   ],
   "source": [
    "# Plotting\n",
    "\n",
    "plt.figure(figsize=(4,3))\n",
    "\n",
    "plt.plot(x, y, marker = \"d\", color = \"red\", linestyle = \" \")\n",
    "plt.grid()\n",
    "plt.show()"
   ]
  },
  {
   "cell_type": "markdown",
   "id": "39c42771",
   "metadata": {},
   "source": [
    "### Costruct our own interpolator"
   ]
  },
  {
   "cell_type": "code",
   "execution_count": 10,
   "id": "cdc5d2b7",
   "metadata": {},
   "outputs": [],
   "source": [
    "# Function for the divided differences\n",
    "\n",
    "def div_diff(x_values, y_values):\n",
    "    \"\"\"\n",
    "    This is function that computes the divided differences.\n",
    "    Inputs: data vectors\n",
    "    Outputs: coefficients of the polynomial\n",
    "    \"\"\"\n",
    "    # We get the length of the vectors\n",
    "    n = len(x_values)\n",
    "    \n",
    "    # We need an empty array to host the coefficients\n",
    "    a_coef = np.zeros([n, n])\n",
    "    \n",
    "    # First we place the y values onto the 1st column\n",
    "    a_coef[:,0] = y_values\n",
    "    \n",
    "    # We iterate obver the indices of the matrix\n",
    "    for j in range(1, n):\n",
    "        for i in range(n - j):\n",
    "            \n",
    "            a_coef[i][j] = (a_coef[i + 1][j - 1]\\\n",
    "            - a_coef[i][j - 1]) / (x_values[i + j] - x_values[i])\n",
    "        \n",
    "    return a_coef"
   ]
  },
  {
   "cell_type": "code",
   "execution_count": 21,
   "id": "7a0392cd",
   "metadata": {},
   "outputs": [],
   "source": [
    "# Now we need a function to evalue the polynomial\n",
    "\n",
    "def newton_polynomial(coef, x_values, x_new):\n",
    "    \"\"\"\n",
    "    Function to evaluate the Newton polynomial at specific \n",
    "    x_new values (which are a new x axis)\n",
    "    \"\"\"\n",
    "    n = len(x_values) - 1 \n",
    "    newton = coef[n]\n",
    "    \n",
    "    for k in range(1, n + 1):\n",
    "        newton = coef[n - k] + (x_new - x_values[n - k])*newton\n",
    "    \n",
    "    return newton\n"
   ]
  },
  {
   "cell_type": "code",
   "execution_count": 24,
   "id": "d657b637",
   "metadata": {},
   "outputs": [
    {
     "name": "stdout",
     "output_type": "stream",
     "text": [
      "[[-4.          0.66666667  0.19047619 -0.19880952  0.06845238 -0.01390542]\n",
      " [-2.          2.         -1.4         0.48571429 -0.0984127   0.        ]\n",
      " [ 6.         -5.          2.         -0.4         0.          0.        ]\n",
      " [ 1.          1.          0.          0.          0.          0.        ]\n",
      " [ 3.          1.          0.          0.          0.          0.        ]\n",
      " [ 5.          0.          0.          0.          0.          0.        ]]\n"
     ]
    }
   ],
   "source": [
    "# Call our functions\n",
    "# First we get the coefficients\n",
    "a_coef_matrix = div_diff(x, y)\n",
    "\n",
    "print(a_coef_matrix)"
   ]
  },
  {
   "cell_type": "code",
   "execution_count": 25,
   "id": "35b80c6a",
   "metadata": {},
   "outputs": [
    {
     "name": "stdout",
     "output_type": "stream",
     "text": [
      "[-4.          0.66666667  0.19047619 -0.19880952  0.06845238 -0.01390542]\n"
     ]
    }
   ],
   "source": [
    "# We want the first row:\n",
    "a_coef1 = div_diff(x, y)[0,:]\n",
    "print(a_coef1)\n",
    "\n",
    "# Now we call our Newton polynomial function\n",
    "x_new1 = np.arange(-8., 4.1, 0.1)\n",
    "y_new1 = newton_polynomial(a_coef1, x, x_new1)"
   ]
  },
  {
   "cell_type": "code",
   "execution_count": 30,
   "id": "8a35fbba",
   "metadata": {},
   "outputs": [
    {
     "data": {
      "image/png": "[encoded data removed]",
      "text/plain": [
       "<Figure size 400x300 with 1 Axes>"
      ]
     },
     "metadata": {},
     "output_type": "display_data"
    }
   ],
   "source": [
    "# Plotting the result\n",
    "\n",
    "plt.figure(figsize=(4,3))\n",
    "\n",
    "plt.plot(x, y, marker = \"d\", color = \"red\", linestyle = \" \"\\\n",
    "        , label = \"data points\")\n",
    "plt.plot(x_new1, y_new1, color = \"blue\", linestyle = \"-\"\\\n",
    "        , label =\"Newton poly.\")\n",
    "\n",
    "plt.grid()\n",
    "\n",
    "plt.legend()\n",
    "plt.show()\n",
    "\n"
   ]
  },
  {
   "cell_type": "markdown",
   "id": "4eb1b002",
   "metadata": {},
   "source": [
    "## 2. Lagrange interpolation\n",
    "\n",
    "\n",
    "We will use scipy.interpolate.lagrange for this.\n",
    "\n"
   ]
  },
  {
   "cell_type": "code",
   "execution_count": 31,
   "id": "6404aa79",
   "metadata": {},
   "outputs": [],
   "source": [
    "import scipy.interpolate as interp"
   ]
  },
  {
   "cell_type": "code",
   "execution_count": 35,
   "id": "db10bfd0",
   "metadata": {},
   "outputs": [
    {
     "name": "stdout",
     "output_type": "stream",
     "text": [
      "<class 'numpy.poly1d'>\n",
      "          5           4          3         2\n",
      "-0.01391 x - 0.09841 x + 0.4119 x + 1.953 x - 3.544 x + 1\n"
     ]
    }
   ],
   "source": [
    "# Now we call the lagrange function\n",
    "lagrange_poly =interp.lagrange(x, y)\n",
    "\n",
    "print(type(lagrange_poly))\n",
    "\n",
    "print(lagrange_poly)"
   ]
  },
  {
   "cell_type": "code",
   "execution_count": 46,
   "id": "0b34ef6b",
   "metadata": {},
   "outputs": [
    {
     "data": {
      "text/plain": [
       "array([ -4.        ,  -7.64465153, -10.81123956, -13.53016709,\n",
       "       -15.83077181, -17.7413427 , -19.28913676, -20.50039572,\n",
       "       -21.40036267, -22.01329878, -22.3625    , -22.47031371,\n",
       "       -22.35815543, -22.0465255 , -21.55502578, -20.9023763 ,\n",
       "       -20.106432  , -19.18419936, -18.15185314, -17.02475302,\n",
       "       -15.81746032, -14.54375466, -13.21665067, -11.84841466,\n",
       "       -10.45058133,  -9.03397042,  -7.60870343,  -6.18422027,\n",
       "        -4.769296  ,  -3.37205746,  -2.        ,  -0.66000414,\n",
       "         0.64164775,   1.89925471,   3.10768057,   4.26233724,\n",
       "         5.359168  ,   6.39463084,   7.36568178,   8.26975814,\n",
       "         9.1047619 ,   9.86904301,  10.56138267,  11.18097666,\n",
       "        11.72741867,  12.20068359,  12.60111086,  12.92938771,\n",
       "        13.18653257,  13.3738783 ,  13.49305556,  13.54597607,\n",
       "        13.534816  ,  13.4619992 ,  13.33018057,  13.14222935,\n",
       "        12.90121244,  12.61037772,  12.27313733,  11.89305105,\n",
       "        11.47380952,  11.01921767,  10.5331779 ,  10.01967353,\n",
       "         9.482752  ,   8.92650825,   8.355068  ,   7.7725711 ,\n",
       "         7.18315479,   6.59093708,   6.        ,   5.41437295,\n",
       "         4.838016  ,   4.27480322,   3.72850597,   3.20277623,\n",
       "         2.7011299 ,   2.22693015,   1.78337067,   1.37345903,\n",
       "         1.        ,   0.66557883,   0.37254457,   0.12299342,\n",
       "        -0.081248  ,  -0.23863932,  -0.34794311,  -0.40824155,\n",
       "        -0.41895314,  -0.37984938,  -0.29107143,  -0.15314684,\n",
       "         0.03299378,   0.26600009,   0.54408533,   0.86500961,\n",
       "         1.22606324,   1.62405004,   2.05527067,   2.51550591,\n",
       "         3.        ,   3.50344395,   4.01995886,   4.54307919,\n",
       "         5.06573613,   5.58024089,   6.078268  ,   6.55083866,\n",
       "         6.988304  ,   7.38032845,   7.71587302,   7.9831786 ,\n",
       "         8.16974933,   8.26233586,   8.24691867,   8.10869141,\n",
       "         7.83204419,   7.40054692,   6.79693257,   6.00308056,\n",
       "         5.        ])"
      ]
     },
     "execution_count": 46,
     "metadata": {},
     "output_type": "execute_result"
    }
   ],
   "source": [
    "lagrange_poly(x_new1)"
   ]
  },
  {
   "cell_type": "code",
   "execution_count": 41,
   "id": "76a4bafa",
   "metadata": {},
   "outputs": [],
   "source": [
    "from numpy.polynomial.polynomial import Polynomial"
   ]
  },
  {
   "cell_type": "code",
   "execution_count": 44,
   "id": "962ee763",
   "metadata": {},
   "outputs": [
    {
     "data": {
      "text/plain": [
       "array([ 1.        , -3.54351852,  1.95287698,  0.41188823, -0.0984127 ,\n",
       "       -0.01390542])"
      ]
     },
     "execution_count": 44,
     "metadata": {},
     "output_type": "execute_result"
    }
   ],
   "source": [
    "# See only the coefficients\n",
    "\n",
    "Polynomial(lagrange_poly.coef[::-1]).coef"
   ]
  },
  {
   "cell_type": "code",
   "execution_count": 48,
   "id": "57421c92",
   "metadata": {},
   "outputs": [],
   "source": [
    "# Get the y vector\n",
    "y_new2 = Polynomial(lagrange_poly.coef[::-1])(x_new1)\n",
    "\n",
    "#print(y_new2)"
   ]
  },
  {
   "cell_type": "code",
   "execution_count": 52,
   "id": "54f0d557",
   "metadata": {},
   "outputs": [
    {
     "data": {
      "image/png": "[encoded data removed]",
      "text/plain": [
       "<Figure size 400x300 with 1 Axes>"
      ]
     },
     "metadata": {},
     "output_type": "display_data"
    }
   ],
   "source": [
    "# Plotting the result\n",
    "\n",
    "plt.figure(figsize=(4,3))\n",
    "\n",
    "plt.plot(x, y, marker = \"d\", color = \"red\", linestyle = \" \"\\\n",
    "        , label = \"data points\")\n",
    "plt.plot(x_new1, y_new1, color = \"blue\", linestyle = \"-\"\\\n",
    "        , label =\"Newton poly.\")\n",
    "plt.plot(x_new1, y_new2, color = \"green\", linestyle = \"-\"\\\n",
    "        , label =\"Lagrange poly.\")\n",
    "\n",
    "plt.grid()\n",
    "\n",
    "plt.legend()\n",
    "plt.show()\n",
    "\n"
   ]
  },
  {
   "cell_type": "code",
   "execution_count": null,
   "id": "4cdcc6e1",
   "metadata": {},
   "outputs": [],
   "source": []
  }
 ],
 "metadata": {
  "kernelspec": {
   "display_name": "Python 3 (ipykernel)",
   "language": "python",
   "name": "python3"
  },
  "language_info": {
   "codemirror_mode": {
    "name": "ipython",
    "version": 3
   },
   "file_extension": ".py",
   "mimetype": "text/x-python",
   "name": "python",
   "nbconvert_exporter": "python",
   "pygments_lexer": "ipython3",
   "version": "3.7.16"
  }
 },
 "nbformat": 4,
 "nbformat_minor": 5
}
