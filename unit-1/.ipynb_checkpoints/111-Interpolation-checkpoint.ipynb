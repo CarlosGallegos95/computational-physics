{
 "cells": [
  {
   "cell_type": "markdown",
   "id": "7e8f5fa3",
   "metadata": {},
   "source": [
    "# Interpolation:\n",
    "\n",
    "## 1. Newton interpolation\n",
    "\n",
    "$f(x)=a_0+a_1(x-x_0)+a_2(x-x_0)(x-x_1)+...+a_n(x-x-0)...(x-x_n)$\n",
    "\n",
    "Divided differences:\n",
    "\n",
    "$f(x_1,x_0)=\\frac{y_1-y_0}{x_1-x_0}$\n"
   ]
  },
  {
   "cell_type": "code",
   "execution_count": 1,
   "id": "15ce0baa",
   "metadata": {},
   "outputs": [],
   "source": [
    "# Importing libraries\n",
    "import numpy as np\n",
    "import matplotlib.pyplot as plt"
   ]
  },
  {
   "cell_type": "markdown",
   "id": "def0918b",
   "metadata": {},
   "source": [
    "### Example:\n",
    "\n",
    "Find the polynomial function that goes through all the following data points:\n",
    "\n",
    "$x= [-8,-5, -1, 0, 2, 4]$\n",
    "\n",
    "$y= [-4,-2, 6, 1, 3, 5]$"
   ]
  },
  {
   "cell_type": "code",
   "execution_count": 3,
   "id": "10a1042d",
   "metadata": {},
   "outputs": [],
   "source": [
    "# We need the vectors\n",
    "x = np.array([-8,-5,-1,0,2,4])\n",
    "y = np.array([-4,-2,6,1,3,5])"
   ]
  },
  {
   "cell_type": "code",
   "execution_count": 9,
   "id": "2816dfdb",
   "metadata": {},
   "outputs": [
    {
     "data": {
      "image/png": "[encoded data removed]",
      "text/plain": [
       "<Figure size 400x300 with 1 Axes>"
      ]
     },
     "metadata": {},
     "output_type": "display_data"
    }
   ],
   "source": [
    "# Plotting\n",
    "\n",
    "plt.figure(figsize=(4,3))\n",
    "\n",
    "plt.plot(x, y, marker = \"d\", color = \"red\", linestyle = \" \")\n",
    "plt.grid()\n",
    "plt.show()"
   ]
  },
  {
   "cell_type": "markdown",
   "id": "58098c97",
   "metadata": {},
   "source": [
    "### Costruct our own interpolator"
   ]
  },
  {
   "cell_type": "code",
   "execution_count": 10,
   "id": "48a56cdc",
   "metadata": {},
   "outputs": [],
   "source": [
    "# Function for the divided differences\n",
    "\n",
    "def div_diff(x_values, y_values):\n",
    "    \"\"\"\n",
    "    This is function that computes the divided differences.\n",
    "    Inputs: data vectors\n",
    "    Outputs: coefficients of the polynomial\n",
    "    \"\"\"\n",
    "    # We get the length of the vectors\n",
    "    n = len(x_values)\n",
    "    \n",
    "    # We need an empty array to host the coefficients\n",
    "    a_coef = np.zeros([n, n])\n",
    "    \n",
    "    # First we place the y values onto the 1st column\n",
    "    a_coef[:,0] = y_values\n",
    "    \n",
    "    # We iterate obver the indices of the matrix\n",
    "    for j in range(1, n):\n",
    "        for i in range(n - j):\n",
    "            \n",
    "            a_coef[i][j] = (a_coef[i + 1][j - 1]\\\n",
    "            - a_coef[i][j - 1]) / (x_values[i + j] - x_values[i])\n",
    "        \n",
    "    return a_coef"
   ]
  },
  {
   "cell_type": "code",
   "execution_count": 21,
   "id": "d3adfd3a",
   "metadata": {},
   "outputs": [],
   "source": [
    "# Now we need a function to evalue the polynomial\n",
    "\n",
    "def newton_polynomial(coef, x_values, x_new):\n",
    "    \"\"\"\n",
    "    Function to evaluate the Newton polynomial at specific \n",
    "    x_new values (which are a new x axis)\n",
    "    \"\"\"\n",
    "    n = len(x_values) - 1 \n",
    "    newton = coef[n]\n",
    "    \n",
    "    for k in range(1, n + 1):\n",
    "        newton = coef[n - k] + (x_new - x_values[n - k])*newton\n",
    "    \n",
    "    return newton\n"
   ]
  },
  {
   "cell_type": "code",
   "execution_count": 24,
   "id": "a8b2ee03",
   "metadata": {},
   "outputs": [
    {
     "name": "stdout",
     "output_type": "stream",
     "text": [
      "[[-4.          0.66666667  0.19047619 -0.19880952  0.06845238 -0.01390542]\n",
      " [-2.          2.         -1.4         0.48571429 -0.0984127   0.        ]\n",
      " [ 6.         -5.          2.         -0.4         0.          0.        ]\n",
      " [ 1.          1.          0.          0.          0.          0.        ]\n",
      " [ 3.          1.          0.          0.          0.          0.        ]\n",
      " [ 5.          0.          0.          0.          0.          0.        ]]\n"
     ]
    }
   ],
   "source": [
    "# Call our functions\n",
    "# First we get the coefficients\n",
    "a_coef_matrix = div_diff(x, y)\n",
    "\n",
    "print(a_coef_matrix)"
   ]
  },
  {
   "cell_type": "code",
   "execution_count": 25,
   "id": "36e61cf8",
   "metadata": {},
   "outputs": [
    {
     "name": "stdout",
     "output_type": "stream",
     "text": [
      "[-4.          0.66666667  0.19047619 -0.19880952  0.06845238 -0.01390542]\n"
     ]
    }
   ],
   "source": [
    "# We want the first row:\n",
    "a_coef1 = div_diff(x, y)[0,:]\n",
    "print(a_coef1)\n",
    "\n",
    "# Now we call our Newton polynomial function\n",
    "x_new1 = np.arange(-8., 4.1, 0.1)\n",
    "y_new1 = newton_polynomial(a_coef1, x, x_new1)"
   ]
  },
  {
   "cell_type": "code",
   "execution_count": 30,
   "id": "ad2f4e08",
   "metadata": {},
   "outputs": [
    {
     "data": {
      "image/png": "[encoded data removed]",
      "text/plain": [
       "<Figure size 400x300 with 1 Axes>"
      ]
     },
     "metadata": {},
     "output_type": "display_data"
    }
   ],
   "source": [
    "# Plotting the result\n",
    "\n",
    "plt.figure(figsize=(4,3))\n",
    "\n",
    "plt.plot(x, y, marker = \"d\", color = \"red\", linestyle = \" \"\\\n",
    "        , label = \"data points\")\n",
    "plt.plot(x_new1, y_new1, color = \"blue\", linestyle = \"-\"\\\n",
    "        , label =\"Newton poly.\")\n",
    "\n",
    "plt.grid()\n",
    "\n",
    "plt.legend()\n",
    "plt.show()\n",
    "\n"
   ]
  },
  {
   "cell_type": "code",
   "execution_count": null,
   "id": "459bc4d5",
   "metadata": {},
   "outputs": [],
   "source": []
  }
 ],
 "metadata": {
  "kernelspec": {
   "display_name": "Python 3 (ipykernel)",
   "language": "python",
   "name": "python3"
  },
  "language_info": {
   "codemirror_mode": {
    "name": "ipython",
    "version": 3
   },
   "file_extension": ".py",
   "mimetype": "text/x-python",
   "name": "python",
   "nbconvert_exporter": "python",
   "pygments_lexer": "ipython3",
   "version": "3.7.16"
  }
 },
 "nbformat": 4,
 "nbformat_minor": 5
}
