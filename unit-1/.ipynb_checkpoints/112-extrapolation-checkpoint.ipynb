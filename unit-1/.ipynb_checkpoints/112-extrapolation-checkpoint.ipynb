{
 "cells": [
  {
   "cell_type": "markdown",
   "id": "04abbbc6",
   "metadata": {},
   "source": [
    "# Extrapolation\n",
    "\n",
    "- Be careful.\n",
    "\n",
    "- We need to have a good physical motivation to extrapolate data.\n",
    "\n",
    "\n",
    "- It can be donw via:\n",
    "\n",
    "1. Regression\n",
    "\n",
    "2. Interpolation"
   ]
  },
  {
   "cell_type": "markdown",
   "id": "c20122b8",
   "metadata": {},
   "source": [
    "### Example 1:\n",
    "\n",
    "Let's go back to our data file for the free-fall experiment."
   ]
  },
  {
   "cell_type": "code",
   "execution_count": 5,
   "id": "2db6b18e",
   "metadata": {},
   "outputs": [],
   "source": [
    "import pandas as pd\n",
    "import matplotlib.pyplot as plt"
   ]
  },
  {
   "cell_type": "code",
   "execution_count": 6,
   "id": "dcf52aae",
   "metadata": {},
   "outputs": [
    {
     "name": "stdout",
     "output_type": "stream",
     "text": [
      "    Time (s)  Position (m)\n",
      "0        0.0           0.0\n",
      "1        0.5           2.0\n",
      "2        1.0           5.2\n",
      "3        1.5           9.8\n",
      "4        2.0          19.7\n",
      "5        2.5          31.2\n",
      "6        3.0          44.4\n",
      "7        3.5          57.8\n",
      "8        4.0          80.8\n",
      "9        4.5         100.4\n",
      "10       5.0         121.1\n"
     ]
    }
   ],
   "source": [
    "# read_csv returns a DataFrame, which is two-dimensional data structure with labeled axes.\n",
    "\n",
    "data = pd.read_csv(\"./sample_data/data_freefall.csv\")\n",
    "print(data) # Uncomment to print data\n",
    "\n",
    "# To get the data from specific columns, you can use their respective keys, e.g.:\n",
    "\n",
    "time = data[\"Time (s)\"]\n",
    "position = data[\"Position (m)\"]"
   ]
  },
  {
   "cell_type": "code",
   "execution_count": 9,
   "id": "93a22b48",
   "metadata": {},
   "outputs": [
    {
     "data": {
      "image/png": "[encoded data removed]",
      "text/plain": [
       "<Figure size 500x400 with 1 Axes>"
      ]
     },
     "metadata": {},
     "output_type": "display_data"
    }
   ],
   "source": [
    "# And now we plot\n",
    "fig, ax = plt.subplots(figsize=(5,4))\n",
    "\n",
    "plt.plot(time,position,color='blue', marker = \"d\", linestyle=\" \", label=\"Original data\")\n",
    "\n",
    "\n",
    "plt.xlabel('time(s)')\n",
    "plt.ylabel('position(m)')\n",
    "\n",
    "plt.show()"
   ]
  },
  {
   "cell_type": "code",
   "execution_count": null,
   "id": "dc44e0db",
   "metadata": {},
   "outputs": [],
   "source": []
  }
 ],
 "metadata": {
  "kernelspec": {
   "display_name": "Python 3 (ipykernel)",
   "language": "python",
   "name": "python3"
  },
  "language_info": {
   "codemirror_mode": {
    "name": "ipython",
    "version": 3
   },
   "file_extension": ".py",
   "mimetype": "text/x-python",
   "name": "python",
   "nbconvert_exporter": "python",
   "pygments_lexer": "ipython3",
   "version": "3.7.16"
  }
 },
 "nbformat": 4,
 "nbformat_minor": 5
}
