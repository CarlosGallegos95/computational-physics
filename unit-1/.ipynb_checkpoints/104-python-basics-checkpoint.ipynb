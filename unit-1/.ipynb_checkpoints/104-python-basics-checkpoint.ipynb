{
 "cells": [
  {
   "cell_type": "markdown",
   "id": "e81d53c3",
   "metadata": {},
   "source": [
    "# Basic Operations with Python\n",
    "\n",
    "Python can be used as a scientific calculator.\n",
    "\n",
    "This only requires lauching an interpreter and using the correct syntax to carry out mathematical operations.\n",
    "\n",
    "## 1. Math operations:"
   ]
  },
  {
   "cell_type": "code",
   "execution_count": 3,
   "id": "27bed4d8",
   "metadata": {},
   "outputs": [
    {
     "data": {
      "text/plain": [
       "4"
      ]
     },
     "execution_count": 3,
     "metadata": {},
     "output_type": "execute_result"
    }
   ],
   "source": [
    "# Adding numbers\n",
    "\n",
    "1 + 3"
   ]
  },
  {
   "cell_type": "code",
   "execution_count": 4,
   "id": "a4f0e5d5",
   "metadata": {},
   "outputs": [
    {
     "data": {
      "text/plain": [
       "4.0"
      ]
     },
     "execution_count": 4,
     "metadata": {},
     "output_type": "execute_result"
    }
   ],
   "source": [
    "# Multiplying/dividing numbers\n",
    "\n",
    "(2 * 10) / (5)"
   ]
  },
  {
   "cell_type": "code",
   "execution_count": 5,
   "id": "2283ddd1",
   "metadata": {},
   "outputs": [
    {
     "data": {
      "text/plain": [
       "8.0"
      ]
     },
     "execution_count": 5,
     "metadata": {},
     "output_type": "execute_result"
    }
   ],
   "source": [
    "_*2"
   ]
  },
  {
   "cell_type": "markdown",
   "id": "fef648ef",
   "metadata": {},
   "source": [
    "## The math library:"
   ]
  },
  {
   "cell_type": "code",
   "execution_count": 6,
   "id": "f90ea97b",
   "metadata": {},
   "outputs": [],
   "source": [
    "import math"
   ]
  },
  {
   "cell_type": "code",
   "execution_count": 10,
   "id": "075ef8a2",
   "metadata": {},
   "outputs": [
    {
     "data": {
      "text/plain": [
       "1.0"
      ]
     },
     "execution_count": 10,
     "metadata": {},
     "output_type": "execute_result"
    }
   ],
   "source": [
    "math.cos(0)"
   ]
  },
  {
   "cell_type": "code",
   "execution_count": 12,
   "id": "70baa01f",
   "metadata": {},
   "outputs": [
    {
     "data": {
      "text/plain": [
       "2.8284271247461903"
      ]
     },
     "execution_count": 12,
     "metadata": {},
     "output_type": "execute_result"
    }
   ],
   "source": [
    "math.sqrt(8)"
   ]
  },
  {
   "cell_type": "code",
   "execution_count": 13,
   "id": "384cdd9c",
   "metadata": {},
   "outputs": [
    {
     "data": {
      "text/plain": [
       "0.8862269254527579"
      ]
     },
     "execution_count": 13,
     "metadata": {},
     "output_type": "execute_result"
    }
   ],
   "source": [
    "math.sqrt(math.pi/4)"
   ]
  },
  {
   "cell_type": "code",
   "execution_count": 14,
   "id": "5e78aa2b",
   "metadata": {},
   "outputs": [
    {
     "data": {
      "text/plain": [
       "10.000000000000002"
      ]
     },
     "execution_count": 14,
     "metadata": {},
     "output_type": "execute_result"
    }
   ],
   "source": [
    "math.exp(math.log(10))"
   ]
  },
  {
   "cell_type": "code",
   "execution_count": 17,
   "id": "479c19b7",
   "metadata": {},
   "outputs": [
    {
     "data": {
      "text/plain": [
       "24"
      ]
     },
     "execution_count": 17,
     "metadata": {},
     "output_type": "execute_result"
    }
   ],
   "source": [
    "math.factorial(4)"
   ]
  },
  {
   "cell_type": "code",
   "execution_count": null,
   "id": "c5cd705f",
   "metadata": {},
   "outputs": [],
   "source": []
  }
 ],
 "metadata": {
  "kernelspec": {
   "display_name": "Python 3 (ipykernel)",
   "language": "python",
   "name": "python3"
  },
  "language_info": {
   "codemirror_mode": {
    "name": "ipython",
    "version": 3
   },
   "file_extension": ".py",
   "mimetype": "text/x-python",
   "name": "python",
   "nbconvert_exporter": "python",
   "pygments_lexer": "ipython3",
   "version": "3.7.16"
  }
 },
 "nbformat": 4,
 "nbformat_minor": 5
}
