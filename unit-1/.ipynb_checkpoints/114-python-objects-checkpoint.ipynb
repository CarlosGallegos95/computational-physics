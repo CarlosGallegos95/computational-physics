{
 "cells": [
  {
   "cell_type": "markdown",
   "id": "5ec95427",
   "metadata": {},
   "source": [
    "# Python Objects"
   ]
  },
  {
   "cell_type": "markdown",
   "id": "327c8c33",
   "metadata": {},
   "source": [
    "# Data types:"
   ]
  },
  {
   "cell_type": "markdown",
   "id": "11117274",
   "metadata": {},
   "source": [
    "### Integers (int)"
   ]
  },
  {
   "cell_type": "code",
   "execution_count": 1,
   "id": "ef304b81",
   "metadata": {},
   "outputs": [
    {
     "name": "stdout",
     "output_type": "stream",
     "text": [
      "<class 'int'>\n",
      "<class 'int'>\n"
     ]
    }
   ],
   "source": [
    "x = 1\n",
    "y = 4\n",
    "\n",
    "print(type(x))\n",
    "print(type(y))"
   ]
  },
  {
   "cell_type": "markdown",
   "id": "22d621ba",
   "metadata": {},
   "source": [
    "### Integer operations"
   ]
  },
  {
   "cell_type": "code",
   "execution_count": 2,
   "id": "658b976d",
   "metadata": {},
   "outputs": [
    {
     "name": "stdout",
     "output_type": "stream",
     "text": [
      "5\n",
      "-3\n",
      "4\n",
      "0.25\n",
      "0.2\n"
     ]
    }
   ],
   "source": [
    "print(x + y)\n",
    "print(x - y)\n",
    "print(x * y)\n",
    "print(x / y)\n",
    "print(x /(x+y))"
   ]
  },
  {
   "cell_type": "markdown",
   "id": "68764a27",
   "metadata": {},
   "source": [
    "### Floating-point numbers (float)\n"
   ]
  },
  {
   "cell_type": "code",
   "execution_count": 3,
   "id": "92f1a41c",
   "metadata": {},
   "outputs": [
    {
     "name": "stdout",
     "output_type": "stream",
     "text": [
      "<class 'float'>\n",
      "<class 'float'>\n",
      "<class 'float'>\n"
     ]
    }
   ],
   "source": [
    "import numpy as np\n",
    "x = 1.\n",
    "y = 4.\n",
    "z = np.pi\n",
    "\n",
    "print(type(x))\n",
    "print(type(y))\n",
    "print(type(z))"
   ]
  },
  {
   "cell_type": "markdown",
   "id": "1db38686",
   "metadata": {},
   "source": [
    "### Floating-point operations"
   ]
  },
  {
   "cell_type": "code",
   "execution_count": 4,
   "id": "b2642562",
   "metadata": {},
   "outputs": [
    {
     "name": "stdout",
     "output_type": "stream",
     "text": [
      "5.0\n",
      "-3.0\n",
      "4.0\n",
      "0.25\n",
      "0.2\n"
     ]
    }
   ],
   "source": [
    "print(x + y)\n",
    "print(x - y)\n",
    "print(x * y)\n",
    "print(x / y)\n",
    "print(x /(x+y))"
   ]
  },
  {
   "cell_type": "markdown",
   "id": "ae998ac8",
   "metadata": {},
   "source": [
    "### Strings (str)"
   ]
  },
  {
   "cell_type": "code",
   "execution_count": 5,
   "id": "5556b7f8",
   "metadata": {},
   "outputs": [
    {
     "name": "stdout",
     "output_type": "stream",
     "text": [
      "<class 'str'>\n",
      "<class 'str'>\n",
      "<class 'str'>\n"
     ]
    }
   ],
   "source": [
    "x = '1.'\n",
    "y = '4.'\n",
    "z = 'np.pi'\n",
    "\n",
    "print(type(x))\n",
    "print(type(y))\n",
    "print(type(z))"
   ]
  },
  {
   "cell_type": "code",
   "execution_count": 6,
   "id": "54e2e56c",
   "metadata": {},
   "outputs": [
    {
     "name": "stdout",
     "output_type": "stream",
     "text": [
      "1.4.\n"
     ]
    }
   ],
   "source": [
    "print(x + y) # This concatanates strings"
   ]
  },
  {
   "cell_type": "markdown",
   "id": "2cb343ca",
   "metadata": {},
   "source": [
    "Sometimes is it advisable to delete the variables if you are re-using them for different data formats."
   ]
  },
  {
   "cell_type": "code",
   "execution_count": 7,
   "id": "1d48606d",
   "metadata": {},
   "outputs": [],
   "source": [
    "del x\n",
    "del y\n",
    "del z"
   ]
  },
  {
   "cell_type": "markdown",
   "id": "55d78f6d",
   "metadata": {},
   "source": [
    "## Complex numbers"
   ]
  },
  {
   "cell_type": "code",
   "execution_count": 8,
   "id": "f1770af9",
   "metadata": {},
   "outputs": [
    {
     "name": "stdout",
     "output_type": "stream",
     "text": [
      "(-2+4j)\n"
     ]
    }
   ],
   "source": [
    "z = -2 + 4j\n",
    "\n",
    "print(z)"
   ]
  },
  {
   "cell_type": "markdown",
   "id": "25b23a9a",
   "metadata": {},
   "source": [
    "### Conjugate"
   ]
  },
  {
   "cell_type": "code",
   "execution_count": 9,
   "id": "a7694212",
   "metadata": {},
   "outputs": [
    {
     "name": "stdout",
     "output_type": "stream",
     "text": [
      "(-2-4j)\n"
     ]
    }
   ],
   "source": [
    "zc = np.conj(z)\n",
    "\n",
    "print(zc)"
   ]
  },
  {
   "cell_type": "markdown",
   "id": "648b485c",
   "metadata": {},
   "source": [
    "### Norm"
   ]
  },
  {
   "cell_type": "code",
   "execution_count": 10,
   "id": "a8a87d52",
   "metadata": {},
   "outputs": [
    {
     "name": "stdout",
     "output_type": "stream",
     "text": [
      "4.47213595499958\n"
     ]
    }
   ],
   "source": [
    "normz = np.abs(z)\n",
    "\n",
    "print(normz)"
   ]
  },
  {
   "cell_type": "markdown",
   "id": "d7ef1e7e",
   "metadata": {},
   "source": [
    "## Second manner\n",
    "\n",
    "You can also use the complex() function."
   ]
  },
  {
   "cell_type": "code",
   "execution_count": 11,
   "id": "329ccf6f",
   "metadata": {},
   "outputs": [
    {
     "name": "stdout",
     "output_type": "stream",
     "text": [
      "(-2+4j)\n"
     ]
    }
   ],
   "source": [
    "z2 = complex(-2,4)\n",
    "\n",
    "print(z2)"
   ]
  },
  {
   "cell_type": "code",
   "execution_count": 12,
   "id": "433d9698",
   "metadata": {},
   "outputs": [
    {
     "name": "stdout",
     "output_type": "stream",
     "text": [
      "4.47213595499958\n"
     ]
    }
   ],
   "source": [
    "normz2 = np.abs(z2)\n",
    "\n",
    "print(normz2)"
   ]
  },
  {
   "cell_type": "markdown",
   "id": "9afea583",
   "metadata": {},
   "source": [
    "# Python Objects"
   ]
  },
  {
   "cell_type": "markdown",
   "id": "49959d7b",
   "metadata": {},
   "source": [
    "### Tuples\n",
    "\n",
    "- A tuple is an ordered set of objects that cannot be manually changed.\n",
    "\n",
    "\n",
    "- The objects inside a tuple can have different data formats.\n"
   ]
  },
  {
   "cell_type": "code",
   "execution_count": 58,
   "id": "0b9ed6da",
   "metadata": {},
   "outputs": [
    {
     "name": "stdout",
     "output_type": "stream",
     "text": [
      "('hola', 0, 1.0, 2) <class 'tuple'>\n"
     ]
    }
   ],
   "source": [
    "# Example 1\n",
    "\n",
    "tuple_1 = ('hola', 0, 1., 2)\n",
    "\n",
    "print(tuple_1, type(tuple_1))"
   ]
  },
  {
   "cell_type": "markdown",
   "id": "25b2b892",
   "metadata": {},
   "source": [
    "We can also print individual elements in the tuple:"
   ]
  },
  {
   "cell_type": "code",
   "execution_count": 60,
   "id": "594a08ee",
   "metadata": {},
   "outputs": [
    {
     "name": "stdout",
     "output_type": "stream",
     "text": [
      "hola\n",
      "('hola', 1.0)\n"
     ]
    }
   ],
   "source": [
    "print(tuple_1[0]) # First element\n",
    "print(tuple_1[::2]) # Jumping one element"
   ]
  },
  {
   "cell_type": "markdown",
   "id": "54b59c28",
   "metadata": {},
   "source": [
    "### Lists\n",
    "\n",
    "- A list of is an ordered set of objects that can be manually changed.\n",
    "\n",
    "\n",
    "- The objects can have different data types."
   ]
  },
  {
   "cell_type": "code",
   "execution_count": 13,
   "id": "a7e5b393",
   "metadata": {},
   "outputs": [
    {
     "name": "stdout",
     "output_type": "stream",
     "text": [
      "['hola', 1, 2.0, 3]\n"
     ]
    }
   ],
   "source": [
    "list_1 = ['hola', 1, 2., 3]\n",
    "\n",
    "print(list_1)"
   ]
  },
  {
   "cell_type": "markdown",
   "id": "2ab32e33",
   "metadata": {},
   "source": [
    "## Accessing objects in a list"
   ]
  },
  {
   "cell_type": "code",
   "execution_count": 14,
   "id": "61d389af",
   "metadata": {},
   "outputs": [
    {
     "name": "stdout",
     "output_type": "stream",
     "text": [
      "hola <class 'str'>\n",
      "1 <class 'int'>\n",
      "2.0 <class 'float'>\n",
      "3 <class 'int'>\n"
     ]
    }
   ],
   "source": [
    "A0 = list_1[0]\n",
    "A1 = list_1[1]\n",
    "A2 = list_1[2]\n",
    "A3 = list_1[3]\n",
    "\n",
    "print(A0, type(A0))\n",
    "print(A1, type(A1))\n",
    "print(A2, type(A2))\n",
    "print(A3, type(A3))"
   ]
  },
  {
   "cell_type": "markdown",
   "id": "f88ed6ac",
   "metadata": {},
   "source": [
    "### Using a for loop"
   ]
  },
  {
   "cell_type": "code",
   "execution_count": 15,
   "id": "b4aded56",
   "metadata": {},
   "outputs": [
    {
     "name": "stdout",
     "output_type": "stream",
     "text": [
      "hola <class 'str'>\n",
      "1 <class 'int'>\n",
      "2.0 <class 'float'>\n",
      "3 <class 'int'>\n"
     ]
    }
   ],
   "source": [
    "for i in list_1:\n",
    "    print(i, type(i))"
   ]
  },
  {
   "cell_type": "markdown",
   "id": "88d3d934",
   "metadata": {},
   "source": [
    "## Example: List"
   ]
  },
  {
   "cell_type": "code",
   "execution_count": 16,
   "id": "af04d44f",
   "metadata": {},
   "outputs": [],
   "source": [
    "list_2 = [0,1,2,3,4,5,6,7,8,9]"
   ]
  },
  {
   "cell_type": "markdown",
   "id": "ae8e9d39",
   "metadata": {},
   "source": [
    "We can select elements with [m, n]."
   ]
  },
  {
   "cell_type": "code",
   "execution_count": 61,
   "id": "20c42fb9",
   "metadata": {},
   "outputs": [
    {
     "name": "stdout",
     "output_type": "stream",
     "text": [
      "[2, 3] <class 'list'>\n"
     ]
    }
   ],
   "source": [
    "A24 = list_2[2:4] # to n-1\n",
    "\n",
    "print(A24, type(A24))"
   ]
  },
  {
   "cell_type": "markdown",
   "id": "cda03518",
   "metadata": {},
   "source": [
    "Also, we can use : to select all elements, e.g up to certain element position [:,n] or from certain element position [m:]."
   ]
  },
  {
   "cell_type": "code",
   "execution_count": 18,
   "id": "9bb7d7d3",
   "metadata": {},
   "outputs": [
    {
     "name": "stdout",
     "output_type": "stream",
     "text": [
      "[0, 1, 2, 3, 4]\n",
      "[5, 6, 7, 8, 9]\n"
     ]
    }
   ],
   "source": [
    "print(list_2[:5])\n",
    "print(list_2[5:])"
   ]
  },
  {
   "cell_type": "markdown",
   "id": "af7198d3",
   "metadata": {},
   "source": [
    "- The length of a list can be returned with len()\n",
    "\n",
    "\n",
    "- Similarly, the minimum number or maximum numbers in the list can be obtained with min() and max()."
   ]
  },
  {
   "cell_type": "code",
   "execution_count": 62,
   "id": "49fa1141",
   "metadata": {},
   "outputs": [
    {
     "name": "stdout",
     "output_type": "stream",
     "text": [
      "10\n",
      "1\n",
      "15\n"
     ]
    }
   ],
   "source": [
    "print(len(list_2))\n",
    "\n",
    "print(min(list_2))\n",
    "\n",
    "print(max(list_2))"
   ]
  },
  {
   "cell_type": "markdown",
   "id": "178c4b64",
   "metadata": {},
   "source": [
    "Individual elements can be obtained with [::n], where n tells how many positions we jump"
   ]
  },
  {
   "cell_type": "code",
   "execution_count": 20,
   "id": "b7b0cbf4",
   "metadata": {},
   "outputs": [
    {
     "name": "stdout",
     "output_type": "stream",
     "text": [
      "[0, 2, 4, 6, 8]\n"
     ]
    }
   ],
   "source": [
    "print(list_2[::2])"
   ]
  },
  {
   "cell_type": "code",
   "execution_count": 21,
   "id": "d8179d48",
   "metadata": {},
   "outputs": [
    {
     "name": "stdout",
     "output_type": "stream",
     "text": [
      "9\n"
     ]
    }
   ],
   "source": [
    "print(list_2[-1])"
   ]
  },
  {
   "cell_type": "code",
   "execution_count": 22,
   "id": "97deddfa",
   "metadata": {},
   "outputs": [
    {
     "name": "stdout",
     "output_type": "stream",
     "text": [
      "8\n"
     ]
    }
   ],
   "source": [
    "print(list_2[-2])"
   ]
  },
  {
   "cell_type": "code",
   "execution_count": 23,
   "id": "1e6befdc",
   "metadata": {},
   "outputs": [
    {
     "name": "stdout",
     "output_type": "stream",
     "text": [
      "[1, 2, 3, 4, 5, 6, 7, 8]\n"
     ]
    }
   ],
   "source": [
    "print(list_2[1:-1])"
   ]
  },
  {
   "cell_type": "code",
   "execution_count": 24,
   "id": "654f317e",
   "metadata": {},
   "outputs": [
    {
     "name": "stdout",
     "output_type": "stream",
     "text": [
      "[15, 1, 2, 3, 4, 5, 6, 7, 8, 9]\n"
     ]
    }
   ],
   "source": [
    "list_2[0]=15\n",
    "print(list_2)"
   ]
  },
  {
   "cell_type": "code",
   "execution_count": 25,
   "id": "6cc69905",
   "metadata": {},
   "outputs": [],
   "source": [
    "list_3 = list_1+list_2"
   ]
  },
  {
   "cell_type": "code",
   "execution_count": 26,
   "id": "2373e6c9",
   "metadata": {},
   "outputs": [
    {
     "name": "stdout",
     "output_type": "stream",
     "text": [
      "['hola', 1, 2.0, 3, 15, 1, 2, 3, 4, 5, 6, 7, 8, 9, 100]\n"
     ]
    }
   ],
   "source": [
    "list_3.append(100)\n",
    "\n",
    "print(list_3)"
   ]
  },
  {
   "cell_type": "code",
   "execution_count": 27,
   "id": "0125e28d",
   "metadata": {},
   "outputs": [
    {
     "name": "stdout",
     "output_type": "stream",
     "text": [
      "[1, 2.0, 3, 15, 1, 2, 3, 4, 5, 6, 7, 8, 9, 100]\n"
     ]
    }
   ],
   "source": [
    "del list_3[0]\n",
    "\n",
    "print(list_3)"
   ]
  },
  {
   "cell_type": "code",
   "execution_count": 36,
   "id": "8f1e1362",
   "metadata": {},
   "outputs": [
    {
     "name": "stdout",
     "output_type": "stream",
     "text": [
      "[[1, 2, 3, 4], [5, 6, 7, 8, 9]]\n",
      "[1, 2, 3, 4] len = 4\n",
      "[5, 6, 7, 8, 9] len = 5\n"
     ]
    }
   ],
   "source": [
    "list_array = [[1,2,3,4],[5,6,7,8,9]]\n",
    "\n",
    "print(list_array)\n",
    "\n",
    "print(list_array[0], 'len =', len(list_array[0]))\n",
    "print(list_array[1], 'len =', len(list_array[1]))"
   ]
  },
  {
   "cell_type": "code",
   "execution_count": 40,
   "id": "b6156c16",
   "metadata": {},
   "outputs": [
    {
     "name": "stdout",
     "output_type": "stream",
     "text": [
      "1 type = <class 'int'>\n",
      "5 type = <class 'int'>\n"
     ]
    }
   ],
   "source": [
    "print(list_array[0][0], 'type =', type(list_array[0][0]))\n",
    "print(list_array[1][0], 'type =', type(list_array[0][0]))"
   ]
  },
  {
   "cell_type": "code",
   "execution_count": 41,
   "id": "fc1f94b5",
   "metadata": {},
   "outputs": [
    {
     "name": "stdout",
     "output_type": "stream",
     "text": [
      "[1, 2, 3, 4] type = <class 'int'>\n",
      "9 type = <class 'int'>\n"
     ]
    }
   ],
   "source": [
    "print(list_array[0][:], 'type =', type(list_array[0][0]))\n",
    "print(list_array[1][-1], 'type =', type(list_array[0][0]))"
   ]
  },
  {
   "cell_type": "markdown",
   "id": "45fd7c01",
   "metadata": {},
   "source": [
    "### Arrays\n",
    "\n",
    "\n",
    "- Very useful when carrying out mathematical operations.\n",
    "\n",
    "\n",
    "- Numpy needs to be called as Lists are the native Python objects."
   ]
  },
  {
   "cell_type": "code",
   "execution_count": 68,
   "id": "4bf714ad",
   "metadata": {},
   "outputs": [
    {
     "name": "stdout",
     "output_type": "stream",
     "text": [
      "[ 10.  20.  50. 100.  80.  65.] <class 'numpy.ndarray'>\n",
      "[ 10.  20.  50. 100.  80.  65.] <class 'numpy.ndarray'>\n"
     ]
    }
   ],
   "source": [
    "A = np.array((10., 20., 50., 100., 80., 65.))\n",
    "\n",
    "B = np.array([10., 20., 50., 100., 80., 65.])\n",
    "\n",
    "print(A, type(A))\n",
    "print(B, type(B))"
   ]
  },
  {
   "cell_type": "markdown",
   "id": "364b45fb",
   "metadata": {},
   "source": [
    "### Dictionaries"
   ]
  },
  {
   "cell_type": "code",
   "execution_count": 49,
   "id": "c71c38ae",
   "metadata": {},
   "outputs": [
    {
     "name": "stdout",
     "output_type": "stream",
     "text": [
      "{'variable x': 1, 'variable y': 2} <class 'dict'>\n"
     ]
    }
   ],
   "source": [
    "dictionary_1 = {'variable x': 1,'variable y': 2}\n",
    "\n",
    "print(dictionary_1, type(dictionary_1))"
   ]
  },
  {
   "cell_type": "code",
   "execution_count": 50,
   "id": "e793bf2f",
   "metadata": {},
   "outputs": [
    {
     "data": {
      "text/plain": [
       "1"
      ]
     },
     "execution_count": 50,
     "metadata": {},
     "output_type": "execute_result"
    }
   ],
   "source": [
    "dictionary_1['variable x']"
   ]
  },
  {
   "cell_type": "code",
   "execution_count": 51,
   "id": "bea37c89",
   "metadata": {},
   "outputs": [
    {
     "data": {
      "text/plain": [
       "2"
      ]
     },
     "execution_count": 51,
     "metadata": {},
     "output_type": "execute_result"
    }
   ],
   "source": [
    "dictionary_1['variable y']"
   ]
  },
  {
   "cell_type": "markdown",
   "id": "bbd065f7",
   "metadata": {},
   "source": [
    "### Defining dictionaries"
   ]
  },
  {
   "cell_type": "code",
   "execution_count": 53,
   "id": "d4a9657b",
   "metadata": {},
   "outputs": [
    {
     "name": "stdout",
     "output_type": "stream",
     "text": [
      "{'temperature': [10, 40, 50, 60], 'pressure': (1, 1.6, 3, 4)}\n"
     ]
    }
   ],
   "source": [
    "dictionary_2={}\n",
    "\n",
    "dictionary_2['temperature'] = [10, 40, 50, 60]\n",
    "dictionary_2['pressure'] = (1, 1.6, 3, 4)\n",
    "\n",
    "print(dictionary_2)"
   ]
  },
  {
   "cell_type": "code",
   "execution_count": 55,
   "id": "fb746764",
   "metadata": {},
   "outputs": [
    {
     "name": "stdout",
     "output_type": "stream",
     "text": [
      "[10, 40, 50, 60] <class 'list'>\n"
     ]
    }
   ],
   "source": [
    "print(dictionary_2['temperature'], type(dictionary_2['temperature']))"
   ]
  },
  {
   "cell_type": "code",
   "execution_count": 56,
   "id": "f5c388e8",
   "metadata": {},
   "outputs": [
    {
     "name": "stdout",
     "output_type": "stream",
     "text": [
      "(1, 1.6, 3, 4) <class 'tuple'>\n"
     ]
    }
   ],
   "source": [
    "print(dictionary_2['pressure'], type(dictionary_2['pressure']))"
   ]
  },
  {
   "cell_type": "code",
   "execution_count": 57,
   "id": "aa3088ad",
   "metadata": {},
   "outputs": [
    {
     "data": {
      "text/plain": [
       "dict_keys(['temperature', 'pressure'])"
      ]
     },
     "execution_count": 57,
     "metadata": {},
     "output_type": "execute_result"
    }
   ],
   "source": [
    "dictionary_2.keys()"
   ]
  },
  {
   "cell_type": "code",
   "execution_count": 70,
   "id": "f71a2331",
   "metadata": {},
   "outputs": [
    {
     "name": "stdout",
     "output_type": "stream",
     "text": [
      "{'temperature': [10, 40, 50, 60], 'pressure': (1, 1.6, 3, 4), 'density': array([0.2, 0.4, 0.1, 0.3])}\n"
     ]
    }
   ],
   "source": [
    "dictionary_3={}\n",
    "\n",
    "dictionary_3['temperature'] = [10, 40, 50, 60]\n",
    "dictionary_3['pressure'] = (1, 1.6, 3, 4)\n",
    "dictionary_3['density'] = np.array((0.2, 0.4, 0.1, 0.3))\n",
    "\n",
    "print(dictionary_3)"
   ]
  },
  {
   "cell_type": "code",
   "execution_count": 72,
   "id": "20962ac4",
   "metadata": {},
   "outputs": [
    {
     "name": "stdout",
     "output_type": "stream",
     "text": [
      "[10, 40, 50, 60] <class 'list'>\n",
      "(1, 1.6, 3, 4) <class 'tuple'>\n",
      "[0.2 0.4 0.1 0.3] <class 'numpy.ndarray'>\n"
     ]
    }
   ],
   "source": [
    "print(dictionary_3['temperature'], type(dictionary_3['temperature']))\n",
    "print(dictionary_3['pressure'], type(dictionary_3['pressure']))\n",
    "print(dictionary_3['density'], type(dictionary_3['density']))"
   ]
  },
  {
   "cell_type": "code",
   "execution_count": null,
   "id": "9d30978f",
   "metadata": {},
   "outputs": [],
   "source": []
  }
 ],
 "metadata": {
  "kernelspec": {
   "display_name": "Python 3",
   "language": "python",
   "name": "python3"
  },
  "language_info": {
   "codemirror_mode": {
    "name": "ipython",
    "version": 3
   },
   "file_extension": ".py",
   "mimetype": "text/x-python",
   "name": "python",
   "nbconvert_exporter": "python",
   "pygments_lexer": "ipython3",
   "version": "3.7.10"
  }
 },
 "nbformat": 4,
 "nbformat_minor": 5
}
