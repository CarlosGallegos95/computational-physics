{
 "cells": [
  {
   "cell_type": "markdown",
   "id": "156f7f57",
   "metadata": {},
   "source": [
    "# Data fitting and regression\n",
    "Let us imagine we measure the thickness of a book for different number of pages. We count the number of pages (variable book pages) and use a Vernier to measure the thickness in units of $mm$.\n",
    "\n",
    "Then, we save the experimental data into a file named: \"books.dat\"\n"
   ]
  },
  {
   "cell_type": "code",
   "execution_count": 1,
   "id": "63b44c54",
   "metadata": {},
   "outputs": [],
   "source": [
    "# Import usual libraries\n",
    "\n",
    "import numpy as np\n",
    "import matplotlib.pyplot as plt\n",
    "import pandas as pd"
   ]
  },
  {
   "cell_type": "markdown",
   "id": "f155d2a4",
   "metadata": {},
   "source": [
    "### Data input using Pandas\n",
    "\n",
    "We need to inspect the data."
   ]
  },
  {
   "cell_type": "code",
   "execution_count": 7,
   "id": "c18c6ffc",
   "metadata": {},
   "outputs": [],
   "source": [
    "# We use Pandas.DF\n",
    "\n",
    "df = pd.read_csv(\"./sample_data/books.dat\", sep = \"\\s+\")\n",
    "\n",
    "#print(df)\n",
    "\n",
    "# Get data into arrays\n",
    "pages = np.array(df[\"Pages\"]) # in units of pages\n",
    "thick = np.array(df[\"Thickness\"]) # in units of mm\n",
    "\n",
    "#print(thick)"
   ]
  },
  {
   "cell_type": "markdown",
   "id": "de0aaf92",
   "metadata": {},
   "source": [
    "### 1. Plotting the data:"
   ]
  },
  {
   "cell_type": "code",
   "execution_count": 9,
   "id": "092899f1",
   "metadata": {},
   "outputs": [
    {
     "data": {
      "image/png": "[encoded data removed]",
      "text/plain": [
       "<Figure size 500x400 with 1 Axes>"
      ]
     },
     "metadata": {},
     "output_type": "display_data"
    }
   ],
   "source": [
    "# Figure environment\n",
    "plt.figure(figsize = (5,4))\n",
    "\n",
    "plt.plot(pages, thick, color = \"magenta\", marker = \"+\",\\\n",
    "        linestyle = \" \", label = \"thickness vs. pages\")\n",
    "\n",
    "# Customisation\n",
    "plt.xlabel(\"Pages [# pages]\")\n",
    "plt.ylabel(\"Thickness [mm]\")\n",
    "plt.legend()\n",
    "\n",
    "plt.show()"
   ]
  },
  {
   "cell_type": "markdown",
   "id": "f89cc2ca",
   "metadata": {},
   "source": [
    "### Spearman's coefficient\n",
    "\n",
    "The Spearman correlation evaluates the monotonic relationship between 2 variables.\n",
    "\n",
    "Linearity is not essential.\n",
    "\n",
    "A monotonic relationship between 2 variables implies one of two situations:\n",
    "\n",
    "- (Situation 1) As the value of one variable increases, so does the value of the other variable, OR,\n",
    "\n",
    "- (Situation 2) As the value of one variable increases, the other variable value decreases.\n",
    "\n",
    "Not necessarily at a constant rate.\n",
    "\n",
    "\n",
    "### Pearson 'r' coefficient\n",
    "The Pearson correlation coefficient (r) is an indicator of how strong a linear correlation between 2 variables is.\n",
    "\n",
    "It can take values between -1 and 1."
   ]
  },
  {
   "cell_type": "code",
   "execution_count": null,
   "id": "4d27d0aa",
   "metadata": {},
   "outputs": [],
   "source": []
  }
 ],
 "metadata": {
  "kernelspec": {
   "display_name": "Python 3 (ipykernel)",
   "language": "python",
   "name": "python3"
  },
  "language_info": {
   "codemirror_mode": {
    "name": "ipython",
    "version": 3
   },
   "file_extension": ".py",
   "mimetype": "text/x-python",
   "name": "python",
   "nbconvert_exporter": "python",
   "pygments_lexer": "ipython3",
   "version": "3.7.16"
  }
 },
 "nbformat": 4,
 "nbformat_minor": 5
}
