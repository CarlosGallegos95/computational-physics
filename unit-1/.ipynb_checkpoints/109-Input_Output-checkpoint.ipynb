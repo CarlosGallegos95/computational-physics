{
 "cells": [
  {
   "cell_type": "markdown",
   "id": "221e4fc5",
   "metadata": {},
   "source": [
    "# Data I/O in Python\n",
    "\n",
    "## UC 1. Data analysis and visualisation\n"
   ]
  },
  {
   "cell_type": "code",
   "execution_count": 1,
   "id": "26e979cf",
   "metadata": {},
   "outputs": [],
   "source": [
    "# Let's go back to generating random numbers\n",
    "\n",
    "# Documentation: https://numpy.org/doc/1.16/reference/routines.random.html\n",
    "\n",
    "# Import libraries\n",
    "import numpy as np\n",
    "import matplotlib.pyplot as plt"
   ]
  },
  {
   "cell_type": "markdown",
   "id": "b724019c",
   "metadata": {},
   "source": [
    "## Data Input/Output (I/O)"
   ]
  },
  {
   "cell_type": "markdown",
   "id": "55c50c5a",
   "metadata": {},
   "source": [
    "### Python Native Function (open function)\n",
    "\n",
    "- Reading or writing files is handled natively in python.\n",
    "\n",
    "- You can use the built-in open() function to open a file.\n",
    "\n",
    "- When you use the open function, it returns something called a file object. File objects contain methods and attributes that can be used to collect information about the file you opened. They can also be used to manipulate said file.\n",
    "\n",
    "- For example, the mode attribute of a file object tells you which mode a file was opened in. And the name attribute tells you the name of the file that the file object has opened.\n",
    "\n",
    "### How do we call the open function?\n",
    "\n",
    "The syntax to open a file object in Python is the following:\n",
    "\n",
    "file_object = open(“filename”, “mode”)\n",
    "\n",
    "- file_object is the variable to add the file object.\n",
    "\n",
    "- mode tells the interpreter and developer which way the file will be used.\n",
    "\n",
    "Including a mode argument is optional because a default value of ‘r’ will be assumed if it is omitted. The ‘r’ value stands for read mode, which is just one of many. The modes are:\n",
    "\n",
    "- ‘r’ -> Read mode which is used when the file is only being read\n",
    "- ‘w’ –> Write mode which is used to edit and write new information to the file (any existing files with the same name will be erased when this mode is activated)\n",
    "- ‘a’ –> Appending mode, which is used to add new data to the end of the file; that is new information is automatically amended to the end\n",
    "- ‘r+’ –> Special read and write mode, which is used to handle both actions when working with a file"
   ]
  },
  {
   "cell_type": "markdown",
   "id": "ed7f92ac",
   "metadata": {},
   "source": [
    "## Reading files"
   ]
  },
  {
   "cell_type": "code",
   "execution_count": 2,
   "id": "60d5a8a5",
   "metadata": {},
   "outputs": [
    {
     "name": "stdout",
     "output_type": "stream",
     "text": [
      "¡Hola Mundo!\n",
      "\n",
      "Hello World!\n",
      "\n"
     ]
    }
   ],
   "source": [
    "# Reading text files\n",
    "\n",
    "file = open('textfile1.txt', 'r') \n",
    "print(file.read())\n",
    "file.close()"
   ]
  },
  {
   "cell_type": "code",
   "execution_count": 3,
   "id": "20b2f00c",
   "metadata": {},
   "outputs": [
    {
     "name": "stdout",
     "output_type": "stream",
     "text": [
      "¡Hola\n"
     ]
    }
   ],
   "source": [
    "# Reading text files\n",
    "\n",
    "file1 = open('textfile1.txt', 'r') \n",
    "print(file1.read(5))\n",
    "file1.close()"
   ]
  },
  {
   "cell_type": "code",
   "execution_count": 4,
   "id": "3373a765",
   "metadata": {},
   "outputs": [
    {
     "name": "stdout",
     "output_type": "stream",
     "text": [
      "['¡Hola Mundo!\\n', '\\n', 'Hello World!\\n']\n"
     ]
    }
   ],
   "source": [
    "file = open('textfile1.txt', 'r')\n",
    "print(file.readlines()) \n",
    "\n",
    "file.close()"
   ]
  },
  {
   "cell_type": "code",
   "execution_count": 5,
   "id": "d76e706e",
   "metadata": {},
   "outputs": [
    {
     "name": "stdout",
     "output_type": "stream",
     "text": [
      "¡Hola Mundo!\n",
      "\n",
      "Hello World!\n",
      "\n"
     ]
    }
   ],
   "source": [
    "# to access a specific line:\n",
    "\n",
    "file = open('textfile1.txt', 'r')\n",
    "lines = file.readlines()\n",
    "\n",
    "print(lines[0]) \n",
    "print(lines[2]) \n",
    "\n",
    "file.close()"
   ]
  },
  {
   "cell_type": "code",
   "execution_count": 6,
   "id": "1b7615b4",
   "metadata": {},
   "outputs": [
    {
     "name": "stdout",
     "output_type": "stream",
     "text": [
      "¡Hola Mundo!\n",
      "\n",
      "\n",
      "\n",
      "Hello World!\n",
      "\n"
     ]
    }
   ],
   "source": [
    "# When you want to read – or return – all the lines from a file in a more memory efficient\n",
    "# and fast manner, you can use the loop over method.\n",
    "\n",
    "file = open('textfile1.txt', 'r')\n",
    "for line in file: \n",
    "    print(line)\n",
    "    \n",
    "file.close()"
   ]
  },
  {
   "cell_type": "markdown",
   "id": "40996bb6",
   "metadata": {},
   "source": [
    "## Writing into files"
   ]
  },
  {
   "cell_type": "code",
   "execution_count": 7,
   "id": "e35006f1",
   "metadata": {},
   "outputs": [],
   "source": [
    "print('This is my new file.', file=open(\"textfile2.txt\", \"w\"))\n",
    "# using \"w\" argument will rewrite the file use \"a\" to append\n",
    "\n",
    "file.close()"
   ]
  },
  {
   "cell_type": "code",
   "execution_count": 8,
   "id": "1ef3d483",
   "metadata": {},
   "outputs": [
    {
     "name": "stdout",
     "output_type": "stream",
     "text": [
      "This is my new file.\n",
      "\n"
     ]
    }
   ],
   "source": [
    "# Let's see what is in our file? \n",
    "\n",
    "file = open('textfile2.txt', 'r')\n",
    "print(file.read())     \n",
    "    \n",
    "file.close()    "
   ]
  },
  {
   "cell_type": "markdown",
   "id": "ed0e7f99",
   "metadata": {},
   "source": [
    "## Let's write some numbers in a table format\n"
   ]
  },
  {
   "cell_type": "code",
   "execution_count": 9,
   "id": "4c622c0a",
   "metadata": {},
   "outputs": [
    {
     "name": "stdout",
     "output_type": "stream",
     "text": [
      "0\n",
      "1\n",
      "2\n",
      "3\n",
      "4\n",
      "5\n",
      "6\n",
      "7\n",
      "8\n",
      "9\n",
      "10\n",
      "11\n",
      "12\n",
      "13\n",
      "14\n",
      "15\n",
      "16\n",
      "17\n",
      "18\n",
      "19\n",
      "20\n",
      "21\n",
      "22\n",
      "23\n",
      "24\n",
      "25\n",
      "26\n",
      "27\n",
      "28\n",
      "29\n"
     ]
    }
   ],
   "source": [
    "# create some data:\n",
    "\n",
    "data_1 = range(0,10)\n",
    "data_2 = range(10,20)\n",
    "data_3 = range(20,30)\n",
    "\n",
    "for i in data_1:\n",
    "    print(i)\n",
    "    \n",
    "for j in data_2:\n",
    "    print(j)\n",
    "    \n",
    "for k in data_3:\n",
    "    print(k)"
   ]
  },
  {
   "cell_type": "code",
   "execution_count": 10,
   "id": "f5f0784c",
   "metadata": {},
   "outputs": [
    {
     "name": "stdout",
     "output_type": "stream",
     "text": [
      "0 10 20\n",
      "\n",
      "1 11 21\n",
      "\n",
      "2 12 22\n",
      "\n",
      "3 13 23\n",
      "\n",
      "4 14 24\n",
      "\n",
      "5 15 25\n",
      "\n",
      "6 16 26\n",
      "\n",
      "7 17 27\n",
      "\n",
      "8 18 28\n",
      "\n",
      "9 19 29\n",
      "\n"
     ]
    }
   ],
   "source": [
    "# Open a new file\n",
    "file=open(\"textfile3.txt\", \"w\")\n",
    "\n",
    "# write data into a file with a loop:\n",
    "for i in range(len(data_1)):\n",
    "    print(data_1[i], data_2[i], data_3[i], file=open('textfile3.txt', 'a')) # using \"a\" will append to the file\n",
    "\n",
    "file.close()\n",
    "    \n",
    "file = open('textfile3.txt', 'r')\n",
    "for line in file: \n",
    "    print(line)  \n",
    "    "
   ]
  },
  {
   "cell_type": "code",
   "execution_count": 11,
   "id": "06570bf4",
   "metadata": {},
   "outputs": [
    {
     "name": "stdout",
     "output_type": "stream",
     "text": [
      "0 10 20\n",
      "\n",
      "1 11 21\n",
      "\n",
      "2 12 22\n",
      "\n",
      "3 13 23\n",
      "\n",
      "4 14 24\n",
      "\n",
      "5 15 25\n",
      "\n",
      "6 16 26\n",
      "\n",
      "7 17 27\n",
      "\n",
      "8 18 28\n",
      "\n",
      "9 19 29\n",
      "\n"
     ]
    }
   ],
   "source": [
    "# Another Way to write a table into a file\n",
    "\n",
    "file=open(\"textfile4.txt\", \"w\")\n",
    "\n",
    "for i in range(len(data_1)):\n",
    "    file.write(str(data_1[i])+' '+str(data_2[i])+' '+str(data_3[i])+'\\n') \n",
    "\n",
    "file.close()\n",
    "    \n",
    "file = open('textfile4.txt', 'r')\n",
    "for line in file: \n",
    "    print(line) "
   ]
  },
  {
   "cell_type": "markdown",
   "id": "80d90307",
   "metadata": {},
   "source": [
    "## Writing CSV files"
   ]
  },
  {
   "cell_type": "code",
   "execution_count": 12,
   "id": "a9e9431b",
   "metadata": {},
   "outputs": [
    {
     "name": "stdout",
     "output_type": "stream",
     "text": [
      "ones, tens, twenties\n",
      "\n",
      "0, 10, 20\n",
      "\n",
      "1, 11, 21\n",
      "\n",
      "2, 12, 22\n",
      "\n",
      "3, 13, 23\n",
      "\n",
      "4, 14, 24\n",
      "\n",
      "5, 15, 25\n",
      "\n",
      "6, 16, 26\n",
      "\n",
      "7, 17, 27\n",
      "\n",
      "8, 18, 28\n",
      "\n",
      "9, 19, 29\n",
      "\n"
     ]
    }
   ],
   "source": [
    "# creating a data table\n",
    "file=open(\"textfile5.csv\", \"w\")  #this can also be saved testfile.csv and oppened in excel \n",
    "file.write('ones, tens, twenties\\n') \n",
    "\n",
    "for i in range(len(data_1)):\n",
    "    file.write(str(data_1[i])+', '+str(data_2[i])+', '+str(data_3[i])+'\\n') \n",
    "\n",
    "file.close()\n",
    "    \n",
    "file = open('textfile5.csv', 'r')\n",
    "for line in file: \n",
    "    print(line) "
   ]
  },
  {
   "cell_type": "code",
   "execution_count": null,
   "id": "3a15bd6e",
   "metadata": {},
   "outputs": [],
   "source": []
  },
  {
   "cell_type": "code",
   "execution_count": 13,
   "id": "bc18d8a5",
   "metadata": {},
   "outputs": [
    {
     "name": "stdout",
     "output_type": "stream",
     "text": [
      "['ones,', 'tens,', 'twenties']\n",
      "['0,', '10,', '20']\n",
      "['1,', '11,', '21']\n",
      "['2,', '12,', '22']\n",
      "['3,', '13,', '23']\n",
      "['4,', '14,', '24']\n",
      "['5,', '15,', '25']\n",
      "['6,', '16,', '26']\n",
      "['7,', '17,', '27']\n",
      "['8,', '18,', '28']\n",
      "['9,', '19,', '29']\n"
     ]
    }
   ],
   "source": [
    "file = open('textfile5.csv', 'r')\n",
    "data = file.readlines()\n",
    "for line in data:\n",
    "    numbers = line.split()\n",
    "    print(numbers) \n",
    "    \n",
    "file.close()  "
   ]
  },
  {
   "cell_type": "code",
   "execution_count": 14,
   "id": "a8627736",
   "metadata": {},
   "outputs": [
    {
     "name": "stdout",
     "output_type": "stream",
     "text": [
      "[0.0, 1.0, 2.0, 3.0, 4.0, 5.0, 6.0, 7.0, 8.0, 9.0]\n",
      "[10.0, 11.0, 12.0, 13.0, 14.0, 15.0, 16.0, 17.0, 18.0, 19.0]\n",
      "[20.0, 21.0, 22.0, 23.0, 24.0, 25.0, 26.0, 27.0, 28.0, 29.0]\n"
     ]
    }
   ],
   "source": [
    "# define lists\n",
    "ones = []\n",
    "tens = []\n",
    "twenties = []\n",
    "\n",
    "# read data from line\n",
    "file = open('textfile4.txt', 'r')\n",
    "data = file.readlines()\n",
    "\n",
    "for line in data:\n",
    "    numbers = line.split()\n",
    "    ones.append(float(numbers[0]))   # we use append() to append elements to a list\n",
    "    tens.append(float(numbers[1]))\n",
    "    twenties.append(float(numbers[2]))\n",
    "file.close()  \n",
    "\n",
    "print(ones)\n",
    "print(tens)\n",
    "print(twenties)"
   ]
  },
  {
   "cell_type": "code",
   "execution_count": 15,
   "id": "4eafb800",
   "metadata": {},
   "outputs": [
    {
     "name": "stdout",
     "output_type": "stream",
     "text": [
      "[0. 1. 2. 3. 4. 5. 6. 7. 8. 9.]\n",
      "[10. 11. 12. 13. 14. 15. 16. 17. 18. 19.]\n"
     ]
    }
   ],
   "source": [
    "ones_arr = np.array(ones)\n",
    "tens_arr = np.array(tens)\n",
    "print(ones_arr)\n",
    "print(tens_arr)"
   ]
  },
  {
   "cell_type": "code",
   "execution_count": 16,
   "id": "6d8d9528",
   "metadata": {},
   "outputs": [
    {
     "data": {
      "text/plain": [
       "[<matplotlib.lines.Line2D at 0x1217c6190>]"
      ]
     },
     "execution_count": 16,
     "metadata": {},
     "output_type": "execute_result"
    },
    {
     "data": {
      "image/png": "[encoded data removed]",
      "text/plain": [
       "<Figure size 432x288 with 1 Axes>"
      ]
     },
     "metadata": {
      "needs_background": "light"
     },
     "output_type": "display_data"
    }
   ],
   "source": [
    "%matplotlib inline\n",
    "\n",
    "fig, ax = plt.subplots()\n",
    "\n",
    "ax.plot(ones_arr,tens_arr)"
   ]
  },
  {
   "cell_type": "code",
   "execution_count": null,
   "id": "1ba36fed",
   "metadata": {},
   "outputs": [],
   "source": []
  },
  {
   "cell_type": "code",
   "execution_count": 24,
   "id": "1961aaf3",
   "metadata": {},
   "outputs": [
    {
     "name": "stdout",
     "output_type": "stream",
     "text": [
      "Time\tMass1\tFluxH\tFluxE\n",
      "0.000000\t61.18026\t8.262365\t8.262365\n",
      "0.09980016\t61.18028\t8.262365\t8.262365\n",
      "0.1999556\t61.18033\t8.262365\t8.262365\n",
      "0.299681\t61.18041\t7.561459\t8.262365\n",
      "0.399916\t61.18043\t7.927189\t8.262365\n",
      "0.4997105\t61.18043\t5.637647\t8.262365\n",
      "0.5997653\t61.18043\t4.61279\t\t8.262365\n",
      "0.6999839\t61.18043\t4.365408\t8.262348\n",
      "0.7998617\t61.18043\t4.325515\t7.283731\n",
      "0.8998577\t61.18043\t4.474914\t7.859165\n",
      "0.9998068\t61.18043\t4.749732\t7.102532\n",
      "1.099872\t61.18042\t5.002597\t5.536957\n",
      "1.199948\t61.18008\t5.160585\t4.55306\n",
      "1.299926\t61.17862\t5.267695\t4.066602\n",
      "1.399905\t61.17564\t5.412515\t3.993944\n",
      "1.499916\t61.16772\t5.523657\t4.070811\n",
      "1.599893\t61.15427\t5.611664\t4.173084\n",
      "1.699951\t61.13762\t5.678841\t4.308275\n",
      "1.799934\t61.11965\t5.687614\t4.453639\n",
      "1.89991\t\t61.0994\t\t5.836104\t4.564659\n",
      "1.999953\t61.07492\t5.902143\t4.605895\n",
      "2.099911\t61.04929\t6.039711\t4.649152\n",
      "2.19989\t\t61.01999\t6.053095\t4.648183\n",
      "2.299931\t60.98657\t6.099653\t4.692936\n",
      "2.399924\t60.95141\t6.159784\t4.7283\n",
      "2.499999\t60.91244\t6.184172\t4.736958\n",
      "2.599998\t60.87072\t6.258679\t4.80853\n",
      "2.699871\t60.82716\t6.261842\t4.847175\n",
      "2.799929\t60.78477\t6.266425\t4.846936\n",
      "2.899973\t60.73671\t6.372541\t4.939696\n",
      "2.999907\t60.68902\t6.496993\t4.945607\n",
      "3.099908\t60.63249\t6.444493\t4.989285\n",
      "3.199866\t60.57682\t6.395029\t5.026922\n",
      "3.29998\t\t60.52266\t6.466347\t4.995677\n",
      "3.399886\t60.46514\t6.565957\t5.026864\n",
      "3.499975\t60.40212\t6.627456\t5.071905\n",
      "3.599933\t60.33834\t6.58518\t\t5.118911\n",
      "3.699991\t60.27427\t6.576221\t5.14131\n",
      "3.799898\t60.20314\t6.601115\t5.124653\n",
      "3.899875\t60.137\t\t6.673735\t5.101609\n",
      "3.999934\t60.06975\t6.629321\t5.134843\n",
      "4.099867\t59.99999\t6.530822\t5.132168\n",
      "4.199992\t59.92451\t6.49258\t\t5.165649\n",
      "4.299838\t59.85583\t6.446104\t5.176426\n",
      "4.399916\t59.78319\t6.488762\t5.152359\n",
      "4.4999\t\t59.70276\t6.499824\t5.084345\n",
      "4.599816\t59.62328\t6.535891\t5.033737\n",
      "4.699879\t59.54066\t6.501448\t5.030737\n",
      "4.799859\t59.45449\t6.354719\t5.014149\n",
      "4.899898\t59.36906\t6.32447\t\t4.962023\n",
      "4.999963\t59.28047\t6.430257\t5.010451\n",
      "5.099815\t59.18448\t6.482149\t4.959437\n",
      "5.199829\t59.08373\t6.390562\t4.933182\n",
      "5.299736\t58.9798\t\t6.571527\t4.881165\n",
      "5.399895\t58.86944\t6.819686\t4.846878\n",
      "5.499949\t58.76383\t6.770386\t4.765933\n",
      "5.599699\t58.64756\t6.88108\t\t4.742507\n",
      "5.699848\t58.52099\t6.871672\t4.787831\n",
      "5.799772\t58.40323\t6.754986\t4.804302\n",
      "5.899714\t58.29375\t6.674196\t4.729952\n",
      "5.999899\t58.17343\t6.566849\t4.760896\n",
      "6.099827\t58.04861\t6.617986\t4.775577\n",
      "6.199733\t57.91369\t6.672719\t4.794974\n",
      "6.299713\t57.7831\t\t6.795602\t4.699622\n",
      "6.399739\t57.64681\t6.967324\t4.698035\n",
      "6.499841\t57.50871\t7.002931\t4.662907\n",
      "6.599835\t57.36905\t6.980163\t4.525492\n",
      "6.699715\t57.2193\t\t6.970144\t4.40378\n",
      "6.799985\t57.06604\t7.018963\t4.278384\n",
      "6.899997\t56.91084\t7.155141\t4.21344\n",
      "6.999752\t56.73394\t6.743223\t4.191222\n",
      "7.09991\t\t56.54412\t7.433032\t4.307687\n",
      "7.199678\t56.34542\t8.324164\t4.286661\n",
      "7.299979\t56.1191\t\t9.952296\t4.428413\n",
      "7.39987\t\t55.87772\t12.32605\t4.286475\n",
      "7.499752\t55.63503\t11.98515\t4.208905\n",
      "7.599726\t55.32876\t13.83131\t4.094412\n",
      "7.699977\t54.99059\t16.26789\t3.789843\n",
      "7.799823\t54.63229\t17.73771\t3.273594\n",
      "7.899762\t54.18846\t18.65398\t3.006884\n",
      "7.999789\t53.66923\t21.20598\t2.832145\n",
      "8.099956\t52.96128\t25.09278\t2.630604\n",
      "8.199907\t52.08572\t25.47223\t2.51944\n",
      "8.299865\t51.11914\t26.74112\t2.411453\n",
      "8.39968\t\t50.09051\t26.42875\t2.44737\n",
      "8.499951\t48.85937\t23.8712\t\t2.584199\n",
      "8.599983\t47.25289\t21.01615\t2.621316\n",
      "8.699736\t45.42236\t18.74047\t2.622183\n",
      "8.799808\t43.61718\t19.70716\t2.968924\n",
      "8.899926\t41.66128\t17.17351\t3.389345\n",
      "8.999903\t39.32883\t12.84534\t3.821273\n",
      "9.099972\t36.83147\t11.00336\t3.976983\n",
      "9.199946\t34.4118\t\t8.272846\t4.297303\n",
      "9.299812\t31.95482\t8.262365\t4.871301\n",
      "9.399996\t29.30277\t8.262365\t6.404175\n",
      "9.499858\t26.34475\t8.262365\t8.375899\n",
      "9.599985\t23.29446\t8.262365\t10.58558\n",
      "9.699971\t20.33465\t8.262365\t11.14721\n",
      "9.799818\t17.66679\t8.262365\t12.60162\n",
      "9.899956\t15.14736\t8.262365\t12.67502\n",
      "9.999821\t12.79309\t8.262365\t12.69109\n"
     ]
    }
   ],
   "source": [
    "# Example:\n",
    "\n",
    "file = open('data_1.dat', 'r') \n",
    "\n",
    "data = file.read()\n",
    "file.close()  \n",
    "print(data)"
   ]
  },
  {
   "cell_type": "code",
   "execution_count": 25,
   "id": "f6ecd758",
   "metadata": {
    "scrolled": false
   },
   "outputs": [
    {
     "name": "stdout",
     "output_type": "stream",
     "text": [
      "101\n",
      "101\n"
     ]
    }
   ],
   "source": [
    "file = open('data_1.dat', 'r') \n",
    "data2 = file.readlines()\n",
    "\n",
    "# define lists\n",
    "d1 = []\n",
    "d2 = []\n",
    "d3 = []\n",
    "d4 = []\n",
    "\n",
    "for line in data2[1:]:\n",
    "    numbers = line.split()\n",
    "    d1.append(numbers[0])   # we use append() to append elements to a list\n",
    "    d2.append(numbers[1])\n",
    "    d3.append(numbers[2])\n",
    "    d4.append(numbers[3])\n",
    "file.close()  \n",
    "\n",
    "d1_array = np.array(d1,dtype=float)\n",
    "d2_array = np.array(d2,dtype=float)\n",
    "d3_array = np.array(d3,dtype=float)\n",
    "d4_array = np.array(d4,dtype=float)\n",
    "print(d1_array.size)\n",
    "print(d2_array.size)"
   ]
  },
  {
   "cell_type": "code",
   "execution_count": 26,
   "id": "192cb9ef",
   "metadata": {},
   "outputs": [
    {
     "data": {
      "text/plain": [
       "Text(0, 0.5, 'Mixing Fraction')"
      ]
     },
     "execution_count": 26,
     "metadata": {},
     "output_type": "execute_result"
    },
    {
     "data": {
      "image/png": "[encoded data removed]",
      "text/plain": [
       "<Figure size 432x288 with 1 Axes>"
      ]
     },
     "metadata": {
      "needs_background": "light"
     },
     "output_type": "display_data"
    }
   ],
   "source": [
    "%matplotlib inline\n",
    "d5 = d1_array+d2_array+d3_array+d4_array\n",
    "\n",
    "fig, ax = plt.subplots()\n",
    "\n",
    "ax.plot(d1_array,d2_array)\n",
    "ax.plot(d1_array,d3_array)\n",
    "ax.plot(d1_array,d4_array)\n",
    "\n",
    "plt.xlabel('Time', fontsize=16)\n",
    "plt.ylabel('Mixing Fraction', fontsize=16)"
   ]
  },
  {
   "cell_type": "code",
   "execution_count": null,
   "id": "6376b34e",
   "metadata": {},
   "outputs": [],
   "source": []
  },
  {
   "cell_type": "code",
   "execution_count": null,
   "id": "cf95dc5b",
   "metadata": {},
   "outputs": [],
   "source": []
  }
 ],
 "metadata": {
  "kernelspec": {
   "display_name": "Python 3",
   "language": "python",
   "name": "python3"
  },
  "language_info": {
   "codemirror_mode": {
    "name": "ipython",
    "version": 3
   },
   "file_extension": ".py",
   "mimetype": "text/x-python",
   "name": "python",
   "nbconvert_exporter": "python",
   "pygments_lexer": "ipython3",
   "version": "3.7.10"
  }
 },
 "nbformat": 4,
 "nbformat_minor": 5
}
