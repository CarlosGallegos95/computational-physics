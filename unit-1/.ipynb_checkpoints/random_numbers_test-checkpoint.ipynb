{
 "cells": [
  {
   "cell_type": "markdown",
   "id": "81cb32c1",
   "metadata": {},
   "source": [
    "info on numpy random number generators: https://numpy.org/doc/1.16/reference/routines.random.html"
   ]
  },
  {
   "cell_type": "code",
   "execution_count": 5,
   "id": "e39fca7a",
   "metadata": {},
   "outputs": [],
   "source": [
    "import numpy as np\n",
    "import matplotlib.pyplot as plt"
   ]
  },
  {
   "cell_type": "code",
   "execution_count": 2,
   "id": "0950929d",
   "metadata": {},
   "outputs": [
    {
     "data": {
      "text/plain": [
       "array([ 0.85021414,  0.72256591,  0.9783884 ,  0.79575411,  0.0828462 ,\n",
       "       -0.47414752,  0.50233699, -0.51911953, -0.65510346,  0.41505111,\n",
       "       -0.83889334,  0.65790457, -0.66021948, -0.71601893, -0.47373943,\n",
       "        0.56519146,  0.59442302, -0.42658195,  0.95973381, -0.67964551])"
      ]
     },
     "execution_count": 2,
     "metadata": {},
     "output_type": "execute_result"
    }
   ],
   "source": [
    "np.random.uniform(-1,1,20)"
   ]
  },
  {
   "cell_type": "code",
   "execution_count": 22,
   "id": "ee7c31d1",
   "metadata": {},
   "outputs": [],
   "source": [
    "# generates random numbers uniformly between two given numbers\n",
    "\n",
    "data = np.random.uniform(0,15,200)"
   ]
  },
  {
   "cell_type": "code",
   "execution_count": 24,
   "id": "cde47928",
   "metadata": {},
   "outputs": [
    {
     "data": {
      "image/png": "[encoded data removed]",
      "text/plain": [
       "<Figure size 432x288 with 1 Axes>"
      ]
     },
     "metadata": {
      "needs_background": "light"
     },
     "output_type": "display_data"
    }
   ],
   "source": [
    "count, bins, ignored = plt.hist(data, 10)\n",
    "plt.show()"
   ]
  },
  {
   "cell_type": "code",
   "execution_count": 32,
   "id": "03d759cf",
   "metadata": {},
   "outputs": [],
   "source": [
    "# “standard normal” distribution. Can only define the number of elements for the array\n",
    "\n",
    "data2 = np.random.randn(200)\n"
   ]
  },
  {
   "cell_type": "code",
   "execution_count": 25,
   "id": "791db64b",
   "metadata": {},
   "outputs": [
    {
     "data": {
      "image/png": "[encoded data removed]",
      "text/plain": [
       "<Figure size 432x288 with 1 Axes>"
      ]
     },
     "metadata": {
      "needs_background": "light"
     },
     "output_type": "display_data"
    }
   ],
   "source": [
    "count, bins, ignored = plt.hist(data2, 10)\n",
    "plt.show()"
   ]
  },
  {
   "cell_type": "code",
   "execution_count": 29,
   "id": "20039776",
   "metadata": {},
   "outputs": [],
   "source": [
    "# generates random numbers in a normal distribution, can define the centre and the width of the distribution\n",
    "\n",
    "data3 = np.random.normal(loc=0, scale=0.2, size=200)"
   ]
  },
  {
   "cell_type": "code",
   "execution_count": 30,
   "id": "cac3bdee",
   "metadata": {},
   "outputs": [
    {
     "data": {
      "image/png": "[encoded data removed]",
      "text/plain": [
       "<Figure size 432x288 with 1 Axes>"
      ]
     },
     "metadata": {
      "needs_background": "light"
     },
     "output_type": "display_data"
    }
   ],
   "source": [
    "count, bins, ignored = plt.hist(data3, 10)\n",
    "plt.show()"
   ]
  },
  {
   "cell_type": "code",
   "execution_count": null,
   "id": "48aaf076",
   "metadata": {},
   "outputs": [],
   "source": []
  },
  {
   "cell_type": "code",
   "execution_count": null,
   "id": "8c87e2a2",
   "metadata": {},
   "outputs": [],
   "source": []
  }
 ],
 "metadata": {
  "kernelspec": {
   "display_name": "Python 3",
   "language": "python",
   "name": "python3"
  },
  "language_info": {
   "codemirror_mode": {
    "name": "ipython",
    "version": 3
   },
   "file_extension": ".py",
   "mimetype": "text/x-python",
   "name": "python",
   "nbconvert_exporter": "python",
   "pygments_lexer": "ipython3",
   "version": "3.7.10"
  }
 },
 "nbformat": 4,
 "nbformat_minor": 5
}
