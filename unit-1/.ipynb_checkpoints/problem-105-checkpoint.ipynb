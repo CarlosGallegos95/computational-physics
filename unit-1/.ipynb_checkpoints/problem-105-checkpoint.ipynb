{
 "cells": [
  {
   "cell_type": "markdown",
   "id": "8a638811",
   "metadata": {},
   "source": [
    "# Exercises on dynamics\n",
    "\n",
    "## 1. Free-fall experiment:\n",
    "We wish to measure the acceleration of gravity based on data from a free-fall experiment in which we drop an object and measure the time it takes for it to reach different distanteces. The object starts from rest.\n",
    "\n",
    "Data file: https://github.com/wbandabarragan/computational-physics-1/blob/main/unit-1/sample_data/data_freefall.csv"
   ]
  },
  {
   "cell_type": "code",
   "execution_count": null,
   "id": "b7bffcdb",
   "metadata": {},
   "outputs": [],
   "source": []
  },
  {
   "cell_type": "code",
   "execution_count": null,
   "id": "7e461d66",
   "metadata": {},
   "outputs": [],
   "source": []
  },
  {
   "cell_type": "markdown",
   "id": "350b9f2f",
   "metadata": {},
   "source": [
    "## 2. Pendulum experiment\n",
    "\n",
    "See a interesting applet here:\n",
    "\n",
    "https://phet.colorado.edu/sims/html/pendulum-lab/latest/pendulum-lab_en.html\n",
    "\n",
    "Data file: https://github.com/wbandabarragan/computational-physics-1/blob/main/unit-1/sample_data/data_pendulum.csv"
   ]
  },
  {
   "cell_type": "code",
   "execution_count": null,
   "id": "e62c3b59",
   "metadata": {},
   "outputs": [],
   "source": []
  }
 ],
 "metadata": {
  "kernelspec": {
   "display_name": "Python 3 (ipykernel)",
   "language": "python",
   "name": "python3"
  },
  "language_info": {
   "codemirror_mode": {
    "name": "ipython",
    "version": 3
   },
   "file_extension": ".py",
   "mimetype": "text/x-python",
   "name": "python",
   "nbconvert_exporter": "python",
   "pygments_lexer": "ipython3",
   "version": "3.7.16"
  }
 },
 "nbformat": 4,
 "nbformat_minor": 5
}
