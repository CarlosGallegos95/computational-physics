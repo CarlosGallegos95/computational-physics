{
 "cells": [
  {
   "cell_type": "markdown",
   "id": "03de8913",
   "metadata": {},
   "source": [
    "# Data analysis:\n",
    "\n",
    "## Computing statistical parameters\n",
    "\n",
    "\n",
    "- Numpy comes with a full set of functions to calculate statistical parameters.\n",
    "\n",
    "\n",
    "- Let's calculate the time average and standard deviation of the mass.\n",
    "\n",
    "\n",
    "## Mass fluxes:\n",
    "\n",
    "The data file I shared with you also has two additional variables \"flxh\" and \"flxe\", which represent the mass of cloud gas crossing the half-plane and the end-plane of the simulation domain, see the figure below:"
   ]
  },
  {
   "cell_type": "code",
   "execution_count": null,
   "id": "654a6614",
   "metadata": {},
   "outputs": [],
   "source": []
  }
 ],
 "metadata": {
  "kernelspec": {
   "display_name": "Python 3 (ipykernel)",
   "language": "python",
   "name": "python3"
  },
  "language_info": {
   "codemirror_mode": {
    "name": "ipython",
    "version": 3
   },
   "file_extension": ".py",
   "mimetype": "text/x-python",
   "name": "python",
   "nbconvert_exporter": "python",
   "pygments_lexer": "ipython3",
   "version": "3.7.16"
  }
 },
 "nbformat": 4,
 "nbformat_minor": 5
}
