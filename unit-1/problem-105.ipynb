{
 "cells": [
  {
   "cell_type": "markdown",
   "id": "c49ef82f",
   "metadata": {},
   "source": [
    "# Exercises on dynamics\n",
    "\n",
    "## 1. Free-fall experiment:\n",
    "We wish to measure the acceleration of gravity based on data from a free-fall experiment in which we drop an object and measure the time it takes for it to reach different distanteces. The object starts from rest.\n",
    "\n",
    "Data file: https://github.com/wbandabarragan/computational-physics-1/blob/main/unit-1/sample_data/data_freefall.csv"
   ]
  },
  {
   "cell_type": "code",
   "execution_count": 15,
   "id": "c686fa39",
   "metadata": {},
   "outputs": [],
   "source": [
    "# Import libraries\n",
    "\n",
    "import numpy as np\n",
    "import matplotlib.pyplot as plt\n",
    "import pandas as pd\n",
    "import scipy.stats as st"
   ]
  },
  {
   "cell_type": "code",
   "execution_count": 6,
   "id": "b8d0c1c8",
   "metadata": {},
   "outputs": [],
   "source": [
    "# Get data into data frame\n",
    "df_1 = pd.read_csv(\"./sample_data/data_freefall.csv\", sep = \",\")\n",
    "\n",
    "# Read in the columns\n",
    "time = df_1[\"Time (s)\"]\n",
    "position = df_1[\"Position (m)\"]\n",
    "\n",
    "# Inspect data\n",
    "#print(df_1)"
   ]
  },
  {
   "cell_type": "markdown",
   "id": "3e0c5de2",
   "metadata": {},
   "source": [
    "#### Plot data:"
   ]
  },
  {
   "cell_type": "code",
   "execution_count": 13,
   "id": "adf7d2e3",
   "metadata": {},
   "outputs": [
    {
     "data": {
      "image/png": "[encoded data removed]",
      "text/plain": [
       "<Figure size 500x400 with 1 Axes>"
      ]
     },
     "metadata": {},
     "output_type": "display_data"
    }
   ],
   "source": [
    "# Create a figure environment\n",
    "\n",
    "fig = plt.figure(figsize = (5,4))\n",
    "\n",
    "plt.plot(time, position, linestyle = \" \", marker = \"+\", label = \"Exp. Data\")\n",
    "\n",
    "plt.xlabel(\"Time (s)\")\n",
    "plt.ylabel(\"Position (m)\")\n",
    "\n",
    "plt.legend()\n",
    "\n",
    "plt.show()"
   ]
  },
  {
   "cell_type": "markdown",
   "id": "7178a2df",
   "metadata": {},
   "source": [
    "### Evaluate monotonic behaviour and linearity"
   ]
  },
  {
   "cell_type": "code",
   "execution_count": 16,
   "id": "e84fb187",
   "metadata": {},
   "outputs": [
    {
     "name": "stdout",
     "output_type": "stream",
     "text": [
      "Spearman:\n",
      " SpearmanrResult(correlation=1.0, pvalue=0.0)\n",
      "Pearson:\n",
      " (0.9626893939403707, 2.076326993227384e-06)\n"
     ]
    }
   ],
   "source": [
    "# Let's calculate these coefficients\n",
    "\n",
    "# 1. Spearman coefficient\n",
    "sp = st.spearmanr(time, position)\n",
    "\n",
    "# 2. Pearson coefficient\n",
    "pe = st.pearsonr(time, position)\n",
    "\n",
    "print(\"Spearman:\\n\", sp)\n",
    "\n",
    "print(\"Pearson:\\n\", pe)"
   ]
  },
  {
   "cell_type": "markdown",
   "id": "fbb2068d",
   "metadata": {},
   "source": []
  },
  {
   "cell_type": "code",
   "execution_count": null,
   "id": "58d2f9c7",
   "metadata": {},
   "outputs": [],
   "source": []
  },
  {
   "cell_type": "code",
   "execution_count": null,
   "id": "ac5c548f",
   "metadata": {},
   "outputs": [],
   "source": []
  },
  {
   "cell_type": "code",
   "execution_count": null,
   "id": "a6c35331",
   "metadata": {},
   "outputs": [],
   "source": []
  },
  {
   "cell_type": "markdown",
   "id": "8755c1b5",
   "metadata": {},
   "source": [
    "## 2. Pendulum experiment\n",
    "\n",
    "See a interesting applet here:\n",
    "\n",
    "https://phet.colorado.edu/sims/html/pendulum-lab/latest/pendulum-lab_en.html\n",
    "\n",
    "Data file: https://github.com/wbandabarragan/computational-physics-1/blob/main/unit-1/sample_data/data_pendulum.csv"
   ]
  },
  {
   "cell_type": "code",
   "execution_count": null,
   "id": "ed228e13",
   "metadata": {},
   "outputs": [],
   "source": []
  }
 ],
 "metadata": {
  "kernelspec": {
   "display_name": "Python 3 (ipykernel)",
   "language": "python",
   "name": "python3"
  },
  "language_info": {
   "codemirror_mode": {
    "name": "ipython",
    "version": 3
   },
   "file_extension": ".py",
   "mimetype": "text/x-python",
   "name": "python",
   "nbconvert_exporter": "python",
   "pygments_lexer": "ipython3",
   "version": "3.7.16"
  }
 },
 "nbformat": 4,
 "nbformat_minor": 5
}
