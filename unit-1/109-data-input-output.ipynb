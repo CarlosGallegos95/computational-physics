{
 "cells": [
  {
   "cell_type": "markdown",
   "id": "221e4fc5",
   "metadata": {},
   "source": [
    "# Data I/O in Python\n",
    "\n",
    "## UC 1. Data analysis and visualisation\n"
   ]
  },
  {
   "cell_type": "code",
   "execution_count": 1,
   "id": "26e979cf",
   "metadata": {},
   "outputs": [],
   "source": [
    "# Import most-used libraries\n",
    "import numpy as np\n",
    "import matplotlib.pyplot as plt"
   ]
  },
  {
   "cell_type": "markdown",
   "id": "55c50c5a",
   "metadata": {},
   "source": [
    "### Option 1: Using Python's native function (open function)\n",
    "\n",
    "- Reading or writing files can be handled natively in Python.\n",
    "\n",
    "\n",
    "- You can use the in-built open() function to open, read, and write into a file.\n",
    "\n",
    "\n",
    "- The open() function returns a file_object, which contains attributes that can be used to collect information about the file. They can also be used to manipulate the file.\n",
    "\n",
    "\n",
    "- For example, the mode attribute of a file object tells you which mode a file was opened in. And the name attribute tells you the name of the file that the file object has opened.\n",
    "\n",
    "\n",
    "### How do we call the open function?\n",
    "\n",
    "The syntax to open a file object in Python is the following:\n",
    "\n",
    "file_object = open(“filename”, “mode”)\n",
    "\n",
    "- **file_object** is the variable used to add the object containin information about the file.\n",
    "\n",
    "\n",
    "- **mode**, on the other hand, tells the interpreter which way the file will be used.\n",
    "\n",
    "Including a mode argument is optional, but ‘r’ is used as default if the mode is omitted. The ‘r’ value stands for read mode, which is just one of many. The modes are:\n",
    "\n",
    "- **‘r’** -> Read mode which is used when the file is only being read.\n",
    "\n",
    "- **‘w’** –> Write mode which is used to edit and write new information to the file (any existing files with the same name will be erased when this mode is activated)\n",
    "\n",
    "- **‘a’** –> Appending mode, which is used to add new data to the end of the file; that is new information is automatically amended to the end\n",
    "\n",
    "- **‘r+’** –> Special read and write mode, which is used to handle both actions when working with a file"
   ]
  },
  {
   "cell_type": "markdown",
   "id": "ed7f92ac",
   "metadata": {},
   "source": [
    "## Reading and writing files\n",
    "\n",
    "###  1. Reading text files"
   ]
  },
  {
   "cell_type": "code",
   "execution_count": 2,
   "id": "60d5a8a5",
   "metadata": {},
   "outputs": [
    {
     "name": "stdout",
     "output_type": "stream",
     "text": [
      "¡Hola Mundo!\n",
      "\n",
      "Hello World!\n",
      "\n"
     ]
    }
   ],
   "source": [
    "# Let's read the file textfile1.txt provided in the repository\n",
    "\n",
    "# Call open() function in read mode\n",
    "file = open('textfile1.txt', 'r') \n",
    "\n",
    "# And print the content on the screnn\n",
    "print(file.read())\n",
    "\n",
    "# Then, we close the file.\n",
    "file.close()"
   ]
  },
  {
   "cell_type": "markdown",
   "id": "89bb0fec",
   "metadata": {},
   "source": [
    "Now we want to read the first 5 characters of the file. We can use the **.read(n)** function, which returns the fist \"n\" characters:"
   ]
  },
  {
   "cell_type": "code",
   "execution_count": 3,
   "id": "20b2f00c",
   "metadata": {},
   "outputs": [
    {
     "name": "stdout",
     "output_type": "stream",
     "text": [
      "¡Hola\n",
      "<class '_io.TextIOWrapper'>\n"
     ]
    }
   ],
   "source": [
    "# Reading the first 5 characters of the file\n",
    "\n",
    "file1 = open('textfile1.txt', 'r') \n",
    "print(file1.read(5))\n",
    "file1.close()\n",
    "\n",
    "# To see the type of object we have:\n",
    "print(type(file1))"
   ]
  },
  {
   "cell_type": "markdown",
   "id": "4c8a74d8",
   "metadata": {},
   "source": [
    "Or, we can also access specific lines with the **.readlines()** function, which returns a **list** with the contents of the file."
   ]
  },
  {
   "cell_type": "code",
   "execution_count": 4,
   "id": "d76e706e",
   "metadata": {},
   "outputs": [
    {
     "name": "stdout",
     "output_type": "stream",
     "text": [
      "¡Hola Mundo!\n",
      "\n",
      "\n",
      "\n",
      "Hello World!\n",
      "\n",
      "<class 'list'>\n",
      "3\n"
     ]
    }
   ],
   "source": [
    "# To access specific lines in the file:\n",
    "\n",
    "file = open('textfile1.txt', 'r')\n",
    "lines = file.readlines() # \"lines\" here is a list. Lists are native structures in Python\n",
    "\n",
    "print(lines[0]) \n",
    "print(lines[1]) \n",
    "print(lines[2]) \n",
    "\n",
    "file.close()\n",
    "\n",
    "# Let's see what type of object we have, as indicated below, it is a list.\n",
    "print(type(lines))\n",
    "\n",
    "# The len() function returns the number of items in an object.\n",
    "print(len(lines))"
   ]
  },
  {
   "cell_type": "markdown",
   "id": "ecf44d10",
   "metadata": {},
   "source": [
    "You can do the same in a more memory efficient and fast manner using a **for** loop.\n",
    "\n",
    "The general syntax of a for loop is:\n",
    "\n",
    "**for** index **in** object:</br>\n",
    "(tab/indentation) instructions to be executed within a loop\n"
   ]
  },
  {
   "cell_type": "code",
   "execution_count": 5,
   "id": "1b7615b4",
   "metadata": {},
   "outputs": [
    {
     "name": "stdout",
     "output_type": "stream",
     "text": [
      "¡Hola Mundo!\n",
      "\n",
      "\n",
      "\n",
      "Hello World!\n",
      "\n"
     ]
    }
   ],
   "source": [
    "# Then, using a for loop, we write:\n",
    "\n",
    "file1 = open('textfile1.txt', 'r')\n",
    "for i in file1: # \"i\" is the index, which you can name at will\n",
    "    print(i)\n",
    "    \n",
    "file1.close()"
   ]
  },
  {
   "cell_type": "markdown",
   "id": "40996bb6",
   "metadata": {},
   "source": [
    "### 2. Writing into files\n",
    "\n",
    "Now that we know how to open text files and read the information, let's see how to write into files.\n",
    "\n",
    "The function .write() can be invoked."
   ]
  },
  {
   "cell_type": "code",
   "execution_count": 6,
   "id": "1ef3d483",
   "metadata": {},
   "outputs": [],
   "source": [
    "# Let's open a new file and write into it.\n",
    "\n",
    "file2 = open('textfile2.txt', 'w')\n",
    "\n",
    "file2.write(\"I am writing a new file now.\\n\")     # \\n is the new line character. It creates a new line.\n",
    "    \n",
    "file2.close()    "
   ]
  },
  {
   "cell_type": "markdown",
   "id": "35c192f3",
   "metadata": {},
   "source": [
    "We can check this in a Linux shell using the terminal:<br>\n",
    "\n",
    "~~~~html\n",
    "$ cat textfile2.txt \n",
    "I am writing a new file now.\n",
    "~~~~\n",
    "\n",
    "\n",
    "And there is a second way to do the same, using **print()**."
   ]
  },
  {
   "cell_type": "code",
   "execution_count": 7,
   "id": "e35006f1",
   "metadata": {},
   "outputs": [],
   "source": [
    "print('This is my new file written with print().\\n', file = open(\"textfile3.txt\", \"w\"))\n",
    "file.close()\n",
    "\n",
    "# Both ways are fine, usually there is more than one way of doing things in Python."
   ]
  },
  {
   "cell_type": "markdown",
   "id": "ed0e7f99",
   "metadata": {},
   "source": [
    "### 3. Writing some numbers (data) in a table format\n"
   ]
  },
  {
   "cell_type": "code",
   "execution_count": 8,
   "id": "4c622c0a",
   "metadata": {},
   "outputs": [
    {
     "name": "stdout",
     "output_type": "stream",
     "text": [
      "<class 'range'>\n",
      "0\n",
      "1\n",
      "2\n",
      "3\n",
      "4\n",
      "5\n",
      "6\n",
      "7\n",
      "8\n",
      "9\n",
      "10\n",
      "11\n",
      "12\n",
      "13\n",
      "14\n",
      "15\n",
      "16\n",
      "17\n",
      "18\n",
      "19\n",
      "20\n",
      "21\n",
      "22\n",
      "23\n",
      "24\n",
      "25\n",
      "26\n",
      "27\n",
      "28\n",
      "29\n"
     ]
    }
   ],
   "source": [
    "# Create some data using range()\n",
    "# See the documentation of range() here: https://www.w3schools.com/python/ref_func_range.asp\n",
    "\n",
    "data_1 = range(0,10) # range() returns a sequence of numbers between given limits\n",
    "data_2 = range(10,20)\n",
    "data_3 = range(20,30)\n",
    "\n",
    "# Further information: https://pythontic.com/containers/range/introduction#:~:text=The%20Python%20class%20range%20represents,or%20removed%20elements%20from%20it.\n",
    "\n",
    "# If you are not sure what type you generated, you can print it:\n",
    "\n",
    "print(type(data_1)) # In this case it is a 'range'\n",
    "\n",
    "# So, to access the numbers in the sequence, you can use a for loop and print(index)\n",
    "for i in data_1:\n",
    "    print(i)\n",
    "    \n",
    "for j in data_2:\n",
    "    print(j)\n",
    "    \n",
    "for k in data_3:\n",
    "    print(k)"
   ]
  },
  {
   "cell_type": "code",
   "execution_count": 9,
   "id": "f5f0784c",
   "metadata": {},
   "outputs": [],
   "source": [
    "# Now let's write these the numbers in each sequence into a new file:\n",
    "\n",
    "# We first open the file for writing because we are going to append the number row by row using a for loop.\n",
    "file=open(\"textfile4.txt\", \"w\")\n",
    "\n",
    "# Write data into a file with a loop.\n",
    "# Note that we are using range() again but this time in our counter with len() providing the maximum value to loop over.\n",
    "\n",
    "for i in range(len(data_1)):\n",
    "    print(data_1[i], data_2[i], data_3[i], file=open('textfile4.txt', 'a')) # using \"a\" will append to the file\n",
    "\n",
    "file.close()"
   ]
  },
  {
   "cell_type": "markdown",
   "id": "dfab5319",
   "metadata": {},
   "source": [
    "And we can also visualise the contents of the newly created file with:"
   ]
  },
  {
   "cell_type": "code",
   "execution_count": 10,
   "id": "32f80ae4",
   "metadata": {},
   "outputs": [
    {
     "name": "stdout",
     "output_type": "stream",
     "text": [
      "0 10 20\n",
      "\n",
      "1 11 21\n",
      "\n",
      "2 12 22\n",
      "\n",
      "3 13 23\n",
      "\n",
      "4 14 24\n",
      "\n",
      "5 15 25\n",
      "\n",
      "6 16 26\n",
      "\n",
      "7 17 27\n",
      "\n",
      "8 18 28\n",
      "\n",
      "9 19 29\n",
      "\n"
     ]
    }
   ],
   "source": [
    "file = open('textfile4.txt', 'r')\n",
    "for line in file: \n",
    "    print(line)  \n",
    "    \n",
    "# All is good, we have the data in the desired format"
   ]
  },
  {
   "cell_type": "markdown",
   "id": "a8c2fa20",
   "metadata": {},
   "source": [
    "There is also another way to write a table into a file.\n",
    "\n",
    "We will write the data as **strings**, so we use str()."
   ]
  },
  {
   "cell_type": "code",
   "execution_count": 11,
   "id": "06570bf4",
   "metadata": {},
   "outputs": [
    {
     "name": "stdout",
     "output_type": "stream",
     "text": [
      "0 10 20\n",
      "\n",
      "1 11 21\n",
      "\n",
      "2 12 22\n",
      "\n",
      "3 13 23\n",
      "\n",
      "4 14 24\n",
      "\n",
      "5 15 25\n",
      "\n",
      "6 16 26\n",
      "\n",
      "7 17 27\n",
      "\n",
      "8 18 28\n",
      "\n",
      "9 19 29\n",
      "\n"
     ]
    }
   ],
   "source": [
    "file = open(\"textfile5.txt\", \"w\")\n",
    "\n",
    "for i in range(len(data_1)):\n",
    "    file.write(str(data_1[i])+' '+str(data_2[i])+' '+str(data_3[i])+'\\n') \n",
    "\n",
    "file.close()\n",
    "    \n",
    "file = open('textfile5.txt', 'r')\n",
    "for line in file: \n",
    "    print(line) "
   ]
  },
  {
   "cell_type": "markdown",
   "id": "80d90307",
   "metadata": {},
   "source": [
    "### 4. Writing CSV files\n",
    "\n",
    "**CSV** stands for comma-separated values."
   ]
  },
  {
   "cell_type": "code",
   "execution_count": 12,
   "id": "a9e9431b",
   "metadata": {},
   "outputs": [
    {
     "name": "stdout",
     "output_type": "stream",
     "text": [
      "ones, tens, twenties\n",
      "\n",
      "0, 10, 20\n",
      "\n",
      "1, 11, 21\n",
      "\n",
      "2, 12, 22\n",
      "\n",
      "3, 13, 23\n",
      "\n",
      "4, 14, 24\n",
      "\n",
      "5, 15, 25\n",
      "\n",
      "6, 16, 26\n",
      "\n",
      "7, 17, 27\n",
      "\n",
      "8, 18, 28\n",
      "\n",
      "9, 19, 29\n",
      "\n"
     ]
    }
   ],
   "source": [
    "# Open a new file, open() can be used to write any sort of file.\n",
    "\n",
    "file6 = open(\"textfile6.csv\", \"w\")  # CSV files can be easily oppened in Excel/Spreadsheets\n",
    "\n",
    "# First we write the header:\n",
    "file6.write('ones, tens, twenties\\n') \n",
    "\n",
    "# Then, we do a for loop using range(len(__))\n",
    "\n",
    "for i in range(len(data_1)):\n",
    "    file6.write(str(data_1[i])+', '+str(data_2[i])+', '+str(data_3[i])+'\\n') \n",
    "file6.close()\n",
    "\n",
    "# Remember that to connect strings we can use \"+\"\n",
    "    \n",
    "file = open('textfile6.csv', 'r')\n",
    "for line in file: \n",
    "    print(line) "
   ]
  },
  {
   "cell_type": "markdown",
   "id": "5bfa8424",
   "metadata": {},
   "source": [
    "Another way to read **CSV** files is:"
   ]
  },
  {
   "cell_type": "code",
   "execution_count": 13,
   "id": "bc18d8a5",
   "metadata": {},
   "outputs": [
    {
     "name": "stdout",
     "output_type": "stream",
     "text": [
      "<class 'list'>\n",
      "['ones,', 'tens,', 'twenties']\n",
      "['0,', '10,', '20']\n",
      "['1,', '11,', '21']\n",
      "['2,', '12,', '22']\n",
      "['3,', '13,', '23']\n",
      "['4,', '14,', '24']\n",
      "['5,', '15,', '25']\n",
      "['6,', '16,', '26']\n",
      "['7,', '17,', '27']\n",
      "['8,', '18,', '28']\n",
      "['9,', '19,', '29']\n",
      "<class 'list'>\n"
     ]
    }
   ],
   "source": [
    "# Or we can use readlines() as we saw in a previous example\n",
    "\n",
    "file = open('textfile6.csv', 'r')\n",
    "data = file.readlines()\n",
    "\n",
    "print(type(data)) # remember that data is a list\n",
    "\n",
    "for line in data:\n",
    "    numbers = line.split()  # .split() is used to split a string into a list, commas are now included as part of the elements in the list\n",
    "    print(numbers) \n",
    "\n",
    "print(type(numbers)) # numbers is also a list\n",
    "file.close()  "
   ]
  },
  {
   "cell_type": "markdown",
   "id": "48db48a1",
   "metadata": {},
   "source": [
    "### 5. Reading files for plotting"
   ]
  },
  {
   "cell_type": "code",
   "execution_count": 14,
   "id": "a8627736",
   "metadata": {},
   "outputs": [
    {
     "name": "stdout",
     "output_type": "stream",
     "text": [
      "[0.0, 1.0, 2.0, 3.0, 4.0, 5.0, 6.0, 7.0, 8.0, 9.0]\n",
      "[10.0, 11.0, 12.0, 13.0, 14.0, 15.0, 16.0, 17.0, 18.0, 19.0]\n",
      "[20.0, 21.0, 22.0, 23.0, 24.0, 25.0, 26.0, 27.0, 28.0, 29.0]\n",
      "<class 'list'>\n",
      "<class 'list'>\n",
      "<class 'list'>\n"
     ]
    }
   ],
   "source": [
    "# Define lists where we will store the elements that we read\n",
    "ones = []  # These are empty lists\n",
    "tens = []\n",
    "twenties = []\n",
    "\n",
    "# read data from line\n",
    "file = open('textfile4.txt', 'r')\n",
    "data = file.readlines()\n",
    "\n",
    "for line in data:\n",
    "    numbers = line.split()\n",
    "    ones.append(float(numbers[0]))       # we use float() to make sure we have numbers and not strings\n",
    "    tens.append(float(numbers[1]))       # otherwise we won't be able to do mathematical operations\n",
    "    twenties.append(float(numbers[2]))   # note that we are using .append() because we want to fill in our initially empty lists\n",
    "file.close()  \n",
    "\n",
    "# Let's check the vectors we produced:\n",
    "print(ones)\n",
    "print(tens)\n",
    "print(twenties)\n",
    "\n",
    "# Let's check the types, they are all lists\n",
    "print(type(ones))\n",
    "print(type(tens))\n",
    "print(type(twenties))"
   ]
  },
  {
   "cell_type": "markdown",
   "id": "938bfd9e",
   "metadata": {},
   "source": [
    "You can use lists for plotting, that is not a problem.\n",
    "\n",
    "However, if you want to make sure that you can carry out mathematical operations without worrying, you can convert the lists into arrays using the function **numpy.array()** as follows:"
   ]
  },
  {
   "cell_type": "code",
   "execution_count": 15,
   "id": "4eafb800",
   "metadata": {},
   "outputs": [
    {
     "name": "stdout",
     "output_type": "stream",
     "text": [
      "[0. 1. 2. 3. 4. 5. 6. 7. 8. 9.]\n",
      "[10. 11. 12. 13. 14. 15. 16. 17. 18. 19.]\n",
      "[20. 21. 22. 23. 24. 25. 26. 27. 28. 29.]\n"
     ]
    }
   ],
   "source": [
    "# Converting lists to arrays:\n",
    "\n",
    "ones_arr = np.array(ones)\n",
    "tens_arr = np.array(tens)\n",
    "twenties_arr= np.array(twenties)\n",
    "\n",
    "print(ones_arr)\n",
    "print(tens_arr)\n",
    "print(twenties_arr)\n",
    "\n",
    "# So, now you have arrays and you can do all sort of linear operations."
   ]
  },
  {
   "cell_type": "markdown",
   "id": "45c9ddde",
   "metadata": {},
   "source": [
    "### 6. Plotting data"
   ]
  },
  {
   "cell_type": "code",
   "execution_count": 16,
   "id": "6d8d9528",
   "metadata": {},
   "outputs": [
    {
     "data": {
      "text/plain": [
       "[<matplotlib.lines.Line2D at 0x11a068c10>]"
      ]
     },
     "execution_count": 16,
     "metadata": {},
     "output_type": "execute_result"
    },
    {
     "data": {
      "image/png": "[encoded data removed]",
      "text/plain": [
       "<Figure size 432x288 with 1 Axes>"
      ]
     },
     "metadata": {
      "needs_background": "light"
     },
     "output_type": "display_data"
    }
   ],
   "source": [
    "# We add this line to make sure the figure shows up below\n",
    "%matplotlib inline\n",
    "\n",
    "# Define a figure environment\n",
    "fig, ax = plt.subplots()\n",
    "\n",
    "# And we plot tens vs. ones\n",
    "ax.plot(ones_arr,tens_arr)"
   ]
  },
  {
   "cell_type": "markdown",
   "id": "4fbe717f",
   "metadata": {},
   "source": [
    "## Exercise: Reading simulation data files\n",
    "\n",
    "\n",
    "In this case we will analyse data produced by a simulation of a spherical cloud interacting with a wind, which is represented by a constant velocity field.\n",
    "\n",
    "The wind disperses the cloud, which becomes elongated like a filament. As the simulation evolves cloud material flows off the computational domain, and towards the end of the simulation, cloud material is almost absent in the domain.\n",
    "\n",
    "To understant how mass is removed from the cloud, we can calculate some diagnostics, e.g.:\n",
    "\n",
    "1. The cloud mass inside the computational domain (Mass1)\n",
    "2. The mass flux of cloud gas crossing half of the simulation domain (FluxE).\n",
    "3. The mass flux of cloud gas crossing the back side of the simulation domain (FluxH).\n",
    "\n",
    "The file **data_1.dat** contains these quantities, so we are going to do some data analysis."
   ]
  },
  {
   "cell_type": "code",
   "execution_count": 17,
   "id": "1961aaf3",
   "metadata": {},
   "outputs": [],
   "source": [
    "# First we open the file and read what is inside\n",
    "\n",
    "file = open('data_1.dat', 'r') \n",
    "\n",
    "data = file.read()\n",
    "\n",
    "file.close()\n",
    "\n",
    "# It is sometimes useful to print the data to see how they look.\n",
    "#print(data) # Uncomment to print"
   ]
  },
  {
   "cell_type": "code",
   "execution_count": 18,
   "id": "f6ecd758",
   "metadata": {
    "scrolled": false
   },
   "outputs": [
    {
     "name": "stdout",
     "output_type": "stream",
     "text": [
      "101\n",
      "101\n"
     ]
    }
   ],
   "source": [
    "# Let's now put the data into lists\n",
    "\n",
    "file = open('data_1.dat', 'r') \n",
    "data2 = file.readlines()\n",
    "\n",
    "# define 4 lists, one for each column\n",
    "d1 = []\n",
    "d2 = []\n",
    "d3 = []\n",
    "d4 = []\n",
    "\n",
    "# And use a FOR loop to append\n",
    "for line in data2[1:]:\n",
    "    numbers = line.split()\n",
    "    d1.append(numbers[0])   # we use append() to append elements to a list\n",
    "    d2.append(numbers[1])\n",
    "    d3.append(numbers[2])\n",
    "    d4.append(numbers[3])\n",
    "file.close()  \n",
    "\n",
    "# This part is not strictly needed because you can make plots with lists.\n",
    "# However, you can also convert your lists into arrays as follows\n",
    "\n",
    "d1_array = np.array(d1,dtype=float)\n",
    "d2_array = np.array(d2,dtype=float)\n",
    "d3_array = np.array(d3,dtype=float)\n",
    "d4_array = np.array(d4,dtype=float)\n",
    "\n",
    "# Note that lists don't have .size, arrays do\n",
    "print(d1_array.size)\n",
    "print(d2_array.size)"
   ]
  },
  {
   "cell_type": "code",
   "execution_count": 19,
   "id": "192cb9ef",
   "metadata": {},
   "outputs": [
    {
     "data": {
      "text/plain": [
       "Text(0, 0.5, 'Cloud Mass')"
      ]
     },
     "execution_count": 19,
     "metadata": {},
     "output_type": "execute_result"
    },
    {
     "data": {
      "image/png": "[encoded data removed]",
      "text/plain": [
       "<Figure size 432x288 with 1 Axes>"
      ]
     },
     "metadata": {
      "needs_background": "light"
     },
     "output_type": "display_data"
    }
   ],
   "source": [
    "%matplotlib inline\n",
    "\n",
    "# Now let's make a plot of d2 (cloud mass) vs. d1 (time)\n",
    "# Let's not worry about the units now, in homework 1 I do provide units.\n",
    "\n",
    "fig, ax = plt.subplots()\n",
    "\n",
    "ax.plot(d1_array,d2_array)\n",
    "\n",
    "plt.xlabel('Time', fontsize=14)\n",
    "plt.ylabel('Cloud Mass', fontsize=14)"
   ]
  },
  {
   "cell_type": "markdown",
   "id": "5442b4b9",
   "metadata": {},
   "source": [
    "### 7. Using pandas to open, read, and write files\n",
    "\n",
    "- Pandas is a library that provides some functions to open data files and read the data they contain into structures called \"data frames\" (sometimes called simply df).\n",
    "\n",
    "- This library facilitates opening/reading files and provides an alternative to the more manual method we saw earlier.\n",
    "\n",
    "- It also provides functions to create your own data frames.\n",
    "\n",
    "- Data frames are structures that look like tables in a spreadsheet. They contain 'keys', which can be called in case you want to access, e.g. a specific column of the table.\n",
    "\n",
    "\n",
    "- Since pandas is not a native library of Python, we first need to import it if we want to use it."
   ]
  },
  {
   "cell_type": "code",
   "execution_count": 20,
   "id": "6376b34e",
   "metadata": {},
   "outputs": [],
   "source": [
    "# Importing pandas\n",
    "\n",
    "import pandas as pd"
   ]
  },
  {
   "cell_type": "code",
   "execution_count": 21,
   "id": "cf95dc5b",
   "metadata": {},
   "outputs": [
    {
     "name": "stdout",
     "output_type": "stream",
     "text": [
      "0      0.000000\n",
      "1      0.099800\n",
      "2      0.199956\n",
      "3      0.299681\n",
      "4      0.399916\n",
      "         ...   \n",
      "96     9.599985\n",
      "97     9.699971\n",
      "98     9.799818\n",
      "99     9.899956\n",
      "100    9.999821\n",
      "Name: Time, Length: 101, dtype: float64\n",
      "<class 'pandas.core.series.Series'>\n"
     ]
    },
    {
     "data": {
      "image/png": "[encoded data removed]",
      "text/plain": [
       "<Figure size 432x288 with 1 Axes>"
      ]
     },
     "metadata": {
      "needs_background": "light"
     },
     "output_type": "display_data"
    }
   ],
   "source": [
    "# read_csv returns a DataFrame, which is two-dimensional data structure with labeled axes.\n",
    "\n",
    "data = pd.read_csv(\"data_1.dat\", sep = \"\\s+\")\n",
    "#print(data) # Uncomment to print data\n",
    "\n",
    "# To get the data from specific columns, you can use their respective keys, e.g.:\n",
    "\n",
    "time = data[\"Time\"]\n",
    "mass = data[\"Mass1\"]\n",
    "flxh = data[\"FluxH\"]\n",
    "flxe = data[\"FluxE\"]\n",
    "\n",
    "# Checking how time looks\n",
    "print(time)\n",
    "\n",
    "# What is the data type? Turns out pandas has its own called core.series.\n",
    "print(type(time))\n",
    "\n",
    "# And now we plot\n",
    "fig, ax = plt.subplots()\n",
    "\n",
    "ax.plot(time,mass,color='red', linestyle=\"-.\", linewidth=3, label=\"mass\") # Matplotlib understands the pandas format!\n",
    "ax.legend()\n",
    "plt.show()\n",
    "\n",
    "# Note that it is interesting that the mass drops dramatically at the end\n",
    "# The reason for this drop is that most of the cloud material leaves the domain after t~8"
   ]
  },
  {
   "cell_type": "code",
   "execution_count": 22,
   "id": "e8e54168",
   "metadata": {},
   "outputs": [
    {
     "name": "stdout",
     "output_type": "stream",
     "text": [
      "<class 'numpy.ndarray'>\n"
     ]
    },
    {
     "data": {
      "image/png": "[encoded data removed]",
      "text/plain": [
       "<Figure size 432x288 with 1 Axes>"
      ]
     },
     "metadata": {
      "needs_background": "light"
     },
     "output_type": "display_data"
    }
   ],
   "source": [
    "# If you prefer the data to be in arrays, you can use numpy to convert them into arrays.\n",
    "\n",
    "time_arr = np.array(time)\n",
    "mass_arr = np.array(mass)\n",
    "flxh_arr = np.array(flxh)\n",
    "flxe_arr = np.array(flxe)\n",
    "\n",
    "print(type(time_arr)) # Now we have an array\n",
    "\n",
    "\n",
    "# Let's make a plot:\n",
    "\n",
    "fig, ax = plt.subplots()\n",
    "ax.plot(time,mass,color='blue', linestyle=\"-\", linewidth=3, label=\"mass\") # Matplotlib also understands arrays!\n",
    "ax.legend()\n",
    "\n",
    "plt.show()"
   ]
  },
  {
   "cell_type": "markdown",
   "id": "86eedd7f",
   "metadata": {},
   "source": [
    "### 8. Data analysis\n",
    "\n",
    "Suppose now that we want to work with the data, not just see them in plots, but actually use them for calculations. To achieve this Python offers a large range of functions, e.g. say we want to multiply the array of times by 2, and then save this in a new file jointly with the cloud mass:"
   ]
  },
  {
   "cell_type": "code",
   "execution_count": 23,
   "id": "3fa8002c",
   "metadata": {},
   "outputs": [],
   "source": [
    "# Multuplying time*2\n",
    "\n",
    "time2 = time*2\n",
    "\n",
    "# Now we create a new data frame called df.\n",
    "# For this we use the .DataFrame function.\n",
    "# This function receives data, but you also need to provide the keys by which we can identify the columns, e.g.:\n",
    "\n",
    "df = pd.DataFrame({'time': time2, 'mass': mass})\n",
    "\n",
    "# Be careful with how you name the keys because Python is a case-sensitive language!\n",
    "\n",
    "\n",
    "# And at the end, we can use another function to write the new data into a CSV file\n",
    "\n",
    "df.to_csv(\"data_2.csv\", sep=',', float_format='{:.2e}'.format)\n",
    "# sep specifies how you want to separate the values, you can also define tabs or spaces here.\n"
   ]
  },
  {
   "cell_type": "markdown",
   "id": "c6d679ae",
   "metadata": {},
   "source": [
    "And of course, to make sure everything was written in good order, you can check the results by opening the newly-created file."
   ]
  },
  {
   "cell_type": "code",
   "execution_count": 24,
   "id": "793b8616",
   "metadata": {},
   "outputs": [
    {
     "name": "stdout",
     "output_type": "stream",
     "text": [
      "0       0.000\n",
      "1       0.200\n",
      "2       0.400\n",
      "3       0.599\n",
      "4       0.800\n",
      "        ...  \n",
      "96     19.200\n",
      "97     19.400\n",
      "98     19.600\n",
      "99     19.800\n",
      "100    20.000\n",
      "Name: time, Length: 101, dtype: float64\n"
     ]
    },
    {
     "data": {
      "image/png": "[encoded data removed]",
      "text/plain": [
       "<Figure size 432x288 with 1 Axes>"
      ]
     },
     "metadata": {
      "needs_background": "light"
     },
     "output_type": "display_data"
    }
   ],
   "source": [
    "# read_csv returns a DataFrame, which is two-dimensional data structure with labeled axes.\n",
    "\n",
    "data = pd.read_csv(\"data_2.csv\", sep = \",\") \n",
    "#print(A)\n",
    "\n",
    "# To get a data in specific columns, you can use the keys\n",
    "time3 = data[\"time\"]\n",
    "mass3 = data[\"mass\"]\n",
    "print(time3)\n",
    "fig, ax = plt.subplots()\n",
    "\n",
    "\n",
    "# And we plot:\n",
    "ax.plot(time3,mass3,color='red', linestyle=\"-\", linewidth=3, label=\"mass\")\n",
    "ax.legend()\n",
    "plt.show()\n",
    "\n",
    "# All looks good!"
   ]
  }
 ],
 "metadata": {
  "kernelspec": {
   "display_name": "Python 3",
   "language": "python",
   "name": "python3"
  },
  "language_info": {
   "codemirror_mode": {
    "name": "ipython",
    "version": 3
   },
   "file_extension": ".py",
   "mimetype": "text/x-python",
   "name": "python",
   "nbconvert_exporter": "python",
   "pygments_lexer": "ipython3",
   "version": "3.7.10"
  }
 },
 "nbformat": 4,
 "nbformat_minor": 5
}
