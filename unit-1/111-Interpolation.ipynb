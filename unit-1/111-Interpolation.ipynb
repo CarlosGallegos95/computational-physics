{
 "cells": [
  {
   "cell_type": "markdown",
   "id": "eb811113",
   "metadata": {},
   "source": [
    "# Interpolation:\n",
    "\n",
    "## 1. Newton interpolation\n",
    "\n",
    "$f(x)=a_0+a_1(x-x_0)+a_2(x-x_0)(x-x_1)+...+a_n(x-x-0)...(x-x_n)$\n",
    "\n",
    "Divided differences:\n",
    "\n",
    "$f(x_1,x_0)=\\frac{y_1-y_0}{x_1-x_0}$\n"
   ]
  },
  {
   "cell_type": "code",
   "execution_count": 1,
   "id": "55841f32",
   "metadata": {},
   "outputs": [],
   "source": [
    "# Importing libraries\n",
    "import numpy as np\n",
    "import matplotlib.pyplot as plt"
   ]
  },
  {
   "cell_type": "markdown",
   "id": "197ff6dc",
   "metadata": {},
   "source": [
    "### Example:\n",
    "\n",
    "Find the polynomial function that goes through all the following data points:\n",
    "\n",
    "$x= [-8,-5, -1, 0, 2, 4]$\n",
    "\n",
    "$y= [-4,-2, 6, 1, 3, 5]$"
   ]
  },
  {
   "cell_type": "code",
   "execution_count": null,
   "id": "a2bc0a1c",
   "metadata": {},
   "outputs": [],
   "source": [
    "# We need the vectors\n",
    "\n",
    "x = np.array([−8,−5,−1,0,2,4])\n",
    "y = np.array([−8,−5,−1,0,2,4])\n"
   ]
  }
 ],
 "metadata": {
  "kernelspec": {
   "display_name": "Python 3 (ipykernel)",
   "language": "python",
   "name": "python3"
  },
  "language_info": {
   "codemirror_mode": {
    "name": "ipython",
    "version": 3
   },
   "file_extension": ".py",
   "mimetype": "text/x-python",
   "name": "python",
   "nbconvert_exporter": "python",
   "pygments_lexer": "ipython3",
   "version": "3.7.16"
  }
 },
 "nbformat": 4,
 "nbformat_minor": 5
}
