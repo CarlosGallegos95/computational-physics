{
 "cells": [
  {
   "cell_type": "markdown",
   "id": "e4492d6d",
   "metadata": {},
   "source": [
    "# Exercise: Fitting spectral lines\n",
    "\n",
    "In this exercise we will be fitting Gaussian functions to spectral lines of the $\\rm H_I$ transition of the Hydrogen atom. This is a forbidden transition that occurs as a result of its hyperfine structure.\n",
    "\n",
    "\n",
    "Let us assume the spin of the p+ is down, then the $\\rm H_I$ transition occurs when the spin of the electron flips from up to down (i.e. when going from anti-parallel to parallel). The spin up configuration has a slightly higher energy than the spin down because the magnetic dipole moments are parallel, so when it flips it releases a low-energy photon and goes into the spin down configuration, which has lower energy as the the magnetic dipole moments are anti-parallel.\n",
    "\n",
    "\n",
    "**And some nice extra details from Wikipedia:**\n",
    "\n",
    "\"This transition is highly forbidden with an extremely small transition rate of $2.9\\times 10^{-15}\\,\\rm s^{-1}$ and a mean lifetime of the excited state of around 10 million years. A spontaneous occurrence of the transition is unlikely to be seen in a laboratory on Earth, but it can be artificially induced using a hydrogen maser. It is commonly observed in astronomical settings such as hydrogen clouds in our galaxy and others. Because of its long lifetime, the line has an extremely small natural width, so most broadening is due to Doppler shifts caused by bulk motion or nonzero temperature of the emitting regions.\"\n",
    "\n",
    "The transition.\n",
    "\n",
    "\n",
    "- At 21 cm, 1.4 GHz.\n",
    "\n",
    "\n",
    "- The data are taken from the GASS survey (shared via private communication).\n",
    "\n",
    "\n",
    "- This survey uses the Parkes telescopes in Australia.\n",
    "\n",
    "\n",
    "If you are interested in more information, I am leaving the links below:\n",
    "\n",
    "Parkes: https://www.parkes.atnf.csiro.au/\n",
    "\n",
    "\n",
    "Datafile= \"104444.9-264831_gass_spectrum.txt\"\n",
    "\n"
   ]
  },
  {
   "cell_type": "code",
   "execution_count": null,
   "id": "6df09c8e",
   "metadata": {},
   "outputs": [],
   "source": []
  }
 ],
 "metadata": {
  "kernelspec": {
   "display_name": "Python 3 (ipykernel)",
   "language": "python",
   "name": "python3"
  },
  "language_info": {
   "codemirror_mode": {
    "name": "ipython",
    "version": 3
   },
   "file_extension": ".py",
   "mimetype": "text/x-python",
   "name": "python",
   "nbconvert_exporter": "python",
   "pygments_lexer": "ipython3",
   "version": "3.7.16"
  }
 },
 "nbformat": 4,
 "nbformat_minor": 5
}
