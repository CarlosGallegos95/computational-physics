{
 "cells": [
  {
   "cell_type": "markdown",
   "id": "ca065de3",
   "metadata": {},
   "source": [
    "# Midterm Exam\n",
    "\n",
    "- **Subject:** Computational Physics I\n",
    "- **Date:** Tuesday 20 September 2022\n",
    "- **Credits:** 20 points\n",
    "- **Number of problems:** 4\n",
    "- **Type of evaluation:** Final Exam\n",
    "\n",
    "## Instructions:\n",
    "\n",
    "- When you finish, please send your .ipynb file via email to wbanda@yachaytech.edu.ec\n",
    "\n",
    "\n",
    "- The exam is open-book and has two parts:\n",
    "\n",
    "**Part 1** should be submitted **individually** by the end of the class today.\n",
    "\n",
    "        \n",
    "**Part 2** can be submitted **individually or in pairs** on **Thursday 22nd September (by midday)**.\n",
    "\n",
    "\n",
    "- You can call your notebook with your surname/s, e.g. name.ipynb, and also include your name/s in the notebook.\n",
    "\n",
    "\n",
    "- Note that some data for the exercises are not given on purpose. Use online material to **investigate** any extra data that you need to solve the problems.\n",
    "\n",
    "\n",
    "- Within a **single python notebook**, add the following:"
   ]
  },
  {
   "cell_type": "markdown",
   "id": "ab4c8caf",
   "metadata": {},
   "source": [
    "## PART 1 (individual, in class)\n",
    "\n",
    "### 1. (8 points) Quantum mechanics (ordinary differential equations, integrals, plotting):\n",
    "\n",
    "Consider a particle of mass $m$ moving in a small space surrounded by impenetrable barriers.\n",
    "\n",
    "The potential, $V(x)$, is given by the following piecewise function:\n",
    "\n",
    "$   \n",
    "V(x)= \n",
    "     \\begin{cases}\n",
    "       0, & 0 \\leq x \\leq a\\\\\n",
    "       \\infty, & \\rm elsewhere\\\\\n",
    "     \\end{cases}\n",
    "$\n",
    "\n",
    "Since $V(x)$ is time-independent, the solutions to the Schrödinger equation can be separated into spatial and temporal wave functions:\n",
    "\n",
    "$\\Psi(x,t) = \\psi_n(x)\\,e^{-i\\frac{E_n}{\\hbar}t}$\n",
    "\n",
    "As you know, the last term is called the \"wiggle factor\".\n",
    "\n",
    "**The purpose of this problem is to find the stationary state solutions and sketch them using python tools**.\n",
    "\n",
    "**(1.0 point) (a)** Use python to make a plot of $V(x)$, labelling the regions of interest (i.e., the barriers and well). **Hint:** Note that $V(x)$ is a piece-wise function that can be $+\\infty$ at the barriers, so you can define very large y-values for the barriers and then chop the y-axis when plotting to show just the bottom part.\n",
    "\n",
    "**(0.5 point) (b)** What is the wave function outside of the well? Why? Write down this solution.\n",
    "\n",
    "**(0.5 point) (c)** Write down the relevant ODE for the particle inside the well.\n",
    "\n",
    "**(1.0 point) (d)** Use sympy to solve the ODE for the particle inside the well. Write down the solution.\n",
    "\n",
    "**(1.0 point) (e)** Now you have stationary state solutions for inside and outside of the well, but the coefficients are still undefined. Write down the relevant boundary conditions (linear system of equations) to simplify the solution and to find an expression for $E_n$. **Hint:** Recall that $\\psi$ needs to be continuous.\n",
    "\n",
    "**(1.0 point) (f)** Use sympy to normalise the resulting wave function, and write down the global solution. **Hint:** This involves calculating the integral of an analytical function.\n",
    "\n",
    "**(1.5 point) (g)** Inside a python function, plug some ansatz and make plots of the first $4$ stationary states, $\\Psi(x,0)$, at time $t=0$. **Hint:** Note that these have to be energy eigenstates.\n",
    "\n",
    "**(1.5 point) (h)** Now append the wiggle factor, call the above function for different times, and create a movie with $4$ panels showing how the first $4$ stationary states $\\Psi(x,t)$ evolve in time. Add a time stamp to the movies."
   ]
  },
  {
   "cell_type": "markdown",
   "id": "f1cb1146",
   "metadata": {},
   "source": [
    "## PART 2 (individual or in pairs, take-home)"
   ]
  }
 ],
 "metadata": {
  "kernelspec": {
   "display_name": "Python 3",
   "language": "python",
   "name": "python3"
  },
  "language_info": {
   "codemirror_mode": {
    "name": "ipython",
    "version": 3
   },
   "file_extension": ".py",
   "mimetype": "text/x-python",
   "name": "python",
   "nbconvert_exporter": "python",
   "pygments_lexer": "ipython3",
   "version": "3.7.10"
  }
 },
 "nbformat": 4,
 "nbformat_minor": 5
}
