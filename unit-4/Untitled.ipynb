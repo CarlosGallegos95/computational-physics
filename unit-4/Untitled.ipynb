{
 "cells": [
  {
   "cell_type": "code",
   "execution_count": 1,
   "id": "27c3d83d",
   "metadata": {},
   "outputs": [],
   "source": [
    "import numpy as np\n",
    "from numpy import *\n",
    "import matplotlib.pyplot as plt\n",
    "import random"
   ]
  },
  {
   "cell_type": "code",
   "execution_count": 2,
   "id": "f28728f3",
   "metadata": {},
   "outputs": [],
   "source": [
    "lambda1 = 0.01                                   # Decay constant\n",
    "n_max = 10\n",
    "time_max = 1000\n",
    "seed = 68111\n",
    "\n",
    "number = nloop = n_max                             # Initial value\n",
    "\n",
    "y = np.zeros(time_max)\n",
    "t = np.zeros(time_max)\n"
   ]
  },
  {
   "cell_type": "code",
   "execution_count": 3,
   "id": "a8b0b3c1",
   "metadata": {},
   "outputs": [],
   "source": [
    "import os"
   ]
  },
  {
   "cell_type": "code",
   "execution_count": 4,
   "id": "4ebb0d69",
   "metadata": {},
   "outputs": [],
   "source": [
    "for time in range(0, time_max):                 # Time loop\n",
    "    \n",
    "    for atom in range(1, number):              # Decay loop\n",
    "        decay = random.random()   \n",
    "        if (decay  <  lambda1):\n",
    "            nloop = nloop  -  1                  # A decay\n",
    "            frequency = 600 # Hertz\n",
    "            duration  = 100 # milliseconds\n",
    "            os.system('play -n synth %s sin %s' % (duration/1000, frequency))\n",
    "            \n",
    "    number  = nloop\n",
    "    y[time] = nloop\n",
    "    t[time] = time"
   ]
  },
  {
   "cell_type": "code",
   "execution_count": 5,
   "id": "de038988",
   "metadata": {},
   "outputs": [
    {
     "name": "stdout",
     "output_type": "stream",
     "text": [
      "10\n"
     ]
    }
   ],
   "source": [
    "print(n_max)"
   ]
  },
  {
   "cell_type": "code",
   "execution_count": 6,
   "id": "dec74271",
   "metadata": {},
   "outputs": [
    {
     "data": {
      "image/png": "[encoded data removed]",
      "text/plain": [
       "<Figure size 640x480 with 1 Axes>"
      ]
     },
     "metadata": {},
     "output_type": "display_data"
    }
   ],
   "source": [
    "plt.plot(t, np.log(y))    \n",
    "#plt.title(\"Spontaneous Decay\")\n",
    "\n",
    "plt.plot(t, np.log(n_max*np.exp(-lambda1*t)))\n",
    "plt.xlabel(\"Time\")\n",
    "plt.ylabel(\"N\")\n",
    "\n",
    "plt.ylim(-1, 12)\n",
    "plt.show()"
   ]
  },
  {
   "cell_type": "code",
   "execution_count": null,
   "id": "67204959",
   "metadata": {},
   "outputs": [],
   "source": []
  },
  {
   "cell_type": "code",
   "execution_count": null,
   "id": "245bebe5",
   "metadata": {},
   "outputs": [],
   "source": []
  },
  {
   "cell_type": "code",
   "execution_count": null,
   "id": "ad73ff30",
   "metadata": {},
   "outputs": [],
   "source": []
  }
 ],
 "metadata": {
  "kernelspec": {
   "display_name": "Python 3",
   "language": "python",
   "name": "python3"
  },
  "language_info": {
   "codemirror_mode": {
    "name": "ipython",
    "version": 3
   },
   "file_extension": ".py",
   "mimetype": "text/x-python",
   "name": "python",
   "nbconvert_exporter": "python",
   "pygments_lexer": "ipython3",
   "version": "3.7.10"
  }
 },
 "nbformat": 4,
 "nbformat_minor": 5
}
