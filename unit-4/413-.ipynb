{
 "cells": [
  {
   "cell_type": "markdown",
   "id": "254a8c33",
   "metadata": {},
   "source": [
    "# Monte Carlo methods\n",
    "\n",
    "They are a broad class of computational algorithms that rely on repeated random sampling to obtain numerical results.\n",
    "\n",
    "\n",
    "The underlying concept is to use randomness to solve problems that might be deterministic in principle.\n",
    "\n",
    "\n",
    "They are often used in physical and mathematical problems and are most useful when it is difficult or impossible to use other approaches.\n",
    " \n",
    "\n",
    "Monte Carlo methods are mainly used in three problem classes:\n",
    "\n",
    "- optimization\n",
    "\n",
    "- numerical integration\n",
    "\n",
    "- generating draws from a probability distribution."
   ]
  },
  {
   "cell_type": "markdown",
   "id": "4331f504",
   "metadata": {},
   "source": [
    "## Applications in physics:\n",
    "\n",
    "In physics-related problems, Monte Carlo methods are useful for simulating systems with many coupled degrees of freedom:\n",
    "\n",
    "- Fluids\n",
    "\n",
    "- Disordered materials\n",
    "\n",
    "- Strongly coupled solids\n",
    "\n",
    "- Cellular structures"
   ]
  },
  {
   "cell_type": "markdown",
   "id": "6ac2b175",
   "metadata": {},
   "source": [
    "## Monte Carlo approach:\n",
    "\n",
    "The (general) method consists of the following steps:\n",
    "\n",
    "1. Define a domain of possible inputs.\n",
    "\n",
    "2. Generate inputs randomly from a probability distribution over the domain.\n",
    "\n",
    "3. Perform a deterministic computation on the inputs\n",
    "\n",
    "4. Aggregate the results"
   ]
  },
  {
   "cell_type": "markdown",
   "id": "25414d02",
   "metadata": {},
   "source": [
    "## An example:\n",
    "\n",
    "For example, consider a circle inscribed in a unit square ($r=1$)\n",
    "\n",
    "Given that the ratio of their areas is $\\pi/4$, the value of $\\pi$ can be approximated using a Monte Carlo method:\n",
    "\n",
    "1. Draw a square, then inscribe a circle within it.\n",
    "\n",
    "\n",
    "2. Uniformly scatter a given number of points over the square.\n",
    "\n",
    "\n",
    "3. Count the number of points inside the circle, i.e. having a distance from the origin of less than $r=1$.\n",
    "\n",
    "\n",
    "4. The ratio of the inside-count and the total-sample-count is an estimate of the ratio of the two areas. Aggregating the results yields our final result, the approximation of $\\pi$.\n",
    "\n",
    "\n",
    "$\\pi =\\frac{A_{\\rm circle}}{A_{\\rm square}}$\n",
    "\n",
    "The areas are proportional to the number of points."
   ]
  },
  {
   "cell_type": "markdown",
   "id": "76399aeb",
   "metadata": {},
   "source": [
    "### 1. Draw a square, then inscribe a circle within it."
   ]
  },
  {
   "cell_type": "code",
   "execution_count": null,
   "id": "87a7ce4a",
   "metadata": {},
   "outputs": [],
   "source": [
    "import numpy as np\n",
    "import matplotlib.pyplot as plt"
   ]
  },
  {
   "cell_type": "code",
   "execution_count": null,
   "id": "3fcb823d",
   "metadata": {},
   "outputs": [],
   "source": [
    "# Fix radius of circle\n",
    "rad_circle = 1."
   ]
  },
  {
   "cell_type": "code",
   "execution_count": null,
   "id": "6cfef157",
   "metadata": {},
   "outputs": [],
   "source": [
    "# We need x and y\n",
    "\n",
    "x_circle = np.linspace(0, rad_circle, 1000, endpoint = True)\n",
    "\n",
    "y_circle = np.sqrt(rad_circle**2 - x_circle**2)\n",
    "\n",
    "print(x_circle.shape, y_circle.shape)"
   ]
  },
  {
   "cell_type": "code",
   "execution_count": null,
   "id": "4aa2b523",
   "metadata": {},
   "outputs": [],
   "source": [
    "plt.figure(figsize = (6,6))\n",
    "plt.plot(x_circle, y_circle)\n",
    "plt.xlim(0,1)\n",
    "plt.ylim(0,1)\n",
    "plt.show()"
   ]
  },
  {
   "cell_type": "markdown",
   "id": "1abb0e0c",
   "metadata": {},
   "source": [
    "### 2. Uniformly scatter a given number of points over the square"
   ]
  },
  {
   "cell_type": "code",
   "execution_count": null,
   "id": "bb29234e",
   "metadata": {},
   "outputs": [],
   "source": [
    "number_points = 100000"
   ]
  },
  {
   "cell_type": "code",
   "execution_count": null,
   "id": "20f6eadd",
   "metadata": {},
   "outputs": [],
   "source": [
    "# random() provides numbers between 0 and 1\n",
    "from random import random, randint"
   ]
  },
  {
   "cell_type": "code",
   "execution_count": null,
   "id": "0f8c39e1",
   "metadata": {},
   "outputs": [],
   "source": [
    "print(random())"
   ]
  },
  {
   "cell_type": "code",
   "execution_count": null,
   "id": "8e2dee07",
   "metadata": {},
   "outputs": [],
   "source": [
    "# Function to generate points randomly to the domain\n",
    "\n",
    "def add_points(rad_circle):\n",
    "    points_x = random()*rad_circle\n",
    "    points_y = random()*rad_circle  \n",
    "    return points_x, points_y    "
   ]
  },
  {
   "cell_type": "code",
   "execution_count": null,
   "id": "1eb547b5",
   "metadata": {},
   "outputs": [],
   "source": [
    "print(add_points(rad_circle))"
   ]
  },
  {
   "cell_type": "code",
   "execution_count": null,
   "id": "082c1eda",
   "metadata": {},
   "outputs": [],
   "source": [
    "# Empty lists of coord. to filled up\n",
    "dots_x = []\n",
    "dots_y = []\n",
    "\n",
    "for j in range(number_points):\n",
    "    dots_x.append(add_points(rad_circle)[0])\n",
    "    dots_y.append(add_points(rad_circle)[1])\n",
    "\n",
    "#print(len(dots_x), len(dots_y))\n",
    "\n",
    "dots_x = np.array(dots_x)\n",
    "dots_y = np.array(dots_y)\n",
    "\n",
    "#print(dots_y.shape)"
   ]
  },
  {
   "cell_type": "code",
   "execution_count": null,
   "id": "ce0b6cb8",
   "metadata": {},
   "outputs": [],
   "source": [
    "plt.figure(figsize = (6,6))\n",
    "plt.plot(x_circle, y_circle)\n",
    "plt.scatter(dots_x, dots_y, color = 'red')\n",
    "plt.xlim(0,1)\n",
    "plt.ylim(0,1)\n",
    "plt.show()"
   ]
  },
  {
   "cell_type": "markdown",
   "id": "7df5dc79",
   "metadata": {},
   "source": [
    "### 3. Count the number of points inside the circle, i.e. having a distance from the origin of less than  𝑟=1 ."
   ]
  },
  {
   "cell_type": "code",
   "execution_count": null,
   "id": "01a728c4",
   "metadata": {},
   "outputs": [],
   "source": [
    "# Moduli of the dots\n",
    "\n",
    "mod_dots = np.sqrt(dots_x**2 + dots_y**2)"
   ]
  },
  {
   "cell_type": "code",
   "execution_count": null,
   "id": "407f4a1d",
   "metadata": {},
   "outputs": [],
   "source": [
    "print(dots_x[9], dots_y[9], mod_dots[9])"
   ]
  },
  {
   "cell_type": "code",
   "execution_count": null,
   "id": "69092e93",
   "metadata": {},
   "outputs": [],
   "source": [
    "np.sqrt(0.404187509639062**2+ 0.07151161550141871**2)"
   ]
  },
  {
   "cell_type": "code",
   "execution_count": null,
   "id": "b67dc32d",
   "metadata": {},
   "outputs": [],
   "source": [
    "# Conditionals:\n",
    "\n",
    "# For dots inside the circle:\n",
    "dots_inside_x = dots_x[np.where(mod_dots <= rad_circle)]\n",
    "dots_inside_y = dots_y[np.where(mod_dots <= rad_circle)]\n",
    "\n",
    "# For dots outside the circle:\n",
    "dots_outside_x = dots_x[np.where(mod_dots > rad_circle)]\n",
    "dots_outside_y = dots_y[np.where(mod_dots > rad_circle)]\n",
    "\n",
    "#print(dots_outside_x, dots_outside_y)"
   ]
  },
  {
   "cell_type": "code",
   "execution_count": null,
   "id": "2924ad01",
   "metadata": {},
   "outputs": [],
   "source": [
    "plt.figure(figsize = (6,6))\n",
    "plt.plot(x_circle, y_circle)\n",
    "plt.scatter(dots_inside_x, dots_inside_y, color = 'red')\n",
    "plt.scatter(dots_outside_x, dots_outside_y, color = 'green', marker = 'd')\n",
    "plt.xlim(0,1)\n",
    "plt.ylim(0,1)\n",
    "plt.show()"
   ]
  },
  {
   "cell_type": "markdown",
   "id": "0bbec896",
   "metadata": {},
   "source": [
    "### 4. The ratio of the inside-count and the total-sample-count is an estimate of the ratio of the two areas. Aggregating the results yields our final result, the approximation of $\\pi$.\n",
    "\n",
    "\n",
    "$\\pi =\\frac{A_{\\rm circle}}{A_{\\rm square}}= 4\\frac{points_{circle}}{total_{points}}$\n",
    "\n",
    "The areas are proportional to the number of points."
   ]
  },
  {
   "cell_type": "code",
   "execution_count": null,
   "id": "ac43ffb6",
   "metadata": {},
   "outputs": [],
   "source": [
    "area_circle = len(dots_inside_x)\n",
    "area_total = len(dots_inside_x) + len(dots_outside_x)\n",
    "\n",
    "print(area_circle, area_total)"
   ]
  },
  {
   "cell_type": "code",
   "execution_count": null,
   "id": "eecbffa2",
   "metadata": {},
   "outputs": [],
   "source": [
    "# Now we print PI:\n",
    "\n",
    "number_pi = 4*area_circle/area_total\n",
    "\n",
    "print(\"Our Monte Carlo simulation indicates that PI is:\", number_pi)"
   ]
  },
  {
   "cell_type": "markdown",
   "id": "3f2251e1",
   "metadata": {},
   "source": [
    "### Show convergence:"
   ]
  },
  {
   "cell_type": "code",
   "execution_count": null,
   "id": "1425dfd1",
   "metadata": {
    "scrolled": false
   },
   "outputs": [],
   "source": [
    "# Iterate for different values of number_points\n",
    "\n",
    "number_points = 10\n",
    "\n",
    "pi_numbers = []\n",
    "kk_numbers = []\n",
    "\n",
    "for k in range(1, number_points):\n",
    "\n",
    "    # Empty lists of coord. to filled up\n",
    "    dots_x = []\n",
    "    dots_y = []\n",
    "\n",
    "    for j in range(10**k):\n",
    "        dots_x.append(add_points(rad_circle)[0])\n",
    "        dots_y.append(add_points(rad_circle)[1])\n",
    "\n",
    "    #print(len(dots_x), len(dots_y))\n",
    "\n",
    "    dots_x = np.array(dots_x)\n",
    "    dots_y = np.array(dots_y)\n",
    "\n",
    "    # Moduli of the dots\n",
    "\n",
    "    mod_dots = np.sqrt(dots_x**2 + dots_y**2)\n",
    "\n",
    "    # Conditionals:\n",
    "\n",
    "    # For dots inside the circle:\n",
    "    dots_inside_x = dots_x[np.where(mod_dots <= rad_circle)]\n",
    "    dots_inside_y = dots_y[np.where(mod_dots <= rad_circle)]\n",
    "\n",
    "    # For dots outside the circle:\n",
    "    dots_outside_x = dots_x[np.where(mod_dots > rad_circle)]\n",
    "    dots_outside_y = dots_y[np.where(mod_dots > rad_circle)]\n",
    "\n",
    "    plt.figure(figsize = (6,6))\n",
    "    plt.plot(x_circle, y_circle)\n",
    "    plt.scatter(dots_inside_x, dots_inside_y, color = 'red')\n",
    "    plt.scatter(dots_outside_x, dots_outside_y, color = 'green', marker = 'd')\n",
    "    plt.xlim(0,1)\n",
    "    plt.ylim(0,1)\n",
    "    plt.show()\n",
    "\n",
    "    #Areas\n",
    "    area_circle = len(dots_inside_x)\n",
    "    area_total = len(dots_inside_x) + len(dots_outside_x)\n",
    "\n",
    "    #print(area_circle, area_total)\n",
    "\n",
    "    # Now we print PI:\n",
    "\n",
    "    number_pi = 4*area_circle/area_total\n",
    "\n",
    "    print(\"Our Monte Carlo simulation indicates that PI is:\", number_pi)\n",
    "    \n",
    "    pi_numbers.append(number_pi)\n",
    "    kk_numbers.append(k*1000)"
   ]
  },
  {
   "cell_type": "code",
   "execution_count": null,
   "id": "f9f76208",
   "metadata": {},
   "outputs": [],
   "source": [
    "print(kk_numbers)\n",
    "\n",
    "print(pi_numbers)\n"
   ]
  },
  {
   "cell_type": "code",
   "execution_count": null,
   "id": "eff88b3c",
   "metadata": {},
   "outputs": [],
   "source": [
    "plt.figure(figsize =(4,4))\n",
    "\n",
    "plt.plot(kk_numbers, pi_numbers)\n",
    "\n",
    "plt.show()"
   ]
  },
  {
   "cell_type": "code",
   "execution_count": null,
   "id": "6863d6b5",
   "metadata": {},
   "outputs": [],
   "source": []
  }
 ],
 "metadata": {
  "kernelspec": {
   "display_name": "Python 3",
   "language": "python",
   "name": "python3"
  },
  "language_info": {
   "codemirror_mode": {
    "name": "ipython",
    "version": 3
   },
   "file_extension": ".py",
   "mimetype": "text/x-python",
   "name": "python",
   "nbconvert_exporter": "python",
   "pygments_lexer": "ipython3",
   "version": "3.7.10"
  }
 },
 "nbformat": 4,
 "nbformat_minor": 5
}
