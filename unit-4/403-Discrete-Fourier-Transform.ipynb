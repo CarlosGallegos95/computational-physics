{
 "cells": [
  {
   "cell_type": "markdown",
   "id": "8ba538cc",
   "metadata": {},
   "source": [
    "# Fourier transforms\n",
    "\n",
    "A Fourier transform (FT) is a mathematical transform that decomposes functions depending on space or time into functions depending on spatial frequency or temporal frequency. \n",
    "\n",
    "\n",
    "$\\hat{f}(\\xi) = \\int_{-\\infty}^{\\infty} f(x)\\ e^{-i 2\\pi \\xi x}\\,dx,\\quad \\forall\\ \\xi \\in \\mathbb R.$\n",
    "\n",
    "\n",
    "### Inverse Fourier transform:\n",
    "\n",
    "$f(x) = \\int_{-\\infty}^{\\infty} \\hat f(\\xi)\\ e^{i 2 \\pi \\xi x}\\,d\\xi,\\quad \\forall\\ x \\in \\mathbb R$"
   ]
  },
  {
   "cell_type": "markdown",
   "id": "12bfdaf3",
   "metadata": {},
   "source": [
    "# Discrete Fourier transforms (DFT):\n",
    "\n",
    "Sometime we don't have analytical functions, but discrete data and we may be interested in characterising the spectral information of such data.\n",
    "\n",
    "The discrete-time Fourier transform of a discrete sequence of real or complex numbers $x[n]$, for all integers $n$, is a Fourier series, which produces a periodic function of a frequency variable. When the frequency variable, $\\omega$, has normalized units of radians/sample, the periodicity is $2\\pi$, and the Fourier series is:\n",
    "\n",
    "To do this, we can carry out a Discrete Fourier Transform (DFT), defined as:\n",
    "\n",
    "$\\chi(k) =\\sum_{n=0}^{N-1}x(n)\\,e^{\\frac{-i\\,2\\pi\\,k\\,n}{N}}$\n",
    "\n",
    "where $k=0, ..., N-1$, where\n",
    "\n",
    "$N$ = number of samples\n",
    "\n",
    "$n$ = current sample\n",
    "\n",
    "$k$ = current frequency, where $𝑘\\in[0,N−1]$\n",
    "\n",
    "$x_n$ = the sine value at sample $n$.\n",
    "\n",
    "$\\chi_k$ = The DFT which includes information of both amplitude and phase.\n",
    "\n",
    "$\\chi_k$ is a complex number that encodes both the amplitude and phase information of a complex sinusoidal component $e^{i\\cdot 2\\pi kn/N}$ of function $x(n)$.\n",
    "\n",
    "\n",
    "The amplitude and phase of the signal can be calculated as:\n",
    "\n",
    "$$A = \\frac{|X_k|}{N}= \\frac{\\sqrt{Re(X_k)^2 + Im(X_k)^2}}{N}$$\n",
    "\n",
    "\n",
    "$$\\phi = atan2(Im(X_k), Re(X_k))$$\n",
    "\n",
    "\n",
    "where $Im(X_k)$ and $Re(X_k)$ are the imagery and real part of the complex number, $atan2$ is the two-argument form of the $arctan$ function. \n"
   ]
  },
  {
   "cell_type": "code",
   "execution_count": 1,
   "id": "5a9b37b4",
   "metadata": {},
   "outputs": [],
   "source": [
    "import numpy as np\n",
    "import matplotlib.pyplot as plt"
   ]
  },
  {
   "cell_type": "markdown",
   "id": "a2ca1487",
   "metadata": {},
   "source": [
    "$\\chi(k) =\\sum_{n=0}^{N-1}x(n)\\,e^{\\frac{-i\\,2\\pi\\,k\\,n}{N}}$"
   ]
  },
  {
   "cell_type": "code",
   "execution_count": 2,
   "id": "462d8108",
   "metadata": {},
   "outputs": [],
   "source": [
    "def DFT_function(signal):\n",
    "    \n",
    "    N = len(signal)\n",
    "    n = np.arange(0, N)\n",
    "    k = n.reshape((N, 1))\n",
    "    \n",
    "    exp_term = np.exp(-2j*np.pi*k*n/N)\n",
    "    \n",
    "    chi = np.dot(exp_term, signal)\n",
    "    \n",
    "    return chi"
   ]
  },
  {
   "cell_type": "markdown",
   "id": "7d35353e",
   "metadata": {},
   "source": [
    "### Example 1:\n",
    "\n",
    "Find the DFT of x = (0, 1, 2, 3)"
   ]
  },
  {
   "cell_type": "code",
   "execution_count": 3,
   "id": "d79e8292",
   "metadata": {},
   "outputs": [
    {
     "name": "stdout",
     "output_type": "stream",
     "text": [
      "[0 1 2 3]\n"
     ]
    }
   ],
   "source": [
    "signal_1 = np.arange(0, 4, 1)\n",
    "print(signal_1)"
   ]
  },
  {
   "cell_type": "code",
   "execution_count": 4,
   "id": "be308b81",
   "metadata": {},
   "outputs": [
    {
     "name": "stdout",
     "output_type": "stream",
     "text": [
      "[ 6.+0.00000000e+00j -2.+2.00000000e+00j -2.-7.34788079e-16j\n",
      " -2.-2.00000000e+00j]\n"
     ]
    }
   ],
   "source": [
    "fourier_1 = DFT_function(signal_1)\n",
    "\n",
    "print(fourier_1)"
   ]
  },
  {
   "cell_type": "markdown",
   "id": "7cbdaf1b",
   "metadata": {},
   "source": [
    "## DFT using numpy.fft():\n",
    "\n",
    "https://numpy.org/doc/stable/reference/generated/numpy.fft.fft.html\n",
    "\n",
    "https://numpy.org/doc/stable/reference/generated/numpy.fft.fftfreq.html"
   ]
  },
  {
   "cell_type": "code",
   "execution_count": 5,
   "id": "5f1bf0c6",
   "metadata": {},
   "outputs": [
    {
     "name": "stdout",
     "output_type": "stream",
     "text": [
      "[ 6.+0.j -2.+2.j -2.+0.j -2.-2.j]\n",
      "[ 0.    0.25 -0.5  -0.25]\n"
     ]
    }
   ],
   "source": [
    "fourier_2 = np.fft.fft(signal_1)\n",
    "\n",
    "print(fourier_2)\n",
    "\n",
    "\n",
    "#frequencies:\n",
    "freqs_2 = np.fft.fftfreq(signal_1.size, d=1) # d = 1 in this case, so it is ommitted\n",
    "\n",
    "print(freqs_2)"
   ]
  },
  {
   "cell_type": "markdown",
   "id": "0b205f6c",
   "metadata": {},
   "source": [
    "## DFT using scipy.fft():\n",
    "\n",
    "https://docs.scipy.org/doc/scipy/tutorial/fft.html"
   ]
  },
  {
   "cell_type": "code",
   "execution_count": 6,
   "id": "81cb940b",
   "metadata": {},
   "outputs": [],
   "source": [
    "from scipy import fft"
   ]
  },
  {
   "cell_type": "code",
   "execution_count": 7,
   "id": "d8bf1f64",
   "metadata": {},
   "outputs": [
    {
     "name": "stdout",
     "output_type": "stream",
     "text": [
      "[ 6.-0.j -2.+2.j -2.-0.j -2.-2.j]\n",
      "[ 0.    0.25 -0.5  -0.25]\n"
     ]
    }
   ],
   "source": [
    "fourier_3 = fft.fft(signal_1)\n",
    "\n",
    "print(fourier_3)\n",
    "\n",
    "#frequencies:\n",
    "freqs_3 = fft.fftfreq(signal_1.size)\n",
    "\n",
    "print(freqs_3)"
   ]
  },
  {
   "cell_type": "markdown",
   "id": "3501a6b9",
   "metadata": {},
   "source": [
    "## Inverse DFT\n",
    "\n",
    "$x(n)= \\frac{1}{N}\\sum^{N-1}_{k=0}X_k\\,e^{i\\,2\\pi\\,k\\,n/N}$\n",
    "\n"
   ]
  },
  {
   "cell_type": "code",
   "execution_count": 8,
   "id": "04ae7a22",
   "metadata": {},
   "outputs": [],
   "source": [
    "def invDFT_function(any_fourier):\n",
    "    \n",
    "    N = len(any_fourier)\n",
    "    \n",
    "    n = np.arange(0, N)\n",
    "    \n",
    "    k = n.reshape((N, 1))\n",
    "    \n",
    "    exp_term = np.exp(2j * np.pi * k * n / N)\n",
    "    \n",
    "    x_n = np.dot(exp_term, any_fourier)\n",
    "    \n",
    "    return x_n/N"
   ]
  },
  {
   "cell_type": "markdown",
   "id": "65cfa7d2",
   "metadata": {},
   "source": [
    "### For our first example:"
   ]
  },
  {
   "cell_type": "code",
   "execution_count": 9,
   "id": "da53098a",
   "metadata": {},
   "outputs": [
    {
     "name": "stdout",
     "output_type": "stream",
     "text": [
      "x_n = [5.1191594e-16 1.0000000e+00 2.0000000e+00 3.0000000e+00]\n"
     ]
    }
   ],
   "source": [
    "x_n1 = invDFT_function(fourier_1)\n",
    "\n",
    "print(\"x_n =\", np.abs(x_n1))"
   ]
  },
  {
   "cell_type": "markdown",
   "id": "03216ecd",
   "metadata": {},
   "source": [
    "### Example 2:\n",
    "\n",
    "Calculate the DFT of the following series using our own function:\n",
    "\n",
    "$y(t)=\\sum_i^n i\\,\\cos(i\\alpha\\,t)$, with $\\alpha = 20\\pi$\n",
    "\n",
    "We already know the answer since we computed this using np.fft here:\n",
    "\n",
    "https://github.com/wbandabarragan/computational-physics-1/blob/main/unit-4/401-Fourier-Analysis.ipynb"
   ]
  },
  {
   "cell_type": "code",
   "execution_count": 10,
   "id": "40b4b732",
   "metadata": {},
   "outputs": [],
   "source": [
    "def function_series(t, a, n):\n",
    "    # t - time axis\n",
    "    # a = 20*pi\n",
    "    # n is a free parameter, from 0 to n\n",
    "    \n",
    "    nu = []\n",
    "    f = np.zeros(t.size)\n",
    "    \n",
    "    for i in range(n+1):\n",
    "        \n",
    "        y = i*np.cos(i*a*t)\n",
    "        \n",
    "        #Analytical frequencies\n",
    "        nu.append(i*a/(2*np.pi))\n",
    "        \n",
    "        f += y\n",
    "        \n",
    "    nu = np.array(nu)    \n",
    "    return f, nu"
   ]
  },
  {
   "cell_type": "markdown",
   "id": "943a290c",
   "metadata": {},
   "source": [
    "### Axes:"
   ]
  },
  {
   "cell_type": "code",
   "execution_count": 11,
   "id": "34252ebe",
   "metadata": {},
   "outputs": [
    {
     "name": "stdout",
     "output_type": "stream",
     "text": [
      "31416\n"
     ]
    }
   ],
   "source": [
    "# sampling rate\n",
    "s_rate = 10000\n",
    "\n",
    "# sampling interval\n",
    "t_s = 1.0/s_rate\n",
    "\n",
    "# x-axis\n",
    "t = np.arange(0,np.pi,t_s)\n",
    "\n",
    "print(t.size)\n",
    "\n",
    "# Frequencies and n=5\n",
    "\n",
    "n = 5\n",
    "w = 20*np.pi\n",
    "\n",
    "yy, nu = function_series(t, w, n)"
   ]
  },
  {
   "cell_type": "markdown",
   "id": "bdd2fcee",
   "metadata": {},
   "source": [
    "### Frequencies:"
   ]
  },
  {
   "cell_type": "code",
   "execution_count": 12,
   "id": "0c502e70",
   "metadata": {},
   "outputs": [
    {
     "name": "stdout",
     "output_type": "stream",
     "text": [
      "frequencies in Hz: [ 0. 10. 20. 30. 40. 50.]\n"
     ]
    }
   ],
   "source": [
    "print(\"frequencies in Hz:\", nu)"
   ]
  },
  {
   "cell_type": "markdown",
   "id": "4ddc1dac",
   "metadata": {},
   "source": [
    "### Signal plot:"
   ]
  },
  {
   "cell_type": "code",
   "execution_count": 13,
   "id": "1d673f10",
   "metadata": {},
   "outputs": [
    {
     "data": {
      "image/png": "[encoded data removed]",
      "text/plain": [
       "<Figure size 1000x600 with 1 Axes>"
      ]
     },
     "metadata": {},
     "output_type": "display_data"
    }
   ],
   "source": [
    "#plotting\n",
    "axes_range = [0, 0.5, -10, 20]\n",
    "plt.figure(figsize = (10, 6))\n",
    "\n",
    "plt.plot(t, yy)\n",
    "\n",
    "plt.title('Linear combination')\n",
    "\n",
    "plt.xlabel('t(s)')\n",
    "plt.ylabel('signal -> f(t)')\n",
    "plt.axis(axes_range)\n",
    "plt.grid()\n",
    "plt.show()"
   ]
  },
  {
   "cell_type": "markdown",
   "id": "52f1aeb2",
   "metadata": {},
   "source": [
    "### Fourier transform:"
   ]
  },
  {
   "cell_type": "code",
   "execution_count": null,
   "id": "6fb17069",
   "metadata": {},
   "outputs": [],
   "source": [
    "#Fourier transform using our own function\n",
    "\n",
    "X_fourier = DFT_function(yy)"
   ]
  },
  {
   "cell_type": "code",
   "execution_count": null,
   "id": "94e4d68b",
   "metadata": {},
   "outputs": [],
   "source": [
    "print(X_fourier)"
   ]
  },
  {
   "cell_type": "markdown",
   "id": "40cc83b6",
   "metadata": {},
   "source": [
    "### Frequencies:"
   ]
  },
  {
   "cell_type": "code",
   "execution_count": null,
   "id": "89dc94b3",
   "metadata": {},
   "outputs": [],
   "source": [
    "N = len(X_fourier)\n",
    "print(N)\n",
    "\n",
    "n = np.arange(N)\n",
    "print(n)\n",
    "\n",
    "T = N/s_rate\n",
    "print(T)\n",
    "\n",
    "freq = n/T"
   ]
  },
  {
   "cell_type": "markdown",
   "id": "94b3730f",
   "metadata": {},
   "source": [
    "### Fourier plot:"
   ]
  },
  {
   "cell_type": "code",
   "execution_count": null,
   "id": "c350236c",
   "metadata": {},
   "outputs": [],
   "source": [
    "plt.figure(figsize=(8,6))\n",
    "\n",
    "plt.plot(freq, abs(X_fourier))\n",
    "\n",
    "plt.xlabel('Freq (Hz)')\n",
    "plt.ylabel('DFT Amplitude |X(freq)|')\n",
    "plt.show()"
   ]
  },
  {
   "cell_type": "markdown",
   "id": "07b4e841",
   "metadata": {},
   "source": [
    "### Characteristic frequencies:"
   ]
  },
  {
   "cell_type": "code",
   "execution_count": null,
   "id": "25eaaac8",
   "metadata": {},
   "outputs": [],
   "source": [
    "plt.figure(figsize=(8,6))\n",
    "\n",
    "plt.plot(freq[:N//2], (abs(X_fourier)[:N//2])/(N//2))\n",
    "\n",
    "plt.xlabel('Freq (Hz)')\n",
    "plt.ylabel('DFT Amplitude |X(freq)|')\n",
    "plt.xlim(0,100)\n",
    "plt.show()"
   ]
  },
  {
   "cell_type": "code",
   "execution_count": null,
   "id": "f17400ce",
   "metadata": {},
   "outputs": [],
   "source": [
    "plt.figure(figsize=(8,6))\n",
    "\n",
    "plt.stem(freq[:N//2], (abs(X_fourier)[:N//2])/(N//2), \"b\", markerfmt=\" \", basefmt=\"-b\")\n",
    "\n",
    "plt.xlabel('Freq (Hz)')\n",
    "plt.ylabel('DFT Amplitude |X(freq)|')\n",
    "plt.xlim(0,100)\n",
    "plt.show()"
   ]
  }
 ],
 "metadata": {
  "kernelspec": {
   "display_name": "Python 3 (ipykernel)",
   "language": "python",
   "name": "python3"
  },
  "language_info": {
   "codemirror_mode": {
    "name": "ipython",
    "version": 3
   },
   "file_extension": ".py",
   "mimetype": "text/x-python",
   "name": "python",
   "nbconvert_exporter": "python",
   "pygments_lexer": "ipython3",
   "version": "3.7.16"
  }
 },
 "nbformat": 4,
 "nbformat_minor": 5
}
