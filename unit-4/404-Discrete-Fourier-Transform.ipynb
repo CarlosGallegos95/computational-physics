{
 "cells": [
  {
   "cell_type": "markdown",
   "id": "8ba538cc",
   "metadata": {},
   "source": [
    "# Fourier transforms\n",
    "\n",
    "A Fourier transform (FT) is a mathematical transform that decomposes functions depending on space or time into functions depending on spatial frequency or temporal frequency. \n",
    "\n",
    "\n",
    "$\\hat{f}(\\xi) = \\int_{-\\infty}^{\\infty} f(x)\\ e^{-i 2\\pi \\xi x}\\,dx,\\quad \\forall\\ \\xi \\in \\mathbb R.$\n",
    "\n",
    "\n",
    "### Inverse Fourier transform:\n",
    "\n",
    "$f(x) = \\int_{-\\infty}^{\\infty} \\hat f(\\xi)\\ e^{i 2 \\pi \\xi x}\\,d\\xi,\\quad \\forall\\ x \\in \\mathbb R$"
   ]
  },
  {
   "cell_type": "markdown",
   "id": "12bfdaf3",
   "metadata": {},
   "source": [
    "# Discrete Fourier transforms (DFT):\n",
    "\n",
    "Sometime we don't have analytical functions, but discrete data and we may be interested in characterising the spectral information of such data.\n",
    "\n",
    "The discrete-time Fourier transform of a discrete sequence of real or complex numbers $x[n]$, for all integers $n$, is a Fourier series, which produces a periodic function of a frequency variable. When the frequency variable, $\\omega$, has normalized units of radians/sample, the periodicity is $2\\pi$, and the Fourier series is:\n",
    "\n",
    "To do this, we can carry out a Discrete Fourier Transform (DFT), defined as:\n",
    "\n",
    "$\\chi(k) =\\sum_{n=0}^{N-1}x(n)\\,e^{\\frac{-i\\,2\\pi\\,k\\,n}{N}}$\n",
    "\n",
    "where $k=0, ..., N-1$, where\n",
    "\n",
    "$N$ = number of samples\n",
    "\n",
    "$n$ = current sample\n",
    "\n",
    "$k$ = current frequency, where $𝑘\\in[0,N−1]$\n",
    "\n",
    "$x_n$ = the sine value at sample $n$.\n",
    "\n",
    "$\\chi_k$ = The DFT which includes information of both amplitude and phase.\n",
    "\n",
    "\n"
   ]
  },
  {
   "cell_type": "code",
   "execution_count": 1,
   "id": "5a9b37b4",
   "metadata": {},
   "outputs": [],
   "source": [
    "import numpy as np\n",
    "import matplotlib.pyplot as plt"
   ]
  },
  {
   "cell_type": "markdown",
   "id": "a2ca1487",
   "metadata": {},
   "source": [
    "$\\chi(k) =\\sum_{n=0}^{N-1}x(n)\\,e^{\\frac{-i\\,2\\pi\\,k\\,n}{N}}$"
   ]
  },
  {
   "cell_type": "code",
   "execution_count": 2,
   "id": "462d8108",
   "metadata": {},
   "outputs": [],
   "source": [
    "def DFT_function(signal):\n",
    "    \n",
    "    N = len(signal)\n",
    "    n = np.arange(0, N)\n",
    "    k = n.reshape((N, 1))\n",
    "    \n",
    "    exp_term = np.exp(-2j*np.pi*k*n/N)\n",
    "    \n",
    "    chi = np.dot(exp_term, signal)\n",
    "    \n",
    "    return chi"
   ]
  },
  {
   "cell_type": "markdown",
   "id": "7d35353e",
   "metadata": {},
   "source": [
    "### Example 1:\n",
    "\n",
    "Find the DFT of x = (0, 1, 2, 3)"
   ]
  },
  {
   "cell_type": "code",
   "execution_count": 3,
   "id": "d79e8292",
   "metadata": {},
   "outputs": [
    {
     "name": "stdout",
     "output_type": "stream",
     "text": [
      "[0 1 2 3]\n"
     ]
    }
   ],
   "source": [
    "signal_1 = np.arange(0, 4, 1)\n",
    "print(signal_1)"
   ]
  },
  {
   "cell_type": "code",
   "execution_count": 4,
   "id": "be308b81",
   "metadata": {},
   "outputs": [
    {
     "name": "stdout",
     "output_type": "stream",
     "text": [
      "[ 6.+0.00000000e+00j -2.+2.00000000e+00j -2.-7.34788079e-16j\n",
      " -2.-2.00000000e+00j]\n"
     ]
    }
   ],
   "source": [
    "fourier_1 = DFT_function(signal_1)\n",
    "\n",
    "print(fourier_1)"
   ]
  },
  {
   "cell_type": "code",
   "execution_count": null,
   "id": "9f6dbf7f",
   "metadata": {},
   "outputs": [],
   "source": []
  }
 ],
 "metadata": {
  "kernelspec": {
   "display_name": "Python 3",
   "language": "python",
   "name": "python3"
  },
  "language_info": {
   "codemirror_mode": {
    "name": "ipython",
    "version": 3
   },
   "file_extension": ".py",
   "mimetype": "text/x-python",
   "name": "python",
   "nbconvert_exporter": "python",
   "pygments_lexer": "ipython3",
   "version": "3.7.10"
  }
 },
 "nbformat": 4,
 "nbformat_minor": 5
}
