{
 "cells": [
  {
   "cell_type": "markdown",
   "id": "c893b503",
   "metadata": {},
   "source": [
    "## Gaussian smoothing:"
   ]
  },
  {
   "cell_type": "code",
   "execution_count": 1,
   "id": "a7f65ec4",
   "metadata": {},
   "outputs": [],
   "source": [
    "import numpy as np\n",
    "import matplotlib.pyplot as plt"
   ]
  },
  {
   "cell_type": "markdown",
   "id": "e7986f81",
   "metadata": {},
   "source": [
    "### Gausssian mask:"
   ]
  },
  {
   "cell_type": "code",
   "execution_count": 2,
   "id": "e21ffd46",
   "metadata": {},
   "outputs": [],
   "source": [
    "def mask_gaussian(x, y, sigma_x, sigma_y):\n",
    "    \n",
    "    return (1/(2*np.pi*sigma_x*sigma_y) * np.exp(-(x**2/(2*sigma_x**2) + y**2/(2*sigma_y**2))))"
   ]
  },
  {
   "cell_type": "markdown",
   "id": "e8a525e1",
   "metadata": {},
   "source": [
    "### Grid:"
   ]
  },
  {
   "cell_type": "code",
   "execution_count": 5,
   "id": "84b318a6",
   "metadata": {},
   "outputs": [],
   "source": [
    "sigma_x = 0.2\n",
    "sigma_y = 0.2\n",
    "\n",
    "x = np.linspace(-10, 10, 1600)  # Define x coordinates\n",
    "y = np.linspace(-10, 10, 1600)  # Define y coordinates\n",
    "\n",
    "X, Y = np.meshgrid(x, y)\n",
    "\n",
    "Z = mask_gaussian(X, Y, sigma_x, sigma_y)\n",
    "\n"
   ]
  },
  {
   "cell_type": "code",
   "execution_count": null,
   "id": "08e4e5b4",
   "metadata": {},
   "outputs": [],
   "source": [
    "plt.figure(figsize = (8,6))\n",
    "\n",
    "Z1 = plt.pcolor(Z, shading='auto', cmap =\"viridis\")\n",
    "\n",
    "plt.colorbar(Z1)\n",
    "\n",
    "plt.show()"
   ]
  },
  {
   "cell_type": "code",
   "execution_count": null,
   "id": "a1275872",
   "metadata": {},
   "outputs": [],
   "source": []
  }
 ],
 "metadata": {
  "kernelspec": {
   "display_name": "Python 3",
   "language": "python",
   "name": "python3"
  },
  "language_info": {
   "codemirror_mode": {
    "name": "ipython",
    "version": 3
   },
   "file_extension": ".py",
   "mimetype": "text/x-python",
   "name": "python",
   "nbconvert_exporter": "python",
   "pygments_lexer": "ipython3",
   "version": "3.7.10"
  }
 },
 "nbformat": 4,
 "nbformat_minor": 5
}
