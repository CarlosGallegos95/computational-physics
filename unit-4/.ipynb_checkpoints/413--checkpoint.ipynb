{
 "cells": [
  {
   "cell_type": "markdown",
   "id": "635491d0",
   "metadata": {},
   "source": [
    "# Monte Carlo methods\n",
    "\n",
    "They are a broad class of computational algorithms that rely on repeated random sampling to obtain numerical results.\n",
    "\n",
    "\n",
    "The underlying concept is to use randomness to solve problems that might be deterministic in principle.\n",
    "\n",
    "\n",
    "They are often used in physical and mathematical problems and are most useful when it is difficult or impossible to use other approaches.\n",
    " \n",
    "\n",
    "Monte Carlo methods are mainly used in three problem classes:\n",
    "\n",
    "- optimization\n",
    "\n",
    "- numerical integration\n",
    "\n",
    "- generating draws from a probability distribution."
   ]
  },
  {
   "cell_type": "markdown",
   "id": "86d5ce18",
   "metadata": {},
   "source": [
    "## Applications in physics:\n",
    "\n",
    "In physics-related problems, Monte Carlo methods are useful for simulating systems with many coupled degrees of freedom:\n",
    "\n",
    "- Fluids\n",
    "\n",
    "- Disordered materials\n",
    "\n",
    "- Strongly coupled solids\n",
    "\n",
    "- Cellular structures"
   ]
  },
  {
   "cell_type": "markdown",
   "id": "e279a921",
   "metadata": {},
   "source": [
    "## Monte Carlo approach:\n",
    "\n",
    "The (general) method consists of the following steps:\n",
    "\n",
    "1. Define a domain of possible inputs.\n",
    "\n",
    "2. Generate inputs randomly from a probability distribution over the domain.\n",
    "\n",
    "3. Perform a deterministic computation on the inputs\n",
    "\n",
    "4. Aggregate the results"
   ]
  },
  {
   "cell_type": "markdown",
   "id": "716a0046",
   "metadata": {},
   "source": [
    "## An example:\n",
    "\n",
    "For example, consider a circle inscribed in a unit square ($r=1$)\n",
    "\n",
    "Given that the ratio of their areas is $\\pi/4$, the value of $\\pi$ can be approximated using a Monte Carlo method:\n",
    "\n",
    "1. Draw a square, then inscribe a circle within it.\n",
    "\n",
    "\n",
    "2. Uniformly scatter a given number of points over the square.\n",
    "\n",
    "\n",
    "3. Count the number of points inside the circle, i.e. having a distance from the origin of less than $r=1$.\n",
    "\n",
    "\n",
    "4. The ratio of the inside-count and the total-sample-count is an estimate of the ratio of the two areas. Aggregating the results yields our final result, the approximation of $\\pi$.\n",
    "\n",
    "\n",
    "$\\pi =\\frac{A_{\\rm circle}}{A_{\\rm square}}$\n",
    "\n",
    "The areas are proportional to the number of points."
   ]
  },
  {
   "cell_type": "markdown",
   "id": "ad87d2cf",
   "metadata": {},
   "source": [
    "### 1. Draw a square, then inscribe a circle within it."
   ]
  },
  {
   "cell_type": "code",
   "execution_count": 4,
   "id": "f88f86fe",
   "metadata": {},
   "outputs": [],
   "source": [
    "import numpy as np\n",
    "import matplotlib.pyplot as plt"
   ]
  },
  {
   "cell_type": "code",
   "execution_count": 5,
   "id": "c0cfb75f",
   "metadata": {},
   "outputs": [],
   "source": [
    "# Fix radius of circle\n",
    "rad_circle = 1."
   ]
  },
  {
   "cell_type": "code",
   "execution_count": 8,
   "id": "41a92326",
   "metadata": {},
   "outputs": [
    {
     "name": "stdout",
     "output_type": "stream",
     "text": [
      "(1000,) (1000,)\n"
     ]
    }
   ],
   "source": [
    "# We need x and y\n",
    "\n",
    "x_circle = np.linspace(0, rad_circle, 1000, endpoint = True)\n",
    "\n",
    "y_circle = np.sqrt(rad_circle**2 - x_circle**2)\n",
    "\n",
    "print(x_circle.shape, y_circle.shape)"
   ]
  },
  {
   "cell_type": "code",
   "execution_count": 14,
   "id": "ca58a250",
   "metadata": {},
   "outputs": [
    {
     "data": {
      "image/png": "[encoded data removed]",
      "text/plain": [
       "<Figure size 200x200 with 1 Axes>"
      ]
     },
     "metadata": {},
     "output_type": "display_data"
    }
   ],
   "source": [
    "plt.figure(figsize = (2,2))\n",
    "plt.plot(x_circle, y_circle)\n",
    "plt.xlim(0,1)\n",
    "plt.ylim(0,1)\n",
    "plt.show()"
   ]
  },
  {
   "cell_type": "markdown",
   "id": "a3f90396",
   "metadata": {},
   "source": [
    "### 2. Uniformly scatter a given number of points over the square"
   ]
  },
  {
   "cell_type": "code",
   "execution_count": 15,
   "id": "3a5b7ab2",
   "metadata": {},
   "outputs": [],
   "source": [
    "number_points = 10"
   ]
  },
  {
   "cell_type": "code",
   "execution_count": 17,
   "id": "08655243",
   "metadata": {},
   "outputs": [],
   "source": [
    "# random() provides numbers between 0 and 1\n",
    "from random import random, randint"
   ]
  },
  {
   "cell_type": "code",
   "execution_count": 29,
   "id": "52a3cd7b",
   "metadata": {},
   "outputs": [
    {
     "name": "stdout",
     "output_type": "stream",
     "text": [
      "0.7184621990825043\n"
     ]
    }
   ],
   "source": [
    "print(random())"
   ]
  },
  {
   "cell_type": "code",
   "execution_count": 30,
   "id": "462a8380",
   "metadata": {},
   "outputs": [],
   "source": [
    "# Function to generate points randomly to the domain\n",
    "\n",
    "def add_points(rad_circle):\n",
    "    points_x = random()*rad_circle\n",
    "    points_y = random()*rad_circle  \n",
    "    return points_x, points_y    "
   ]
  },
  {
   "cell_type": "code",
   "execution_count": 45,
   "id": "cb211725",
   "metadata": {},
   "outputs": [
    {
     "name": "stdout",
     "output_type": "stream",
     "text": [
      "(0.716187550765481, 0.09119902056146612)\n"
     ]
    }
   ],
   "source": [
    "print(add_points(rad_circle))"
   ]
  },
  {
   "cell_type": "code",
   "execution_count": 51,
   "id": "9de7f8d1",
   "metadata": {},
   "outputs": [
    {
     "name": "stdout",
     "output_type": "stream",
     "text": [
      "(10,)\n"
     ]
    }
   ],
   "source": [
    "# Empty lists of coord. to filled up\n",
    "dots_x = []\n",
    "dots_y = []\n",
    "\n",
    "for j in range(number_points):\n",
    "    dots_x.append(add_points(rad_circle)[0])\n",
    "    dots_y.append(add_points(rad_circle)[1])\n",
    "\n",
    "#print(len(dots_x), len(dots_y))\n",
    "\n",
    "dots_x = np.array(dots_x)\n",
    "dots_y = np.array(dots_y)\n",
    "\n",
    "#print(dots_y.shape)"
   ]
  },
  {
   "cell_type": "code",
   "execution_count": 54,
   "id": "95b901f5",
   "metadata": {},
   "outputs": [
    {
     "data": {
      "image/png": "[encoded data removed]",
      "text/plain": [
       "<Figure size 200x200 with 1 Axes>"
      ]
     },
     "metadata": {},
     "output_type": "display_data"
    }
   ],
   "source": [
    "plt.figure(figsize = (2,2))\n",
    "plt.plot(x_circle, y_circle)\n",
    "plt.scatter(dots_x, dots_y, color = 'red')\n",
    "plt.xlim(0,1)\n",
    "plt.ylim(0,1)\n",
    "plt.show()"
   ]
  },
  {
   "cell_type": "markdown",
   "id": "da1f1cb8",
   "metadata": {},
   "source": [
    "### 3. Count the number of points inside the circle, i.e. having a distance from the origin of less than  𝑟=1 ."
   ]
  },
  {
   "cell_type": "code",
   "execution_count": null,
   "id": "0d64d4a6",
   "metadata": {},
   "outputs": [],
   "source": []
  }
 ],
 "metadata": {
  "kernelspec": {
   "display_name": "Python 3",
   "language": "python",
   "name": "python3"
  },
  "language_info": {
   "codemirror_mode": {
    "name": "ipython",
    "version": 3
   },
   "file_extension": ".py",
   "mimetype": "text/x-python",
   "name": "python",
   "nbconvert_exporter": "python",
   "pygments_lexer": "ipython3",
   "version": "3.7.10"
  }
 },
 "nbformat": 4,
 "nbformat_minor": 5
}
