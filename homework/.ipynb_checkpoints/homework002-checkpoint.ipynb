{
 "cells": [
  {
   "cell_type": "markdown",
   "id": "070df218",
   "metadata": {},
   "source": [
    "# Homework 2"
   ]
  },
  {
   "cell_type": "markdown",
   "id": "de8adad6",
   "metadata": {},
   "source": [
    "- **Subject:** Computational Physics I\n",
    "- **Deadline:** Thursday 23 June 2022 (until 4pm)\n",
    "- **Credits:** 20 points\n",
    "- **Number of problems:** 4\n",
    "- **Type of evaluation:** Formative Evaluation\n"
   ]
  },
  {
   "cell_type": "markdown",
   "id": "4896bf1d",
   "metadata": {},
   "source": [
    "Please complete the following problems by **4pm Thursday 23 June 2022**.\n",
    "\n",
    "- You can work individually or in groups of maximum 2 people.\n",
    "\n",
    "\n",
    "- Please include your names in the notebook, and name it using your surname/s, e.g. **hw2_surname1_surname2.ipynb** if you work in pairs, or **hw2_surname.ipynb** if you work individually.\n",
    "\n",
    "\n",
    "- Please send **a single python notebook** with your solutions.\n",
    "\n",
    "\n",
    "- Submission only via email to these two addresses: **wbanda@yachaytech.edu.ec** and **nardy.sallo@yachaytech.edu.ec**\n",
    "\n",
    "\n",
    "- Make sure you email us the correct file as **late assignments won't be accepted.**"
   ]
  },
  {
   "cell_type": "markdown",
   "id": "cad78aec",
   "metadata": {},
   "source": [
    "## Name/s:\n",
    "\n",
    "## Score:"
   ]
  },
  {
   "cell_type": "markdown",
   "id": "b01f415c",
   "metadata": {},
   "source": [
    "### 1. (5 points) Damped harmonic oscillator (matplotlib)\n",
    "\n",
    "The ordinary differential equation describing the motion of a damped harmonic oscillator moving along the $X$ axis is the following:\n",
    "\n",
    "$m\\,\\ddot{x} = -b\\,\\dot{x} - k\\,x$, \n",
    "\n",
    "which results from equating the forces acting on the oscillator (body plus spring). The total force acting on the oscillating body $(m\\,\\ddot{x})$ is equal to sum of the friction force ($-b\\,\\dot{x}$) and the elastic restoring force ($-k\\,x$), where $m = 0.1\\,\\rm kg$ is the mass of the body, $b = 0.01\\,\\rm kg\\,s^{-1}$ is a constant describing the intensity of the damping force, and $k = 40\\,\\rm kg\\,s^{-2}$ is the spring constant.\n",
    "\n",
    "\n",
    "(a) Using analytical methods, find the solution, $x(t)$, for the underdamped case considering that $x(0)=0.2\\,\\rm m$ and $\\dot{x}(0)=0$. Use a Markdown cell to add (with Latex syntax) the main steps of the solution to the jupyter notebook.\n",
    "\n",
    "\n",
    "(b) Using matplotlib, make a plot of $x(t)$ versus $t$.\n"
   ]
  },
  {
   "cell_type": "markdown",
   "id": "9d52c67a",
   "metadata": {},
   "source": [
    "### 2. (7 points) Photo-electric effect (numpy and matplotlib)\n",
    "\n"
   ]
  }
 ],
 "metadata": {
  "kernelspec": {
   "display_name": "Python 3",
   "language": "python",
   "name": "python3"
  },
  "language_info": {
   "codemirror_mode": {
    "name": "ipython",
    "version": 3
   },
   "file_extension": ".py",
   "mimetype": "text/x-python",
   "name": "python",
   "nbconvert_exporter": "python",
   "pygments_lexer": "ipython3",
   "version": "3.7.10"
  }
 },
 "nbformat": 4,
 "nbformat_minor": 5
}
