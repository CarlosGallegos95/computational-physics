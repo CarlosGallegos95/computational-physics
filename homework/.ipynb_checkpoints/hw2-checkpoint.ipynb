{
 "cells": [
  {
   "cell_type": "code",
   "execution_count": 2,
   "id": "7a9d2dd9",
   "metadata": {},
   "outputs": [],
   "source": [
    "import pandas as pd"
   ]
  },
  {
   "cell_type": "code",
   "execution_count": 6,
   "id": "d020da26",
   "metadata": {},
   "outputs": [
    {
     "name": "stdout",
     "output_type": "stream",
     "text": [
      "<class 'pandas.core.frame.DataFrame'>\n",
      "       Entity Code  Year  Annual CO2 emissions (per capita)\n",
      "5870  Ecuador  ECU  1917                             0.0143\n",
      "5871  Ecuador  ECU  1918                             0.0142\n",
      "5872  Ecuador  ECU  1919                             0.0140\n",
      "5873  Ecuador  ECU  1920                             0.0139\n",
      "5874  Ecuador  ECU  1921                             0.0138\n",
      "...       ...  ...   ...                                ...\n",
      "5969  Ecuador  ECU  2016                             2.3955\n",
      "5970  Ecuador  ECU  2017                             2.3399\n",
      "5971  Ecuador  ECU  2018                             2.2195\n",
      "5972  Ecuador  ECU  2019                             2.1157\n",
      "5973  Ecuador  ECU  2020                             1.7532\n",
      "\n",
      "[104 rows x 4 columns]\n",
      "        Entity Code  Year  Annual CO2 emissions (per capita)\n",
      "4458  Colombia  COL  1921                             0.0045\n",
      "4459  Colombia  COL  1922                             0.0213\n",
      "4460  Colombia  COL  1923                             0.0272\n",
      "4461  Colombia  COL  1924                             0.0281\n",
      "4462  Colombia  COL  1925                             0.0615\n",
      "...        ...  ...   ...                                ...\n",
      "4553  Colombia  COL  2016                             1.9355\n",
      "4554  Colombia  COL  2017                             1.7644\n",
      "4555  Colombia  COL  2018                             1.7092\n",
      "4556  Colombia  COL  2019                             1.7962\n",
      "4557  Colombia  COL  2020                             1.7512\n",
      "\n",
      "[100 rows x 4 columns]\n"
     ]
    }
   ],
   "source": [
    "# read_csv returns a DataFrame, which is two-dimensional data structure with labeled axes.\n",
    "\n",
    "data = pd.read_csv(\"co-emissions-per-capita.csv\")\n",
    "#print(data) # Uncomment to print data\n",
    "\n",
    "# To get the data from specific columns, you can use their respective keys, e.g.:\n",
    "\n",
    "Ecu_data = data.loc[data[\"Entity\"] == \"Ecuador\"]\n",
    "\n",
    "Col_data = data.loc[data[\"Entity\"] == \"Colombia\"]\n",
    "\n",
    "Usa_data = data.loc[data[\"Entity\"] == \"United States\"]\n",
    "\n",
    "print(type(Ecu_data))\n",
    "\n",
    "print(Ecu_data)\n",
    "\n",
    "print(Col_data)"
   ]
  },
  {
   "cell_type": "code",
   "execution_count": 4,
   "id": "003d2953",
   "metadata": {},
   "outputs": [],
   "source": [
    "import matplotlib.pyplot as plt"
   ]
  },
  {
   "cell_type": "code",
   "execution_count": 9,
   "id": "8583ea7e",
   "metadata": {},
   "outputs": [
    {
     "data": {
      "text/plain": [
       "[<matplotlib.lines.Line2D at 0x11e704290>]"
      ]
     },
     "execution_count": 9,
     "metadata": {},
     "output_type": "execute_result"
    },
    {
     "data": {
      "image/png": "[encoded data removed]",
      "text/plain": [
       "<Figure size 432x288 with 1 Axes>"
      ]
     },
     "metadata": {
      "needs_background": "light"
     },
     "output_type": "display_data"
    }
   ],
   "source": [
    "%matplotlib inline\n",
    "\n",
    "plt.plot(Ecu_data[\"Year\"], Ecu_data[\"Annual CO2 emissions (per capita)\"])\n",
    "\n",
    "plt.plot(Col_data[\"Year\"], Col_data[\"Annual CO2 emissions (per capita)\"])\n",
    "\n",
    "#plt.plot(Usa_data[\"Year\"], Usa_data[\"Annual CO2 emissions (per capita)\"])"
   ]
  },
  {
   "cell_type": "code",
   "execution_count": null,
   "id": "a3da326e",
   "metadata": {},
   "outputs": [],
   "source": []
  }
 ],
 "metadata": {
  "kernelspec": {
   "display_name": "Python 3",
   "language": "python",
   "name": "python3"
  },
  "language_info": {
   "codemirror_mode": {
    "name": "ipython",
    "version": 3
   },
   "file_extension": ".py",
   "mimetype": "text/x-python",
   "name": "python",
   "nbconvert_exporter": "python",
   "pygments_lexer": "ipython3",
   "version": "3.7.10"
  }
 },
 "nbformat": 4,
 "nbformat_minor": 5
}
