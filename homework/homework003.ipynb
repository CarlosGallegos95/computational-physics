{
 "cells": [
  {
   "cell_type": "markdown",
   "id": "f0ca101d",
   "metadata": {},
   "source": [
    "# Homework 3"
   ]
  },
  {
   "cell_type": "markdown",
   "id": "d32b5cc5",
   "metadata": {},
   "source": [
    "- **Subject:** Computational Physics I\n",
    "- **Deadline:** Tuesday 26 July 2022 (by the end of the day)\n",
    "- **Credits:** 20 points\n",
    "- **Number of problems:** 2\n",
    "- **Type of evaluation:** Formative Evaluation"
   ]
  },
  {
   "cell_type": "code",
   "execution_count": null,
   "id": "fb538ccc",
   "metadata": {},
   "outputs": [],
   "source": []
  }
 ],
 "metadata": {
  "kernelspec": {
   "display_name": "Python 3",
   "language": "python",
   "name": "python3"
  },
  "language_info": {
   "codemirror_mode": {
    "name": "ipython",
    "version": 3
   },
   "file_extension": ".py",
   "mimetype": "text/x-python",
   "name": "python",
   "nbconvert_exporter": "python",
   "pygments_lexer": "ipython3",
   "version": "3.7.10"
  }
 },
 "nbformat": 4,
 "nbformat_minor": 5
}
